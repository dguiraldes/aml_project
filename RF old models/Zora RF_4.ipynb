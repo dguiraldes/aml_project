{
 "cells": [
  {
   "cell_type": "markdown",
   "metadata": {},
   "source": [
    "# Example to connect to postgres"
   ]
  },
  {
   "cell_type": "markdown",
   "metadata": {},
   "source": [
    "This is a tutorial to connect to our PostgreSQL database using python.\n",
    "\n",
    "First you need to install the following libraries:\n",
    "- psycopg2\n",
    "- python-dotenv\n",
    "\n",
    "Then you need to create a file with the name \".env\". This file will contain the connection information and your credentials. This is an example:\n",
    "\n",
    "```\n",
    "DB_HOST=host_name\n",
    "DB_NAME=postgres\n",
    "DB_USER=my_user\n",
    "DB_PASSWORD=my_password\n",
    "DB_PORT=5432\n",
    "```\n",
    "\n",
    "After that you´re all set. We will import your credentials and connect to the database."
   ]
  },
  {
   "cell_type": "code",
   "execution_count": 33,
   "metadata": {},
   "outputs": [],
   "source": [
    "import os\n",
    "import pandas as pd\n",
    "import numpy as np\n",
    "import os\n",
    "import psycopg2 # PostgreSQL database adapter for Python\n",
    "from dotenv import load_dotenv # Reads the key-value pair from .env file and adds them to environment variable\n",
    "import pandas as pd\n",
    "import matplotlib.pyplot as plt\n",
    "import sklearn as sk\n",
    "from sklearn.ensemble import RandomForestRegressor\n",
    "from sklearn.model_selection import train_test_split\n",
    "from sklearn.metrics import mean_squared_error\n",
    "\n",
    "import tensorflow as tf\n",
    "from tensorflow.keras.models import Sequential\n",
    "from tensorflow.keras.layers import *\n",
    "from tensorflow.keras.callbacks import ModelCheckpoint\n",
    "from tensorflow.keras.losses import MeanSquaredError\n",
    "from tensorflow.keras.losses import MeanAbsoluteError\n",
    "from tensorflow.keras.metrics import RootMeanSquaredError\n",
    "from tensorflow.keras.optimizers import Adam\n",
    "from tensorflow.keras.preprocessing.sequence import TimeseriesGenerator\n",
    "from tensorflow.keras.models import load_model\n",
    "from sklearn.metrics import mean_absolute_error\n",
    "\n",
    "from sklearn.model_selection import train_test_split, GridSearchCV, TimeSeriesSplit\n",
    "from sklearn.preprocessing import MinMaxScaler, StandardScaler\n",
    "from sklearn.pipeline import Pipeline\n",
    "import matplotlib.pyplot as plt\n",
    "import matplotlib.dates as mdates"
   ]
  },
  {
   "cell_type": "code",
   "execution_count": 34,
   "metadata": {},
   "outputs": [],
   "source": [
    "# Load environment variables from .env file\n",
    "load_dotenv()\n",
    "\n",
    "# Accessing credentials\n",
    "db_host = os.getenv(\"DB_HOST\")\n",
    "db_name = os.getenv(\"DB_NAME\")\n",
    "db_user = os.getenv(\"DB_USER\")\n",
    "db_password = os.getenv(\"DB_PASSWORD\")\n",
    "db_port = os.getenv(\"DB_PORT\")"
   ]
  },
  {
   "cell_type": "code",
   "execution_count": 35,
   "metadata": {},
   "outputs": [],
   "source": [
    "# Connect to the database\n",
    "conn = psycopg2.connect(\n",
    "    host=db_host,\n",
    "    dbname=db_name,\n",
    "    user=db_user,\n",
    "    password=db_password,\n",
    "    port=db_port\n",
    ")"
   ]
  },
  {
   "cell_type": "markdown",
   "metadata": {},
   "source": [
    "Now we can query our data (write sql code) and store it as a pandas dataframe"
   ]
  },
  {
   "cell_type": "code",
   "execution_count": 36,
   "metadata": {},
   "outputs": [
    {
     "name": "stderr",
     "output_type": "stream",
     "text": [
      "C:\\Users\\Zóra\\AppData\\Local\\Temp\\ipykernel_13660\\4074366065.py:7: UserWarning: pandas only supports SQLAlchemy connectable (engine/connection) or database string URI or sqlite3 DBAPI2 connection. Other DBAPI2 objects are not tested. Please consider using SQLAlchemy.\n",
      "  df_main = pd.read_sql_query(query_main, conn)\n"
     ]
    }
   ],
   "source": [
    "query_main=\"\"\"\n",
    "    select TO_TIMESTAMP(year || '-' || month || '-' || day || ' ' || hour || ':' || min, 'YYYY-MM-DD HH24:MI') AT TIME ZONE 'UTC' as ts,\n",
    "    gridimport_wh - gridexport_wh as net_load  \n",
    "    from agg.t_msb1m  \n",
    "    where site = 64\n",
    "\"\"\"\n",
    "df_main = pd.read_sql_query(query_main, conn)\n"
   ]
  },
  {
   "cell_type": "code",
   "execution_count": 37,
   "metadata": {},
   "outputs": [
    {
     "data": {
      "text/html": [
       "<div>\n",
       "<style scoped>\n",
       "    .dataframe tbody tr th:only-of-type {\n",
       "        vertical-align: middle;\n",
       "    }\n",
       "\n",
       "    .dataframe tbody tr th {\n",
       "        vertical-align: top;\n",
       "    }\n",
       "\n",
       "    .dataframe thead th {\n",
       "        text-align: right;\n",
       "    }\n",
       "</style>\n",
       "<table border=\"1\" class=\"dataframe\">\n",
       "  <thead>\n",
       "    <tr style=\"text-align: right;\">\n",
       "      <th></th>\n",
       "      <th>ts</th>\n",
       "      <th>net_load</th>\n",
       "    </tr>\n",
       "  </thead>\n",
       "  <tbody>\n",
       "    <tr>\n",
       "      <th>0</th>\n",
       "      <td>2019-03-01 00:00:00</td>\n",
       "      <td>10.680</td>\n",
       "    </tr>\n",
       "    <tr>\n",
       "      <th>1</th>\n",
       "      <td>2019-03-01 00:15:00</td>\n",
       "      <td>7.320</td>\n",
       "    </tr>\n",
       "    <tr>\n",
       "      <th>2</th>\n",
       "      <td>2019-03-01 00:30:00</td>\n",
       "      <td>7.410</td>\n",
       "    </tr>\n",
       "    <tr>\n",
       "      <th>3</th>\n",
       "      <td>2019-03-01 00:45:00</td>\n",
       "      <td>7.630</td>\n",
       "    </tr>\n",
       "    <tr>\n",
       "      <th>4</th>\n",
       "      <td>2019-03-01 01:00:00</td>\n",
       "      <td>8.140</td>\n",
       "    </tr>\n",
       "    <tr>\n",
       "      <th>...</th>\n",
       "      <td>...</td>\n",
       "      <td>...</td>\n",
       "    </tr>\n",
       "    <tr>\n",
       "      <th>38048</th>\n",
       "      <td>2020-03-31 22:45:00</td>\n",
       "      <td>7.510</td>\n",
       "    </tr>\n",
       "    <tr>\n",
       "      <th>38049</th>\n",
       "      <td>2020-03-31 23:00:00</td>\n",
       "      <td>7.370</td>\n",
       "    </tr>\n",
       "    <tr>\n",
       "      <th>38050</th>\n",
       "      <td>2020-03-31 23:15:00</td>\n",
       "      <td>7.570</td>\n",
       "    </tr>\n",
       "    <tr>\n",
       "      <th>38051</th>\n",
       "      <td>2020-03-31 23:30:00</td>\n",
       "      <td>6.810</td>\n",
       "    </tr>\n",
       "    <tr>\n",
       "      <th>38052</th>\n",
       "      <td>2020-03-31 23:45:00</td>\n",
       "      <td>9.225</td>\n",
       "    </tr>\n",
       "  </tbody>\n",
       "</table>\n",
       "<p>38053 rows × 2 columns</p>\n",
       "</div>"
      ],
      "text/plain": [
       "                       ts  net_load\n",
       "0     2019-03-01 00:00:00    10.680\n",
       "1     2019-03-01 00:15:00     7.320\n",
       "2     2019-03-01 00:30:00     7.410\n",
       "3     2019-03-01 00:45:00     7.630\n",
       "4     2019-03-01 01:00:00     8.140\n",
       "...                   ...       ...\n",
       "38048 2020-03-31 22:45:00     7.510\n",
       "38049 2020-03-31 23:00:00     7.370\n",
       "38050 2020-03-31 23:15:00     7.570\n",
       "38051 2020-03-31 23:30:00     6.810\n",
       "38052 2020-03-31 23:45:00     9.225\n",
       "\n",
       "[38053 rows x 2 columns]"
      ]
     },
     "execution_count": 37,
     "metadata": {},
     "output_type": "execute_result"
    }
   ],
   "source": [
    "pd.set_option('display.max_columns', None)\n",
    "\n",
    "df_main"
   ]
  },
  {
   "cell_type": "code",
   "execution_count": 38,
   "metadata": {},
   "outputs": [
    {
     "name": "stdout",
     "output_type": "stream",
     "text": [
      "<class 'pandas.core.frame.DataFrame'>\n",
      "RangeIndex: 38053 entries, 0 to 38052\n",
      "Data columns (total 2 columns):\n",
      " #   Column    Non-Null Count  Dtype         \n",
      "---  ------    --------------  -----         \n",
      " 0   ts        38053 non-null  datetime64[ns]\n",
      " 1   net_load  38053 non-null  float64       \n",
      "dtypes: datetime64[ns](1), float64(1)\n",
      "memory usage: 594.7 KB\n"
     ]
    }
   ],
   "source": [
    "df_main.info()"
   ]
  },
  {
   "cell_type": "markdown",
   "metadata": {},
   "source": [
    "## Convert Convert 'ts' to datetime and set as index"
   ]
  },
  {
   "cell_type": "code",
   "execution_count": 39,
   "metadata": {},
   "outputs": [],
   "source": [
    "df_main['datetime'] = pd.to_datetime(df_main['ts'])\n",
    "df_main.set_index('datetime', inplace=True)"
   ]
  },
  {
   "cell_type": "code",
   "execution_count": 40,
   "metadata": {},
   "outputs": [
    {
     "data": {
      "text/html": [
       "<div>\n",
       "<style scoped>\n",
       "    .dataframe tbody tr th:only-of-type {\n",
       "        vertical-align: middle;\n",
       "    }\n",
       "\n",
       "    .dataframe tbody tr th {\n",
       "        vertical-align: top;\n",
       "    }\n",
       "\n",
       "    .dataframe thead th {\n",
       "        text-align: right;\n",
       "    }\n",
       "</style>\n",
       "<table border=\"1\" class=\"dataframe\">\n",
       "  <thead>\n",
       "    <tr style=\"text-align: right;\">\n",
       "      <th></th>\n",
       "      <th>ts</th>\n",
       "      <th>net_load</th>\n",
       "    </tr>\n",
       "    <tr>\n",
       "      <th>datetime</th>\n",
       "      <th></th>\n",
       "      <th></th>\n",
       "    </tr>\n",
       "  </thead>\n",
       "  <tbody>\n",
       "    <tr>\n",
       "      <th>2019-03-01 00:00:00</th>\n",
       "      <td>2019-03-01 00:00:00</td>\n",
       "      <td>10.680</td>\n",
       "    </tr>\n",
       "    <tr>\n",
       "      <th>2019-03-01 00:15:00</th>\n",
       "      <td>2019-03-01 00:15:00</td>\n",
       "      <td>7.320</td>\n",
       "    </tr>\n",
       "    <tr>\n",
       "      <th>2019-03-01 00:30:00</th>\n",
       "      <td>2019-03-01 00:30:00</td>\n",
       "      <td>7.410</td>\n",
       "    </tr>\n",
       "    <tr>\n",
       "      <th>2019-03-01 00:45:00</th>\n",
       "      <td>2019-03-01 00:45:00</td>\n",
       "      <td>7.630</td>\n",
       "    </tr>\n",
       "    <tr>\n",
       "      <th>2019-03-01 01:00:00</th>\n",
       "      <td>2019-03-01 01:00:00</td>\n",
       "      <td>8.140</td>\n",
       "    </tr>\n",
       "    <tr>\n",
       "      <th>...</th>\n",
       "      <td>...</td>\n",
       "      <td>...</td>\n",
       "    </tr>\n",
       "    <tr>\n",
       "      <th>2020-03-31 22:45:00</th>\n",
       "      <td>2020-03-31 22:45:00</td>\n",
       "      <td>7.510</td>\n",
       "    </tr>\n",
       "    <tr>\n",
       "      <th>2020-03-31 23:00:00</th>\n",
       "      <td>2020-03-31 23:00:00</td>\n",
       "      <td>7.370</td>\n",
       "    </tr>\n",
       "    <tr>\n",
       "      <th>2020-03-31 23:15:00</th>\n",
       "      <td>2020-03-31 23:15:00</td>\n",
       "      <td>7.570</td>\n",
       "    </tr>\n",
       "    <tr>\n",
       "      <th>2020-03-31 23:30:00</th>\n",
       "      <td>2020-03-31 23:30:00</td>\n",
       "      <td>6.810</td>\n",
       "    </tr>\n",
       "    <tr>\n",
       "      <th>2020-03-31 23:45:00</th>\n",
       "      <td>2020-03-31 23:45:00</td>\n",
       "      <td>9.225</td>\n",
       "    </tr>\n",
       "  </tbody>\n",
       "</table>\n",
       "<p>38053 rows × 2 columns</p>\n",
       "</div>"
      ],
      "text/plain": [
       "                                     ts  net_load\n",
       "datetime                                         \n",
       "2019-03-01 00:00:00 2019-03-01 00:00:00    10.680\n",
       "2019-03-01 00:15:00 2019-03-01 00:15:00     7.320\n",
       "2019-03-01 00:30:00 2019-03-01 00:30:00     7.410\n",
       "2019-03-01 00:45:00 2019-03-01 00:45:00     7.630\n",
       "2019-03-01 01:00:00 2019-03-01 01:00:00     8.140\n",
       "...                                 ...       ...\n",
       "2020-03-31 22:45:00 2020-03-31 22:45:00     7.510\n",
       "2020-03-31 23:00:00 2020-03-31 23:00:00     7.370\n",
       "2020-03-31 23:15:00 2020-03-31 23:15:00     7.570\n",
       "2020-03-31 23:30:00 2020-03-31 23:30:00     6.810\n",
       "2020-03-31 23:45:00 2020-03-31 23:45:00     9.225\n",
       "\n",
       "[38053 rows x 2 columns]"
      ]
     },
     "execution_count": 40,
     "metadata": {},
     "output_type": "execute_result"
    }
   ],
   "source": [
    "df_main"
   ]
  },
  {
   "cell_type": "markdown",
   "metadata": {},
   "source": [
    "### Creating function for lagged net_load"
   ]
  },
  {
   "cell_type": "code",
   "execution_count": 41,
   "metadata": {},
   "outputs": [
    {
     "data": {
      "text/html": [
       "<div>\n",
       "<style scoped>\n",
       "    .dataframe tbody tr th:only-of-type {\n",
       "        vertical-align: middle;\n",
       "    }\n",
       "\n",
       "    .dataframe tbody tr th {\n",
       "        vertical-align: top;\n",
       "    }\n",
       "\n",
       "    .dataframe thead th {\n",
       "        text-align: right;\n",
       "    }\n",
       "</style>\n",
       "<table border=\"1\" class=\"dataframe\">\n",
       "  <thead>\n",
       "    <tr style=\"text-align: right;\">\n",
       "      <th></th>\n",
       "      <th>ts</th>\n",
       "      <th>net_load</th>\n",
       "      <th>net_load_lag_1</th>\n",
       "      <th>net_load_lag_2</th>\n",
       "      <th>net_load_lag_3</th>\n",
       "      <th>net_load_lag_96</th>\n",
       "      <th>net_load_lag_192</th>\n",
       "    </tr>\n",
       "    <tr>\n",
       "      <th>datetime</th>\n",
       "      <th></th>\n",
       "      <th></th>\n",
       "      <th></th>\n",
       "      <th></th>\n",
       "      <th></th>\n",
       "      <th></th>\n",
       "      <th></th>\n",
       "    </tr>\n",
       "  </thead>\n",
       "  <tbody>\n",
       "    <tr>\n",
       "      <th>2019-03-03 00:00:00</th>\n",
       "      <td>2019-03-03 00:00:00</td>\n",
       "      <td>21.590</td>\n",
       "      <td>18.22</td>\n",
       "      <td>17.83</td>\n",
       "      <td>18.63</td>\n",
       "      <td>8.490000</td>\n",
       "      <td>10.680000</td>\n",
       "    </tr>\n",
       "    <tr>\n",
       "      <th>2019-03-03 00:15:00</th>\n",
       "      <td>2019-03-03 00:15:00</td>\n",
       "      <td>42.580</td>\n",
       "      <td>21.59</td>\n",
       "      <td>18.22</td>\n",
       "      <td>17.83</td>\n",
       "      <td>7.540000</td>\n",
       "      <td>7.320000</td>\n",
       "    </tr>\n",
       "    <tr>\n",
       "      <th>2019-03-03 00:30:00</th>\n",
       "      <td>2019-03-03 00:30:00</td>\n",
       "      <td>42.370</td>\n",
       "      <td>42.58</td>\n",
       "      <td>21.59</td>\n",
       "      <td>18.22</td>\n",
       "      <td>7.770000</td>\n",
       "      <td>7.410000</td>\n",
       "    </tr>\n",
       "    <tr>\n",
       "      <th>2019-03-03 00:45:00</th>\n",
       "      <td>2019-03-03 00:45:00</td>\n",
       "      <td>25.860</td>\n",
       "      <td>42.37</td>\n",
       "      <td>42.58</td>\n",
       "      <td>21.59</td>\n",
       "      <td>7.470000</td>\n",
       "      <td>7.630000</td>\n",
       "    </tr>\n",
       "    <tr>\n",
       "      <th>2019-03-03 01:00:00</th>\n",
       "      <td>2019-03-03 01:00:00</td>\n",
       "      <td>17.180</td>\n",
       "      <td>25.86</td>\n",
       "      <td>42.37</td>\n",
       "      <td>42.58</td>\n",
       "      <td>8.670000</td>\n",
       "      <td>8.140000</td>\n",
       "    </tr>\n",
       "    <tr>\n",
       "      <th>...</th>\n",
       "      <td>...</td>\n",
       "      <td>...</td>\n",
       "      <td>...</td>\n",
       "      <td>...</td>\n",
       "      <td>...</td>\n",
       "      <td>...</td>\n",
       "      <td>...</td>\n",
       "    </tr>\n",
       "    <tr>\n",
       "      <th>2020-03-31 22:45:00</th>\n",
       "      <td>2020-03-31 22:45:00</td>\n",
       "      <td>7.510</td>\n",
       "      <td>7.44</td>\n",
       "      <td>7.51</td>\n",
       "      <td>7.20</td>\n",
       "      <td>7.430000</td>\n",
       "      <td>7.510000</td>\n",
       "    </tr>\n",
       "    <tr>\n",
       "      <th>2020-03-31 23:00:00</th>\n",
       "      <td>2020-03-31 23:00:00</td>\n",
       "      <td>7.370</td>\n",
       "      <td>7.51</td>\n",
       "      <td>7.44</td>\n",
       "      <td>7.51</td>\n",
       "      <td>6.860000</td>\n",
       "      <td>7.400000</td>\n",
       "    </tr>\n",
       "    <tr>\n",
       "      <th>2020-03-31 23:15:00</th>\n",
       "      <td>2020-03-31 23:15:00</td>\n",
       "      <td>7.570</td>\n",
       "      <td>7.37</td>\n",
       "      <td>7.51</td>\n",
       "      <td>7.44</td>\n",
       "      <td>7.560000</td>\n",
       "      <td>7.300000</td>\n",
       "    </tr>\n",
       "    <tr>\n",
       "      <th>2020-03-31 23:30:00</th>\n",
       "      <td>2020-03-31 23:30:00</td>\n",
       "      <td>6.810</td>\n",
       "      <td>7.57</td>\n",
       "      <td>7.37</td>\n",
       "      <td>7.51</td>\n",
       "      <td>7.130000</td>\n",
       "      <td>7.300000</td>\n",
       "    </tr>\n",
       "    <tr>\n",
       "      <th>2020-03-31 23:45:00</th>\n",
       "      <td>2020-03-31 23:45:00</td>\n",
       "      <td>9.225</td>\n",
       "      <td>6.81</td>\n",
       "      <td>7.57</td>\n",
       "      <td>7.37</td>\n",
       "      <td>10.842857</td>\n",
       "      <td>10.435715</td>\n",
       "    </tr>\n",
       "  </tbody>\n",
       "</table>\n",
       "<p>37861 rows × 7 columns</p>\n",
       "</div>"
      ],
      "text/plain": [
       "                                     ts  net_load  net_load_lag_1  \\\n",
       "datetime                                                            \n",
       "2019-03-03 00:00:00 2019-03-03 00:00:00    21.590           18.22   \n",
       "2019-03-03 00:15:00 2019-03-03 00:15:00    42.580           21.59   \n",
       "2019-03-03 00:30:00 2019-03-03 00:30:00    42.370           42.58   \n",
       "2019-03-03 00:45:00 2019-03-03 00:45:00    25.860           42.37   \n",
       "2019-03-03 01:00:00 2019-03-03 01:00:00    17.180           25.86   \n",
       "...                                 ...       ...             ...   \n",
       "2020-03-31 22:45:00 2020-03-31 22:45:00     7.510            7.44   \n",
       "2020-03-31 23:00:00 2020-03-31 23:00:00     7.370            7.51   \n",
       "2020-03-31 23:15:00 2020-03-31 23:15:00     7.570            7.37   \n",
       "2020-03-31 23:30:00 2020-03-31 23:30:00     6.810            7.57   \n",
       "2020-03-31 23:45:00 2020-03-31 23:45:00     9.225            6.81   \n",
       "\n",
       "                     net_load_lag_2  net_load_lag_3  net_load_lag_96  \\\n",
       "datetime                                                               \n",
       "2019-03-03 00:00:00           17.83           18.63         8.490000   \n",
       "2019-03-03 00:15:00           18.22           17.83         7.540000   \n",
       "2019-03-03 00:30:00           21.59           18.22         7.770000   \n",
       "2019-03-03 00:45:00           42.58           21.59         7.470000   \n",
       "2019-03-03 01:00:00           42.37           42.58         8.670000   \n",
       "...                             ...             ...              ...   \n",
       "2020-03-31 22:45:00            7.51            7.20         7.430000   \n",
       "2020-03-31 23:00:00            7.44            7.51         6.860000   \n",
       "2020-03-31 23:15:00            7.51            7.44         7.560000   \n",
       "2020-03-31 23:30:00            7.37            7.51         7.130000   \n",
       "2020-03-31 23:45:00            7.57            7.37        10.842857   \n",
       "\n",
       "                     net_load_lag_192  \n",
       "datetime                               \n",
       "2019-03-03 00:00:00         10.680000  \n",
       "2019-03-03 00:15:00          7.320000  \n",
       "2019-03-03 00:30:00          7.410000  \n",
       "2019-03-03 00:45:00          7.630000  \n",
       "2019-03-03 01:00:00          8.140000  \n",
       "...                               ...  \n",
       "2020-03-31 22:45:00          7.510000  \n",
       "2020-03-31 23:00:00          7.400000  \n",
       "2020-03-31 23:15:00          7.300000  \n",
       "2020-03-31 23:30:00          7.300000  \n",
       "2020-03-31 23:45:00         10.435715  \n",
       "\n",
       "[37861 rows x 7 columns]"
      ]
     },
     "execution_count": 41,
     "metadata": {},
     "output_type": "execute_result"
    }
   ],
   "source": [
    "#Creating function for lagged net_load\n",
    "\n",
    "def create_lagged_features(df, lags):\n",
    "    df_lagged = df.copy()\n",
    "    for lag in lags:\n",
    "        df_lagged[f'net_load_lag_{lag}'] = df_lagged['net_load'].shift(lag)\n",
    "    # Remove rows with NaN values due to shifting\n",
    "    df_lagged = df_lagged.dropna()\n",
    "    return df_lagged\n",
    "\n",
    "# Define your lags\n",
    "lags = [1,2,3,96,192]\n",
    "#lags = list(range(1, 197))\n",
    "#lags = [1, 2, 3, 4, 5, 6, 7, 8, 9, 10, 11, 12, 13, 14, 15, 16, 17, 18, 19, 20, 21, 22, 23, 24, 25, 26, 27, 28, 29, 30, \n",
    "        #31, 32, 33, 34, 35, 36, 37, 38, 39, 40, 41, 42, 43, 44, 45, 46, 47, 48, 49, 50, 51, 52, 53, 54, 55, 56, 57, 58, 59, 60, \n",
    "        #61, 62, 63, 64, 65, 66, 67, 68, 69, 70, 71, 72, 73, 74, 75, 76, 77, 78, 79, 80, 81, 82, 83, 84, 85, 86, 87, 88, 89, 90, \n",
    "        #91, 92, 93, 94, 95, 96, 97, 98, 99, 100, 101, 102, 103, 104, 105, 106, 107, 108, 109, 110, \n",
    "        #111, 112, 113, 114, 115, 116, 117, 118, 119, 120, 121, 122, 123, 124, 125, 126, 127, 128, 129, 130, \n",
    "        #131, 132, 133, 134, 135, 136, 137, 138, 139, 140, 141, 142, 143, 144, 145, 146, 147, 148, 149, 150, \n",
    "        #151, 152, 153, 154, 155, 156, 157, 158, 159, 160, 161, 162, 163, 164, 165, 166, 167, 168, 169, 170, \n",
    "        #171, 172, 173, 174, 175, 176, 177, 178, 179, 180, 181, 182, 183, 184, 185, 186, 187, 188, 189, 190, \n",
    "        #191, 192, 193, 194, 195, 196]\n",
    "\n",
    "# Prepare your dataset with lagged features\n",
    "df_lagged = create_lagged_features(df_main, lags)\n",
    "\n",
    "df_lagged"
   ]
  },
  {
   "cell_type": "code",
   "execution_count": 42,
   "metadata": {},
   "outputs": [],
   "source": [
    "# N.o. lags can be tuned according to model performance\n",
    "#number_of_lags = 196 \n",
    "#for lag in range(1, number_of_lags + 1):\n",
    "    #df_main[f'net_load_lag_{lag}'] = df_main['net_load'].shift(lag)\n",
    "\n",
    "# Drop rows with NaN values created by lagging\n",
    "#df_main.dropna(inplace=True)\n",
    "\n",
    "#df_main.head()"
   ]
  },
  {
   "cell_type": "markdown",
   "metadata": {},
   "source": [
    "#### get_input function"
   ]
  },
  {
   "cell_type": "code",
   "execution_count": 43,
   "metadata": {},
   "outputs": [
    {
     "name": "stderr",
     "output_type": "stream",
     "text": [
      "C:\\Users\\Zóra\\AppData\\Local\\Temp\\ipykernel_13660\\4132232150.py:3: FutureWarning: Series.__getitem__ treating keys as positions is deprecated. In a future version, integer keys will always be treated as labels (consistent with DataFrame behavior). To access a value by position, use `ser.iloc[pos]`\n",
      "  return ts[[-1 - lag for lag in lags]].values.reshape(1, -1)\n"
     ]
    },
    {
     "data": {
      "text/plain": [
       "array([[ 6.81    ,  7.57    ,  7.37    , 10.842857, 10.435715]])"
      ]
     },
     "execution_count": 43,
     "metadata": {},
     "output_type": "execute_result"
    }
   ],
   "source": [
    "def get_input(ts, lags):\n",
    "    # Assumes `ts` is a pandas Series\n",
    "    return ts[[-1 - lag for lag in lags]].values.reshape(1, -1)\n",
    "\n",
    "# A function that will prepare the feature vector for a single prediction \n",
    "# by selecting the appropriate lagged values from the time series data\n",
    "\n",
    "get_input(df_main['net_load'], lags)"
   ]
  },
  {
   "cell_type": "markdown",
   "metadata": {},
   "source": [
    "#### Create a function that performs sequential predictions over a specified number of steps, using each prediction as input for the next"
   ]
  },
  {
   "cell_type": "code",
   "execution_count": 44,
   "metadata": {},
   "outputs": [],
   "source": [
    "#def rolling_prediction(model, initial_ts, steps_ahead, lags):\n",
    "    #ts = initial_ts.copy()\n",
    "    #predictions = []\n",
    "\n",
    "    #for i in range(steps_ahead):\n",
    "        # Get the input for the current prediction\n",
    "        #input_features = get_input(ts, lags)\n",
    "        # Predict the next step and append to the time series\n",
    "        #pred = model.predict(input_features)[0]\n",
    "        #predictions.append(pred)\n",
    "        #ts = ts.append(pd.Series([pred]), ignore_index=True)\n",
    "        \n",
    "    #return predictions"
   ]
  },
  {
   "cell_type": "code",
   "execution_count": 45,
   "metadata": {},
   "outputs": [
    {
     "ename": "NameError",
     "evalue": "name 'model' is not defined",
     "output_type": "error",
     "traceback": [
      "\u001b[1;31m---------------------------------------------------------------------------\u001b[0m",
      "\u001b[1;31mNameError\u001b[0m                                 Traceback (most recent call last)",
      "Cell \u001b[1;32mIn[45], line 1\u001b[0m\n\u001b[1;32m----> 1\u001b[0m pred \u001b[38;5;241m=\u001b[39m \u001b[43mmodel\u001b[49m\u001b[38;5;241m.\u001b[39mpredict(input_features)\n",
      "\u001b[1;31mNameError\u001b[0m: name 'model' is not defined"
     ]
    }
   ],
   "source": []
  },
  {
   "cell_type": "code",
   "execution_count": null,
   "metadata": {},
   "outputs": [],
   "source": [
    "def rolling_prediction(model, initial_ts, steps_ahead, lags):\n",
    "    # 'initial_ts' is expected to be a Pandas Series with enough past observations to cover all lags.\n",
    "    # initial_ts needs to be a series with at least 192 past observations.\n",
    "    #HOW DO I MAKE SURE THSI IS THE CASE? I only have now lags 1,2,3,96,192\n",
    "    ts = initial_ts.copy()\n",
    "    predictions = []\n",
    "\n",
    "    for i in range(steps_ahead):\n",
    "        # Get the input for the current prediction.\n",
    "        # Ensure that 'get_input' retrieves the last known observations from 'ts'\n",
    "        # for all required lags.\n",
    "        input_features = get_input(ts, lags)\n",
    "        \n",
    "        # Predict the next step using the RF model.\n",
    "        pred = model.predict(input_features)[0]\n",
    "        \n",
    "        # Append the prediction to the list of predictions.\n",
    "        predictions.append(pred)\n",
    "        \n",
    "        # Also append the prediction to 'ts' for subsequent predictions.\n",
    "        # The 'ts' will now include the most recent prediction at the end.\n",
    "        ts = ts.append(pd.Series(pred), ignore_index=True)\n",
    "        \n",
    "    # Return only the predictions made, not the entire series.\n",
    "    return predictions"
   ]
  },
  {
   "cell_type": "markdown",
   "metadata": {},
   "source": [
    "#### Create initial_ts by taking the last 192 observations from this point backward to cover all lags"
   ]
  },
  {
   "cell_type": "code",
   "execution_count": null,
   "metadata": {},
   "outputs": [],
   "source": [
    "# Assuming 'df_main' has a DateTimeIndex and 'net_load' is your target column.\n",
    "\n",
    "# Identify the time point for initial_ts\n",
    "end_time = df_main.index[-1]\n",
    "start_time = end_time - pd.Timedelta(hours=48)  # 192 intervals of 15 minutes is equivalent to 48 hours\n",
    "\n",
    "# Make sure you don't go out of bounds\n",
    "if start_time < df_main.index[0]:\n",
    "    raise ValueError(\"Not enough data points for the required lags.\")\n",
    "\n",
    "# Create initial_ts for rolling predictions\n",
    "# We select the data between 'start_time' and 'end_time', including all necessary lags.\n",
    "initial_ts = df_main.loc[start_time:end_time]['net_load']"
   ]
  },
  {
   "cell_type": "code",
   "execution_count": null,
   "metadata": {},
   "outputs": [
    {
     "data": {
      "text/plain": [
       "datetime\n",
       "2020-03-29 23:45:00    10.435715\n",
       "2020-03-30 00:00:00     7.230000\n",
       "2020-03-30 00:15:00     7.740000\n",
       "2020-03-30 00:30:00     7.720000\n",
       "2020-03-30 00:45:00     7.260000\n",
       "                         ...    \n",
       "2020-03-31 22:45:00     7.510000\n",
       "2020-03-31 23:00:00     7.370000\n",
       "2020-03-31 23:15:00     7.570000\n",
       "2020-03-31 23:30:00     6.810000\n",
       "2020-03-31 23:45:00     9.225000\n",
       "Name: net_load, Length: 193, dtype: float64"
      ]
     },
     "execution_count": 16,
     "metadata": {},
     "output_type": "execute_result"
    }
   ],
   "source": [
    "initial_ts"
   ]
  },
  {
   "cell_type": "markdown",
   "metadata": {},
   "source": [
    "### Define features and target, train and test"
   ]
  },
  {
   "cell_type": "code",
   "execution_count": null,
   "metadata": {},
   "outputs": [],
   "source": [
    "# Define features and target\n",
    "y = df_lagged['net_load']\n",
    "X = df_lagged[[f'net_load_lag_{lag}' for lag in lags]]\n",
    "\n",
    "# Split data into training and testing sets\n",
    "#train_size = int(len(df_lagged) * 0.8)\n",
    "#train_features, test_features = X.iloc[:train_size], X.iloc[train_size:]\n",
    "#train_target, test_target = y.iloc[:train_size], y.iloc[train_size:]\n",
    "\n",
    "# Reserve the last 96 observations for testing\n",
    "train_features = X.iloc[:-96]\n",
    "test_features = X.iloc[-96:]\n",
    "\n",
    "train_target = y.iloc[:-96]\n",
    "test_target = y.iloc[-96:]\n",
    "\n"
   ]
  },
  {
   "cell_type": "markdown",
   "metadata": {},
   "source": [
    "### Model definition and training "
   ]
  },
  {
   "cell_type": "code",
   "execution_count": 46,
   "metadata": {},
   "outputs": [],
   "source": [
    "rf = RandomForestRegressor()\n",
    "\n",
    "# TRAIN the model\n",
    "rf.fit(train_features, train_target)\n",
    "\n",
    "# TEST the model - Predict on the test set - Make predictions for the test set\n",
    "y_pred = rf.predict(test_features)\n"
   ]
  },
  {
   "cell_type": "code",
   "execution_count": 48,
   "metadata": {},
   "outputs": [
    {
     "name": "stdout",
     "output_type": "stream",
     "text": [
      "Mean Absolute Error: 31.28412094123728\n",
      "Normalized MAE: 0.018203259013870175\n"
     ]
    }
   ],
   "source": [
    "# error metric MAE and normalized MAE\n",
    "mae = mean_absolute_error(test_target, y_pred)\n",
    "print(f'Mean Absolute Error: {mae}')\n",
    "\n",
    "target_range = train_target.max() -train_target.min()\n",
    "normalized_mae = mae / target_range\n",
    "print(f'Normalized MAE: {normalized_mae}')"
   ]
  },
  {
   "cell_type": "code",
   "execution_count": 50,
   "metadata": {},
   "outputs": [
    {
     "name": "stderr",
     "output_type": "stream",
     "text": [
      "C:\\Users\\Zóra\\AppData\\Local\\Temp\\ipykernel_13660\\4132232150.py:3: FutureWarning: Series.__getitem__ treating keys as positions is deprecated. In a future version, integer keys will always be treated as labels (consistent with DataFrame behavior). To access a value by position, use `ser.iloc[pos]`\n",
      "  return ts[[-1 - lag for lag in lags]].values.reshape(1, -1)\n",
      "C:\\Users\\Zóra\\AppData\\Local\\Packages\\PythonSoftwareFoundation.Python.3.11_qbz5n2kfra8p0\\LocalCache\\local-packages\\Python311\\site-packages\\sklearn\\base.py:493: UserWarning: X does not have valid feature names, but RandomForestRegressor was fitted with feature names\n",
      "  warnings.warn(\n"
     ]
    }
   ],
   "source": [
    "input_features = get_input(train_target, lags)\n",
    "pred = rf.predict(input_features)"
   ]
  },
  {
   "cell_type": "code",
   "execution_count": 51,
   "metadata": {},
   "outputs": [
    {
     "data": {
      "text/plain": [
       "array([[ 7.13    ,  7.56    ,  6.86    , 10.435715,  7.4     ]])"
      ]
     },
     "execution_count": 51,
     "metadata": {},
     "output_type": "execute_result"
    }
   ],
   "source": [
    "input_features"
   ]
  },
  {
   "cell_type": "code",
   "execution_count": 52,
   "metadata": {},
   "outputs": [
    {
     "data": {
      "text/plain": [
       "array([9.76599991])"
      ]
     },
     "execution_count": 52,
     "metadata": {},
     "output_type": "execute_result"
    }
   ],
   "source": [
    "pred"
   ]
  },
  {
   "cell_type": "code",
   "execution_count": 55,
   "metadata": {},
   "outputs": [
    {
     "data": {
      "text/plain": [
       "datetime\n",
       "2019-03-03 00:00:00    21.590000\n",
       "2019-03-03 00:15:00    42.580000\n",
       "2019-03-03 00:30:00    42.370000\n",
       "2019-03-03 00:45:00    25.860000\n",
       "2019-03-03 01:00:00    17.180000\n",
       "                         ...    \n",
       "2020-03-30 22:45:00     7.430000\n",
       "2020-03-30 23:00:00     6.860000\n",
       "2020-03-30 23:15:00     7.560000\n",
       "2020-03-30 23:30:00     7.130000\n",
       "2020-03-30 23:45:00    10.842857\n",
       "Name: net_load, Length: 37765, dtype: float64"
      ]
     },
     "execution_count": 55,
     "metadata": {},
     "output_type": "execute_result"
    }
   ],
   "source": [
    "train_target"
   ]
  },
  {
   "cell_type": "code",
   "execution_count": 54,
   "metadata": {},
   "outputs": [
    {
     "data": {
      "text/plain": [
       "datetime\n",
       "2019-03-03 00:00:00    31.356000\n",
       "2019-03-03 00:15:00    52.346000\n",
       "2019-03-03 00:30:00    52.136000\n",
       "2019-03-03 00:45:00    35.626000\n",
       "2019-03-03 01:00:00    26.946000\n",
       "                         ...    \n",
       "2020-03-30 22:45:00    17.196000\n",
       "2020-03-30 23:00:00    16.626000\n",
       "2020-03-30 23:15:00    17.326000\n",
       "2020-03-30 23:30:00    16.896000\n",
       "2020-03-30 23:45:00    20.608857\n",
       "Name: net_load, Length: 37765, dtype: float64"
      ]
     },
     "execution_count": 54,
     "metadata": {},
     "output_type": "execute_result"
    }
   ],
   "source": [
    "ts"
   ]
  },
  {
   "cell_type": "code",
   "execution_count": null,
   "metadata": {},
   "outputs": [],
   "source": [
    "24 hours ... "
   ]
  },
  {
   "cell_type": "code",
   "execution_count": null,
   "metadata": {},
   "outputs": [],
   "source": []
  },
  {
   "cell_type": "code",
   "execution_count": null,
   "metadata": {},
   "outputs": [
    {
     "data": {
      "image/png": "[encoded data removed]",
      "text/plain": [
       "<Figure size 1500x500 with 1 Axes>"
      ]
     },
     "metadata": {},
     "output_type": "display_data"
    }
   ],
   "source": [
    "plt.figure(figsize=(15, 5))\n",
    "plt.plot(test_target.index, test_target, label='Actual')\n",
    "plt.plot(test_target.index, y_pred, label='Predicted', alpha=0.7)\n",
    "plt.legend()\n",
    "plt.show()"
   ]
  },
  {
   "cell_type": "code",
   "execution_count": null,
   "metadata": {},
   "outputs": [
    {
     "data": {
      "text/plain": [
       "datetime\n",
       "2020-03-29 23:45:00    10.435715\n",
       "2020-03-30 00:00:00     7.230000\n",
       "2020-03-30 00:15:00     7.740000\n",
       "2020-03-30 00:30:00     7.720000\n",
       "2020-03-30 00:45:00     7.260000\n",
       "                         ...    \n",
       "2020-03-31 22:45:00     7.510000\n",
       "2020-03-31 23:00:00     7.370000\n",
       "2020-03-31 23:15:00     7.570000\n",
       "2020-03-31 23:30:00     6.810000\n",
       "2020-03-31 23:45:00     9.225000\n",
       "Name: net_load, Length: 193, dtype: float64"
      ]
     },
     "execution_count": 21,
     "metadata": {},
     "output_type": "execute_result"
    }
   ],
   "source": [
    "initial_ts"
   ]
  },
  {
   "cell_type": "code",
   "execution_count": null,
   "metadata": {},
   "outputs": [],
   "source": []
  },
  {
   "cell_type": "markdown",
   "metadata": {},
   "source": [
    "### Updated get_input function"
   ]
  },
  {
   "cell_type": "code",
   "execution_count": null,
   "metadata": {},
   "outputs": [],
   "source": [
    "def get_input(ts, lags):\n",
    "    # Assumes `ts` is a pandas Series\n",
    "    # Extracts the lag values based on the DateTime index\n",
    "    input_vals = [ts[ts.index[-1] - pd.Timedelta(minutes=15*lag)] for lag in lags]\n",
    "    return np.array(input_vals).reshape(1, -1)\n",
    "\n",
    "# A function that will prepare the feature vector for a single prediction \n",
    "# by selecting the appropriate lagged values from the time series data"
   ]
  },
  {
   "cell_type": "markdown",
   "metadata": {},
   "source": [
    "### Updated rolling_prediction function"
   ]
  },
  {
   "cell_type": "code",
   "execution_count": null,
   "metadata": {},
   "outputs": [],
   "source": [
    "#def rolling_prediction(model, initial_ts, steps_ahead, lags):\n",
    "    # 'initial_ts' is expected to be a Pandas Series with DateTime index\n",
    "    #ts = initial_ts.copy()\n",
    "    #predictions = []\n",
    "    #current_time = ts.index[-1]\n",
    "\n",
    "    #for i in range(steps_ahead):\n",
    "        #input_features = get_input(ts, lags)\n",
    "        \n",
    "        # Predict the next step using the RF model\n",
    "        #pred = model.predict(input_features)[0]\n",
    "        \n",
    "        # Append the prediction to the list of predictions\n",
    "        #predictions.append(pred)\n",
    "        \n",
    "        # Append the prediction to 'ts' for subsequent predictions\n",
    "        # Here, the index is incremented by 15 minutes for each step\n",
    "        #current_time += pd.Timedelta(minutes=15)\n",
    "        #ts = ts.append(pd.Series([pred], index=[current_time]))\n",
    "        \n",
    "    #return predictions"
   ]
  },
  {
   "cell_type": "code",
   "execution_count": null,
   "metadata": {},
   "outputs": [],
   "source": [
    "def rolling_prediction(model, initial_ts, steps_ahead, lags):\n",
    "    # 'initial_ts' is expected to be a Pandas Series with DateTime index\n",
    "    ts = initial_ts.copy()\n",
    "    predictions = []\n",
    "    last_timestamp = ts.index[-1]\n",
    "\n",
    "    for i in range(steps_ahead):\n",
    "        # Construct the input feature array with the correct lags\n",
    "        input_features = np.array([ts[ts.index[-lag]] for lag in lags]).reshape(1, -1)\n",
    "\n",
    "        # Predict the next step and store the prediction\n",
    "        pred = model.predict(input_features)[0]\n",
    "        predictions.append(pred)\n",
    "\n",
    "        # Calculate the next timestamp by adding the 15-minute interval\n",
    "        next_timestamp = last_timestamp + pd.Timedelta(minutes=15)\n",
    "        \n",
    "        # Append the new prediction to the series with the correct timestamp\n",
    "        ts[next_timestamp] = pred\n",
    "\n",
    "        # Update the last timestamp\n",
    "        last_timestamp = next_timestamp\n",
    "\n",
    "    return predictions"
   ]
  },
  {
   "cell_type": "code",
   "execution_count": null,
   "metadata": {},
   "outputs": [
    {
     "name": "stderr",
     "output_type": "stream",
     "text": [
      "C:\\Users\\Zóra\\AppData\\Local\\Packages\\PythonSoftwareFoundation.Python.3.11_qbz5n2kfra8p0\\LocalCache\\local-packages\\Python311\\site-packages\\sklearn\\base.py:493: UserWarning: X does not have valid feature names, but RandomForestRegressor was fitted with feature names\n",
      "  warnings.warn(\n",
      "C:\\Users\\Zóra\\AppData\\Local\\Packages\\PythonSoftwareFoundation.Python.3.11_qbz5n2kfra8p0\\LocalCache\\local-packages\\Python311\\site-packages\\sklearn\\base.py:493: UserWarning: X does not have valid feature names, but RandomForestRegressor was fitted with feature names\n",
      "  warnings.warn(\n",
      "C:\\Users\\Zóra\\AppData\\Local\\Packages\\PythonSoftwareFoundation.Python.3.11_qbz5n2kfra8p0\\LocalCache\\local-packages\\Python311\\site-packages\\sklearn\\base.py:493: UserWarning: X does not have valid feature names, but RandomForestRegressor was fitted with feature names\n",
      "  warnings.warn(\n",
      "C:\\Users\\Zóra\\AppData\\Local\\Packages\\PythonSoftwareFoundation.Python.3.11_qbz5n2kfra8p0\\LocalCache\\local-packages\\Python311\\site-packages\\sklearn\\base.py:493: UserWarning: X does not have valid feature names, but RandomForestRegressor was fitted with feature names\n",
      "  warnings.warn(\n",
      "C:\\Users\\Zóra\\AppData\\Local\\Packages\\PythonSoftwareFoundation.Python.3.11_qbz5n2kfra8p0\\LocalCache\\local-packages\\Python311\\site-packages\\sklearn\\base.py:493: UserWarning: X does not have valid feature names, but RandomForestRegressor was fitted with feature names\n",
      "  warnings.warn(\n",
      "C:\\Users\\Zóra\\AppData\\Local\\Packages\\PythonSoftwareFoundation.Python.3.11_qbz5n2kfra8p0\\LocalCache\\local-packages\\Python311\\site-packages\\sklearn\\base.py:493: UserWarning: X does not have valid feature names, but RandomForestRegressor was fitted with feature names\n",
      "  warnings.warn(\n",
      "C:\\Users\\Zóra\\AppData\\Local\\Packages\\PythonSoftwareFoundation.Python.3.11_qbz5n2kfra8p0\\LocalCache\\local-packages\\Python311\\site-packages\\sklearn\\base.py:493: UserWarning: X does not have valid feature names, but RandomForestRegressor was fitted with feature names\n",
      "  warnings.warn(\n",
      "C:\\Users\\Zóra\\AppData\\Local\\Packages\\PythonSoftwareFoundation.Python.3.11_qbz5n2kfra8p0\\LocalCache\\local-packages\\Python311\\site-packages\\sklearn\\base.py:493: UserWarning: X does not have valid feature names, but RandomForestRegressor was fitted with feature names\n",
      "  warnings.warn(\n",
      "C:\\Users\\Zóra\\AppData\\Local\\Packages\\PythonSoftwareFoundation.Python.3.11_qbz5n2kfra8p0\\LocalCache\\local-packages\\Python311\\site-packages\\sklearn\\base.py:493: UserWarning: X does not have valid feature names, but RandomForestRegressor was fitted with feature names\n",
      "  warnings.warn(\n",
      "C:\\Users\\Zóra\\AppData\\Local\\Packages\\PythonSoftwareFoundation.Python.3.11_qbz5n2kfra8p0\\LocalCache\\local-packages\\Python311\\site-packages\\sklearn\\base.py:493: UserWarning: X does not have valid feature names, but RandomForestRegressor was fitted with feature names\n",
      "  warnings.warn(\n",
      "C:\\Users\\Zóra\\AppData\\Local\\Packages\\PythonSoftwareFoundation.Python.3.11_qbz5n2kfra8p0\\LocalCache\\local-packages\\Python311\\site-packages\\sklearn\\base.py:493: UserWarning: X does not have valid feature names, but RandomForestRegressor was fitted with feature names\n",
      "  warnings.warn(\n",
      "C:\\Users\\Zóra\\AppData\\Local\\Packages\\PythonSoftwareFoundation.Python.3.11_qbz5n2kfra8p0\\LocalCache\\local-packages\\Python311\\site-packages\\sklearn\\base.py:493: UserWarning: X does not have valid feature names, but RandomForestRegressor was fitted with feature names\n",
      "  warnings.warn(\n",
      "C:\\Users\\Zóra\\AppData\\Local\\Packages\\PythonSoftwareFoundation.Python.3.11_qbz5n2kfra8p0\\LocalCache\\local-packages\\Python311\\site-packages\\sklearn\\base.py:493: UserWarning: X does not have valid feature names, but RandomForestRegressor was fitted with feature names\n",
      "  warnings.warn(\n",
      "C:\\Users\\Zóra\\AppData\\Local\\Packages\\PythonSoftwareFoundation.Python.3.11_qbz5n2kfra8p0\\LocalCache\\local-packages\\Python311\\site-packages\\sklearn\\base.py:493: UserWarning: X does not have valid feature names, but RandomForestRegressor was fitted with feature names\n",
      "  warnings.warn(\n",
      "C:\\Users\\Zóra\\AppData\\Local\\Packages\\PythonSoftwareFoundation.Python.3.11_qbz5n2kfra8p0\\LocalCache\\local-packages\\Python311\\site-packages\\sklearn\\base.py:493: UserWarning: X does not have valid feature names, but RandomForestRegressor was fitted with feature names\n",
      "  warnings.warn(\n",
      "C:\\Users\\Zóra\\AppData\\Local\\Packages\\PythonSoftwareFoundation.Python.3.11_qbz5n2kfra8p0\\LocalCache\\local-packages\\Python311\\site-packages\\sklearn\\base.py:493: UserWarning: X does not have valid feature names, but RandomForestRegressor was fitted with feature names\n",
      "  warnings.warn(\n",
      "C:\\Users\\Zóra\\AppData\\Local\\Packages\\PythonSoftwareFoundation.Python.3.11_qbz5n2kfra8p0\\LocalCache\\local-packages\\Python311\\site-packages\\sklearn\\base.py:493: UserWarning: X does not have valid feature names, but RandomForestRegressor was fitted with feature names\n",
      "  warnings.warn(\n",
      "C:\\Users\\Zóra\\AppData\\Local\\Packages\\PythonSoftwareFoundation.Python.3.11_qbz5n2kfra8p0\\LocalCache\\local-packages\\Python311\\site-packages\\sklearn\\base.py:493: UserWarning: X does not have valid feature names, but RandomForestRegressor was fitted with feature names\n",
      "  warnings.warn(\n",
      "C:\\Users\\Zóra\\AppData\\Local\\Packages\\PythonSoftwareFoundation.Python.3.11_qbz5n2kfra8p0\\LocalCache\\local-packages\\Python311\\site-packages\\sklearn\\base.py:493: UserWarning: X does not have valid feature names, but RandomForestRegressor was fitted with feature names\n",
      "  warnings.warn(\n",
      "C:\\Users\\Zóra\\AppData\\Local\\Packages\\PythonSoftwareFoundation.Python.3.11_qbz5n2kfra8p0\\LocalCache\\local-packages\\Python311\\site-packages\\sklearn\\base.py:493: UserWarning: X does not have valid feature names, but RandomForestRegressor was fitted with feature names\n",
      "  warnings.warn(\n",
      "C:\\Users\\Zóra\\AppData\\Local\\Packages\\PythonSoftwareFoundation.Python.3.11_qbz5n2kfra8p0\\LocalCache\\local-packages\\Python311\\site-packages\\sklearn\\base.py:493: UserWarning: X does not have valid feature names, but RandomForestRegressor was fitted with feature names\n",
      "  warnings.warn(\n",
      "C:\\Users\\Zóra\\AppData\\Local\\Packages\\PythonSoftwareFoundation.Python.3.11_qbz5n2kfra8p0\\LocalCache\\local-packages\\Python311\\site-packages\\sklearn\\base.py:493: UserWarning: X does not have valid feature names, but RandomForestRegressor was fitted with feature names\n",
      "  warnings.warn(\n",
      "C:\\Users\\Zóra\\AppData\\Local\\Packages\\PythonSoftwareFoundation.Python.3.11_qbz5n2kfra8p0\\LocalCache\\local-packages\\Python311\\site-packages\\sklearn\\base.py:493: UserWarning: X does not have valid feature names, but RandomForestRegressor was fitted with feature names\n",
      "  warnings.warn(\n",
      "C:\\Users\\Zóra\\AppData\\Local\\Packages\\PythonSoftwareFoundation.Python.3.11_qbz5n2kfra8p0\\LocalCache\\local-packages\\Python311\\site-packages\\sklearn\\base.py:493: UserWarning: X does not have valid feature names, but RandomForestRegressor was fitted with feature names\n",
      "  warnings.warn(\n",
      "C:\\Users\\Zóra\\AppData\\Local\\Packages\\PythonSoftwareFoundation.Python.3.11_qbz5n2kfra8p0\\LocalCache\\local-packages\\Python311\\site-packages\\sklearn\\base.py:493: UserWarning: X does not have valid feature names, but RandomForestRegressor was fitted with feature names\n",
      "  warnings.warn(\n",
      "C:\\Users\\Zóra\\AppData\\Local\\Packages\\PythonSoftwareFoundation.Python.3.11_qbz5n2kfra8p0\\LocalCache\\local-packages\\Python311\\site-packages\\sklearn\\base.py:493: UserWarning: X does not have valid feature names, but RandomForestRegressor was fitted with feature names\n",
      "  warnings.warn(\n",
      "C:\\Users\\Zóra\\AppData\\Local\\Packages\\PythonSoftwareFoundation.Python.3.11_qbz5n2kfra8p0\\LocalCache\\local-packages\\Python311\\site-packages\\sklearn\\base.py:493: UserWarning: X does not have valid feature names, but RandomForestRegressor was fitted with feature names\n",
      "  warnings.warn(\n",
      "C:\\Users\\Zóra\\AppData\\Local\\Packages\\PythonSoftwareFoundation.Python.3.11_qbz5n2kfra8p0\\LocalCache\\local-packages\\Python311\\site-packages\\sklearn\\base.py:493: UserWarning: X does not have valid feature names, but RandomForestRegressor was fitted with feature names\n",
      "  warnings.warn(\n",
      "C:\\Users\\Zóra\\AppData\\Local\\Packages\\PythonSoftwareFoundation.Python.3.11_qbz5n2kfra8p0\\LocalCache\\local-packages\\Python311\\site-packages\\sklearn\\base.py:493: UserWarning: X does not have valid feature names, but RandomForestRegressor was fitted with feature names\n",
      "  warnings.warn(\n",
      "C:\\Users\\Zóra\\AppData\\Local\\Packages\\PythonSoftwareFoundation.Python.3.11_qbz5n2kfra8p0\\LocalCache\\local-packages\\Python311\\site-packages\\sklearn\\base.py:493: UserWarning: X does not have valid feature names, but RandomForestRegressor was fitted with feature names\n",
      "  warnings.warn(\n",
      "C:\\Users\\Zóra\\AppData\\Local\\Packages\\PythonSoftwareFoundation.Python.3.11_qbz5n2kfra8p0\\LocalCache\\local-packages\\Python311\\site-packages\\sklearn\\base.py:493: UserWarning: X does not have valid feature names, but RandomForestRegressor was fitted with feature names\n",
      "  warnings.warn(\n",
      "C:\\Users\\Zóra\\AppData\\Local\\Packages\\PythonSoftwareFoundation.Python.3.11_qbz5n2kfra8p0\\LocalCache\\local-packages\\Python311\\site-packages\\sklearn\\base.py:493: UserWarning: X does not have valid feature names, but RandomForestRegressor was fitted with feature names\n",
      "  warnings.warn(\n",
      "C:\\Users\\Zóra\\AppData\\Local\\Packages\\PythonSoftwareFoundation.Python.3.11_qbz5n2kfra8p0\\LocalCache\\local-packages\\Python311\\site-packages\\sklearn\\base.py:493: UserWarning: X does not have valid feature names, but RandomForestRegressor was fitted with feature names\n",
      "  warnings.warn(\n",
      "C:\\Users\\Zóra\\AppData\\Local\\Packages\\PythonSoftwareFoundation.Python.3.11_qbz5n2kfra8p0\\LocalCache\\local-packages\\Python311\\site-packages\\sklearn\\base.py:493: UserWarning: X does not have valid feature names, but RandomForestRegressor was fitted with feature names\n",
      "  warnings.warn(\n",
      "C:\\Users\\Zóra\\AppData\\Local\\Packages\\PythonSoftwareFoundation.Python.3.11_qbz5n2kfra8p0\\LocalCache\\local-packages\\Python311\\site-packages\\sklearn\\base.py:493: UserWarning: X does not have valid feature names, but RandomForestRegressor was fitted with feature names\n",
      "  warnings.warn(\n",
      "C:\\Users\\Zóra\\AppData\\Local\\Packages\\PythonSoftwareFoundation.Python.3.11_qbz5n2kfra8p0\\LocalCache\\local-packages\\Python311\\site-packages\\sklearn\\base.py:493: UserWarning: X does not have valid feature names, but RandomForestRegressor was fitted with feature names\n",
      "  warnings.warn(\n",
      "C:\\Users\\Zóra\\AppData\\Local\\Packages\\PythonSoftwareFoundation.Python.3.11_qbz5n2kfra8p0\\LocalCache\\local-packages\\Python311\\site-packages\\sklearn\\base.py:493: UserWarning: X does not have valid feature names, but RandomForestRegressor was fitted with feature names\n",
      "  warnings.warn(\n",
      "C:\\Users\\Zóra\\AppData\\Local\\Packages\\PythonSoftwareFoundation.Python.3.11_qbz5n2kfra8p0\\LocalCache\\local-packages\\Python311\\site-packages\\sklearn\\base.py:493: UserWarning: X does not have valid feature names, but RandomForestRegressor was fitted with feature names\n",
      "  warnings.warn(\n",
      "C:\\Users\\Zóra\\AppData\\Local\\Packages\\PythonSoftwareFoundation.Python.3.11_qbz5n2kfra8p0\\LocalCache\\local-packages\\Python311\\site-packages\\sklearn\\base.py:493: UserWarning: X does not have valid feature names, but RandomForestRegressor was fitted with feature names\n",
      "  warnings.warn(\n",
      "C:\\Users\\Zóra\\AppData\\Local\\Packages\\PythonSoftwareFoundation.Python.3.11_qbz5n2kfra8p0\\LocalCache\\local-packages\\Python311\\site-packages\\sklearn\\base.py:493: UserWarning: X does not have valid feature names, but RandomForestRegressor was fitted with feature names\n",
      "  warnings.warn(\n",
      "C:\\Users\\Zóra\\AppData\\Local\\Packages\\PythonSoftwareFoundation.Python.3.11_qbz5n2kfra8p0\\LocalCache\\local-packages\\Python311\\site-packages\\sklearn\\base.py:493: UserWarning: X does not have valid feature names, but RandomForestRegressor was fitted with feature names\n",
      "  warnings.warn(\n",
      "C:\\Users\\Zóra\\AppData\\Local\\Packages\\PythonSoftwareFoundation.Python.3.11_qbz5n2kfra8p0\\LocalCache\\local-packages\\Python311\\site-packages\\sklearn\\base.py:493: UserWarning: X does not have valid feature names, but RandomForestRegressor was fitted with feature names\n",
      "  warnings.warn(\n",
      "C:\\Users\\Zóra\\AppData\\Local\\Packages\\PythonSoftwareFoundation.Python.3.11_qbz5n2kfra8p0\\LocalCache\\local-packages\\Python311\\site-packages\\sklearn\\base.py:493: UserWarning: X does not have valid feature names, but RandomForestRegressor was fitted with feature names\n",
      "  warnings.warn(\n",
      "C:\\Users\\Zóra\\AppData\\Local\\Packages\\PythonSoftwareFoundation.Python.3.11_qbz5n2kfra8p0\\LocalCache\\local-packages\\Python311\\site-packages\\sklearn\\base.py:493: UserWarning: X does not have valid feature names, but RandomForestRegressor was fitted with feature names\n",
      "  warnings.warn(\n"
     ]
    },
    {
     "name": "stderr",
     "output_type": "stream",
     "text": [
      "C:\\Users\\Zóra\\AppData\\Local\\Packages\\PythonSoftwareFoundation.Python.3.11_qbz5n2kfra8p0\\LocalCache\\local-packages\\Python311\\site-packages\\sklearn\\base.py:493: UserWarning: X does not have valid feature names, but RandomForestRegressor was fitted with feature names\n",
      "  warnings.warn(\n",
      "C:\\Users\\Zóra\\AppData\\Local\\Packages\\PythonSoftwareFoundation.Python.3.11_qbz5n2kfra8p0\\LocalCache\\local-packages\\Python311\\site-packages\\sklearn\\base.py:493: UserWarning: X does not have valid feature names, but RandomForestRegressor was fitted with feature names\n",
      "  warnings.warn(\n",
      "C:\\Users\\Zóra\\AppData\\Local\\Packages\\PythonSoftwareFoundation.Python.3.11_qbz5n2kfra8p0\\LocalCache\\local-packages\\Python311\\site-packages\\sklearn\\base.py:493: UserWarning: X does not have valid feature names, but RandomForestRegressor was fitted with feature names\n",
      "  warnings.warn(\n",
      "C:\\Users\\Zóra\\AppData\\Local\\Packages\\PythonSoftwareFoundation.Python.3.11_qbz5n2kfra8p0\\LocalCache\\local-packages\\Python311\\site-packages\\sklearn\\base.py:493: UserWarning: X does not have valid feature names, but RandomForestRegressor was fitted with feature names\n",
      "  warnings.warn(\n",
      "C:\\Users\\Zóra\\AppData\\Local\\Packages\\PythonSoftwareFoundation.Python.3.11_qbz5n2kfra8p0\\LocalCache\\local-packages\\Python311\\site-packages\\sklearn\\base.py:493: UserWarning: X does not have valid feature names, but RandomForestRegressor was fitted with feature names\n",
      "  warnings.warn(\n",
      "C:\\Users\\Zóra\\AppData\\Local\\Packages\\PythonSoftwareFoundation.Python.3.11_qbz5n2kfra8p0\\LocalCache\\local-packages\\Python311\\site-packages\\sklearn\\base.py:493: UserWarning: X does not have valid feature names, but RandomForestRegressor was fitted with feature names\n",
      "  warnings.warn(\n",
      "C:\\Users\\Zóra\\AppData\\Local\\Packages\\PythonSoftwareFoundation.Python.3.11_qbz5n2kfra8p0\\LocalCache\\local-packages\\Python311\\site-packages\\sklearn\\base.py:493: UserWarning: X does not have valid feature names, but RandomForestRegressor was fitted with feature names\n",
      "  warnings.warn(\n",
      "C:\\Users\\Zóra\\AppData\\Local\\Packages\\PythonSoftwareFoundation.Python.3.11_qbz5n2kfra8p0\\LocalCache\\local-packages\\Python311\\site-packages\\sklearn\\base.py:493: UserWarning: X does not have valid feature names, but RandomForestRegressor was fitted with feature names\n",
      "  warnings.warn(\n",
      "C:\\Users\\Zóra\\AppData\\Local\\Packages\\PythonSoftwareFoundation.Python.3.11_qbz5n2kfra8p0\\LocalCache\\local-packages\\Python311\\site-packages\\sklearn\\base.py:493: UserWarning: X does not have valid feature names, but RandomForestRegressor was fitted with feature names\n",
      "  warnings.warn(\n",
      "C:\\Users\\Zóra\\AppData\\Local\\Packages\\PythonSoftwareFoundation.Python.3.11_qbz5n2kfra8p0\\LocalCache\\local-packages\\Python311\\site-packages\\sklearn\\base.py:493: UserWarning: X does not have valid feature names, but RandomForestRegressor was fitted with feature names\n",
      "  warnings.warn(\n",
      "C:\\Users\\Zóra\\AppData\\Local\\Packages\\PythonSoftwareFoundation.Python.3.11_qbz5n2kfra8p0\\LocalCache\\local-packages\\Python311\\site-packages\\sklearn\\base.py:493: UserWarning: X does not have valid feature names, but RandomForestRegressor was fitted with feature names\n",
      "  warnings.warn(\n",
      "C:\\Users\\Zóra\\AppData\\Local\\Packages\\PythonSoftwareFoundation.Python.3.11_qbz5n2kfra8p0\\LocalCache\\local-packages\\Python311\\site-packages\\sklearn\\base.py:493: UserWarning: X does not have valid feature names, but RandomForestRegressor was fitted with feature names\n",
      "  warnings.warn(\n",
      "C:\\Users\\Zóra\\AppData\\Local\\Packages\\PythonSoftwareFoundation.Python.3.11_qbz5n2kfra8p0\\LocalCache\\local-packages\\Python311\\site-packages\\sklearn\\base.py:493: UserWarning: X does not have valid feature names, but RandomForestRegressor was fitted with feature names\n",
      "  warnings.warn(\n",
      "C:\\Users\\Zóra\\AppData\\Local\\Packages\\PythonSoftwareFoundation.Python.3.11_qbz5n2kfra8p0\\LocalCache\\local-packages\\Python311\\site-packages\\sklearn\\base.py:493: UserWarning: X does not have valid feature names, but RandomForestRegressor was fitted with feature names\n",
      "  warnings.warn(\n",
      "C:\\Users\\Zóra\\AppData\\Local\\Packages\\PythonSoftwareFoundation.Python.3.11_qbz5n2kfra8p0\\LocalCache\\local-packages\\Python311\\site-packages\\sklearn\\base.py:493: UserWarning: X does not have valid feature names, but RandomForestRegressor was fitted with feature names\n",
      "  warnings.warn(\n",
      "C:\\Users\\Zóra\\AppData\\Local\\Packages\\PythonSoftwareFoundation.Python.3.11_qbz5n2kfra8p0\\LocalCache\\local-packages\\Python311\\site-packages\\sklearn\\base.py:493: UserWarning: X does not have valid feature names, but RandomForestRegressor was fitted with feature names\n",
      "  warnings.warn(\n",
      "C:\\Users\\Zóra\\AppData\\Local\\Packages\\PythonSoftwareFoundation.Python.3.11_qbz5n2kfra8p0\\LocalCache\\local-packages\\Python311\\site-packages\\sklearn\\base.py:493: UserWarning: X does not have valid feature names, but RandomForestRegressor was fitted with feature names\n",
      "  warnings.warn(\n",
      "C:\\Users\\Zóra\\AppData\\Local\\Packages\\PythonSoftwareFoundation.Python.3.11_qbz5n2kfra8p0\\LocalCache\\local-packages\\Python311\\site-packages\\sklearn\\base.py:493: UserWarning: X does not have valid feature names, but RandomForestRegressor was fitted with feature names\n",
      "  warnings.warn(\n",
      "C:\\Users\\Zóra\\AppData\\Local\\Packages\\PythonSoftwareFoundation.Python.3.11_qbz5n2kfra8p0\\LocalCache\\local-packages\\Python311\\site-packages\\sklearn\\base.py:493: UserWarning: X does not have valid feature names, but RandomForestRegressor was fitted with feature names\n",
      "  warnings.warn(\n",
      "C:\\Users\\Zóra\\AppData\\Local\\Packages\\PythonSoftwareFoundation.Python.3.11_qbz5n2kfra8p0\\LocalCache\\local-packages\\Python311\\site-packages\\sklearn\\base.py:493: UserWarning: X does not have valid feature names, but RandomForestRegressor was fitted with feature names\n",
      "  warnings.warn(\n",
      "C:\\Users\\Zóra\\AppData\\Local\\Packages\\PythonSoftwareFoundation.Python.3.11_qbz5n2kfra8p0\\LocalCache\\local-packages\\Python311\\site-packages\\sklearn\\base.py:493: UserWarning: X does not have valid feature names, but RandomForestRegressor was fitted with feature names\n",
      "  warnings.warn(\n",
      "C:\\Users\\Zóra\\AppData\\Local\\Packages\\PythonSoftwareFoundation.Python.3.11_qbz5n2kfra8p0\\LocalCache\\local-packages\\Python311\\site-packages\\sklearn\\base.py:493: UserWarning: X does not have valid feature names, but RandomForestRegressor was fitted with feature names\n",
      "  warnings.warn(\n",
      "C:\\Users\\Zóra\\AppData\\Local\\Packages\\PythonSoftwareFoundation.Python.3.11_qbz5n2kfra8p0\\LocalCache\\local-packages\\Python311\\site-packages\\sklearn\\base.py:493: UserWarning: X does not have valid feature names, but RandomForestRegressor was fitted with feature names\n",
      "  warnings.warn(\n",
      "C:\\Users\\Zóra\\AppData\\Local\\Packages\\PythonSoftwareFoundation.Python.3.11_qbz5n2kfra8p0\\LocalCache\\local-packages\\Python311\\site-packages\\sklearn\\base.py:493: UserWarning: X does not have valid feature names, but RandomForestRegressor was fitted with feature names\n",
      "  warnings.warn(\n",
      "C:\\Users\\Zóra\\AppData\\Local\\Packages\\PythonSoftwareFoundation.Python.3.11_qbz5n2kfra8p0\\LocalCache\\local-packages\\Python311\\site-packages\\sklearn\\base.py:493: UserWarning: X does not have valid feature names, but RandomForestRegressor was fitted with feature names\n",
      "  warnings.warn(\n",
      "C:\\Users\\Zóra\\AppData\\Local\\Packages\\PythonSoftwareFoundation.Python.3.11_qbz5n2kfra8p0\\LocalCache\\local-packages\\Python311\\site-packages\\sklearn\\base.py:493: UserWarning: X does not have valid feature names, but RandomForestRegressor was fitted with feature names\n",
      "  warnings.warn(\n",
      "C:\\Users\\Zóra\\AppData\\Local\\Packages\\PythonSoftwareFoundation.Python.3.11_qbz5n2kfra8p0\\LocalCache\\local-packages\\Python311\\site-packages\\sklearn\\base.py:493: UserWarning: X does not have valid feature names, but RandomForestRegressor was fitted with feature names\n",
      "  warnings.warn(\n",
      "C:\\Users\\Zóra\\AppData\\Local\\Packages\\PythonSoftwareFoundation.Python.3.11_qbz5n2kfra8p0\\LocalCache\\local-packages\\Python311\\site-packages\\sklearn\\base.py:493: UserWarning: X does not have valid feature names, but RandomForestRegressor was fitted with feature names\n",
      "  warnings.warn(\n",
      "C:\\Users\\Zóra\\AppData\\Local\\Packages\\PythonSoftwareFoundation.Python.3.11_qbz5n2kfra8p0\\LocalCache\\local-packages\\Python311\\site-packages\\sklearn\\base.py:493: UserWarning: X does not have valid feature names, but RandomForestRegressor was fitted with feature names\n",
      "  warnings.warn(\n",
      "C:\\Users\\Zóra\\AppData\\Local\\Packages\\PythonSoftwareFoundation.Python.3.11_qbz5n2kfra8p0\\LocalCache\\local-packages\\Python311\\site-packages\\sklearn\\base.py:493: UserWarning: X does not have valid feature names, but RandomForestRegressor was fitted with feature names\n",
      "  warnings.warn(\n",
      "C:\\Users\\Zóra\\AppData\\Local\\Packages\\PythonSoftwareFoundation.Python.3.11_qbz5n2kfra8p0\\LocalCache\\local-packages\\Python311\\site-packages\\sklearn\\base.py:493: UserWarning: X does not have valid feature names, but RandomForestRegressor was fitted with feature names\n",
      "  warnings.warn(\n",
      "C:\\Users\\Zóra\\AppData\\Local\\Packages\\PythonSoftwareFoundation.Python.3.11_qbz5n2kfra8p0\\LocalCache\\local-packages\\Python311\\site-packages\\sklearn\\base.py:493: UserWarning: X does not have valid feature names, but RandomForestRegressor was fitted with feature names\n",
      "  warnings.warn(\n",
      "C:\\Users\\Zóra\\AppData\\Local\\Packages\\PythonSoftwareFoundation.Python.3.11_qbz5n2kfra8p0\\LocalCache\\local-packages\\Python311\\site-packages\\sklearn\\base.py:493: UserWarning: X does not have valid feature names, but RandomForestRegressor was fitted with feature names\n",
      "  warnings.warn(\n",
      "C:\\Users\\Zóra\\AppData\\Local\\Packages\\PythonSoftwareFoundation.Python.3.11_qbz5n2kfra8p0\\LocalCache\\local-packages\\Python311\\site-packages\\sklearn\\base.py:493: UserWarning: X does not have valid feature names, but RandomForestRegressor was fitted with feature names\n",
      "  warnings.warn(\n",
      "C:\\Users\\Zóra\\AppData\\Local\\Packages\\PythonSoftwareFoundation.Python.3.11_qbz5n2kfra8p0\\LocalCache\\local-packages\\Python311\\site-packages\\sklearn\\base.py:493: UserWarning: X does not have valid feature names, but RandomForestRegressor was fitted with feature names\n",
      "  warnings.warn(\n",
      "C:\\Users\\Zóra\\AppData\\Local\\Packages\\PythonSoftwareFoundation.Python.3.11_qbz5n2kfra8p0\\LocalCache\\local-packages\\Python311\\site-packages\\sklearn\\base.py:493: UserWarning: X does not have valid feature names, but RandomForestRegressor was fitted with feature names\n",
      "  warnings.warn(\n",
      "C:\\Users\\Zóra\\AppData\\Local\\Packages\\PythonSoftwareFoundation.Python.3.11_qbz5n2kfra8p0\\LocalCache\\local-packages\\Python311\\site-packages\\sklearn\\base.py:493: UserWarning: X does not have valid feature names, but RandomForestRegressor was fitted with feature names\n",
      "  warnings.warn(\n",
      "C:\\Users\\Zóra\\AppData\\Local\\Packages\\PythonSoftwareFoundation.Python.3.11_qbz5n2kfra8p0\\LocalCache\\local-packages\\Python311\\site-packages\\sklearn\\base.py:493: UserWarning: X does not have valid feature names, but RandomForestRegressor was fitted with feature names\n",
      "  warnings.warn(\n",
      "C:\\Users\\Zóra\\AppData\\Local\\Packages\\PythonSoftwareFoundation.Python.3.11_qbz5n2kfra8p0\\LocalCache\\local-packages\\Python311\\site-packages\\sklearn\\base.py:493: UserWarning: X does not have valid feature names, but RandomForestRegressor was fitted with feature names\n",
      "  warnings.warn(\n",
      "C:\\Users\\Zóra\\AppData\\Local\\Packages\\PythonSoftwareFoundation.Python.3.11_qbz5n2kfra8p0\\LocalCache\\local-packages\\Python311\\site-packages\\sklearn\\base.py:493: UserWarning: X does not have valid feature names, but RandomForestRegressor was fitted with feature names\n",
      "  warnings.warn(\n",
      "C:\\Users\\Zóra\\AppData\\Local\\Packages\\PythonSoftwareFoundation.Python.3.11_qbz5n2kfra8p0\\LocalCache\\local-packages\\Python311\\site-packages\\sklearn\\base.py:493: UserWarning: X does not have valid feature names, but RandomForestRegressor was fitted with feature names\n",
      "  warnings.warn(\n",
      "C:\\Users\\Zóra\\AppData\\Local\\Packages\\PythonSoftwareFoundation.Python.3.11_qbz5n2kfra8p0\\LocalCache\\local-packages\\Python311\\site-packages\\sklearn\\base.py:493: UserWarning: X does not have valid feature names, but RandomForestRegressor was fitted with feature names\n",
      "  warnings.warn(\n",
      "C:\\Users\\Zóra\\AppData\\Local\\Packages\\PythonSoftwareFoundation.Python.3.11_qbz5n2kfra8p0\\LocalCache\\local-packages\\Python311\\site-packages\\sklearn\\base.py:493: UserWarning: X does not have valid feature names, but RandomForestRegressor was fitted with feature names\n",
      "  warnings.warn(\n",
      "C:\\Users\\Zóra\\AppData\\Local\\Packages\\PythonSoftwareFoundation.Python.3.11_qbz5n2kfra8p0\\LocalCache\\local-packages\\Python311\\site-packages\\sklearn\\base.py:493: UserWarning: X does not have valid feature names, but RandomForestRegressor was fitted with feature names\n",
      "  warnings.warn(\n",
      "C:\\Users\\Zóra\\AppData\\Local\\Packages\\PythonSoftwareFoundation.Python.3.11_qbz5n2kfra8p0\\LocalCache\\local-packages\\Python311\\site-packages\\sklearn\\base.py:493: UserWarning: X does not have valid feature names, but RandomForestRegressor was fitted with feature names\n",
      "  warnings.warn(\n",
      "C:\\Users\\Zóra\\AppData\\Local\\Packages\\PythonSoftwareFoundation.Python.3.11_qbz5n2kfra8p0\\LocalCache\\local-packages\\Python311\\site-packages\\sklearn\\base.py:493: UserWarning: X does not have valid feature names, but RandomForestRegressor was fitted with feature names\n",
      "  warnings.warn(\n",
      "C:\\Users\\Zóra\\AppData\\Local\\Packages\\PythonSoftwareFoundation.Python.3.11_qbz5n2kfra8p0\\LocalCache\\local-packages\\Python311\\site-packages\\sklearn\\base.py:493: UserWarning: X does not have valid feature names, but RandomForestRegressor was fitted with feature names\n",
      "  warnings.warn(\n",
      "C:\\Users\\Zóra\\AppData\\Local\\Packages\\PythonSoftwareFoundation.Python.3.11_qbz5n2kfra8p0\\LocalCache\\local-packages\\Python311\\site-packages\\sklearn\\base.py:493: UserWarning: X does not have valid feature names, but RandomForestRegressor was fitted with feature names\n",
      "  warnings.warn(\n",
      "C:\\Users\\Zóra\\AppData\\Local\\Packages\\PythonSoftwareFoundation.Python.3.11_qbz5n2kfra8p0\\LocalCache\\local-packages\\Python311\\site-packages\\sklearn\\base.py:493: UserWarning: X does not have valid feature names, but RandomForestRegressor was fitted with feature names\n",
      "  warnings.warn(\n",
      "C:\\Users\\Zóra\\AppData\\Local\\Packages\\PythonSoftwareFoundation.Python.3.11_qbz5n2kfra8p0\\LocalCache\\local-packages\\Python311\\site-packages\\sklearn\\base.py:493: UserWarning: X does not have valid feature names, but RandomForestRegressor was fitted with feature names\n",
      "  warnings.warn(\n",
      "C:\\Users\\Zóra\\AppData\\Local\\Packages\\PythonSoftwareFoundation.Python.3.11_qbz5n2kfra8p0\\LocalCache\\local-packages\\Python311\\site-packages\\sklearn\\base.py:493: UserWarning: X does not have valid feature names, but RandomForestRegressor was fitted with feature names\n",
      "  warnings.warn(\n",
      "C:\\Users\\Zóra\\AppData\\Local\\Packages\\PythonSoftwareFoundation.Python.3.11_qbz5n2kfra8p0\\LocalCache\\local-packages\\Python311\\site-packages\\sklearn\\base.py:493: UserWarning: X does not have valid feature names, but RandomForestRegressor was fitted with feature names\n",
      "  warnings.warn(\n"
     ]
    }
   ],
   "source": [
    "predicted_next_day = rolling_prediction(rf, initial_ts, 96, lags)"
   ]
  },
  {
   "cell_type": "code",
   "execution_count": null,
   "metadata": {},
   "outputs": [
    {
     "ename": "ValueError",
     "evalue": "There aren't enough actual values in the data frame for the next day.",
     "output_type": "error",
     "traceback": [
      "\u001b[1;31m---------------------------------------------------------------------------\u001b[0m",
      "\u001b[1;31mValueError\u001b[0m                                Traceback (most recent call last)",
      "Cell \u001b[1;32mIn[26], line 6\u001b[0m\n\u001b[0;32m      4\u001b[0m \u001b[38;5;66;03m# Make sure you do not go out of the DataFrame bounds\u001b[39;00m\n\u001b[0;32m      5\u001b[0m \u001b[38;5;28;01mif\u001b[39;00m actual_next_day_index_end \u001b[38;5;241m>\u001b[39m \u001b[38;5;28mlen\u001b[39m(df_main):\n\u001b[1;32m----> 6\u001b[0m     \u001b[38;5;28;01mraise\u001b[39;00m \u001b[38;5;167;01mValueError\u001b[39;00m(\u001b[38;5;124m\"\u001b[39m\u001b[38;5;124mThere aren\u001b[39m\u001b[38;5;124m'\u001b[39m\u001b[38;5;124mt enough actual values in the data frame for the next day.\u001b[39m\u001b[38;5;124m\"\u001b[39m)\n\u001b[0;32m      8\u001b[0m actual_next_day \u001b[38;5;241m=\u001b[39m df_main\u001b[38;5;241m.\u001b[39miloc[actual_next_day_index_start:actual_next_day_index_end][\u001b[38;5;124m'\u001b[39m\u001b[38;5;124mnet_load\u001b[39m\u001b[38;5;124m'\u001b[39m]\n",
      "\u001b[1;31mValueError\u001b[0m: There aren't enough actual values in the data frame for the next day."
     ]
    }
   ],
   "source": [
    "actual_next_day_index_start = df_main.index.get_loc(initial_ts.index[-1]) + 1\n",
    "actual_next_day_index_end = actual_next_day_index_start + 96\n",
    "\n",
    "# Make sure you do not go out of the DataFrame bounds\n",
    "if actual_next_day_index_end > len(df_main):\n",
    "    raise ValueError(\"There aren't enough actual values in the data frame for the next day.\")\n",
    "\n",
    "actual_next_day = df_main.iloc[actual_next_day_index_start:actual_next_day_index_end]['net_load']"
   ]
  },
  {
   "cell_type": "code",
   "execution_count": null,
   "metadata": {},
   "outputs": [
    {
     "name": "stdout",
     "output_type": "stream",
     "text": [
      "Not enough data to perform rolling prediction for one day ahead.\n"
     ]
    }
   ],
   "source": [
    "if len(test_features) > 192:\n",
    "    # Select the starting point for the prediction - the last row of the test set\n",
    "    starting_point = test_features.iloc[-193:]\n",
    "    # We will reshape this to comply with the expected input shape for the model\n",
    "    initial_ts = starting_point.values.flatten()\n",
    "\n",
    "    # Generate rolling predictions for the next 96 steps (one day ahead)\n",
    "    predictions = rolling_prediction(rf, pd.Series(initial_ts), 96, lags)\n",
    "\n",
    "    # Plot the actual vs predicted values for this day\n",
    "    actual = test_target.iloc[-96:]  # Actual values for the last day in the test set\n",
    "    plt.figure(figsize=(15, 5))\n",
    "    plt.plot(range(96), actual, label='Actual')\n",
    "    plt.plot(range(96), predictions, label='Predicted', alpha=0.7)\n",
    "    plt.legend()\n",
    "    plt.title('Day-Ahead Predictions vs Actual')\n",
    "    plt.show()\n",
    "else:\n",
    "    print(\"Not enough data to perform rolling prediction for one day ahead.\")"
   ]
  },
  {
   "cell_type": "code",
   "execution_count": null,
   "metadata": {},
   "outputs": [],
   "source": []
  },
  {
   "cell_type": "code",
   "execution_count": null,
   "metadata": {},
   "outputs": [],
   "source": []
  },
  {
   "cell_type": "code",
   "execution_count": null,
   "metadata": {},
   "outputs": [],
   "source": []
  },
  {
   "cell_type": "code",
   "execution_count": null,
   "metadata": {},
   "outputs": [],
   "source": []
  },
  {
   "cell_type": "code",
   "execution_count": null,
   "metadata": {},
   "outputs": [],
   "source": []
  },
  {
   "cell_type": "code",
   "execution_count": null,
   "metadata": {},
   "outputs": [],
   "source": []
  },
  {
   "cell_type": "code",
   "execution_count": null,
   "metadata": {},
   "outputs": [],
   "source": []
  },
  {
   "cell_type": "code",
   "execution_count": null,
   "metadata": {},
   "outputs": [],
   "source": []
  },
  {
   "cell_type": "code",
   "execution_count": null,
   "metadata": {},
   "outputs": [],
   "source": []
  }
 ],
 "metadata": {
  "kernelspec": {
   "display_name": "amlenv",
   "language": "python",
   "name": "python3"
  },
  "language_info": {
   "codemirror_mode": {
    "name": "ipython",
    "version": 3
   },
   "file_extension": ".py",
   "mimetype": "text/x-python",
   "name": "python",
   "nbconvert_exporter": "python",
   "pygments_lexer": "ipython3",
   "version": "3.11.8"
  }
 },
 "nbformat": 4,
 "nbformat_minor": 2
}
