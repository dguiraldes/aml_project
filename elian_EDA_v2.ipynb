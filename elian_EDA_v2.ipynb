{
 "cells": [
  {
   "cell_type": "markdown",
   "metadata": {},
   "source": [
    "# Connect to database"
   ]
  },
  {
   "cell_type": "markdown",
   "metadata": {},
   "source": [
    "## Set credentials"
   ]
  },
  {
   "cell_type": "code",
   "execution_count": 1,
   "metadata": {},
   "outputs": [],
   "source": [
    "import os\n",
    "import psycopg2 # PostgreSQL database adapter for Python\n",
    "from dotenv import load_dotenv # Reads the key-value pair from .env file and adds them to environment variable\n",
    "import pandas as pd\n",
    "\n",
    "# Load environment variables from .env file\n",
    "load_dotenv()\n",
    "\n",
    "# Accessing credentials\n",
    "db_host = os.getenv(\"DB_HOST\")\n",
    "db_name = os.getenv(\"DB_NAME\")\n",
    "db_user = os.getenv(\"DB_USER\")\n",
    "db_password = os.getenv(\"DB_PASSWORD\")\n",
    "db_port = os.getenv(\"DB_PORT\")"
   ]
  },
  {
   "cell_type": "markdown",
   "metadata": {},
   "source": [
    "## Establish connection"
   ]
  },
  {
   "cell_type": "code",
   "execution_count": 2,
   "metadata": {},
   "outputs": [],
   "source": [
    "# Connect to the database\n",
    "conn = psycopg2.connect(\n",
    "    host=db_host,\n",
    "    dbname=db_name,\n",
    "    user=db_user,\n",
    "    password=db_password,\n",
    "    port=db_port\n",
    ")"
   ]
  },
  {
   "cell_type": "markdown",
   "metadata": {},
   "source": [
    "## Weather data EDA"
   ]
  },
  {
   "cell_type": "markdown",
   "metadata": {},
   "source": [
    "### Read weather database into dataframe"
   ]
  },
  {
   "cell_type": "code",
   "execution_count": 3,
   "metadata": {},
   "outputs": [
    {
     "name": "stderr",
     "output_type": "stream",
     "text": [
      "C:\\Users\\elian\\AppData\\Local\\Temp\\ipykernel_211120\\2258311937.py:6: UserWarning: pandas only supports SQLAlchemy connectable (engine/connection) or database string URI or sqlite3 DBAPI2 connection. Other DBAPI2 objects are not tested. Please consider using SQLAlchemy.\n",
      "  df = pd.read_sql_query(query, conn)\n"
     ]
    }
   ],
   "source": [
    "query=\"\"\"\n",
    "    SELECT * \n",
    "    FROM agg.t_weather  \n",
    "\"\"\"\n",
    "\n",
    "df = pd.read_sql_query(query, conn)"
   ]
  },
  {
   "cell_type": "code",
   "execution_count": 23,
   "metadata": {},
   "outputs": [
    {
     "data": {
      "text/html": [
       "<div>\n",
       "<style scoped>\n",
       "    .dataframe tbody tr th:only-of-type {\n",
       "        vertical-align: middle;\n",
       "    }\n",
       "\n",
       "    .dataframe tbody tr th {\n",
       "        vertical-align: top;\n",
       "    }\n",
       "\n",
       "    .dataframe thead th {\n",
       "        text-align: right;\n",
       "    }\n",
       "</style>\n",
       "<table border=\"1\" class=\"dataframe\">\n",
       "  <thead>\n",
       "    <tr style=\"text-align: right;\">\n",
       "      <th></th>\n",
       "      <th>postcode</th>\n",
       "      <th>created_ts</th>\n",
       "      <th>forecast_date</th>\n",
       "      <th>forecast_hour</th>\n",
       "      <th>precipitation</th>\n",
       "      <th>precipitation_probability</th>\n",
       "      <th>wind_direction</th>\n",
       "      <th>wind_speed</th>\n",
       "      <th>solar_radiation</th>\n",
       "      <th>sunshine_duration</th>\n",
       "      <th>site</th>\n",
       "    </tr>\n",
       "  </thead>\n",
       "  <tbody>\n",
       "    <tr>\n",
       "      <th>0</th>\n",
       "      <td>PL12</td>\n",
       "      <td>2019-03-23 00:11:24</td>\n",
       "      <td>2019-03-22</td>\n",
       "      <td>0</td>\n",
       "      <td>0.0</td>\n",
       "      <td>9.0</td>\n",
       "      <td>151</td>\n",
       "      <td>8.0</td>\n",
       "      <td>0.0</td>\n",
       "      <td>0.0</td>\n",
       "      <td>{7,44,47,60}</td>\n",
       "    </tr>\n",
       "    <tr>\n",
       "      <th>1</th>\n",
       "      <td>PL14</td>\n",
       "      <td>2019-03-23 00:10:49</td>\n",
       "      <td>2019-03-22</td>\n",
       "      <td>0</td>\n",
       "      <td>0.0</td>\n",
       "      <td>100.0</td>\n",
       "      <td>161</td>\n",
       "      <td>7.0</td>\n",
       "      <td>0.0</td>\n",
       "      <td>0.0</td>\n",
       "      <td>{33,35}</td>\n",
       "    </tr>\n",
       "    <tr>\n",
       "      <th>2</th>\n",
       "      <td>PL15</td>\n",
       "      <td>2019-03-23 00:10:46</td>\n",
       "      <td>2019-03-22</td>\n",
       "      <td>0</td>\n",
       "      <td>0.0</td>\n",
       "      <td>60.0</td>\n",
       "      <td>175</td>\n",
       "      <td>6.0</td>\n",
       "      <td>0.0</td>\n",
       "      <td>0.0</td>\n",
       "      <td>{28}</td>\n",
       "    </tr>\n",
       "    <tr>\n",
       "      <th>3</th>\n",
       "      <td>PL17</td>\n",
       "      <td>2019-03-23 00:11:21</td>\n",
       "      <td>2019-03-22</td>\n",
       "      <td>0</td>\n",
       "      <td>0.0</td>\n",
       "      <td>9.0</td>\n",
       "      <td>151</td>\n",
       "      <td>8.0</td>\n",
       "      <td>0.0</td>\n",
       "      <td>0.0</td>\n",
       "      <td>{45}</td>\n",
       "    </tr>\n",
       "    <tr>\n",
       "      <th>4</th>\n",
       "      <td>PL24</td>\n",
       "      <td>2019-03-23 00:11:23</td>\n",
       "      <td>2019-03-22</td>\n",
       "      <td>0</td>\n",
       "      <td>0.0</td>\n",
       "      <td>100.0</td>\n",
       "      <td>170</td>\n",
       "      <td>6.0</td>\n",
       "      <td>0.0</td>\n",
       "      <td>0.0</td>\n",
       "      <td>{49,52}</td>\n",
       "    </tr>\n",
       "    <tr>\n",
       "      <th>...</th>\n",
       "      <td>...</td>\n",
       "      <td>...</td>\n",
       "      <td>...</td>\n",
       "      <td>...</td>\n",
       "      <td>...</td>\n",
       "      <td>...</td>\n",
       "      <td>...</td>\n",
       "      <td>...</td>\n",
       "      <td>...</td>\n",
       "      <td>...</td>\n",
       "      <td>...</td>\n",
       "    </tr>\n",
       "    <tr>\n",
       "      <th>244123</th>\n",
       "      <td>TR4</td>\n",
       "      <td>2020-03-29 05:06:16</td>\n",
       "      <td>2020-03-29</td>\n",
       "      <td>23</td>\n",
       "      <td>0.0</td>\n",
       "      <td>1.0</td>\n",
       "      <td>49</td>\n",
       "      <td>14.0</td>\n",
       "      <td>0.0</td>\n",
       "      <td>0.0</td>\n",
       "      <td>{58,62,80,84}</td>\n",
       "    </tr>\n",
       "    <tr>\n",
       "      <th>244124</th>\n",
       "      <td>TR5</td>\n",
       "      <td>2020-03-29 05:06:17</td>\n",
       "      <td>2020-03-29</td>\n",
       "      <td>23</td>\n",
       "      <td>0.0</td>\n",
       "      <td>1.0</td>\n",
       "      <td>49</td>\n",
       "      <td>14.0</td>\n",
       "      <td>0.0</td>\n",
       "      <td>0.0</td>\n",
       "      <td>{71,86,87,99}</td>\n",
       "    </tr>\n",
       "    <tr>\n",
       "      <th>244125</th>\n",
       "      <td>TR7</td>\n",
       "      <td>2020-03-29 05:05:07</td>\n",
       "      <td>2020-03-29</td>\n",
       "      <td>23</td>\n",
       "      <td>0.0</td>\n",
       "      <td>1.0</td>\n",
       "      <td>44</td>\n",
       "      <td>14.0</td>\n",
       "      <td>0.0</td>\n",
       "      <td>0.0</td>\n",
       "      <td>{4,13,56,63,69,92,95}</td>\n",
       "    </tr>\n",
       "    <tr>\n",
       "      <th>244126</th>\n",
       "      <td>TR8</td>\n",
       "      <td>2020-03-29 05:05:03</td>\n",
       "      <td>2020-03-29</td>\n",
       "      <td>23</td>\n",
       "      <td>0.0</td>\n",
       "      <td>1.0</td>\n",
       "      <td>44</td>\n",
       "      <td>14.0</td>\n",
       "      <td>0.0</td>\n",
       "      <td>0.0</td>\n",
       "      <td>{21,22}</td>\n",
       "    </tr>\n",
       "    <tr>\n",
       "      <th>244127</th>\n",
       "      <td>TR9</td>\n",
       "      <td>2020-03-29 05:05:08</td>\n",
       "      <td>2020-03-29</td>\n",
       "      <td>23</td>\n",
       "      <td>0.0</td>\n",
       "      <td>1.0</td>\n",
       "      <td>44</td>\n",
       "      <td>14.0</td>\n",
       "      <td>0.0</td>\n",
       "      <td>0.0</td>\n",
       "      <td>{6,34,50,65}</td>\n",
       "    </tr>\n",
       "  </tbody>\n",
       "</table>\n",
       "<p>244128 rows × 11 columns</p>\n",
       "</div>"
      ],
      "text/plain": [
       "       postcode          created_ts forecast_date  forecast_hour  \\\n",
       "0          PL12 2019-03-23 00:11:24    2019-03-22              0   \n",
       "1          PL14 2019-03-23 00:10:49    2019-03-22              0   \n",
       "2          PL15 2019-03-23 00:10:46    2019-03-22              0   \n",
       "3          PL17 2019-03-23 00:11:21    2019-03-22              0   \n",
       "4          PL24 2019-03-23 00:11:23    2019-03-22              0   \n",
       "...         ...                 ...           ...            ...   \n",
       "244123      TR4 2020-03-29 05:06:16    2020-03-29             23   \n",
       "244124      TR5 2020-03-29 05:06:17    2020-03-29             23   \n",
       "244125      TR7 2020-03-29 05:05:07    2020-03-29             23   \n",
       "244126      TR8 2020-03-29 05:05:03    2020-03-29             23   \n",
       "244127      TR9 2020-03-29 05:05:08    2020-03-29             23   \n",
       "\n",
       "        precipitation  precipitation_probability wind_direction  wind_speed  \\\n",
       "0                 0.0                        9.0            151         8.0   \n",
       "1                 0.0                      100.0            161         7.0   \n",
       "2                 0.0                       60.0            175         6.0   \n",
       "3                 0.0                        9.0            151         8.0   \n",
       "4                 0.0                      100.0            170         6.0   \n",
       "...               ...                        ...            ...         ...   \n",
       "244123            0.0                        1.0             49        14.0   \n",
       "244124            0.0                        1.0             49        14.0   \n",
       "244125            0.0                        1.0             44        14.0   \n",
       "244126            0.0                        1.0             44        14.0   \n",
       "244127            0.0                        1.0             44        14.0   \n",
       "\n",
       "        solar_radiation  sunshine_duration                   site  \n",
       "0                   0.0                0.0           {7,44,47,60}  \n",
       "1                   0.0                0.0                {33,35}  \n",
       "2                   0.0                0.0                   {28}  \n",
       "3                   0.0                0.0                   {45}  \n",
       "4                   0.0                0.0                {49,52}  \n",
       "...                 ...                ...                    ...  \n",
       "244123              0.0                0.0          {58,62,80,84}  \n",
       "244124              0.0                0.0          {71,86,87,99}  \n",
       "244125              0.0                0.0  {4,13,56,63,69,92,95}  \n",
       "244126              0.0                0.0                {21,22}  \n",
       "244127              0.0                0.0           {6,34,50,65}  \n",
       "\n",
       "[244128 rows x 11 columns]"
      ]
     },
     "execution_count": 23,
     "metadata": {},
     "output_type": "execute_result"
    }
   ],
   "source": [
    "df"
   ]
  },
  {
   "cell_type": "markdown",
   "metadata": {},
   "source": [
    "## Check the number of unique postcodes"
   ]
  },
  {
   "cell_type": "code",
   "execution_count": 5,
   "metadata": {},
   "outputs": [
    {
     "data": {
      "text/plain": [
       "array(['PL12', 'PL14', 'PL15', 'PL17', 'PL24', 'PL25', 'PL26', 'PL27',\n",
       "       'PL28', 'PL30', 'PL31', 'TR1', 'TR10', 'TR11', 'TR12', 'TR13',\n",
       "       'TR14', 'TR16', 'TR18', 'TR26', 'TR27', 'TR3', 'TR4', 'TR5', 'TR7',\n",
       "       'TR8', 'TR9', 'TR15', 'TR2', 'TR20'], dtype=object)"
      ]
     },
     "execution_count": 5,
     "metadata": {},
     "output_type": "execute_result"
    }
   ],
   "source": [
    "df['postcode'].unique()"
   ]
  },
  {
   "cell_type": "code",
   "execution_count": 6,
   "metadata": {},
   "outputs": [
    {
     "data": {
      "text/plain": [
       "30"
      ]
     },
     "execution_count": 6,
     "metadata": {},
     "output_type": "execute_result"
    }
   ],
   "source": [
    "len(df['postcode'].unique())"
   ]
  },
  {
   "cell_type": "markdown",
   "metadata": {},
   "source": [
    "## Visualise these postcodes"
   ]
  },
  {
   "cell_type": "code",
   "execution_count": 9,
   "metadata": {},
   "outputs": [
    {
     "name": "stdout",
     "output_type": "stream",
     "text": [
      "{'PL12': None, 'PL14': None, 'PL15': None}\n"
     ]
    }
   ],
   "source": [
    "import requests\n",
    "\n",
    "def get_coordinates(postcodes):\n",
    "    response = requests.post(\"https://api.postcodes.io/postcodes\", json={\"postcodes\": postcodes})\n",
    "    data = response.json()\n",
    "    return {result['query']: (result['result']['latitude'], result['result']['longitude']) if result['result'] else None for result in data['result']}\n",
    "\n",
    "postcodes = ['PL12', 'PL14', 'PL15']\n",
    "coordinates = get_coordinates(postcodes)\n",
    "print(coordinates)"
   ]
  },
  {
   "cell_type": "code",
   "execution_count": 10,
   "metadata": {},
   "outputs": [],
   "source": [
    "## Ended up doing it QGIS!"
   ]
  },
  {
   "cell_type": "markdown",
   "metadata": {},
   "source": [
    "## Check data availability for each postcode"
   ]
  },
  {
   "cell_type": "code",
   "execution_count": 22,
   "metadata": {},
   "outputs": [],
   "source": [
    "postcode_counts = df.groupby('postcode').size().reset_index(name='count')\n",
    "postcode_counts.to_csv('weather_data_availability.csv')"
   ]
  }
 ],
 "metadata": {
  "kernelspec": {
   "display_name": "base",
   "language": "python",
   "name": "python3"
  },
  "language_info": {
   "codemirror_mode": {
    "name": "ipython",
    "version": 3
   },
   "file_extension": ".py",
   "mimetype": "text/x-python",
   "name": "python",
   "nbconvert_exporter": "python",
   "pygments_lexer": "ipython3",
   "version": "3.11.5"
  }
 },
 "nbformat": 4,
 "nbformat_minor": 2
}
