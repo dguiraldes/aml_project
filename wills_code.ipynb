{
 "cells": [
  {
   "cell_type": "markdown",
   "metadata": {},
   "source": [
    "# Example to connect to postgres"
   ]
  },
  {
   "cell_type": "markdown",
   "metadata": {},
   "source": [
    "This is a tutorial to connect to our PostgreSQL database using python.\n",
    "\n",
    "First you need to install the following libraries:\n",
    "- psycopg2\n",
    "- python-dotenv\n",
    "\n",
    "Then you need to create a file with the name \".env\". This file will contain the connection information and your credentials. This is an example:\n",
    "\n",
    "```\n",
    "DB_HOST=host_name\n",
    "DB_NAME=postgres\n",
    "DB_USER=my_user\n",
    "DB_PASSWORD=my_password\n",
    "DB_PORT=5432\n",
    "```\n",
    "\n",
    "After that you´re all set. We will import your credentials and connect to the database."
   ]
  },
  {
   "cell_type": "code",
   "execution_count": 141,
   "metadata": {},
   "outputs": [],
   "source": [
    "import os\n",
    "import psycopg2 # PostgreSQL database adapter for Python\n",
    "from dotenv import load_dotenv # Reads the key-value pair from .env file and adds them to environment variable\n",
    "\n",
    "# Load environment variables from .env file\n",
    "load_dotenv()\n",
    "\n",
    "# Accessing credentials\n",
    "db_host = os.getenv(\"DB_HOST\")\n",
    "db_name = os.getenv(\"DB_NAME\")\n",
    "db_user = os.getenv(\"DB_USER\")\n",
    "db_password = os.getenv(\"DB_PASSWORD\")\n",
    "db_port = os.getenv(\"DB_PORT\")"
   ]
  },
  {
   "cell_type": "code",
   "execution_count": 142,
   "metadata": {},
   "outputs": [],
   "source": [
    "# Connect to the database\n",
    "conn = psycopg2.connect(\n",
    "    host=db_host,\n",
    "    dbname=db_name,\n",
    "    user=db_user,\n",
    "    password=db_password,\n",
    "    port=db_port\n",
    ")"
   ]
  },
  {
   "cell_type": "markdown",
   "metadata": {},
   "source": [
    "Now we can query our data (write sql code) and store it as a pandas dataframe"
   ]
  },
  {
   "cell_type": "code",
   "execution_count": 143,
   "metadata": {},
   "outputs": [],
   "source": [
    "import pandas as pd\n",
    "from sklearn.metrics import mean_squared_error\n",
    "import matplotlib.pyplot as plt"
   ]
  },
  {
   "cell_type": "code",
   "execution_count": 144,
   "metadata": {},
   "outputs": [],
   "source": [
    "query=\"\"\"\n",
    "    select * \n",
    "    from agg.tidy_data_final  \n",
    "    where year between 2019 and 2020\n",
    "\"\"\""
   ]
  },
  {
   "cell_type": "code",
   "execution_count": 145,
   "metadata": {},
   "outputs": [
    {
     "name": "stderr",
     "output_type": "stream",
     "text": [
      "C:\\Users\\xlow6\\AppData\\Local\\Temp\\ipykernel_14088\\1553155693.py:1: UserWarning: pandas only supports SQLAlchemy connectable (engine/connection) or database string URI or sqlite3 DBAPI2 connection. Other DBAPI2 objects are not tested. Please consider using SQLAlchemy.\n",
      "  df = pd.read_sql_query(query, conn)\n"
     ]
    }
   ],
   "source": [
    "df = pd.read_sql_query(query, conn)"
   ]
  },
  {
   "cell_type": "code",
   "execution_count": 146,
   "metadata": {},
   "outputs": [
    {
     "name": "stdout",
     "output_type": "stream",
     "text": [
      "<class 'pandas.core.frame.DataFrame'>\n",
      "RangeIndex: 716270 entries, 0 to 716269\n",
      "Data columns (total 21 columns):\n",
      " #   Column                     Non-Null Count   Dtype              \n",
      "---  ------                     --------------   -----              \n",
      " 0   timestamp                  716270 non-null  datetime64[ns, UTC]\n",
      " 1   site                       716270 non-null  int64              \n",
      " 2   year                       716270 non-null  int64              \n",
      " 3   month                      716270 non-null  int64              \n",
      " 4   day                        716270 non-null  int64              \n",
      " 5   hour                       716270 non-null  int64              \n",
      " 6   minute                     716270 non-null  int64              \n",
      " 7   day_of_week                716270 non-null  int64              \n",
      " 8   season                     716270 non-null  int64              \n",
      " 9   net_load                   716270 non-null  float64            \n",
      " 10  precipitation              716270 non-null  float64            \n",
      " 11  precipitation_probability  716270 non-null  float64            \n",
      " 12  wind_direction             716270 non-null  float64            \n",
      " 13  wind_speed                 716270 non-null  float64            \n",
      " 14  solar_radiation            716270 non-null  float64            \n",
      " 15  sunshine_duration          716270 non-null  float64            \n",
      " 16  avg_net_load               716270 non-null  float64            \n",
      " 17  q25_net_load               716270 non-null  float64            \n",
      " 18  q75_net_load               716270 non-null  float64            \n",
      " 19  median_net_load            716270 non-null  float64            \n",
      " 20  weekend_or_bank_holiday    716270 non-null  int64              \n",
      "dtypes: datetime64[ns, UTC](1), float64(11), int64(9)\n",
      "memory usage: 114.8 MB\n"
     ]
    }
   ],
   "source": [
    "df.info()"
   ]
  },
  {
   "cell_type": "code",
   "execution_count": 147,
   "metadata": {},
   "outputs": [],
   "source": [
    "# Average hourly\n",
    "from sklearn.preprocessing import MinMaxScaler\n",
    "df = df.drop('timestamp', axis=1)\n",
    "#df = df.groupby(['year','month', 'day', 'hour','minute']).mean().reset_index()\n",
    "#df['net_load_norm'] = df['net_load'] / max(abs(df['net_load']))\n",
    "df['datetime'] = pd.to_datetime(df[['year','month', 'day', 'hour','minute']])\n",
    "df = df.sort_values(by='datetime')\n"
   ]
  },
  {
   "cell_type": "code",
   "execution_count": 148,
   "metadata": {},
   "outputs": [
    {
     "name": "stdout",
     "output_type": "stream",
     "text": [
      "          net_load            datetime  solar_radiation  sunshine_duration  \\\n",
      "579917   18.469999 2019-04-01 01:00:00              0.0                0.0   \n",
      "422638   17.480000 2019-04-01 01:00:00              0.0                0.0   \n",
      "90708    15.700000 2019-04-01 01:00:00              0.0                0.0   \n",
      "614808   11.790000 2019-04-01 01:00:00              0.0                0.0   \n",
      "440157   14.290000 2019-04-01 01:00:00              0.0                0.0   \n",
      "...            ...                 ...              ...                ...   \n",
      "143117  289.040009 2020-03-29 23:30:00              0.0                0.0   \n",
      "282902   28.350000 2020-03-29 23:30:00              0.0                0.0   \n",
      "73237   508.405731 2020-03-29 23:30:00              0.0                0.0   \n",
      "20827   163.770004 2020-03-29 23:30:00              0.0                0.0   \n",
      "247962   15.830000 2020-03-29 23:30:00              0.0                0.0   \n",
      "\n",
      "        precipitation_probability  site  weekend_or_bank_holiday  hour  \\\n",
      "579917                        2.0    84                        0     1   \n",
      "422638                        2.0    50                        0     1   \n",
      "90708                         2.0    16                        0     1   \n",
      "614808                        3.0    90                        0     1   \n",
      "440157                        3.0    53                        0     1   \n",
      "...                           ...   ...                      ...   ...   \n",
      "143117                        2.0    20                        1    23   \n",
      "282902                        2.0    31                        1    23   \n",
      "73237                         1.0    11                        1    23   \n",
      "20827                         2.0     3                        1    23   \n",
      "247962                        2.0    29                        1    23   \n",
      "\n",
      "        net_load_n2  \n",
      "579917     0.003282  \n",
      "422638     0.008964  \n",
      "90708      0.004971  \n",
      "614808     0.005076  \n",
      "440157     0.004746  \n",
      "...             ...  \n",
      "143117     0.180727  \n",
      "282902     0.004259  \n",
      "73237      0.258314  \n",
      "20827      0.077210  \n",
      "247962     0.008119  \n",
      "\n",
      "[716270 rows x 9 columns]\n"
     ]
    },
    {
     "data": {
      "text/html": [
       "<div>\n",
       "<style scoped>\n",
       "    .dataframe tbody tr th:only-of-type {\n",
       "        vertical-align: middle;\n",
       "    }\n",
       "\n",
       "    .dataframe tbody tr th {\n",
       "        vertical-align: top;\n",
       "    }\n",
       "\n",
       "    .dataframe thead th {\n",
       "        text-align: right;\n",
       "    }\n",
       "</style>\n",
       "<table border=\"1\" class=\"dataframe\">\n",
       "  <thead>\n",
       "    <tr style=\"text-align: right;\">\n",
       "      <th></th>\n",
       "      <th>net_load</th>\n",
       "      <th>datetime</th>\n",
       "      <th>solar_radiation</th>\n",
       "      <th>sunshine_duration</th>\n",
       "      <th>precipitation_probability</th>\n",
       "      <th>site</th>\n",
       "      <th>weekend_or_bank_holiday</th>\n",
       "      <th>hour</th>\n",
       "      <th>net_load_n2</th>\n",
       "    </tr>\n",
       "  </thead>\n",
       "  <tbody>\n",
       "    <tr>\n",
       "      <th>579917</th>\n",
       "      <td>18.469999</td>\n",
       "      <td>2019-04-01 01:00:00</td>\n",
       "      <td>0.0</td>\n",
       "      <td>0.0</td>\n",
       "      <td>2.0</td>\n",
       "      <td>84</td>\n",
       "      <td>0</td>\n",
       "      <td>1</td>\n",
       "      <td>0.003282</td>\n",
       "    </tr>\n",
       "    <tr>\n",
       "      <th>422638</th>\n",
       "      <td>17.480000</td>\n",
       "      <td>2019-04-01 01:00:00</td>\n",
       "      <td>0.0</td>\n",
       "      <td>0.0</td>\n",
       "      <td>2.0</td>\n",
       "      <td>50</td>\n",
       "      <td>0</td>\n",
       "      <td>1</td>\n",
       "      <td>0.008964</td>\n",
       "    </tr>\n",
       "    <tr>\n",
       "      <th>90708</th>\n",
       "      <td>15.700000</td>\n",
       "      <td>2019-04-01 01:00:00</td>\n",
       "      <td>0.0</td>\n",
       "      <td>0.0</td>\n",
       "      <td>2.0</td>\n",
       "      <td>16</td>\n",
       "      <td>0</td>\n",
       "      <td>1</td>\n",
       "      <td>0.004971</td>\n",
       "    </tr>\n",
       "    <tr>\n",
       "      <th>614808</th>\n",
       "      <td>11.790000</td>\n",
       "      <td>2019-04-01 01:00:00</td>\n",
       "      <td>0.0</td>\n",
       "      <td>0.0</td>\n",
       "      <td>3.0</td>\n",
       "      <td>90</td>\n",
       "      <td>0</td>\n",
       "      <td>1</td>\n",
       "      <td>0.005076</td>\n",
       "    </tr>\n",
       "    <tr>\n",
       "      <th>440157</th>\n",
       "      <td>14.290000</td>\n",
       "      <td>2019-04-01 01:00:00</td>\n",
       "      <td>0.0</td>\n",
       "      <td>0.0</td>\n",
       "      <td>3.0</td>\n",
       "      <td>53</td>\n",
       "      <td>0</td>\n",
       "      <td>1</td>\n",
       "      <td>0.004746</td>\n",
       "    </tr>\n",
       "  </tbody>\n",
       "</table>\n",
       "</div>"
      ],
      "text/plain": [
       "         net_load            datetime  solar_radiation  sunshine_duration  \\\n",
       "579917  18.469999 2019-04-01 01:00:00              0.0                0.0   \n",
       "422638  17.480000 2019-04-01 01:00:00              0.0                0.0   \n",
       "90708   15.700000 2019-04-01 01:00:00              0.0                0.0   \n",
       "614808  11.790000 2019-04-01 01:00:00              0.0                0.0   \n",
       "440157  14.290000 2019-04-01 01:00:00              0.0                0.0   \n",
       "\n",
       "        precipitation_probability  site  weekend_or_bank_holiday  hour  \\\n",
       "579917                        2.0    84                        0     1   \n",
       "422638                        2.0    50                        0     1   \n",
       "90708                         2.0    16                        0     1   \n",
       "614808                        3.0    90                        0     1   \n",
       "440157                        3.0    53                        0     1   \n",
       "\n",
       "        net_load_n2  \n",
       "579917     0.003282  \n",
       "422638     0.008964  \n",
       "90708      0.004971  \n",
       "614808     0.005076  \n",
       "440157     0.004746  "
      ]
     },
     "execution_count": 148,
     "metadata": {},
     "output_type": "execute_result"
    }
   ],
   "source": [
    "columns_to_keep = ['net_load', 'datetime','solar_radiation','sunshine_duration','precipitation_probability','site','weekend_or_bank_holiday','hour']\n",
    "\n",
    "# Keep only the specified columns\n",
    "df = df.loc[:, columns_to_keep]\n",
    "df['net_load'] = df['net_load'].astype('float32')\n",
    "df['solar_radiation'] = df['solar_radiation'].astype('float32')\n",
    "df['sunshine_duration'] = df['sunshine_duration'].astype('float32')\n",
    "df['precipitation_probability'] = df['precipitation_probability'].astype('float32')\n",
    "\n",
    "def normalize_net_load(group):\n",
    "    max_net_load = abs(group['net_load']).max()  \n",
    "    group['net_load_norm'] = group['net_load'] / max_net_load  \n",
    "    return group\n",
    "\n",
    "df['net_load_n2'] = df.groupby('site')['net_load'].transform(lambda x: x / abs(x).max())\n",
    "\n",
    "print(df)\n",
    "\n",
    "df.head()"
   ]
  },
  {
   "cell_type": "code",
   "execution_count": 149,
   "metadata": {},
   "outputs": [
    {
     "data": {
      "text/plain": [
       "[<matplotlib.lines.Line2D at 0x2924e5d9210>]"
      ]
     },
     "execution_count": 149,
     "metadata": {},
     "output_type": "execute_result"
    },
    {
     "data": {
      "image/png": "[encoded data removed]",
      "text/plain": [
       "<Figure size 640x480 with 1 Axes>"
      ]
     },
     "metadata": {},
     "output_type": "display_data"
    }
   ],
   "source": [
    "site_20_data = df[df['site'] == 6]\n",
    "plt.plot(site_20_data['datetime'], site_20_data['net_load_n2'], label='Net Load (Site 20)', color='b')"
   ]
  },
  {
   "cell_type": "code",
   "execution_count": 150,
   "metadata": {},
   "outputs": [],
   "source": [
    "df = df[df['datetime'] >= '2019-11-25'] \n",
    "df = df[df['datetime'] <= '2020-3-26']"
   ]
  },
  {
   "cell_type": "code",
   "execution_count": 151,
   "metadata": {},
   "outputs": [
    {
     "data": {
      "text/plain": [
       "(array([18231., 18245., 18262., 18276., 18293., 18307., 18322., 18336.,\n",
       "        18353.]),\n",
       " [Text(18231.0, 0, '2019-12-01'),\n",
       "  Text(18245.0, 0, '2019-12-15'),\n",
       "  Text(18262.0, 0, '2020-01-01'),\n",
       "  Text(18276.0, 0, '2020-01-15'),\n",
       "  Text(18293.0, 0, '2020-02-01'),\n",
       "  Text(18307.0, 0, '2020-02-15'),\n",
       "  Text(18322.0, 0, '2020-03-01'),\n",
       "  Text(18336.0, 0, '2020-03-15'),\n",
       "  Text(18353.0, 0, '2020-04-01')])"
      ]
     },
     "execution_count": 151,
     "metadata": {},
     "output_type": "execute_result"
    },
    {
     "data": {
      "image/png": "[encoded data removed]",
      "text/plain": [
       "<Figure size 640x480 with 1 Axes>"
      ]
     },
     "metadata": {},
     "output_type": "display_data"
    }
   ],
   "source": [
    "avg_load_day = df.groupby(df['datetime'].dt.date)['net_load_n2'].mean()\n",
    "plt.plot(avg_load_day)\n",
    "plt.xticks(rotation=45) "
   ]
  },
  {
   "cell_type": "code",
   "execution_count": 152,
   "metadata": {},
   "outputs": [
    {
     "data": {
      "image/png": "[encoded data removed]",
      "text/plain": [
       "<Figure size 640x480 with 1 Axes>"
      ]
     },
     "metadata": {},
     "output_type": "display_data"
    },
    {
     "data": {
      "text/plain": [
       "\"\\nplot_acf(df['net_load'])\\nplt.title('Autocorrelation Plot')\\nplt.show()\\n\\nplot_pacf(df['net_load'])\\nplt.title('Partial Autocorrelation Plot')\\nplt.show()\\n\""
      ]
     },
     "execution_count": 152,
     "metadata": {},
     "output_type": "execute_result"
    }
   ],
   "source": [
    "import pandas as pd\n",
    "import numpy as np\n",
    "import matplotlib.pyplot as plt\n",
    "from statsmodels.tsa.arima.model import ARIMA\n",
    "from statsmodels.graphics.tsaplots import plot_acf, plot_pacf\n",
    "df = df.sort_values(by='datetime')\n",
    "\n",
    "# Plot the time series data\n",
    "plt.plot(df['datetime'],df['net_load'])\n",
    "plt.xlabel('Datetime')\n",
    "plt.ylabel('net_load_norm')\n",
    "plt.title('Time Series Data')\n",
    "plt.show()\n",
    "\n",
    "# Plot autocorrelation and partial autocorrelation plots\n",
    "'''\n",
    "plot_acf(df['net_load'])\n",
    "plt.title('Autocorrelation Plot')\n",
    "plt.show()\n",
    "\n",
    "plot_pacf(df['net_load'])\n",
    "plt.title('Partial Autocorrelation Plot')\n",
    "plt.show()\n",
    "'''"
   ]
  },
  {
   "cell_type": "code",
   "execution_count": 153,
   "metadata": {},
   "outputs": [
    {
     "data": {
      "text/plain": [
       "'\\ndf = df.sort_values(by=\\'datetime\\')\\nresults = pd.DataFrame()\\nfor x in range(4,0,-1):\\n    vals = x*-24\\n    train_data = df.iloc[:vals]  \\n    test_data = df.iloc[vals:]\\n    test_data = test_data.iloc[:24]\\n\\n    model = SARIMAX(train_data[\\'net_load_norm\\'], exog=train_data[[\\'solar_radiation\\',\\'weekend_or_bank_holiday\\']], order=(4, 1, 3), seasonal_order=(2, 1, 1, 24))\\n    sarimax_model = model.fit()\\n\\n    sarimax_params = sarimax_model.params\\n\\n    print(\"SARIMAX Parameters:\")\\n    print(sarimax_params)\\n\\n    forecast_horizon = 24\\n    forecast = sarimax_model.forecast(steps=forecast_horizon, exog=test_data[[\\'solar_radiation\\',\\'weekend_or_bank_holiday\\']])\\n    #print(\\'Forecasted Values:\\', forecast)\\n    df_final = pd.DataFrame()\\n    df_final = pd.concat([test_data, forecast], axis=1)\\n    print(df_final)\\n\\n    results = pd.concat([results, df_final],ignore_index=True)\\n\\nresults = results.rename(columns={results.columns[-1]: \\'forecast\\'})\\n\\nplt.figure(figsize=(10, 6))\\nplt.plot(df[\\'datetime\\'], df[\\'net_load_norm\\'], label=\\'Observed\\')\\nplt.plot(results[\\'datetime\\'], results[\\'forecast\\'], label=\\'Forecast\\', color=\\'red\\')\\nplt.xlabel(\\'Date\\')\\nplt.ylabel(\\'Value\\')\\nplt.title(\\'SARIMAX Model Forecast\\')\\nplt.legend()\\nplt.xticks(rotation=45) \\nplt.grid(alpha=0.3)\\nplt.show()\\n'"
      ]
     },
     "execution_count": 153,
     "metadata": {},
     "output_type": "execute_result"
    }
   ],
   "source": [
    "from statsmodels.tsa.statespace.sarimax import SARIMAX\n",
    "import numpy as np\n",
    "import matplotlib.pyplot as plt\n",
    "# Run the arim model and get the equation should speed everthing up and also be more complex\n",
    "'''\n",
    "df = df.sort_values(by='datetime')\n",
    "results = pd.DataFrame()\n",
    "for x in range(4,0,-1):\n",
    "    vals = x*-24\n",
    "    train_data = df.iloc[:vals]  \n",
    "    test_data = df.iloc[vals:]\n",
    "    test_data = test_data.iloc[:24]\n",
    "\n",
    "    model = SARIMAX(train_data['net_load_norm'], exog=train_data[['solar_radiation','weekend_or_bank_holiday']], order=(4, 1, 3), seasonal_order=(2, 1, 1, 24))\n",
    "    sarimax_model = model.fit()\n",
    "\n",
    "    sarimax_params = sarimax_model.params\n",
    "\n",
    "    print(\"SARIMAX Parameters:\")\n",
    "    print(sarimax_params)\n",
    "\n",
    "    forecast_horizon = 24\n",
    "    forecast = sarimax_model.forecast(steps=forecast_horizon, exog=test_data[['solar_radiation','weekend_or_bank_holiday']])\n",
    "    #print('Forecasted Values:', forecast)\n",
    "    df_final = pd.DataFrame()\n",
    "    df_final = pd.concat([test_data, forecast], axis=1)\n",
    "    print(df_final)\n",
    "\n",
    "    results = pd.concat([results, df_final],ignore_index=True)\n",
    "\n",
    "results = results.rename(columns={results.columns[-1]: 'forecast'})\n",
    "\n",
    "plt.figure(figsize=(10, 6))\n",
    "plt.plot(df['datetime'], df['net_load_norm'], label='Observed')\n",
    "plt.plot(results['datetime'], results['forecast'], label='Forecast', color='red')\n",
    "plt.xlabel('Date')\n",
    "plt.ylabel('Value')\n",
    "plt.title('SARIMAX Model Forecast')\n",
    "plt.legend()\n",
    "plt.xticks(rotation=45) \n",
    "plt.grid(alpha=0.3)\n",
    "plt.show()\n",
    "'''"
   ]
  },
  {
   "cell_type": "code",
   "execution_count": 154,
   "metadata": {},
   "outputs": [
    {
     "data": {
      "text/plain": [
       "\"\\ndf2 = df[-300:]\\nplt.figure(figsize=(10, 6))\\nplt.plot(df2['datetime'], df2['net_load'], label='Observed')\\nplt.plot(results['datetime'], results['forecast'], label='Forecast', color='red')\\nplt.xlabel('Date')\\nplt.ylabel('Value')\\nplt.title('SARIMAX Model Forecast')\\nplt.legend()\\nplt.xticks(rotation=45) \\nplt.grid(alpha=0.3)\\nplt.show()\\n\""
      ]
     },
     "execution_count": 154,
     "metadata": {},
     "output_type": "execute_result"
    }
   ],
   "source": [
    "'''\n",
    "df2 = df[-300:]\n",
    "plt.figure(figsize=(10, 6))\n",
    "plt.plot(df2['datetime'], df2['net_load'], label='Observed')\n",
    "plt.plot(results['datetime'], results['forecast'], label='Forecast', color='red')\n",
    "plt.xlabel('Date')\n",
    "plt.ylabel('Value')\n",
    "plt.title('SARIMAX Model Forecast')\n",
    "plt.legend()\n",
    "plt.xticks(rotation=45) \n",
    "plt.grid(alpha=0.3)\n",
    "plt.show()\n",
    "'''"
   ]
  },
  {
   "cell_type": "code",
   "execution_count": 155,
   "metadata": {},
   "outputs": [
    {
     "data": {
      "text/plain": [
       "\"\\n# Run the auto arima get the params then run the non auto with the params for each it\\n\\n# Assuming 'df' is your dataframe containing the data\\ntrain_data = df.iloc[:-336]\\n\\n# Define ARIMA parameters ( need to trial q = 5)\\nstart_p = 1  \\nstart_d = 1  \\nstart_q = 1  \\nmax_p = 3  \\nmax_d = 2  \\nmax_q = 3  \\n\\nstart_P = 1  \\nstart_D = 1  \\nstart_Q = 2  \\nmax_P = 1  \\nmax_D = 1  \\nmax_Q = 3  \\n\\n\\n# Initialize tqdm progress bar\\nwith tqdm(total=1) as pbar:\\n    def progress_callback(iteration):\\n        pbar.update(1)\\n\\n    # Train ARIMA model with progress callback\\n    model_auto = pm.auto_arima(\\n        train_data['net_load_norm'],\\n        exogenous=train_data[['solar_radiation','sunshine_duration', 'precipitation_probability']],\\n        seasonal=True,\\n        m=48,\\n        start_p=start_p,\\n        start_d=start_d,\\n        start_q=start_q,\\n        max_d=max_d,\\n        max_q=max_q,\\n        start_P=start_P,\\n        start_D=start_D,\\n        start_Q=start_Q,\\n        max_D=max_D,\\n        max_Q=max_Q,\\n        stepwise=True,\\n        method='nm',\\n        maxiter=50,\\n        trace=True,\\n        callback=progress_callback\\n    )\\n    \""
      ]
     },
     "execution_count": 155,
     "metadata": {},
     "output_type": "execute_result"
    }
   ],
   "source": [
    "import numpy as np\n",
    "import pandas as pd\n",
    "import pmdarima as pm\n",
    "from tqdm import tqdm\n",
    "'''\n",
    "# Run the auto arima get the params then run the non auto with the params for each it\n",
    "\n",
    "# Assuming 'df' is your dataframe containing the data\n",
    "train_data = df.iloc[:-336]\n",
    "\n",
    "# Define ARIMA parameters ( need to trial q = 5)\n",
    "start_p = 1  \n",
    "start_d = 1  \n",
    "start_q = 1  \n",
    "max_p = 3  \n",
    "max_d = 2  \n",
    "max_q = 3  \n",
    "\n",
    "start_P = 1  \n",
    "start_D = 1  \n",
    "start_Q = 2  \n",
    "max_P = 1  \n",
    "max_D = 1  \n",
    "max_Q = 3  \n",
    "\n",
    "\n",
    "# Initialize tqdm progress bar\n",
    "with tqdm(total=1) as pbar:\n",
    "    def progress_callback(iteration):\n",
    "        pbar.update(1)\n",
    "\n",
    "    # Train ARIMA model with progress callback\n",
    "    model_auto = pm.auto_arima(\n",
    "        train_data['net_load_norm'],\n",
    "        exogenous=train_data[['solar_radiation','sunshine_duration', 'precipitation_probability']],\n",
    "        seasonal=True,\n",
    "        m=48,\n",
    "        start_p=start_p,\n",
    "        start_d=start_d,\n",
    "        start_q=start_q,\n",
    "        max_d=max_d,\n",
    "        max_q=max_q,\n",
    "        start_P=start_P,\n",
    "        start_D=start_D,\n",
    "        start_Q=start_Q,\n",
    "        max_D=max_D,\n",
    "        max_Q=max_Q,\n",
    "        stepwise=True,\n",
    "        method='nm',\n",
    "        maxiter=50,\n",
    "        trace=True,\n",
    "        callback=progress_callback\n",
    "    )\n",
    "    '''"
   ]
  },
  {
   "cell_type": "code",
   "execution_count": 157,
   "metadata": {},
   "outputs": [],
   "source": [
    "def ARIMAorder(data):\n",
    "\n",
    "    fit = pm.auto_arima(\n",
    "        data['net_load_norm'],\n",
    "        exogenous=data[['solar_radiation','sunshine_duration', 'precipitation_probability','weekend_or_bank_holiday']],\n",
    "        seasonal=True,\n",
    "        m=48,\n",
    "        stepwise=True,\n",
    "        method='nm',\n",
    "        maxiter=50,\n",
    "        trace=True,\n",
    "        start_p=1,\n",
    "        start_q=1,\n",
    "        max_p=2,\n",
    "        max_q=2,\n",
    "        max_d=2,\n",
    "        start_P=1,\n",
    "        start_Q=1,\n",
    "        max_P=2,\n",
    "        max_Q=2,\n",
    "        max_D=2,\n",
    "    )\n",
    "    return fit"
   ]
  },
  {
   "cell_type": "code",
   "execution_count": 158,
   "metadata": {},
   "outputs": [],
   "source": [
    "from sklearn.metrics import mean_absolute_error\n",
    "'month','day','hour','isweekend','solar radiation', 'sunshine duration','precipitation probability'\n",
    "'''    start_p=1,\n",
    "        start_d=1,\n",
    "        start_q=1,\n",
    "        max_p=3,\n",
    "        max_d=2,\n",
    "        max_q=3,\n",
    "        start_P=1,\n",
    "        start_D=1,\n",
    "        start_Q=1,\n",
    "        max_P=2,\n",
    "        max_D=2,\n",
    "        max_Q=2,\n",
    "        '''\n",
    "def ARIMAorder(data):\n",
    "\n",
    "    fit = pm.auto_arima(\n",
    "        data['net_load_n2'],\n",
    "        exogenous=data[['solar_radiation','sunshine_duration', 'precipitation_probability','weekend_or_bank_holiday']],\n",
    "        stepwise=True,\n",
    "        method='nm',\n",
    "        maxiter=100,\n",
    "        trace=True,\n",
    "        start_p=1,\n",
    "        start_q=1,\n",
    "        start_d=1,\n",
    "        max_p=5,\n",
    "        max_q=3,\n",
    "        max_d=5\n",
    "    )\n",
    "    return fit"
   ]
  },
  {
   "cell_type": "code",
   "execution_count": 159,
   "metadata": {},
   "outputs": [
    {
     "name": "stdout",
     "output_type": "stream",
     "text": [
      "House: 20\n",
      "Performing stepwise search to minimize aic\n",
      " ARIMA(1,1,1)(0,0,0)[0] intercept   : AIC=-11064.871, Time=5.60 sec\n",
      " ARIMA(0,1,0)(0,0,0)[0] intercept   : AIC=-10477.047, Time=0.61 sec\n",
      " ARIMA(1,1,0)(0,0,0)[0] intercept   : AIC=-10680.612, Time=1.29 sec\n",
      " ARIMA(0,1,1)(0,0,0)[0] intercept   : AIC=-10735.408, Time=2.17 sec\n",
      " ARIMA(0,1,0)(0,0,0)[0]             : AIC=-10479.046, Time=0.29 sec\n",
      " ARIMA(2,1,1)(0,0,0)[0] intercept   : AIC=-11076.899, Time=4.85 sec\n",
      " ARIMA(2,1,0)(0,0,0)[0] intercept   : AIC=-10741.536, Time=1.84 sec\n",
      " ARIMA(3,1,1)(0,0,0)[0] intercept   : AIC=-10897.136, Time=5.11 sec\n",
      " ARIMA(2,1,2)(0,0,0)[0] intercept   : AIC=-10745.751, Time=5.06 sec\n",
      " ARIMA(1,1,2)(0,0,0)[0] intercept   : AIC=-11042.542, Time=4.70 sec\n",
      " ARIMA(3,1,0)(0,0,0)[0] intercept   : AIC=-10757.083, Time=2.30 sec\n",
      " ARIMA(3,1,2)(0,0,0)[0] intercept   : AIC=-10719.151, Time=5.14 sec\n",
      " ARIMA(2,1,1)(0,0,0)[0]             : AIC=-11069.114, Time=2.50 sec\n",
      "\n",
      "Best model:  ARIMA(2,1,1)(0,0,0)[0] intercept\n",
      "Total fit time: 41.481 seconds\n"
     ]
    },
    {
     "name": "stderr",
     "output_type": "stream",
     "text": [
      "c:\\Users\\xlow6\\anaconda3\\Lib\\site-packages\\statsmodels\\tsa\\base\\tsa_model.py:473: ValueWarning: An unsupported index was provided and will be ignored when e.g. forecasting.\n",
      "  self._init_dates(dates, freq)\n",
      "c:\\Users\\xlow6\\anaconda3\\Lib\\site-packages\\statsmodels\\tsa\\base\\tsa_model.py:473: ValueWarning: An unsupported index was provided and will be ignored when e.g. forecasting.\n",
      "  self._init_dates(dates, freq)\n",
      "c:\\Users\\xlow6\\anaconda3\\Lib\\site-packages\\statsmodels\\base\\model.py:607: ConvergenceWarning: Maximum Likelihood optimization failed to converge. Check mle_retvals\n",
      "  warnings.warn(\"Maximum Likelihood optimization failed to \"\n",
      "c:\\Users\\xlow6\\anaconda3\\Lib\\site-packages\\statsmodels\\tsa\\base\\tsa_model.py:836: ValueWarning: No supported index is available. Prediction results will be given with an integer index beginning at `start`.\n",
      "  return get_prediction_index(\n",
      "c:\\Users\\xlow6\\anaconda3\\Lib\\site-packages\\statsmodels\\tsa\\base\\tsa_model.py:836: FutureWarning: No supported index is available. In the next version, calling this method in a model without a supported index will result in an exception.\n",
      "  return get_prediction_index(\n",
      "c:\\Users\\xlow6\\anaconda3\\Lib\\site-packages\\statsmodels\\tsa\\base\\tsa_model.py:473: ValueWarning: An unsupported index was provided and will be ignored when e.g. forecasting.\n",
      "  self._init_dates(dates, freq)\n",
      "c:\\Users\\xlow6\\anaconda3\\Lib\\site-packages\\statsmodels\\tsa\\base\\tsa_model.py:473: ValueWarning: An unsupported index was provided and will be ignored when e.g. forecasting.\n",
      "  self._init_dates(dates, freq)\n"
     ]
    },
    {
     "name": "stdout",
     "output_type": "stream",
     "text": [
      "30\n"
     ]
    },
    {
     "name": "stderr",
     "output_type": "stream",
     "text": [
      "c:\\Users\\xlow6\\anaconda3\\Lib\\site-packages\\statsmodels\\base\\model.py:607: ConvergenceWarning: Maximum Likelihood optimization failed to converge. Check mle_retvals\n",
      "  warnings.warn(\"Maximum Likelihood optimization failed to \"\n",
      "c:\\Users\\xlow6\\anaconda3\\Lib\\site-packages\\statsmodels\\tsa\\base\\tsa_model.py:836: ValueWarning: No supported index is available. Prediction results will be given with an integer index beginning at `start`.\n",
      "  return get_prediction_index(\n",
      "c:\\Users\\xlow6\\anaconda3\\Lib\\site-packages\\statsmodels\\tsa\\base\\tsa_model.py:836: FutureWarning: No supported index is available. In the next version, calling this method in a model without a supported index will result in an exception.\n",
      "  return get_prediction_index(\n",
      "c:\\Users\\xlow6\\anaconda3\\Lib\\site-packages\\statsmodels\\tsa\\base\\tsa_model.py:473: ValueWarning: An unsupported index was provided and will be ignored when e.g. forecasting.\n",
      "  self._init_dates(dates, freq)\n",
      "c:\\Users\\xlow6\\anaconda3\\Lib\\site-packages\\statsmodels\\tsa\\base\\tsa_model.py:473: ValueWarning: An unsupported index was provided and will be ignored when e.g. forecasting.\n",
      "  self._init_dates(dates, freq)\n"
     ]
    },
    {
     "name": "stdout",
     "output_type": "stream",
     "text": [
      "29\n"
     ]
    },
    {
     "name": "stderr",
     "output_type": "stream",
     "text": [
      "c:\\Users\\xlow6\\anaconda3\\Lib\\site-packages\\statsmodels\\base\\model.py:607: ConvergenceWarning: Maximum Likelihood optimization failed to converge. Check mle_retvals\n",
      "  warnings.warn(\"Maximum Likelihood optimization failed to \"\n",
      "c:\\Users\\xlow6\\anaconda3\\Lib\\site-packages\\statsmodels\\tsa\\base\\tsa_model.py:836: ValueWarning: No supported index is available. Prediction results will be given with an integer index beginning at `start`.\n",
      "  return get_prediction_index(\n",
      "c:\\Users\\xlow6\\anaconda3\\Lib\\site-packages\\statsmodels\\tsa\\base\\tsa_model.py:836: FutureWarning: No supported index is available. In the next version, calling this method in a model without a supported index will result in an exception.\n",
      "  return get_prediction_index(\n",
      "c:\\Users\\xlow6\\anaconda3\\Lib\\site-packages\\statsmodels\\tsa\\base\\tsa_model.py:473: ValueWarning: An unsupported index was provided and will be ignored when e.g. forecasting.\n",
      "  self._init_dates(dates, freq)\n",
      "c:\\Users\\xlow6\\anaconda3\\Lib\\site-packages\\statsmodels\\tsa\\base\\tsa_model.py:473: ValueWarning: An unsupported index was provided and will be ignored when e.g. forecasting.\n",
      "  self._init_dates(dates, freq)\n"
     ]
    },
    {
     "name": "stdout",
     "output_type": "stream",
     "text": [
      "28\n"
     ]
    },
    {
     "name": "stderr",
     "output_type": "stream",
     "text": [
      "c:\\Users\\xlow6\\anaconda3\\Lib\\site-packages\\statsmodels\\base\\model.py:607: ConvergenceWarning: Maximum Likelihood optimization failed to converge. Check mle_retvals\n",
      "  warnings.warn(\"Maximum Likelihood optimization failed to \"\n",
      "c:\\Users\\xlow6\\anaconda3\\Lib\\site-packages\\statsmodels\\tsa\\base\\tsa_model.py:836: ValueWarning: No supported index is available. Prediction results will be given with an integer index beginning at `start`.\n",
      "  return get_prediction_index(\n",
      "c:\\Users\\xlow6\\anaconda3\\Lib\\site-packages\\statsmodels\\tsa\\base\\tsa_model.py:836: FutureWarning: No supported index is available. In the next version, calling this method in a model without a supported index will result in an exception.\n",
      "  return get_prediction_index(\n",
      "c:\\Users\\xlow6\\anaconda3\\Lib\\site-packages\\statsmodels\\tsa\\base\\tsa_model.py:473: ValueWarning: An unsupported index was provided and will be ignored when e.g. forecasting.\n",
      "  self._init_dates(dates, freq)\n",
      "c:\\Users\\xlow6\\anaconda3\\Lib\\site-packages\\statsmodels\\tsa\\base\\tsa_model.py:473: ValueWarning: An unsupported index was provided and will be ignored when e.g. forecasting.\n",
      "  self._init_dates(dates, freq)\n"
     ]
    },
    {
     "name": "stdout",
     "output_type": "stream",
     "text": [
      "27\n"
     ]
    },
    {
     "name": "stderr",
     "output_type": "stream",
     "text": [
      "c:\\Users\\xlow6\\anaconda3\\Lib\\site-packages\\statsmodels\\base\\model.py:607: ConvergenceWarning: Maximum Likelihood optimization failed to converge. Check mle_retvals\n",
      "  warnings.warn(\"Maximum Likelihood optimization failed to \"\n",
      "c:\\Users\\xlow6\\anaconda3\\Lib\\site-packages\\statsmodels\\tsa\\base\\tsa_model.py:836: ValueWarning: No supported index is available. Prediction results will be given with an integer index beginning at `start`.\n",
      "  return get_prediction_index(\n",
      "c:\\Users\\xlow6\\anaconda3\\Lib\\site-packages\\statsmodels\\tsa\\base\\tsa_model.py:836: FutureWarning: No supported index is available. In the next version, calling this method in a model without a supported index will result in an exception.\n",
      "  return get_prediction_index(\n",
      "c:\\Users\\xlow6\\anaconda3\\Lib\\site-packages\\statsmodels\\tsa\\base\\tsa_model.py:473: ValueWarning: An unsupported index was provided and will be ignored when e.g. forecasting.\n",
      "  self._init_dates(dates, freq)\n",
      "c:\\Users\\xlow6\\anaconda3\\Lib\\site-packages\\statsmodels\\tsa\\base\\tsa_model.py:473: ValueWarning: An unsupported index was provided and will be ignored when e.g. forecasting.\n",
      "  self._init_dates(dates, freq)\n"
     ]
    },
    {
     "name": "stdout",
     "output_type": "stream",
     "text": [
      "26\n"
     ]
    },
    {
     "name": "stderr",
     "output_type": "stream",
     "text": [
      "c:\\Users\\xlow6\\anaconda3\\Lib\\site-packages\\statsmodels\\base\\model.py:607: ConvergenceWarning: Maximum Likelihood optimization failed to converge. Check mle_retvals\n",
      "  warnings.warn(\"Maximum Likelihood optimization failed to \"\n",
      "c:\\Users\\xlow6\\anaconda3\\Lib\\site-packages\\statsmodels\\tsa\\base\\tsa_model.py:836: ValueWarning: No supported index is available. Prediction results will be given with an integer index beginning at `start`.\n",
      "  return get_prediction_index(\n",
      "c:\\Users\\xlow6\\anaconda3\\Lib\\site-packages\\statsmodels\\tsa\\base\\tsa_model.py:836: FutureWarning: No supported index is available. In the next version, calling this method in a model without a supported index will result in an exception.\n",
      "  return get_prediction_index(\n",
      "c:\\Users\\xlow6\\anaconda3\\Lib\\site-packages\\statsmodels\\tsa\\base\\tsa_model.py:473: ValueWarning: An unsupported index was provided and will be ignored when e.g. forecasting.\n",
      "  self._init_dates(dates, freq)\n",
      "c:\\Users\\xlow6\\anaconda3\\Lib\\site-packages\\statsmodels\\tsa\\base\\tsa_model.py:473: ValueWarning: An unsupported index was provided and will be ignored when e.g. forecasting.\n",
      "  self._init_dates(dates, freq)\n"
     ]
    },
    {
     "name": "stdout",
     "output_type": "stream",
     "text": [
      "25\n"
     ]
    },
    {
     "name": "stderr",
     "output_type": "stream",
     "text": [
      "c:\\Users\\xlow6\\anaconda3\\Lib\\site-packages\\statsmodels\\base\\model.py:607: ConvergenceWarning: Maximum Likelihood optimization failed to converge. Check mle_retvals\n",
      "  warnings.warn(\"Maximum Likelihood optimization failed to \"\n",
      "c:\\Users\\xlow6\\anaconda3\\Lib\\site-packages\\statsmodels\\tsa\\base\\tsa_model.py:836: ValueWarning: No supported index is available. Prediction results will be given with an integer index beginning at `start`.\n",
      "  return get_prediction_index(\n",
      "c:\\Users\\xlow6\\anaconda3\\Lib\\site-packages\\statsmodels\\tsa\\base\\tsa_model.py:836: FutureWarning: No supported index is available. In the next version, calling this method in a model without a supported index will result in an exception.\n",
      "  return get_prediction_index(\n",
      "c:\\Users\\xlow6\\anaconda3\\Lib\\site-packages\\statsmodels\\tsa\\base\\tsa_model.py:473: ValueWarning: An unsupported index was provided and will be ignored when e.g. forecasting.\n",
      "  self._init_dates(dates, freq)\n",
      "c:\\Users\\xlow6\\anaconda3\\Lib\\site-packages\\statsmodels\\tsa\\base\\tsa_model.py:473: ValueWarning: An unsupported index was provided and will be ignored when e.g. forecasting.\n",
      "  self._init_dates(dates, freq)\n"
     ]
    },
    {
     "name": "stdout",
     "output_type": "stream",
     "text": [
      "24\n"
     ]
    },
    {
     "name": "stderr",
     "output_type": "stream",
     "text": [
      "c:\\Users\\xlow6\\anaconda3\\Lib\\site-packages\\statsmodels\\base\\model.py:607: ConvergenceWarning: Maximum Likelihood optimization failed to converge. Check mle_retvals\n",
      "  warnings.warn(\"Maximum Likelihood optimization failed to \"\n",
      "c:\\Users\\xlow6\\anaconda3\\Lib\\site-packages\\statsmodels\\tsa\\base\\tsa_model.py:836: ValueWarning: No supported index is available. Prediction results will be given with an integer index beginning at `start`.\n",
      "  return get_prediction_index(\n",
      "c:\\Users\\xlow6\\anaconda3\\Lib\\site-packages\\statsmodels\\tsa\\base\\tsa_model.py:836: FutureWarning: No supported index is available. In the next version, calling this method in a model without a supported index will result in an exception.\n",
      "  return get_prediction_index(\n",
      "c:\\Users\\xlow6\\anaconda3\\Lib\\site-packages\\statsmodels\\tsa\\base\\tsa_model.py:473: ValueWarning: An unsupported index was provided and will be ignored when e.g. forecasting.\n",
      "  self._init_dates(dates, freq)\n",
      "c:\\Users\\xlow6\\anaconda3\\Lib\\site-packages\\statsmodels\\tsa\\base\\tsa_model.py:473: ValueWarning: An unsupported index was provided and will be ignored when e.g. forecasting.\n",
      "  self._init_dates(dates, freq)\n"
     ]
    },
    {
     "name": "stdout",
     "output_type": "stream",
     "text": [
      "23\n"
     ]
    },
    {
     "name": "stderr",
     "output_type": "stream",
     "text": [
      "c:\\Users\\xlow6\\anaconda3\\Lib\\site-packages\\statsmodels\\base\\model.py:607: ConvergenceWarning: Maximum Likelihood optimization failed to converge. Check mle_retvals\n",
      "  warnings.warn(\"Maximum Likelihood optimization failed to \"\n",
      "c:\\Users\\xlow6\\anaconda3\\Lib\\site-packages\\statsmodels\\tsa\\base\\tsa_model.py:836: ValueWarning: No supported index is available. Prediction results will be given with an integer index beginning at `start`.\n",
      "  return get_prediction_index(\n",
      "c:\\Users\\xlow6\\anaconda3\\Lib\\site-packages\\statsmodels\\tsa\\base\\tsa_model.py:836: FutureWarning: No supported index is available. In the next version, calling this method in a model without a supported index will result in an exception.\n",
      "  return get_prediction_index(\n",
      "c:\\Users\\xlow6\\anaconda3\\Lib\\site-packages\\statsmodels\\tsa\\base\\tsa_model.py:473: ValueWarning: An unsupported index was provided and will be ignored when e.g. forecasting.\n",
      "  self._init_dates(dates, freq)\n",
      "c:\\Users\\xlow6\\anaconda3\\Lib\\site-packages\\statsmodels\\tsa\\base\\tsa_model.py:473: ValueWarning: An unsupported index was provided and will be ignored when e.g. forecasting.\n",
      "  self._init_dates(dates, freq)\n"
     ]
    },
    {
     "name": "stdout",
     "output_type": "stream",
     "text": [
      "22\n"
     ]
    },
    {
     "name": "stderr",
     "output_type": "stream",
     "text": [
      "c:\\Users\\xlow6\\anaconda3\\Lib\\site-packages\\statsmodels\\base\\model.py:607: ConvergenceWarning: Maximum Likelihood optimization failed to converge. Check mle_retvals\n",
      "  warnings.warn(\"Maximum Likelihood optimization failed to \"\n",
      "c:\\Users\\xlow6\\anaconda3\\Lib\\site-packages\\statsmodels\\tsa\\base\\tsa_model.py:836: ValueWarning: No supported index is available. Prediction results will be given with an integer index beginning at `start`.\n",
      "  return get_prediction_index(\n",
      "c:\\Users\\xlow6\\anaconda3\\Lib\\site-packages\\statsmodels\\tsa\\base\\tsa_model.py:836: FutureWarning: No supported index is available. In the next version, calling this method in a model without a supported index will result in an exception.\n",
      "  return get_prediction_index(\n",
      "c:\\Users\\xlow6\\anaconda3\\Lib\\site-packages\\statsmodels\\tsa\\base\\tsa_model.py:473: ValueWarning: An unsupported index was provided and will be ignored when e.g. forecasting.\n",
      "  self._init_dates(dates, freq)\n",
      "c:\\Users\\xlow6\\anaconda3\\Lib\\site-packages\\statsmodels\\tsa\\base\\tsa_model.py:473: ValueWarning: An unsupported index was provided and will be ignored when e.g. forecasting.\n",
      "  self._init_dates(dates, freq)\n"
     ]
    },
    {
     "name": "stdout",
     "output_type": "stream",
     "text": [
      "21\n"
     ]
    },
    {
     "name": "stderr",
     "output_type": "stream",
     "text": [
      "c:\\Users\\xlow6\\anaconda3\\Lib\\site-packages\\statsmodels\\base\\model.py:607: ConvergenceWarning: Maximum Likelihood optimization failed to converge. Check mle_retvals\n",
      "  warnings.warn(\"Maximum Likelihood optimization failed to \"\n",
      "c:\\Users\\xlow6\\anaconda3\\Lib\\site-packages\\statsmodels\\tsa\\base\\tsa_model.py:836: ValueWarning: No supported index is available. Prediction results will be given with an integer index beginning at `start`.\n",
      "  return get_prediction_index(\n",
      "c:\\Users\\xlow6\\anaconda3\\Lib\\site-packages\\statsmodels\\tsa\\base\\tsa_model.py:836: FutureWarning: No supported index is available. In the next version, calling this method in a model without a supported index will result in an exception.\n",
      "  return get_prediction_index(\n",
      "c:\\Users\\xlow6\\anaconda3\\Lib\\site-packages\\statsmodels\\tsa\\base\\tsa_model.py:473: ValueWarning: An unsupported index was provided and will be ignored when e.g. forecasting.\n",
      "  self._init_dates(dates, freq)\n",
      "c:\\Users\\xlow6\\anaconda3\\Lib\\site-packages\\statsmodels\\tsa\\base\\tsa_model.py:473: ValueWarning: An unsupported index was provided and will be ignored when e.g. forecasting.\n",
      "  self._init_dates(dates, freq)\n"
     ]
    },
    {
     "name": "stdout",
     "output_type": "stream",
     "text": [
      "20\n"
     ]
    },
    {
     "name": "stderr",
     "output_type": "stream",
     "text": [
      "c:\\Users\\xlow6\\anaconda3\\Lib\\site-packages\\statsmodels\\base\\model.py:607: ConvergenceWarning: Maximum Likelihood optimization failed to converge. Check mle_retvals\n",
      "  warnings.warn(\"Maximum Likelihood optimization failed to \"\n",
      "c:\\Users\\xlow6\\anaconda3\\Lib\\site-packages\\statsmodels\\tsa\\base\\tsa_model.py:836: ValueWarning: No supported index is available. Prediction results will be given with an integer index beginning at `start`.\n",
      "  return get_prediction_index(\n",
      "c:\\Users\\xlow6\\anaconda3\\Lib\\site-packages\\statsmodels\\tsa\\base\\tsa_model.py:836: FutureWarning: No supported index is available. In the next version, calling this method in a model without a supported index will result in an exception.\n",
      "  return get_prediction_index(\n",
      "c:\\Users\\xlow6\\anaconda3\\Lib\\site-packages\\statsmodels\\tsa\\base\\tsa_model.py:473: ValueWarning: An unsupported index was provided and will be ignored when e.g. forecasting.\n",
      "  self._init_dates(dates, freq)\n",
      "c:\\Users\\xlow6\\anaconda3\\Lib\\site-packages\\statsmodels\\tsa\\base\\tsa_model.py:473: ValueWarning: An unsupported index was provided and will be ignored when e.g. forecasting.\n",
      "  self._init_dates(dates, freq)\n"
     ]
    },
    {
     "name": "stdout",
     "output_type": "stream",
     "text": [
      "19\n"
     ]
    },
    {
     "name": "stderr",
     "output_type": "stream",
     "text": [
      "c:\\Users\\xlow6\\anaconda3\\Lib\\site-packages\\statsmodels\\base\\model.py:607: ConvergenceWarning: Maximum Likelihood optimization failed to converge. Check mle_retvals\n",
      "  warnings.warn(\"Maximum Likelihood optimization failed to \"\n",
      "c:\\Users\\xlow6\\anaconda3\\Lib\\site-packages\\statsmodels\\tsa\\base\\tsa_model.py:836: ValueWarning: No supported index is available. Prediction results will be given with an integer index beginning at `start`.\n",
      "  return get_prediction_index(\n",
      "c:\\Users\\xlow6\\anaconda3\\Lib\\site-packages\\statsmodels\\tsa\\base\\tsa_model.py:836: FutureWarning: No supported index is available. In the next version, calling this method in a model without a supported index will result in an exception.\n",
      "  return get_prediction_index(\n",
      "c:\\Users\\xlow6\\anaconda3\\Lib\\site-packages\\statsmodels\\tsa\\base\\tsa_model.py:473: ValueWarning: An unsupported index was provided and will be ignored when e.g. forecasting.\n",
      "  self._init_dates(dates, freq)\n",
      "c:\\Users\\xlow6\\anaconda3\\Lib\\site-packages\\statsmodels\\tsa\\base\\tsa_model.py:473: ValueWarning: An unsupported index was provided and will be ignored when e.g. forecasting.\n",
      "  self._init_dates(dates, freq)\n"
     ]
    },
    {
     "name": "stdout",
     "output_type": "stream",
     "text": [
      "18\n"
     ]
    },
    {
     "name": "stderr",
     "output_type": "stream",
     "text": [
      "c:\\Users\\xlow6\\anaconda3\\Lib\\site-packages\\statsmodels\\base\\model.py:607: ConvergenceWarning: Maximum Likelihood optimization failed to converge. Check mle_retvals\n",
      "  warnings.warn(\"Maximum Likelihood optimization failed to \"\n",
      "c:\\Users\\xlow6\\anaconda3\\Lib\\site-packages\\statsmodels\\tsa\\base\\tsa_model.py:836: ValueWarning: No supported index is available. Prediction results will be given with an integer index beginning at `start`.\n",
      "  return get_prediction_index(\n",
      "c:\\Users\\xlow6\\anaconda3\\Lib\\site-packages\\statsmodels\\tsa\\base\\tsa_model.py:836: FutureWarning: No supported index is available. In the next version, calling this method in a model without a supported index will result in an exception.\n",
      "  return get_prediction_index(\n",
      "c:\\Users\\xlow6\\anaconda3\\Lib\\site-packages\\statsmodels\\tsa\\base\\tsa_model.py:473: ValueWarning: An unsupported index was provided and will be ignored when e.g. forecasting.\n",
      "  self._init_dates(dates, freq)\n",
      "c:\\Users\\xlow6\\anaconda3\\Lib\\site-packages\\statsmodels\\tsa\\base\\tsa_model.py:473: ValueWarning: An unsupported index was provided and will be ignored when e.g. forecasting.\n",
      "  self._init_dates(dates, freq)\n"
     ]
    },
    {
     "name": "stdout",
     "output_type": "stream",
     "text": [
      "17\n"
     ]
    },
    {
     "name": "stderr",
     "output_type": "stream",
     "text": [
      "c:\\Users\\xlow6\\anaconda3\\Lib\\site-packages\\statsmodels\\base\\model.py:607: ConvergenceWarning: Maximum Likelihood optimization failed to converge. Check mle_retvals\n",
      "  warnings.warn(\"Maximum Likelihood optimization failed to \"\n",
      "c:\\Users\\xlow6\\anaconda3\\Lib\\site-packages\\statsmodels\\tsa\\base\\tsa_model.py:836: ValueWarning: No supported index is available. Prediction results will be given with an integer index beginning at `start`.\n",
      "  return get_prediction_index(\n",
      "c:\\Users\\xlow6\\anaconda3\\Lib\\site-packages\\statsmodels\\tsa\\base\\tsa_model.py:836: FutureWarning: No supported index is available. In the next version, calling this method in a model without a supported index will result in an exception.\n",
      "  return get_prediction_index(\n",
      "c:\\Users\\xlow6\\anaconda3\\Lib\\site-packages\\statsmodels\\tsa\\base\\tsa_model.py:473: ValueWarning: An unsupported index was provided and will be ignored when e.g. forecasting.\n",
      "  self._init_dates(dates, freq)\n",
      "c:\\Users\\xlow6\\anaconda3\\Lib\\site-packages\\statsmodels\\tsa\\base\\tsa_model.py:473: ValueWarning: An unsupported index was provided and will be ignored when e.g. forecasting.\n",
      "  self._init_dates(dates, freq)\n"
     ]
    },
    {
     "name": "stdout",
     "output_type": "stream",
     "text": [
      "16\n"
     ]
    },
    {
     "name": "stderr",
     "output_type": "stream",
     "text": [
      "c:\\Users\\xlow6\\anaconda3\\Lib\\site-packages\\statsmodels\\base\\model.py:607: ConvergenceWarning: Maximum Likelihood optimization failed to converge. Check mle_retvals\n",
      "  warnings.warn(\"Maximum Likelihood optimization failed to \"\n",
      "c:\\Users\\xlow6\\anaconda3\\Lib\\site-packages\\statsmodels\\tsa\\base\\tsa_model.py:836: ValueWarning: No supported index is available. Prediction results will be given with an integer index beginning at `start`.\n",
      "  return get_prediction_index(\n",
      "c:\\Users\\xlow6\\anaconda3\\Lib\\site-packages\\statsmodels\\tsa\\base\\tsa_model.py:836: FutureWarning: No supported index is available. In the next version, calling this method in a model without a supported index will result in an exception.\n",
      "  return get_prediction_index(\n",
      "c:\\Users\\xlow6\\anaconda3\\Lib\\site-packages\\statsmodels\\tsa\\base\\tsa_model.py:473: ValueWarning: An unsupported index was provided and will be ignored when e.g. forecasting.\n",
      "  self._init_dates(dates, freq)\n",
      "c:\\Users\\xlow6\\anaconda3\\Lib\\site-packages\\statsmodels\\tsa\\base\\tsa_model.py:473: ValueWarning: An unsupported index was provided and will be ignored when e.g. forecasting.\n",
      "  self._init_dates(dates, freq)\n"
     ]
    },
    {
     "name": "stdout",
     "output_type": "stream",
     "text": [
      "15\n"
     ]
    },
    {
     "name": "stderr",
     "output_type": "stream",
     "text": [
      "c:\\Users\\xlow6\\anaconda3\\Lib\\site-packages\\statsmodels\\base\\model.py:607: ConvergenceWarning: Maximum Likelihood optimization failed to converge. Check mle_retvals\n",
      "  warnings.warn(\"Maximum Likelihood optimization failed to \"\n",
      "c:\\Users\\xlow6\\anaconda3\\Lib\\site-packages\\statsmodels\\tsa\\base\\tsa_model.py:836: ValueWarning: No supported index is available. Prediction results will be given with an integer index beginning at `start`.\n",
      "  return get_prediction_index(\n",
      "c:\\Users\\xlow6\\anaconda3\\Lib\\site-packages\\statsmodels\\tsa\\base\\tsa_model.py:836: FutureWarning: No supported index is available. In the next version, calling this method in a model without a supported index will result in an exception.\n",
      "  return get_prediction_index(\n",
      "c:\\Users\\xlow6\\anaconda3\\Lib\\site-packages\\statsmodels\\tsa\\base\\tsa_model.py:473: ValueWarning: An unsupported index was provided and will be ignored when e.g. forecasting.\n",
      "  self._init_dates(dates, freq)\n",
      "c:\\Users\\xlow6\\anaconda3\\Lib\\site-packages\\statsmodels\\tsa\\base\\tsa_model.py:473: ValueWarning: An unsupported index was provided and will be ignored when e.g. forecasting.\n",
      "  self._init_dates(dates, freq)\n"
     ]
    },
    {
     "name": "stdout",
     "output_type": "stream",
     "text": [
      "14\n"
     ]
    },
    {
     "name": "stderr",
     "output_type": "stream",
     "text": [
      "c:\\Users\\xlow6\\anaconda3\\Lib\\site-packages\\statsmodels\\base\\model.py:607: ConvergenceWarning: Maximum Likelihood optimization failed to converge. Check mle_retvals\n",
      "  warnings.warn(\"Maximum Likelihood optimization failed to \"\n",
      "c:\\Users\\xlow6\\anaconda3\\Lib\\site-packages\\statsmodels\\tsa\\base\\tsa_model.py:836: ValueWarning: No supported index is available. Prediction results will be given with an integer index beginning at `start`.\n",
      "  return get_prediction_index(\n",
      "c:\\Users\\xlow6\\anaconda3\\Lib\\site-packages\\statsmodels\\tsa\\base\\tsa_model.py:836: FutureWarning: No supported index is available. In the next version, calling this method in a model without a supported index will result in an exception.\n",
      "  return get_prediction_index(\n",
      "c:\\Users\\xlow6\\anaconda3\\Lib\\site-packages\\statsmodels\\tsa\\base\\tsa_model.py:473: ValueWarning: An unsupported index was provided and will be ignored when e.g. forecasting.\n",
      "  self._init_dates(dates, freq)\n",
      "c:\\Users\\xlow6\\anaconda3\\Lib\\site-packages\\statsmodels\\tsa\\base\\tsa_model.py:473: ValueWarning: An unsupported index was provided and will be ignored when e.g. forecasting.\n",
      "  self._init_dates(dates, freq)\n"
     ]
    },
    {
     "name": "stdout",
     "output_type": "stream",
     "text": [
      "13\n"
     ]
    },
    {
     "name": "stderr",
     "output_type": "stream",
     "text": [
      "c:\\Users\\xlow6\\anaconda3\\Lib\\site-packages\\statsmodels\\base\\model.py:607: ConvergenceWarning: Maximum Likelihood optimization failed to converge. Check mle_retvals\n",
      "  warnings.warn(\"Maximum Likelihood optimization failed to \"\n",
      "c:\\Users\\xlow6\\anaconda3\\Lib\\site-packages\\statsmodels\\tsa\\base\\tsa_model.py:836: ValueWarning: No supported index is available. Prediction results will be given with an integer index beginning at `start`.\n",
      "  return get_prediction_index(\n",
      "c:\\Users\\xlow6\\anaconda3\\Lib\\site-packages\\statsmodels\\tsa\\base\\tsa_model.py:836: FutureWarning: No supported index is available. In the next version, calling this method in a model without a supported index will result in an exception.\n",
      "  return get_prediction_index(\n",
      "c:\\Users\\xlow6\\anaconda3\\Lib\\site-packages\\statsmodels\\tsa\\base\\tsa_model.py:473: ValueWarning: An unsupported index was provided and will be ignored when e.g. forecasting.\n",
      "  self._init_dates(dates, freq)\n",
      "c:\\Users\\xlow6\\anaconda3\\Lib\\site-packages\\statsmodels\\tsa\\base\\tsa_model.py:473: ValueWarning: An unsupported index was provided and will be ignored when e.g. forecasting.\n",
      "  self._init_dates(dates, freq)\n"
     ]
    },
    {
     "name": "stdout",
     "output_type": "stream",
     "text": [
      "12\n"
     ]
    },
    {
     "name": "stderr",
     "output_type": "stream",
     "text": [
      "c:\\Users\\xlow6\\anaconda3\\Lib\\site-packages\\statsmodels\\base\\model.py:607: ConvergenceWarning: Maximum Likelihood optimization failed to converge. Check mle_retvals\n",
      "  warnings.warn(\"Maximum Likelihood optimization failed to \"\n",
      "c:\\Users\\xlow6\\anaconda3\\Lib\\site-packages\\statsmodels\\tsa\\base\\tsa_model.py:836: ValueWarning: No supported index is available. Prediction results will be given with an integer index beginning at `start`.\n",
      "  return get_prediction_index(\n",
      "c:\\Users\\xlow6\\anaconda3\\Lib\\site-packages\\statsmodels\\tsa\\base\\tsa_model.py:836: FutureWarning: No supported index is available. In the next version, calling this method in a model without a supported index will result in an exception.\n",
      "  return get_prediction_index(\n",
      "c:\\Users\\xlow6\\anaconda3\\Lib\\site-packages\\statsmodels\\tsa\\base\\tsa_model.py:473: ValueWarning: An unsupported index was provided and will be ignored when e.g. forecasting.\n",
      "  self._init_dates(dates, freq)\n",
      "c:\\Users\\xlow6\\anaconda3\\Lib\\site-packages\\statsmodels\\tsa\\base\\tsa_model.py:473: ValueWarning: An unsupported index was provided and will be ignored when e.g. forecasting.\n",
      "  self._init_dates(dates, freq)\n"
     ]
    },
    {
     "name": "stdout",
     "output_type": "stream",
     "text": [
      "11\n"
     ]
    },
    {
     "name": "stderr",
     "output_type": "stream",
     "text": [
      "c:\\Users\\xlow6\\anaconda3\\Lib\\site-packages\\statsmodels\\tsa\\base\\tsa_model.py:836: ValueWarning: No supported index is available. Prediction results will be given with an integer index beginning at `start`.\n",
      "  return get_prediction_index(\n",
      "c:\\Users\\xlow6\\anaconda3\\Lib\\site-packages\\statsmodels\\tsa\\base\\tsa_model.py:836: FutureWarning: No supported index is available. In the next version, calling this method in a model without a supported index will result in an exception.\n",
      "  return get_prediction_index(\n",
      "c:\\Users\\xlow6\\anaconda3\\Lib\\site-packages\\statsmodels\\tsa\\base\\tsa_model.py:473: ValueWarning: An unsupported index was provided and will be ignored when e.g. forecasting.\n",
      "  self._init_dates(dates, freq)\n",
      "c:\\Users\\xlow6\\anaconda3\\Lib\\site-packages\\statsmodels\\tsa\\base\\tsa_model.py:473: ValueWarning: An unsupported index was provided and will be ignored when e.g. forecasting.\n",
      "  self._init_dates(dates, freq)\n"
     ]
    },
    {
     "name": "stdout",
     "output_type": "stream",
     "text": [
      "10\n"
     ]
    },
    {
     "name": "stderr",
     "output_type": "stream",
     "text": [
      "c:\\Users\\xlow6\\anaconda3\\Lib\\site-packages\\statsmodels\\base\\model.py:607: ConvergenceWarning: Maximum Likelihood optimization failed to converge. Check mle_retvals\n",
      "  warnings.warn(\"Maximum Likelihood optimization failed to \"\n",
      "c:\\Users\\xlow6\\anaconda3\\Lib\\site-packages\\statsmodels\\tsa\\base\\tsa_model.py:836: ValueWarning: No supported index is available. Prediction results will be given with an integer index beginning at `start`.\n",
      "  return get_prediction_index(\n",
      "c:\\Users\\xlow6\\anaconda3\\Lib\\site-packages\\statsmodels\\tsa\\base\\tsa_model.py:836: FutureWarning: No supported index is available. In the next version, calling this method in a model without a supported index will result in an exception.\n",
      "  return get_prediction_index(\n",
      "c:\\Users\\xlow6\\anaconda3\\Lib\\site-packages\\statsmodels\\tsa\\base\\tsa_model.py:473: ValueWarning: An unsupported index was provided and will be ignored when e.g. forecasting.\n",
      "  self._init_dates(dates, freq)\n",
      "c:\\Users\\xlow6\\anaconda3\\Lib\\site-packages\\statsmodels\\tsa\\base\\tsa_model.py:473: ValueWarning: An unsupported index was provided and will be ignored when e.g. forecasting.\n",
      "  self._init_dates(dates, freq)\n"
     ]
    },
    {
     "name": "stdout",
     "output_type": "stream",
     "text": [
      "9\n"
     ]
    },
    {
     "name": "stderr",
     "output_type": "stream",
     "text": [
      "c:\\Users\\xlow6\\anaconda3\\Lib\\site-packages\\statsmodels\\base\\model.py:607: ConvergenceWarning: Maximum Likelihood optimization failed to converge. Check mle_retvals\n",
      "  warnings.warn(\"Maximum Likelihood optimization failed to \"\n",
      "c:\\Users\\xlow6\\anaconda3\\Lib\\site-packages\\statsmodels\\tsa\\base\\tsa_model.py:836: ValueWarning: No supported index is available. Prediction results will be given with an integer index beginning at `start`.\n",
      "  return get_prediction_index(\n",
      "c:\\Users\\xlow6\\anaconda3\\Lib\\site-packages\\statsmodels\\tsa\\base\\tsa_model.py:836: FutureWarning: No supported index is available. In the next version, calling this method in a model without a supported index will result in an exception.\n",
      "  return get_prediction_index(\n",
      "c:\\Users\\xlow6\\anaconda3\\Lib\\site-packages\\statsmodels\\tsa\\base\\tsa_model.py:473: ValueWarning: An unsupported index was provided and will be ignored when e.g. forecasting.\n",
      "  self._init_dates(dates, freq)\n",
      "c:\\Users\\xlow6\\anaconda3\\Lib\\site-packages\\statsmodels\\tsa\\base\\tsa_model.py:473: ValueWarning: An unsupported index was provided and will be ignored when e.g. forecasting.\n",
      "  self._init_dates(dates, freq)\n"
     ]
    },
    {
     "name": "stdout",
     "output_type": "stream",
     "text": [
      "8\n"
     ]
    },
    {
     "name": "stderr",
     "output_type": "stream",
     "text": [
      "c:\\Users\\xlow6\\anaconda3\\Lib\\site-packages\\statsmodels\\base\\model.py:607: ConvergenceWarning: Maximum Likelihood optimization failed to converge. Check mle_retvals\n",
      "  warnings.warn(\"Maximum Likelihood optimization failed to \"\n",
      "c:\\Users\\xlow6\\anaconda3\\Lib\\site-packages\\statsmodels\\tsa\\base\\tsa_model.py:836: ValueWarning: No supported index is available. Prediction results will be given with an integer index beginning at `start`.\n",
      "  return get_prediction_index(\n",
      "c:\\Users\\xlow6\\anaconda3\\Lib\\site-packages\\statsmodels\\tsa\\base\\tsa_model.py:836: FutureWarning: No supported index is available. In the next version, calling this method in a model without a supported index will result in an exception.\n",
      "  return get_prediction_index(\n",
      "c:\\Users\\xlow6\\anaconda3\\Lib\\site-packages\\statsmodels\\tsa\\base\\tsa_model.py:473: ValueWarning: An unsupported index was provided and will be ignored when e.g. forecasting.\n",
      "  self._init_dates(dates, freq)\n",
      "c:\\Users\\xlow6\\anaconda3\\Lib\\site-packages\\statsmodels\\tsa\\base\\tsa_model.py:473: ValueWarning: An unsupported index was provided and will be ignored when e.g. forecasting.\n",
      "  self._init_dates(dates, freq)\n"
     ]
    },
    {
     "name": "stdout",
     "output_type": "stream",
     "text": [
      "7\n"
     ]
    },
    {
     "name": "stderr",
     "output_type": "stream",
     "text": [
      "c:\\Users\\xlow6\\anaconda3\\Lib\\site-packages\\statsmodels\\tsa\\base\\tsa_model.py:836: ValueWarning: No supported index is available. Prediction results will be given with an integer index beginning at `start`.\n",
      "  return get_prediction_index(\n",
      "c:\\Users\\xlow6\\anaconda3\\Lib\\site-packages\\statsmodels\\tsa\\base\\tsa_model.py:836: FutureWarning: No supported index is available. In the next version, calling this method in a model without a supported index will result in an exception.\n",
      "  return get_prediction_index(\n",
      "c:\\Users\\xlow6\\anaconda3\\Lib\\site-packages\\statsmodels\\tsa\\base\\tsa_model.py:473: ValueWarning: An unsupported index was provided and will be ignored when e.g. forecasting.\n",
      "  self._init_dates(dates, freq)\n",
      "c:\\Users\\xlow6\\anaconda3\\Lib\\site-packages\\statsmodels\\tsa\\base\\tsa_model.py:473: ValueWarning: An unsupported index was provided and will be ignored when e.g. forecasting.\n",
      "  self._init_dates(dates, freq)\n"
     ]
    },
    {
     "name": "stdout",
     "output_type": "stream",
     "text": [
      "6\n"
     ]
    },
    {
     "name": "stderr",
     "output_type": "stream",
     "text": [
      "c:\\Users\\xlow6\\anaconda3\\Lib\\site-packages\\statsmodels\\base\\model.py:607: ConvergenceWarning: Maximum Likelihood optimization failed to converge. Check mle_retvals\n",
      "  warnings.warn(\"Maximum Likelihood optimization failed to \"\n",
      "c:\\Users\\xlow6\\anaconda3\\Lib\\site-packages\\statsmodels\\tsa\\base\\tsa_model.py:836: ValueWarning: No supported index is available. Prediction results will be given with an integer index beginning at `start`.\n",
      "  return get_prediction_index(\n",
      "c:\\Users\\xlow6\\anaconda3\\Lib\\site-packages\\statsmodels\\tsa\\base\\tsa_model.py:836: FutureWarning: No supported index is available. In the next version, calling this method in a model without a supported index will result in an exception.\n",
      "  return get_prediction_index(\n",
      "c:\\Users\\xlow6\\anaconda3\\Lib\\site-packages\\statsmodels\\tsa\\base\\tsa_model.py:473: ValueWarning: An unsupported index was provided and will be ignored when e.g. forecasting.\n",
      "  self._init_dates(dates, freq)\n",
      "c:\\Users\\xlow6\\anaconda3\\Lib\\site-packages\\statsmodels\\tsa\\base\\tsa_model.py:473: ValueWarning: An unsupported index was provided and will be ignored when e.g. forecasting.\n",
      "  self._init_dates(dates, freq)\n"
     ]
    },
    {
     "name": "stdout",
     "output_type": "stream",
     "text": [
      "5\n"
     ]
    },
    {
     "name": "stderr",
     "output_type": "stream",
     "text": [
      "c:\\Users\\xlow6\\anaconda3\\Lib\\site-packages\\statsmodels\\base\\model.py:607: ConvergenceWarning: Maximum Likelihood optimization failed to converge. Check mle_retvals\n",
      "  warnings.warn(\"Maximum Likelihood optimization failed to \"\n",
      "c:\\Users\\xlow6\\anaconda3\\Lib\\site-packages\\statsmodels\\tsa\\base\\tsa_model.py:836: ValueWarning: No supported index is available. Prediction results will be given with an integer index beginning at `start`.\n",
      "  return get_prediction_index(\n",
      "c:\\Users\\xlow6\\anaconda3\\Lib\\site-packages\\statsmodels\\tsa\\base\\tsa_model.py:836: FutureWarning: No supported index is available. In the next version, calling this method in a model without a supported index will result in an exception.\n",
      "  return get_prediction_index(\n",
      "c:\\Users\\xlow6\\anaconda3\\Lib\\site-packages\\statsmodels\\tsa\\base\\tsa_model.py:473: ValueWarning: An unsupported index was provided and will be ignored when e.g. forecasting.\n",
      "  self._init_dates(dates, freq)\n",
      "c:\\Users\\xlow6\\anaconda3\\Lib\\site-packages\\statsmodels\\tsa\\base\\tsa_model.py:473: ValueWarning: An unsupported index was provided and will be ignored when e.g. forecasting.\n",
      "  self._init_dates(dates, freq)\n"
     ]
    },
    {
     "name": "stdout",
     "output_type": "stream",
     "text": [
      "4\n"
     ]
    },
    {
     "name": "stderr",
     "output_type": "stream",
     "text": [
      "c:\\Users\\xlow6\\anaconda3\\Lib\\site-packages\\statsmodels\\base\\model.py:607: ConvergenceWarning: Maximum Likelihood optimization failed to converge. Check mle_retvals\n",
      "  warnings.warn(\"Maximum Likelihood optimization failed to \"\n",
      "c:\\Users\\xlow6\\anaconda3\\Lib\\site-packages\\statsmodels\\tsa\\base\\tsa_model.py:836: ValueWarning: No supported index is available. Prediction results will be given with an integer index beginning at `start`.\n",
      "  return get_prediction_index(\n",
      "c:\\Users\\xlow6\\anaconda3\\Lib\\site-packages\\statsmodels\\tsa\\base\\tsa_model.py:836: FutureWarning: No supported index is available. In the next version, calling this method in a model without a supported index will result in an exception.\n",
      "  return get_prediction_index(\n",
      "c:\\Users\\xlow6\\anaconda3\\Lib\\site-packages\\statsmodels\\tsa\\base\\tsa_model.py:473: ValueWarning: An unsupported index was provided and will be ignored when e.g. forecasting.\n",
      "  self._init_dates(dates, freq)\n",
      "c:\\Users\\xlow6\\anaconda3\\Lib\\site-packages\\statsmodels\\tsa\\base\\tsa_model.py:473: ValueWarning: An unsupported index was provided and will be ignored when e.g. forecasting.\n",
      "  self._init_dates(dates, freq)\n"
     ]
    },
    {
     "name": "stdout",
     "output_type": "stream",
     "text": [
      "3\n"
     ]
    },
    {
     "name": "stderr",
     "output_type": "stream",
     "text": [
      "c:\\Users\\xlow6\\anaconda3\\Lib\\site-packages\\statsmodels\\base\\model.py:607: ConvergenceWarning: Maximum Likelihood optimization failed to converge. Check mle_retvals\n",
      "  warnings.warn(\"Maximum Likelihood optimization failed to \"\n",
      "c:\\Users\\xlow6\\anaconda3\\Lib\\site-packages\\statsmodels\\tsa\\base\\tsa_model.py:836: ValueWarning: No supported index is available. Prediction results will be given with an integer index beginning at `start`.\n",
      "  return get_prediction_index(\n",
      "c:\\Users\\xlow6\\anaconda3\\Lib\\site-packages\\statsmodels\\tsa\\base\\tsa_model.py:836: FutureWarning: No supported index is available. In the next version, calling this method in a model without a supported index will result in an exception.\n",
      "  return get_prediction_index(\n",
      "c:\\Users\\xlow6\\anaconda3\\Lib\\site-packages\\statsmodels\\tsa\\base\\tsa_model.py:473: ValueWarning: An unsupported index was provided and will be ignored when e.g. forecasting.\n",
      "  self._init_dates(dates, freq)\n",
      "c:\\Users\\xlow6\\anaconda3\\Lib\\site-packages\\statsmodels\\tsa\\base\\tsa_model.py:473: ValueWarning: An unsupported index was provided and will be ignored when e.g. forecasting.\n",
      "  self._init_dates(dates, freq)\n"
     ]
    },
    {
     "name": "stdout",
     "output_type": "stream",
     "text": [
      "2\n"
     ]
    },
    {
     "name": "stderr",
     "output_type": "stream",
     "text": [
      "c:\\Users\\xlow6\\anaconda3\\Lib\\site-packages\\statsmodels\\base\\model.py:607: ConvergenceWarning: Maximum Likelihood optimization failed to converge. Check mle_retvals\n",
      "  warnings.warn(\"Maximum Likelihood optimization failed to \"\n",
      "c:\\Users\\xlow6\\anaconda3\\Lib\\site-packages\\statsmodels\\tsa\\base\\tsa_model.py:836: ValueWarning: No supported index is available. Prediction results will be given with an integer index beginning at `start`.\n",
      "  return get_prediction_index(\n",
      "c:\\Users\\xlow6\\anaconda3\\Lib\\site-packages\\statsmodels\\tsa\\base\\tsa_model.py:836: FutureWarning: No supported index is available. In the next version, calling this method in a model without a supported index will result in an exception.\n",
      "  return get_prediction_index(\n",
      "C:\\Users\\xlow6\\AppData\\Local\\Temp\\ipykernel_14088\\3959505939.py:53: FutureWarning: The behavior of DataFrame concatenation with empty or all-NA entries is deprecated. In a future version, this will no longer exclude empty or all-NA columns when determining the result dtypes. To retain the old behavior, exclude the relevant entries before the concat operation.\n",
      "  em_df= pd.concat([em_df, house_res_df],ignore_index=True)\n"
     ]
    },
    {
     "name": "stdout",
     "output_type": "stream",
     "text": [
      "1\n"
     ]
    },
    {
     "data": {
      "image/png": "[encoded data removed]",
      "text/plain": [
       "<Figure size 1000x600 with 1 Axes>"
      ]
     },
     "metadata": {},
     "output_type": "display_data"
    }
   ],
   "source": [
    "# THE BIG LOOP\n",
    "em = ['site','MAE','MSE']\n",
    "em_df = pd.DataFrame(columns=em)\n",
    "houses=[20]\n",
    "#houses = [2, 3,6, 9]\n",
    "#houses = [11, 12, 16,17, 20]\n",
    "#houses = [21,22,23, 25] #[28!!!!!] order = (1,0,1), seasonal_order=(2,0,1,48)) [29]\n",
    "#houses = [28,30, 31 ]\n",
    "#houses = [33,34, 36]\n",
    "#houses = [ 39,41, 42]\n",
    "#houses = [ 46, 49, 50, 53]\n",
    "#houses = [57, 61, 62]\n",
    "#houses = [64, 73, 77, 81]\n",
    "#houses = [84, 85, 90, 91, 94, 98, 100]\n",
    "\n",
    "# loop for each site\n",
    "for i in houses:\n",
    "    site_df = df[df['site']==i]\n",
    "    #site_df['net_load_norm'] = site_df['net_load'] / max(abs(site_df['net_load']))\n",
    "    site_df_train = site_df[:-1464]\n",
    "    print('House:',i)\n",
    "    # run the auto arima and extract the optimal params \n",
    "    fit = ARIMAorder(site_df_train)\n",
    "    results = pd.DataFrame()\n",
    "    \n",
    "    # Loop for each day\n",
    "    for x in range(31,1,-1):\n",
    "        # get the most up to date data for this predicton\n",
    "        vals = -x*48 +24 #to get midday\n",
    "        train_data = site_df.iloc[:vals]  \n",
    "        test_data = site_df.iloc[vals:]\n",
    "        test_data = test_data.iloc[:72]\n",
    "\n",
    "        # Create the model with the new data\n",
    "        model_auto = SARIMAX(train_data['net_load_n2'], exog=train_data[['solar_radiation','sunshine_duration', 'precipitation_probability','weekend_or_bank_holiday']], order= fit.get_params().get(\"order\"))#,seasonal_order=fit.get_params().get(\"seasonal_order\"))\n",
    "        sarimax_model = model_auto.fit()\n",
    "\n",
    "        # Forecast the next period\n",
    "        forecast_horizon = 72\n",
    "        forecast = sarimax_model.forecast(steps=forecast_horizon, exog=test_data[['solar_radiation','sunshine_duration', 'precipitation_probability','weekend_or_bank_holiday']])\n",
    "        df_final = pd.DataFrame(test_data)\n",
    "        forecast_df = pd.DataFrame(forecast)\n",
    "        df_final['forecast'] = forecast_df['predicted_mean'].values\n",
    "        df_final = df_final[24:]\n",
    "        results = pd.concat([results, df_final],ignore_index=True)\n",
    "        print(x-1)\n",
    "\n",
    "    # add the evaluation metric for the site to a df\n",
    "    norm_mae = round(mean_absolute_error(results['net_load_n2'], results['forecast']),4)\n",
    "    norm_mse = round(mean_squared_error(results['net_load_n2'], results['forecast']),4)\n",
    "    house_res = {'site': i, 'MAE': norm_mae, 'MSE': norm_mse}\n",
    "    house_res_df = pd.DataFrame([house_res])\n",
    "    em_df= pd.concat([em_df, house_res_df],ignore_index=True)\n",
    "\n",
    "\n",
    "    # Plot the figure for each house \n",
    "    plt.figure(figsize=(10, 6))\n",
    "    plt.plot(site_df['datetime'], site_df['net_load_n2'], label='Observed')\n",
    "    plt.plot(results['datetime'], results['forecast'], label='Forecast', color='red')\n",
    "    plt.xlabel('Date')\n",
    "    plt.ylabel('Value')\n",
    "    plt.title('SARIMAX Model Forecast')\n",
    "    plt.legend()\n",
    "    plt.xticks(rotation=45) \n",
    "    \n",
    "    plt.grid(alpha=0.3)\n",
    "    plt.show()\n"
   ]
  },
  {
   "cell_type": "code",
   "execution_count": 170,
   "metadata": {},
   "outputs": [
    {
     "name": "stdout",
     "output_type": "stream",
     "text": [
      "239    0.089987\n",
      "240    0.083148\n",
      "241    0.083269\n",
      "242    0.083362\n",
      "243    0.086696\n",
      "         ...   \n",
      "523    0.138323\n",
      "524    0.138323\n",
      "525    0.140039\n",
      "526    0.140039\n",
      "527    0.123381\n",
      "Name: forecast, Length: 289, dtype: float64\n"
     ]
    }
   ],
   "source": [
    "em_df = results[(results['datetime'] >= '2020-03-01') & (results['datetime'] < '2020-03-08')]\n",
    "print(visual['forecast'])"
   ]
  },
  {
   "cell_type": "code",
   "execution_count": 171,
   "metadata": {},
   "outputs": [],
   "source": [
    "file_path = 'C:/Users/xlow6/MSc_ESDA/2.AML/em.csv'\n",
    "\n",
    "em_df.to_csv(file_path, index=False)"
   ]
  },
  {
   "cell_type": "code",
   "execution_count": null,
   "metadata": {},
   "outputs": [],
   "source": [
    "df2 = site_df[site_df['datetime'] <= '2020-3-26']\n",
    "df2 = df2[df2['datetime'] >= '2020-3-1']\n",
    "\n",
    "results2 = results[results['datetime'] <= '2020-3-26']\n",
    "results2 = results2[results2['datetime'] >= '2020-3-1']\n",
    "\n",
    "plt.figure(figsize=(10, 6))\n",
    "plt.plot(df2['datetime'], df2['net_load_norm'], label='Observed',alpha=0.6)\n",
    "plt.plot(results2['datetime'], results2['forecast'], label='Forecast', color='red',alpha=1)\n",
    "plt.xlabel('Date')\n",
    "plt.ylabel('Value')\n",
    "plt.title('SARIMAX Model Forecast')\n",
    "plt.legend()\n",
    "plt.xticks(rotation=45) \n",
    "plt.grid(alpha=0.3)\n",
    "\n",
    "date_range1 = pd.date_range(start='2020-03-01', end='2020-03-06', freq='D')\n",
    "\n",
    "\n",
    "\n",
    "for date in date_range1:\n",
    "    plt.axvline(x=date + pd.Timedelta(hours=12), color='red', linestyle='--', alpha=0.5)\n",
    "    plt.axvline(x=date, color='black', linestyle='--', alpha=0.5)\n"
   ]
  },
  {
   "cell_type": "code",
   "execution_count": null,
   "metadata": {},
   "outputs": [],
   "source": [
    "print(site_df_train)"
   ]
  },
  {
   "cell_type": "code",
   "execution_count": null,
   "metadata": {},
   "outputs": [],
   "source": [
    "mse = round(mean_squared_error(results['net_load_norm'], results['forecast']),4)\n",
    "print(mse)"
   ]
  },
  {
   "cell_type": "code",
   "execution_count": null,
   "metadata": {},
   "outputs": [],
   "source": [
    "## 36 Hour forecast\n",
    "## Train model and save then load model and update each time \n",
    "'''\n",
    "results = pd.DataFrame()\n",
    "for x in range(30,1,-1):\n",
    "    vals = -x*48 +24 #to get midday\n",
    "    train_data = df.iloc[:vals]  \n",
    "    test_data = df.iloc[vals:]\n",
    "    test_data = test_data.iloc[:72]\n",
    "\n",
    "    #model_auto = model_auto.update(train_data['net_load_norm'], exog=train_data[['solar_radiation','sunshine_duration', 'precipitation_probability']], maxiter=1,trace=True,inplace=True)\n",
    "    #model_auto.update(train_data['net_load_norm'])\n",
    "\n",
    "    model_auto = SARIMAX(train_data['net_load_norm'], exog=train_data[['solar_radiation','sunshine_duration', 'precipitation_probability']], order=(1, 1, 1), seasonal_order=(1, 0, 0, 48))\n",
    "    sarimax_model = model_auto.fit()\n",
    "\n",
    "    #sarimax_params = model_auto.params\n",
    "\n",
    "    #print(\"SARIMAX Parameters:\")\n",
    "    #print(sarimax_params)\n",
    "\n",
    "    forecast_horizon = 72\n",
    "    forecast = sarimax_model.forecast(steps=forecast_horizon, exog=test_data[['solar_radiation','sunshine_duration', 'precipitation_probability']])\n",
    "    #forecast, conf_int = model_auto.predict(n_periods=72, exogenous=test_data[['solar_radiation','sunshine_duration', 'precipitation_probability']], return_conf_int=True, order=(1, 1, 1), seasonal_order=(1, 0, 0, 48))\n",
    "    #forecast = model_auto.predict(n_periods=72, exogenous=test_data[['solar_radiation','sunshine_duration', 'precipitation_probability']], return_conf_int=True, order=(1, 1, 1), seasonal_order=(1, 0, 0, 48))\n",
    "    df_final = pd.DataFrame(test_data)\n",
    "    forecast_df = pd.DataFrame(forecast)\n",
    "    #print(df_final)\n",
    "    #print(forecast_df)\n",
    "    df_final['forecast'] = forecast_df['predicted_mean'].values\n",
    "    df_final = df_final[24:]\n",
    "    #print(conf_int)\n",
    "\n",
    "    results = pd.concat([results, df_final],ignore_index=True)\n",
    "    print(x-1)\n",
    "\n",
    "#results = results.rename(columns={results.columns[-1]: 'forecast'})\n",
    "\n",
    "plt.figure(figsize=(10, 6))\n",
    "plt.plot(df['datetime'], df['net_load_norm'], label='Observed')\n",
    "plt.plot(results['datetime'], results['forecast'], label='Forecast', color='red')\n",
    "plt.xlabel('Date')\n",
    "plt.ylabel('Value')\n",
    "plt.title('SARIMAX Model Forecast')\n",
    "plt.legend()\n",
    "plt.xticks(rotation=45) \n",
    "plt.grid(alpha=0.3)\n",
    "plt.show()\n",
    "#INdexing and setting params in prediction line\n",
    "'''"
   ]
  },
  {
   "cell_type": "code",
   "execution_count": null,
   "metadata": {},
   "outputs": [],
   "source": [
    "'''\n",
    "## Day Forecast\n",
    "results = pd.DataFrame()\n",
    "for x in range(4,0,-1):\n",
    "    vals = -x*48\n",
    "    train_data = df.iloc[:vals]  \n",
    "    test_data = df.iloc[vals:]\n",
    "    test_data = test_data.iloc[:48]\n",
    "\n",
    "    model_auto.update(train_data['net_load_norm'], exog=train_data[['solar_radiation','weekend_or_bank_holiday','sunshine_duration', 'precipitation_probability']], maxiter=1)\n",
    "    #model_auto.update(train_data['net_load_norm'])\n",
    "\n",
    "    sarimax_params = model_auto.params\n",
    "\n",
    "    print(\"SARIMAX Parameters:\")\n",
    "    print(sarimax_params)\n",
    "\n",
    "    #forecast_horizon = 24\n",
    "    #forecast = model.forecast(steps=forecast_horizon, exog=test_data[['solar_radiation','weekend_or_bank_holiday']])\n",
    "    forecast, conf_int = model_auto.predict(n_periods=48, exogenous=test_data[['solar_radiation','weekend_or_bank_holiday','sunshine_duration', 'precipitation_probability']], return_conf_int=True)\n",
    "    df_final = pd.DataFrame(test_data)\n",
    "    df_final['forecast'] = forecast \n",
    "\n",
    "    results = pd.concat([results, df_final],ignore_index=True)\n",
    "    print(x)\n",
    "\n",
    "results = results.rename(columns={results.columns[-1]: 'forecast'})\n",
    "\n",
    "plt.figure(figsize=(10, 6))\n",
    "plt.plot(df['datetime'], df['net_load_norm'], label='Observed')\n",
    "plt.plot(results['datetime'], results['forecast'], label='Forecast', color='red')\n",
    "plt.xlabel('Date')\n",
    "plt.ylabel('Value')\n",
    "plt.title('SARIMAX Model Forecast')\n",
    "plt.legend()\n",
    "plt.xticks(rotation=45) \n",
    "plt.grid(alpha=0.3)\n",
    "plt.show()\n",
    "'''"
   ]
  },
  {
   "cell_type": "code",
   "execution_count": null,
   "metadata": {},
   "outputs": [],
   "source": [
    "df2 = df[-1440:]\n",
    "plt.figure(figsize=(10, 6))\n",
    "plt.plot(df2['datetime'], df2['net_load_norm'], label='Observed',alpha=0.6)\n",
    "plt.plot(results['datetime'], results['forecast'], label='Forecast', color='red',alpha=1)\n",
    "plt.xlabel('Date')\n",
    "plt.ylabel('Value')\n",
    "plt.title('SARIMAX Model Forecast')\n",
    "plt.legend()\n",
    "plt.xticks(rotation=45) \n",
    "plt.grid(alpha=0.3)\n",
    "\n",
    "#plt.axvline(x=pd.to_datetime('2020-3-24 12:00:00'), color='black', linestyle='--',linewidth=1)\n",
    "\n",
    "start_date = pd.Timestamp('2020-02-26')  \n",
    "end_date = pd.Timestamp('2020-03-26')    \n",
    "plt.xlim(start_date, end_date)\n",
    "plt.ylim(-1,1)\n",
    "\n",
    "\n",
    "\n",
    "plt.show()"
   ]
  },
  {
   "cell_type": "code",
   "execution_count": null,
   "metadata": {},
   "outputs": [],
   "source": [
    "from sklearn.metrics import mean_absolute_error\n",
    "norm_mae = mean_absolute_error(results['net_load_norm'], results['forecast'])\n",
    "print(round(norm_mae,4))\n",
    "\n",
    "def mean_absolute_arctangent_percentage_error(y_true, y_pred):\n",
    "    y_true, y_pred = np.array(y_true), np.array(y_pred)\n",
    "    return np.mean(np.abs(np.arctan((y_true - y_pred) / np.abs(y_true)) / (np.pi / 2)))\n",
    "\n",
    "maape = mean_absolute_arctangent_percentage_error(results['net_load_norm'], results['forecast'])\n",
    "print(round(maape,3))\n"
   ]
  }
 ],
 "metadata": {
  "kernelspec": {
   "display_name": "amlenv",
   "language": "python",
   "name": "python3"
  },
  "language_info": {
   "codemirror_mode": {
    "name": "ipython",
    "version": 3
   },
   "file_extension": ".py",
   "mimetype": "text/x-python",
   "name": "python",
   "nbconvert_exporter": "python",
   "pygments_lexer": "ipython3",
   "version": "3.11.4"
  }
 },
 "nbformat": 4,
 "nbformat_minor": 2
}
