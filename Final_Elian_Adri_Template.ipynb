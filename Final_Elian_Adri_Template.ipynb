{
 "cells": [
  {
   "cell_type": "markdown",
   "metadata": {},
   "source": [
    "# <center><u> Final LSTM/GRU Layout - Adri and Elian"
   ]
  },
  {
   "cell_type": "code",
   "execution_count": 84,
   "metadata": {},
   "outputs": [
    {
     "data": {
      "text/plain": [
       "True"
      ]
     },
     "execution_count": 84,
     "metadata": {},
     "output_type": "execute_result"
    }
   ],
   "source": [
    "#Import Libraries and Packages\n",
    "import os\n",
    "import pandas as pd\n",
    "import numpy as np\n",
    "import matplotlib.pyplot as plt\n",
    "import psycopg2\n",
    "from dotenv import load_dotenv\n",
    "load_dotenv()"
   ]
  },
  {
   "cell_type": "code",
   "execution_count": 85,
   "metadata": {},
   "outputs": [],
   "source": [
    "#Access Credentials\n",
    "db_host = os.getenv(\"DB_HOST\")\n",
    "db_name = os.getenv(\"DB_NAME\")\n",
    "db_user = os.getenv(\"DB_USER\")\n",
    "db_password = os.getenv(\"DB_PASSWORD\")\n",
    "db_port = os.getenv(\"DB_PORT\")"
   ]
  },
  {
   "cell_type": "code",
   "execution_count": 86,
   "metadata": {},
   "outputs": [],
   "source": [
    "conn = psycopg2.connect(\n",
    "    host=db_host,\n",
    "    dbname=db_name,\n",
    "    user=db_user,\n",
    "    password=db_password,\n",
    "    port=db_port\n",
    ")"
   ]
  },
  {
   "cell_type": "code",
   "execution_count": 87,
   "metadata": {},
   "outputs": [],
   "source": [
    "query=\"\"\"\n",
    "    select * \n",
    "    from agg.tidy_data_final\n",
    "    where site = 20\n",
    "\"\"\""
   ]
  },
  {
   "cell_type": "code",
   "execution_count": 88,
   "metadata": {},
   "outputs": [
    {
     "name": "stderr",
     "output_type": "stream",
     "text": [
      "/var/folders/n_/s_vk866s6ds93jqhjv__r6cr0000gn/T/ipykernel_20951/1553155693.py:1: UserWarning: pandas only supports SQLAlchemy connectable (engine/connection) or database string URI or sqlite3 DBAPI2 connection. Other DBAPI2 objects are not tested. Please consider using SQLAlchemy.\n",
      "  df = pd.read_sql_query(query, conn)\n"
     ]
    }
   ],
   "source": [
    "df = pd.read_sql_query(query, conn)"
   ]
  },
  {
   "cell_type": "code",
   "execution_count": 89,
   "metadata": {},
   "outputs": [],
   "source": [
    "df = df.set_index('timestamp', drop=False)\n",
    "df = df.sort_index()"
   ]
  },
  {
   "cell_type": "markdown",
   "metadata": {},
   "source": [
    "# Prepare Data Set for LSTM/GRU Models"
   ]
  },
  {
   "cell_type": "code",
   "execution_count": 90,
   "metadata": {},
   "outputs": [],
   "source": [
    "# Parameters\n",
    "\n",
    "#n_input = no. of time steps considered before making the prediction\n",
    "#n_features = no. of variables/features considered\n",
    "#n_output = no. of time steps to forecast\n",
    "\n",
    "# Note: 1 time step = 30 mins\n",
    "# Look at the last two weeks to forecast the next 36 hours\n",
    "\n",
    "# 1 day = 2 * 24 * 1 = 24\n",
    "# 2 hours = 2 * 2 = 8 \n",
    "\n",
    "n_input = 144\n",
    "n_features = 14 #These includes the weather predictions that will be added later on and the normalised varaibles to be created\n",
    "n_output = 72\n",
    "\n",
    "\n",
    "# Selectfeatures of use for later on\n",
    "df_input = df[['net_load', 'year', 'month', 'day', 'hour', 'day_of_week', 'season','precipitation_probability',\n",
    "               'solar_radiation','sunshine_duration','weekend_or_bank_holiday','avg_net_load']]"
   ]
  },
  {
   "cell_type": "markdown",
   "metadata": {},
   "source": [
    "# Normalise Data (as seen in Literature)"
   ]
  },
  {
   "cell_type": "markdown",
   "metadata": {},
   "source": [
    "Group decision to use MaxAbs Scaler to normalise the data."
   ]
  },
  {
   "cell_type": "code",
   "execution_count": 91,
   "metadata": {},
   "outputs": [
    {
     "name": "stderr",
     "output_type": "stream",
     "text": [
      "/var/folders/n_/s_vk866s6ds93jqhjv__r6cr0000gn/T/ipykernel_20951/4282254998.py:8: SettingWithCopyWarning: \n",
      "A value is trying to be set on a copy of a slice from a DataFrame.\n",
      "Try using .loc[row_indexer,col_indexer] = value instead\n",
      "\n",
      "See the caveats in the documentation: https://pandas.pydata.org/pandas-docs/stable/user_guide/indexing.html#returning-a-view-versus-a-copy\n",
      "  df_input[new_var_name] = scaler.fit_transform(df_input[[var]])\n",
      "/var/folders/n_/s_vk866s6ds93jqhjv__r6cr0000gn/T/ipykernel_20951/4282254998.py:8: SettingWithCopyWarning: \n",
      "A value is trying to be set on a copy of a slice from a DataFrame.\n",
      "Try using .loc[row_indexer,col_indexer] = value instead\n",
      "\n",
      "See the caveats in the documentation: https://pandas.pydata.org/pandas-docs/stable/user_guide/indexing.html#returning-a-view-versus-a-copy\n",
      "  df_input[new_var_name] = scaler.fit_transform(df_input[[var]])\n",
      "/var/folders/n_/s_vk866s6ds93jqhjv__r6cr0000gn/T/ipykernel_20951/4282254998.py:8: SettingWithCopyWarning: \n",
      "A value is trying to be set on a copy of a slice from a DataFrame.\n",
      "Try using .loc[row_indexer,col_indexer] = value instead\n",
      "\n",
      "See the caveats in the documentation: https://pandas.pydata.org/pandas-docs/stable/user_guide/indexing.html#returning-a-view-versus-a-copy\n",
      "  df_input[new_var_name] = scaler.fit_transform(df_input[[var]])\n",
      "/var/folders/n_/s_vk866s6ds93jqhjv__r6cr0000gn/T/ipykernel_20951/4282254998.py:8: SettingWithCopyWarning: \n",
      "A value is trying to be set on a copy of a slice from a DataFrame.\n",
      "Try using .loc[row_indexer,col_indexer] = value instead\n",
      "\n",
      "See the caveats in the documentation: https://pandas.pydata.org/pandas-docs/stable/user_guide/indexing.html#returning-a-view-versus-a-copy\n",
      "  df_input[new_var_name] = scaler.fit_transform(df_input[[var]])\n"
     ]
    }
   ],
   "source": [
    "#Normalise all continuous variables needing scaling\n",
    "from sklearn.preprocessing import MaxAbsScaler\n",
    "scaler = MaxAbsScaler()\n",
    "\n",
    "variables = ['net_load','solar_radiation','sunshine_duration','avg_net_load']\n",
    "for var in variables:\n",
    "    new_var_name = var + '_norm'\n",
    "    df_input[new_var_name] = scaler.fit_transform(df_input[[var]])"
   ]
  },
  {
   "cell_type": "markdown",
   "metadata": {},
   "source": [
    "Now, we also want to include the predictions for 'solar radiation', 'sunshine_duration', 'precipitation_probability' as inputs.\n",
    "These will be treated as new inputs (t+48) ~ 48 half-hourly timestamps representing day-ahead predictions."
   ]
  },
  {
   "cell_type": "code",
   "execution_count": 92,
   "metadata": {},
   "outputs": [
    {
     "name": "stderr",
     "output_type": "stream",
     "text": [
      "/var/folders/n_/s_vk866s6ds93jqhjv__r6cr0000gn/T/ipykernel_20951/3763762080.py:1: SettingWithCopyWarning: \n",
      "A value is trying to be set on a copy of a slice from a DataFrame.\n",
      "Try using .loc[row_indexer,col_indexer] = value instead\n",
      "\n",
      "See the caveats in the documentation: https://pandas.pydata.org/pandas-docs/stable/user_guide/indexing.html#returning-a-view-versus-a-copy\n",
      "  df_input['sunshine_duration(t+48)'] = df_input['sunshine_duration_norm'].shift(-48) #Add prediction for time the day after\n",
      "/var/folders/n_/s_vk866s6ds93jqhjv__r6cr0000gn/T/ipykernel_20951/3763762080.py:2: SettingWithCopyWarning: \n",
      "A value is trying to be set on a copy of a slice from a DataFrame.\n",
      "Try using .loc[row_indexer,col_indexer] = value instead\n",
      "\n",
      "See the caveats in the documentation: https://pandas.pydata.org/pandas-docs/stable/user_guide/indexing.html#returning-a-view-versus-a-copy\n",
      "  df_input['solar_radiation(t+48)'] = df_input['solar_radiation_norm'].shift(-48) #Add prediction for time the day after\n",
      "/var/folders/n_/s_vk866s6ds93jqhjv__r6cr0000gn/T/ipykernel_20951/3763762080.py:3: SettingWithCopyWarning: \n",
      "A value is trying to be set on a copy of a slice from a DataFrame.\n",
      "Try using .loc[row_indexer,col_indexer] = value instead\n",
      "\n",
      "See the caveats in the documentation: https://pandas.pydata.org/pandas-docs/stable/user_guide/indexing.html#returning-a-view-versus-a-copy\n",
      "  df_input['precipitation_probability(t+48)'] = df_input['precipitation_probability'].shift(-48) #Add prediction for time the day after\n"
     ]
    }
   ],
   "source": [
    "df_input['sunshine_duration(t+48)'] = df_input['sunshine_duration_norm'].shift(-48) #Add prediction for time the day after\n",
    "df_input['solar_radiation(t+48)'] = df_input['solar_radiation_norm'].shift(-48) #Add prediction for time the day after\n",
    "df_input['precipitation_probability(t+48)'] = df_input['precipitation_probability'].shift(-48) #Add prediction for time the day after"
   ]
  },
  {
   "cell_type": "code",
   "execution_count": 93,
   "metadata": {},
   "outputs": [
    {
     "name": "stderr",
     "output_type": "stream",
     "text": [
      "/var/folders/n_/s_vk866s6ds93jqhjv__r6cr0000gn/T/ipykernel_20951/1212278532.py:2: SettingWithCopyWarning: \n",
      "A value is trying to be set on a copy of a slice from a DataFrame\n",
      "\n",
      "See the caveats in the documentation: https://pandas.pydata.org/pandas-docs/stable/user_guide/indexing.html#returning-a-view-versus-a-copy\n",
      "  df_input.dropna(inplace=True)\n"
     ]
    }
   ],
   "source": [
    "#We want to drop last 48 rows as they will have Na values for the (t+48) columns/inputs.\n",
    "df_input.dropna(inplace=True)"
   ]
  },
  {
   "cell_type": "code",
   "execution_count": 94,
   "metadata": {},
   "outputs": [],
   "source": [
    "#Only Keep the Normalised Variables for the Model\n",
    "df_input = df_input[['net_load_norm','year','month','day','hour','day_of_week','season','weekend_or_bank_holiday',\n",
    "               'solar_radiation_norm','sunshine_duration_norm','avg_net_load_norm','sunshine_duration(t+48)',\n",
    "               'solar_radiation(t+48)','precipitation_probability(t+48)']]"
   ]
  },
  {
   "cell_type": "markdown",
   "metadata": {},
   "source": [
    "# Generate X and Y Matrices"
   ]
  },
  {
   "cell_type": "code",
   "execution_count": 95,
   "metadata": {},
   "outputs": [],
   "source": [
    "X, y = [], []\n",
    "for i in range(len(df_input) - n_input - n_output + 1):\n",
    "    # Select all columns for the input sequence\n",
    "    X.append(df_input.iloc[i:(i + n_input)].values)  \n",
    "    \n",
    "    y.append(df_input['net_load_norm'].iloc[(i + n_input):(i + n_input + n_output)].values)\n",
    "\n",
    "X = np.array(X).reshape((len(X), n_input, -1))  \n",
    "y = np.array(y)"
   ]
  },
  {
   "cell_type": "markdown",
   "metadata": {},
   "source": [
    "# Train and Test Split"
   ]
  },
  {
   "cell_type": "code",
   "execution_count": 96,
   "metadata": {},
   "outputs": [],
   "source": [
    "# Split into train (First ~330 days) and test (30 days)\n",
    "# 1 time step = 30 mins\n",
    "\n",
    "n_total_days = len(X) / (2 * 24)\n",
    "n_test_days = 30\n",
    "n_train_split = int((n_total_days - n_test_days) * 2 * 24)\n",
    "\n",
    "X_train = X[:n_train_split]\n",
    "y_train = y[:n_train_split]\n",
    "\n",
    "X_test = X[n_train_split:]\n",
    "y_test = y[n_train_split:]"
   ]
  },
  {
   "cell_type": "markdown",
   "metadata": {},
   "source": [
    "# LSTM/GRU Sample Model"
   ]
  },
  {
   "cell_type": "code",
   "execution_count": 97,
   "metadata": {},
   "outputs": [],
   "source": [
    "# Import all Necessary Keras Libraries\n",
    "import tensorflow as tf\n",
    "from tensorflow.keras.models import Sequential\n",
    "from tensorflow.keras.layers import *\n",
    "from tensorflow.keras.callbacks import ModelCheckpoint\n",
    "from tensorflow.keras.losses import MeanSquaredError\n",
    "from tensorflow.keras.losses import MeanAbsoluteError\n",
    "from tensorflow.keras.metrics import RootMeanSquaredError\n",
    "from tensorflow.keras.optimizers import Adam\n",
    "from tensorflow.keras.preprocessing.sequence import TimeseriesGenerator\n",
    "from tensorflow.keras.models import load_model\n",
    "from sklearn.metrics import mean_absolute_error\n",
    "from sklearn.model_selection import train_test_split"
   ]
  },
  {
   "cell_type": "code",
   "execution_count": 98,
   "metadata": {},
   "outputs": [],
   "source": [
    "#GRU Model - just change GRU for LSTM to retrain\n",
    "#Model Architecture\n",
    "model = Sequential()\n",
    "model.add(GRU(256, activation='relu', input_shape=(X_train.shape[1], X_train.shape[2]), return_sequences=True))\n",
    "model.add(BatchNormalization())\n",
    "model.add(Dropout(0.2))\n",
    "model.add(GRU(128, activation='relu', return_sequences=True))\n",
    "model.add(BatchNormalization())\n",
    "model.add(GRU(64, activation='relu'))\n",
    "model.add(BatchNormalization())\n",
    "model.add(Dropout(0.2))\n",
    "model.add(Dense(y_train.shape[1]))"
   ]
  },
  {
   "cell_type": "code",
   "execution_count": 99,
   "metadata": {},
   "outputs": [
    {
     "name": "stderr",
     "output_type": "stream",
     "text": [
      "WARNING:absl:At this time, the v2.11+ optimizer `tf.keras.optimizers.Adam` runs slowly on M1/M2 Macs, please use the legacy Keras optimizer instead, located at `tf.keras.optimizers.legacy.Adam`.\n",
      "WARNING:absl:There is a known slowdown when using v2.11+ Keras optimizers on M1/M2 Macs. Falling back to the legacy Keras optimizer, i.e., `tf.keras.optimizers.legacy.Adam`.\n"
     ]
    }
   ],
   "source": [
    "#Compile Model\n",
    "cp1 = ModelCheckpoint('final_model.keras', save_best_only=True)\n",
    "model.compile(loss='mse', optimizer=Adam(learning_rate=0.001), metrics=[MeanSquaredError(), MeanAbsoluteError()])"
   ]
  },
  {
   "cell_type": "code",
   "execution_count": null,
   "metadata": {},
   "outputs": [],
   "source": [
    "#Fit Model to Training Data with 10% Validation Split\n",
    "history = model.fit(X_train, y_train, epochs=10, batch_size=16, validation_split=0.1)"
   ]
  },
  {
   "cell_type": "code",
   "execution_count": null,
   "metadata": {},
   "outputs": [],
   "source": []
  },
  {
   "cell_type": "code",
   "execution_count": null,
   "metadata": {},
   "outputs": [],
   "source": []
  },
  {
   "cell_type": "code",
   "execution_count": null,
   "metadata": {},
   "outputs": [],
   "source": []
  },
  {
   "cell_type": "code",
   "execution_count": null,
   "metadata": {},
   "outputs": [],
   "source": []
  },
  {
   "cell_type": "markdown",
   "metadata": {},
   "source": [
    "# Random Search - Hyperparameter Tuning"
   ]
  },
  {
   "cell_type": "markdown",
   "metadata": {},
   "source": [
    "Hyperparameters to tune:\n",
    "* \\# of LSTM/GRU units\n",
    "* \\# of LSTM/GRU layers\n",
    "* Dropout Rate\n",
    "* Batch Size"
   ]
  },
  {
   "cell_type": "code",
   "execution_count": null,
   "metadata": {},
   "outputs": [],
   "source": [
    "def build_model(hp):\n",
    "    model = Sequential()\n",
    "\n",
    "    # Define first layer -> optimization for number of units and activation function\n",
    "    model.add(Dense(units = hp.Int(\"units1\",min_value = 32, max_value=1024, step=16),\n",
    "                   activation = hp.Choice(\"activation1\",[\"relu\",\"tanh\"]),\n",
    "                    input_shape = (X_train_scaled.shape[1],)\n",
    "                   ))\n",
    "\n",
    "    # Define dropout layer by providing the optimization of dropout rate\n",
    "    model.add(Dropout(hp.Float(\"rate1\",min_value=0.1, max_value = 0.4, step=0.1),seed = 12345))\n",
    "\n",
    "    # Add second layer\n",
    "    model.add(Dense(units = hp.Int(\"units2\",min_value = 32, max_value=128, step=16),\n",
    "                   activation = hp.Choice(\"activation2\",[\"relu\",\"tanh\"])\n",
    "                   ))\n",
    "\n",
    "\n",
    "    model.add(Dropout(hp.Float(\"rate2\",min_value=0.1, max_value = 0.4, step=0.1),seed = 12345))\n",
    "\n",
    "    model.add(Dense(units = hp.Int(\"units3\",min_value = 32, max_value=128, step=16),\n",
    "                   activation = hp.Choice(\"activation3\",[\"relu\",\"tanh\"])\n",
    "                   ))\n",
    "    # Output Layer\n",
    "    model.add(Dense(units=1, activation='sigmoid'))\n",
    "\n",
    "    # define values for learning rate\n",
    "    learning_rate = hp.Float(\"learning_rate\",min_value = 0.001, max_value=0.1, step=0.01)\n",
    "\n",
    "    model.compile(optimizer = tf.keras.optimizers.Adam(learning_rate=learning_rate),\n",
    "                  loss = 'binary_crossentropy',\n",
    "                  metrics = ['accuracy']\n",
    "                 )\n",
    "    return model"
   ]
  },
  {
   "cell_type": "code",
   "execution_count": null,
   "metadata": {},
   "outputs": [],
   "source": [
    "import keras_tuner as kt\n",
    "build_model(kt.HyperParameters())"
   ]
  },
  {
   "cell_type": "code",
   "execution_count": null,
   "metadata": {},
   "outputs": [],
   "source": [
    "rtuner = kt.RandomSearch(hypermodel=build_model,\n",
    "    objective=\"val_accuracy\",\n",
    "    max_trials=5,\n",
    "    seed=12345,\n",
    "    overwrite=True,\n",
    "    directory=\"my_dir\",\n",
    "    project_name=\"diab\")"
   ]
  },
  {
   "cell_type": "code",
   "execution_count": null,
   "metadata": {},
   "outputs": [],
   "source": [
    "rtuner.search(X_train,\n",
    "              y_train,\n",
    "              epochs=10,\n",
    "              validation_data=(X_test, y_test))"
   ]
  },
  {
   "cell_type": "code",
   "execution_count": null,
   "metadata": {},
   "outputs": [],
   "source": [
    "tuned_model = rtuner.get_best_models(num_models=1)"
   ]
  },
  {
   "cell_type": "code",
   "execution_count": null,
   "metadata": {},
   "outputs": [],
   "source": [
    "tuned_model.summary()"
   ]
  },
  {
   "cell_type": "code",
   "execution_count": null,
   "metadata": {},
   "outputs": [],
   "source": [
    "rtuner.get_best_hyperparameters().get_config()['values']"
   ]
  }
 ],
 "metadata": {
  "kernelspec": {
   "display_name": "tf",
   "language": "python",
   "name": "python3"
  },
  "language_info": {
   "codemirror_mode": {
    "name": "ipython",
    "version": 3
   },
   "file_extension": ".py",
   "mimetype": "text/x-python",
   "name": "python",
   "nbconvert_exporter": "python",
   "pygments_lexer": "ipython3",
   "version": "3.11.5"
  }
 },
 "nbformat": 4,
 "nbformat_minor": 2
}
