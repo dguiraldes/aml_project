{
 "cells": [
  {
   "cell_type": "markdown",
   "metadata": {},
   "source": [
    "# <center><u> Final LSTM/GRU Layout - Adri and Elian"
   ]
  },
  {
   "cell_type": "code",
   "execution_count": 31,
   "metadata": {},
   "outputs": [
    {
     "data": {
      "text/plain": [
       "True"
      ]
     },
     "execution_count": 31,
     "metadata": {},
     "output_type": "execute_result"
    }
   ],
   "source": [
    "#Import Libraries and Packages\n",
    "import os\n",
    "import pandas as pd\n",
    "import numpy as np\n",
    "import matplotlib.pyplot as plt\n",
    "import psycopg2\n",
    "from dotenv import load_dotenv\n",
    "load_dotenv()"
   ]
  },
  {
   "cell_type": "code",
   "execution_count": 32,
   "metadata": {},
   "outputs": [],
   "source": [
    "#Access Credentials\n",
    "db_host = os.getenv(\"DB_HOST\")\n",
    "db_name = os.getenv(\"DB_NAME\")\n",
    "db_user = os.getenv(\"DB_USER\")\n",
    "db_password = os.getenv(\"DB_PASSWORD\")\n",
    "db_port = os.getenv(\"DB_PORT\")"
   ]
  },
  {
   "cell_type": "code",
   "execution_count": 33,
   "metadata": {},
   "outputs": [],
   "source": [
    "conn = psycopg2.connect(\n",
    "    host=db_host,\n",
    "    dbname=db_name,\n",
    "    user=db_user,\n",
    "    password=db_password,\n",
    "    port=db_port\n",
    ")"
   ]
  },
  {
   "cell_type": "code",
   "execution_count": 34,
   "metadata": {},
   "outputs": [],
   "source": [
    "query=\"\"\"\n",
    "    select * \n",
    "    from agg.tidy_data_final\n",
    "    where site = 20\n",
    "\"\"\""
   ]
  },
  {
   "cell_type": "code",
   "execution_count": 35,
   "metadata": {},
   "outputs": [
    {
     "name": "stderr",
     "output_type": "stream",
     "text": [
      "/var/folders/n_/s_vk866s6ds93jqhjv__r6cr0000gn/T/ipykernel_20951/1553155693.py:1: UserWarning: pandas only supports SQLAlchemy connectable (engine/connection) or database string URI or sqlite3 DBAPI2 connection. Other DBAPI2 objects are not tested. Please consider using SQLAlchemy.\n",
      "  df = pd.read_sql_query(query, conn)\n"
     ]
    }
   ],
   "source": [
    "df = pd.read_sql_query(query, conn)"
   ]
  },
  {
   "cell_type": "code",
   "execution_count": 36,
   "metadata": {},
   "outputs": [],
   "source": [
    "df = df.set_index('timestamp', drop=False)\n",
    "df = df.sort_index()"
   ]
  },
  {
   "cell_type": "markdown",
   "metadata": {},
   "source": [
    "# Prepare Data Set for LSTM/GRU Models"
   ]
  },
  {
   "cell_type": "code",
   "execution_count": 37,
   "metadata": {},
   "outputs": [],
   "source": [
    "# Parameters\n",
    "\n",
    "#n_input = no. of time steps considered before making the prediction\n",
    "#n_features = no. of variables/features considered\n",
    "#n_output = no. of time steps to forecast\n",
    "\n",
    "# Note: 1 time step = 30 mins\n",
    "# Look at the last two weeks to forecast the next 36 hours\n",
    "\n",
    "# 1 day = 2 * 24 * 1 = 24\n",
    "# 2 hours = 2 * 2 = 8 \n",
    "\n",
    "n_input = 144\n",
    "n_features = 8\n",
    "n_output = 12\n",
    "\n",
    "\n",
    "# Select which features are to be inputted into the LSTM i.e., which columns in the df\n",
    "df_input = df[['net_load', 'year', 'month', 'day', 'hour', 'day_of_week', 'season','precipitation_probability',\n",
    "               'solar_radiation','sunshine_duration','weekend_or_bank_holiday','avg_net_load']]"
   ]
  },
  {
   "cell_type": "markdown",
   "metadata": {},
   "source": [
    "# Normalise Data (as seen in Literature)"
   ]
  },
  {
   "cell_type": "markdown",
   "metadata": {},
   "source": [
    "Group decision to use MaxAbs Scaler to normalise the data."
   ]
  },
  {
   "cell_type": "code",
   "execution_count": 38,
   "metadata": {},
   "outputs": [
    {
     "name": "stderr",
     "output_type": "stream",
     "text": [
      "/var/folders/n_/s_vk866s6ds93jqhjv__r6cr0000gn/T/ipykernel_20951/4282254998.py:8: SettingWithCopyWarning: \n",
      "A value is trying to be set on a copy of a slice from a DataFrame.\n",
      "Try using .loc[row_indexer,col_indexer] = value instead\n",
      "\n",
      "See the caveats in the documentation: https://pandas.pydata.org/pandas-docs/stable/user_guide/indexing.html#returning-a-view-versus-a-copy\n",
      "  df_input[new_var_name] = scaler.fit_transform(df_input[[var]])\n",
      "/var/folders/n_/s_vk866s6ds93jqhjv__r6cr0000gn/T/ipykernel_20951/4282254998.py:8: SettingWithCopyWarning: \n",
      "A value is trying to be set on a copy of a slice from a DataFrame.\n",
      "Try using .loc[row_indexer,col_indexer] = value instead\n",
      "\n",
      "See the caveats in the documentation: https://pandas.pydata.org/pandas-docs/stable/user_guide/indexing.html#returning-a-view-versus-a-copy\n",
      "  df_input[new_var_name] = scaler.fit_transform(df_input[[var]])\n",
      "/var/folders/n_/s_vk866s6ds93jqhjv__r6cr0000gn/T/ipykernel_20951/4282254998.py:8: SettingWithCopyWarning: \n",
      "A value is trying to be set on a copy of a slice from a DataFrame.\n",
      "Try using .loc[row_indexer,col_indexer] = value instead\n",
      "\n",
      "See the caveats in the documentation: https://pandas.pydata.org/pandas-docs/stable/user_guide/indexing.html#returning-a-view-versus-a-copy\n",
      "  df_input[new_var_name] = scaler.fit_transform(df_input[[var]])\n",
      "/var/folders/n_/s_vk866s6ds93jqhjv__r6cr0000gn/T/ipykernel_20951/4282254998.py:8: SettingWithCopyWarning: \n",
      "A value is trying to be set on a copy of a slice from a DataFrame.\n",
      "Try using .loc[row_indexer,col_indexer] = value instead\n",
      "\n",
      "See the caveats in the documentation: https://pandas.pydata.org/pandas-docs/stable/user_guide/indexing.html#returning-a-view-versus-a-copy\n",
      "  df_input[new_var_name] = scaler.fit_transform(df_input[[var]])\n"
     ]
    }
   ],
   "source": [
    "#Normalise all continuous variables needing scaling\n",
    "from sklearn.preprocessing import MaxAbsScaler\n",
    "scaler = MaxAbsScaler()\n",
    "\n",
    "variables = ['net_load','solar_radiation','sunshine_duration','avg_net_load']\n",
    "for var in variables:\n",
    "    new_var_name = var + '_norm'\n",
    "    df_input[new_var_name] = scaler.fit_transform(df_input[[var]])"
   ]
  },
  {
   "cell_type": "markdown",
   "metadata": {},
   "source": [
    "Now, we also want to include the predictions for 'solar radiation', 'sunshine_duration', 'precipitation_probability' as inputs.\n",
    "These will be treated as new inputs (t+48) ~ 48 half-hourly timestamps representing day-ahead predictions."
   ]
  },
  {
   "cell_type": "code",
   "execution_count": 39,
   "metadata": {},
   "outputs": [
    {
     "name": "stderr",
     "output_type": "stream",
     "text": [
      "/var/folders/n_/s_vk866s6ds93jqhjv__r6cr0000gn/T/ipykernel_20951/3763762080.py:1: SettingWithCopyWarning: \n",
      "A value is trying to be set on a copy of a slice from a DataFrame.\n",
      "Try using .loc[row_indexer,col_indexer] = value instead\n",
      "\n",
      "See the caveats in the documentation: https://pandas.pydata.org/pandas-docs/stable/user_guide/indexing.html#returning-a-view-versus-a-copy\n",
      "  df_input['sunshine_duration(t+48)'] = df_input['sunshine_duration_norm'].shift(-48) #Add prediction for time the day after\n",
      "/var/folders/n_/s_vk866s6ds93jqhjv__r6cr0000gn/T/ipykernel_20951/3763762080.py:2: SettingWithCopyWarning: \n",
      "A value is trying to be set on a copy of a slice from a DataFrame.\n",
      "Try using .loc[row_indexer,col_indexer] = value instead\n",
      "\n",
      "See the caveats in the documentation: https://pandas.pydata.org/pandas-docs/stable/user_guide/indexing.html#returning-a-view-versus-a-copy\n",
      "  df_input['solar_radiation(t+48)'] = df_input['solar_radiation_norm'].shift(-48) #Add prediction for time the day after\n",
      "/var/folders/n_/s_vk866s6ds93jqhjv__r6cr0000gn/T/ipykernel_20951/3763762080.py:3: SettingWithCopyWarning: \n",
      "A value is trying to be set on a copy of a slice from a DataFrame.\n",
      "Try using .loc[row_indexer,col_indexer] = value instead\n",
      "\n",
      "See the caveats in the documentation: https://pandas.pydata.org/pandas-docs/stable/user_guide/indexing.html#returning-a-view-versus-a-copy\n",
      "  df_input['precipitation_probability(t+48)'] = df_input['precipitation_probability'].shift(-48) #Add prediction for time the day after\n"
     ]
    }
   ],
   "source": [
    "df_input['sunshine_duration(t+48)'] = df_input['sunshine_duration_norm'].shift(-48) #Add prediction for time the day after\n",
    "df_input['solar_radiation(t+48)'] = df_input['solar_radiation_norm'].shift(-48) #Add prediction for time the day after\n",
    "df_input['precipitation_probability(t+48)'] = df_input['precipitation_probability'].shift(-48) #Add prediction for time the day after"
   ]
  },
  {
   "cell_type": "code",
   "execution_count": 40,
   "metadata": {},
   "outputs": [
    {
     "name": "stderr",
     "output_type": "stream",
     "text": [
      "/var/folders/n_/s_vk866s6ds93jqhjv__r6cr0000gn/T/ipykernel_20951/1212278532.py:2: SettingWithCopyWarning: \n",
      "A value is trying to be set on a copy of a slice from a DataFrame\n",
      "\n",
      "See the caveats in the documentation: https://pandas.pydata.org/pandas-docs/stable/user_guide/indexing.html#returning-a-view-versus-a-copy\n",
      "  df_input.dropna(inplace=True)\n"
     ]
    }
   ],
   "source": [
    "#We want to drop last 48 rows as they will have Na values for the (t+48) columns/inputs.\n",
    "df_input.dropna(inplace=True)"
   ]
  },
  {
   "cell_type": "markdown",
   "metadata": {},
   "source": [
    "# Generate X and Y Matrices"
   ]
  },
  {
   "cell_type": "code",
   "execution_count": 41,
   "metadata": {},
   "outputs": [],
   "source": [
    "X, y = [], []\n",
    "for i in range(len(df_input) - n_input - n_output + 1):\n",
    "    # Select all columns for the input sequence\n",
    "    X.append(df_input.iloc[i:(i + n_input)].values)  \n",
    "    \n",
    "    y.append(df_input['net_load'].iloc[(i + n_input):(i + n_input + n_output)].values)\n",
    "\n",
    "X = np.array(X).reshape((len(X), n_input, -1))  \n",
    "y = np.array(y)"
   ]
  },
  {
   "cell_type": "markdown",
   "metadata": {},
   "source": [
    "# Train and Test Split"
   ]
  },
  {
   "cell_type": "code",
   "execution_count": 44,
   "metadata": {},
   "outputs": [],
   "source": [
    "# Split into train (First ~330 days) and test (30 days)\n",
    "# 1 time step = 30 mins\n",
    "\n",
    "n_total_days = len(X) / (2 * 24)\n",
    "n_test_days = 30\n",
    "n_train_split = int((n_total_days - n_test_days) * 2 * 24)\n",
    "\n",
    "X_train = X[:n_train_split]\n",
    "y_train = y[:n_train_split]\n",
    "\n",
    "X_test = X[n_train_split:]\n",
    "y_test = y[n_train_split:]"
   ]
  },
  {
   "cell_type": "markdown",
   "metadata": {},
   "source": [
    "# LSTM/GRU Sample Model"
   ]
  },
  {
   "cell_type": "markdown",
   "metadata": {},
   "source": []
  }
 ],
 "metadata": {
  "kernelspec": {
   "display_name": "tf",
   "language": "python",
   "name": "python3"
  },
  "language_info": {
   "codemirror_mode": {
    "name": "ipython",
    "version": 3
   },
   "file_extension": ".py",
   "mimetype": "text/x-python",
   "name": "python",
   "nbconvert_exporter": "python",
   "pygments_lexer": "ipython3",
   "version": "3.11.5"
  }
 },
 "nbformat": 4,
 "nbformat_minor": 2
}
