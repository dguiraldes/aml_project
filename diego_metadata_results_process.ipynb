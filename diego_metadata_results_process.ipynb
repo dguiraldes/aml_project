{
 "cells": [
  {
   "cell_type": "code",
   "execution_count": 1,
   "metadata": {},
   "outputs": [],
   "source": [
    "import pandas as pd\n",
    "import numpy as np"
   ]
  },
  {
   "cell_type": "code",
   "execution_count": 2,
   "metadata": {},
   "outputs": [],
   "source": [
    "import os\n",
    "import psycopg2 # PostgreSQL database adapter for Python\n",
    "from dotenv import load_dotenv # Reads the key-value pair from .env file and adds them to environment variable\n",
    "\n",
    "# Load environment variables from .env file\n",
    "load_dotenv()\n",
    "\n",
    "# Accessing credentials\n",
    "db_host = os.getenv(\"DB_HOST\")\n",
    "db_name = os.getenv(\"DB_NAME\")\n",
    "db_user = os.getenv(\"DB_USER\")\n",
    "db_password = os.getenv(\"DB_PASSWORD\")\n",
    "db_port = os.getenv(\"DB_PORT\")"
   ]
  },
  {
   "cell_type": "code",
   "execution_count": 3,
   "metadata": {},
   "outputs": [],
   "source": [
    "# Connect to the database\n",
    "conn = psycopg2.connect(\n",
    "    host=db_host,\n",
    "    dbname=db_name,\n",
    "    user=db_user,\n",
    "    password=db_password,\n",
    "    port=db_port\n",
    ")"
   ]
  },
  {
   "cell_type": "code",
   "execution_count": 4,
   "metadata": {},
   "outputs": [],
   "source": [
    "df = pd.read_excel('Final_Results_Comparison.xlsx', sheet_name= 'FINAL MSE').dropna()\n",
    "df = df[df['Household']!='AVERAGE']"
   ]
  },
  {
   "cell_type": "code",
   "execution_count": 5,
   "metadata": {},
   "outputs": [
    {
     "name": "stderr",
     "output_type": "stream",
     "text": [
      "/var/folders/vt/5wzq72vd2mj_qqq_fwp77h_40000gq/T/ipykernel_74734/2206983961.py:1: UserWarning: pandas only supports SQLAlchemy connectable (engine/connection) or database string URI or sqlite3 DBAPI2 connection. Other DBAPI2 objects are not tested. Please consider using SQLAlchemy.\n",
      "  df_meta = pd.read_sql_query(\"SELECT * FROM agg.t_meta_data_wide_format\", conn)\n"
     ]
    }
   ],
   "source": [
    "df_meta = pd.read_sql_query(\"SELECT * FROM agg.t_meta_data_wide_format\", conn)"
   ]
  },
  {
   "cell_type": "code",
   "execution_count": 6,
   "metadata": {},
   "outputs": [
    {
     "name": "stderr",
     "output_type": "stream",
     "text": [
      "/var/folders/vt/5wzq72vd2mj_qqq_fwp77h_40000gq/T/ipykernel_74734/2693327867.py:1: UserWarning: pandas only supports SQLAlchemy connectable (engine/connection) or database string URI or sqlite3 DBAPI2 connection. Other DBAPI2 objects are not tested. Please consider using SQLAlchemy.\n",
      "  df_meta = pd.read_sql_query(\"SELECT * FROM agg.t_meta_data_wide_format\", conn)\n"
     ]
    }
   ],
   "source": [
    "df_meta = pd.read_sql_query(\"SELECT * FROM agg.t_meta_data_wide_format\", conn)\n",
    "df_meta['weekday_morning_evening'] = df_meta['weekday_morning_evening'].map({'No':0, \n",
    "                                                                             'Rarely':1, \n",
    "                                                                             'Often':2 ,\n",
    "                                                                             'Yes':3})\n",
    "df_meta['someone_home_all_day'] = df_meta['someone_home_all_day'].map({'No':0, \n",
    "                                                                       'Rarely':1, \n",
    "                                                                       'Often':2 ,\n",
    "                                                                       'Yes':3})\n",
    "df_meta['no_resident_adults_16_plus'] = df_meta['no_resident_adults_16_plus'].str.replace('+', '').astype(int)\n",
    "df_meta['continuous_electricity_supply'] = df_meta['continuous_electricity_supply'].map({'No':0, 'Yes':1})\n",
    "df_meta['household_annual_income'] = df_meta['household_annual_income'].map({'16,000<':0, \n",
    "                                        '16,000 - 25,000':1,\n",
    "                                        '16,000 -25,000':1, \n",
    "                                        '25,001 - 45,000':2, \n",
    "                                        '45,001 - 70,000':3,\n",
    "                                        '70,001 - 100,000':4\n",
    "                                        })\n",
    "df_meta['approx_year_of_build'] = df_meta['approx_year_of_build'].map({'Pre-1945':0,\n",
    "                                     '1945-1980':1,\n",
    "                                     '1981-2016':2,\n",
    "                                     'Brand New':3\n",
    "                                    })\n",
    "df_meta['electric_vehicle_owned'] = df_meta['electric_vehicle_owned'].map({'No':0, 'Yes':1})\n",
    "df_meta['heating_fuel'] = df_meta['heating_fuel'].str.replace('mains','main')\n",
    "df_meta['hot_water']= df_meta['hot_water'].replace({'electrc immercion off peak':'electric',\n",
    "                                  'main':'main system',\n",
    "                                  'main system + solar':'main system',\n",
    "                                  'electric immersion, std tariff':'electric',\n",
    "                                  'gas multipoint':'main system',\n",
    "                                  'electric immersion std tariff':'electric',\n",
    "                                  'electric immersion, off peak':'electric'})"
   ]
  },
  {
   "cell_type": "code",
   "execution_count": 7,
   "metadata": {},
   "outputs": [],
   "source": [
    "new_meta = {'newsite': np.dtype('int64'),\n",
    " 'avg_monthly_electricity_bill': np.dtype('float64'),\n",
    " 'no_resident_adults_16_plus': np.dtype('int64'),\n",
    " 'no_resident_adults_over_65': np.dtype('int64'),\n",
    " 'no_resident_children_under_16': np.dtype('int64'),\n",
    " 'weekday_morning_evening': np.dtype('int64'),\n",
    " 'someone_home_all_day': np.dtype('int64'),\n",
    " 'continuous_electricity_supply': np.dtype('int64'),\n",
    " 'household_annual_income': np.dtype('int64'),\n",
    " 'property_type': np.dtype('O'),\n",
    " 'approx_year_of_build': np.dtype('int64'),\n",
    " 'electrical_appliances_home': np.dtype('O'),\n",
    " 'electrical_appliances_home_1': np.dtype('O'),\n",
    " 'electrical_appliances_home_2': np.dtype('O'),\n",
    " 'electrical_appliances_home_3': np.dtype('O'),\n",
    " 'electrical_appliances_home_4': np.dtype('O'),\n",
    " 'electrical_appliances_home_5': np.dtype('O'),\n",
    " 'electrical_appliances_home_6': np.dtype('O'),\n",
    " 'electrical_appliances_home_7': np.dtype('O'),\n",
    " 'electrical_appliances_home_8': np.dtype('O'),\n",
    " 'electrical_appliances_home_9': np.dtype('O'),\n",
    " 'electrical_appliances_home_10': np.dtype('O'),\n",
    " 'electrical_appliances_home_11': np.dtype('O'),\n",
    " 'electrical_appliances_home_12': np.dtype('O'),\n",
    " 'electrical_appliances_home_13': np.dtype('O'),\n",
    " 'electrical_appliances_home_14': np.dtype('O'),\n",
    " 'electrical_appliances_home_15': np.dtype('O'),\n",
    " 'electrical_appliances_home_16': np.dtype('O'),\n",
    " 'electrical_appliances_home_17': np.dtype('O'),\n",
    " 'electrical_appliances_home_18': np.dtype('O'),\n",
    " 'electric_vehicle_owned': np.dtype('int'),\n",
    " 'dwelling_type_1': np.dtype('O'),\n",
    " 'dwelling_type_2': np.dtype('O'),\n",
    " 'floor_area': np.dtype('float64'),\n",
    " 'heating_fuel': np.dtype('O'),\n",
    " 'hot_water': np.dtype('O'),\n",
    " 'besskwh': np.dtype('float64'),\n",
    " 'besskw': np.dtype('float64'),\n",
    " 'pvkw': np.dtype('float64')}"
   ]
  },
  {
   "cell_type": "code",
   "execution_count": 8,
   "metadata": {},
   "outputs": [],
   "source": [
    "#change types of df_meta according to new_meta\n",
    "df_meta = df_meta.astype(new_meta)\n",
    "df_meta = df_meta[new_meta.keys()]"
   ]
  },
  {
   "cell_type": "code",
   "execution_count": 9,
   "metadata": {},
   "outputs": [],
   "source": [
    "new_col_names = {col:'has_'+df_meta[col].value_counts().index[0] for col in df_meta.columns[df_meta.columns.str.startswith('electrical_appliances_home')]}\n",
    "df_meta = df_meta.rename(columns=new_col_names)\n",
    "for col in new_col_names.values():\n",
    "    df_meta[col] = (~df_meta[col].isna()).astype(int)"
   ]
  },
  {
   "cell_type": "code",
   "execution_count": 10,
   "metadata": {},
   "outputs": [],
   "source": [
    "df_lstm = df[['Household','GRU']].merge(df_meta, left_on='Household', right_on='newsite').drop(columns=['Household'])"
   ]
  },
  {
   "cell_type": "code",
   "execution_count": 11,
   "metadata": {},
   "outputs": [],
   "source": [
    "from sqlalchemy import create_engine\n",
    "engine = create_engine(f'postgresql://{db_user}:{db_password}@{db_host}:{db_port}/{db_name}')\n"
   ]
  },
  {
   "cell_type": "code",
   "execution_count": 12,
   "metadata": {},
   "outputs": [
    {
     "data": {
      "text/plain": [
       "41"
      ]
     },
     "execution_count": 12,
     "metadata": {},
     "output_type": "execute_result"
    }
   ],
   "source": [
    "df_lstm.to_sql('gru_meta', engine, schema='results',if_exists='replace', index=False)"
   ]
  },
  {
   "cell_type": "code",
   "execution_count": null,
   "metadata": {},
   "outputs": [],
   "source": []
  }
 ],
 "metadata": {
  "kernelspec": {
   "display_name": "amlenv",
   "language": "python",
   "name": "python3"
  },
  "language_info": {
   "codemirror_mode": {
    "name": "ipython",
    "version": 3
   },
   "file_extension": ".py",
   "mimetype": "text/x-python",
   "name": "python",
   "nbconvert_exporter": "python",
   "pygments_lexer": "ipython3",
   "version": "3.11.2"
  }
 },
 "nbformat": 4,
 "nbformat_minor": 2
}
