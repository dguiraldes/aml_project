{
 "cells": [
  {
   "cell_type": "markdown",
   "metadata": {},
   "source": [
    "# Import libraries"
   ]
  },
  {
   "cell_type": "code",
   "execution_count": 224,
   "metadata": {},
   "outputs": [],
   "source": [
    "import os\n",
    "import pandas as pd\n",
    "import numpy as np\n",
    "import os\n",
    "import psycopg2 # PostgreSQL database adapter for Python\n",
    "from dotenv import load_dotenv # Reads the key-value pair from .env file and adds them to environment variable\n",
    "import pandas as pd\n",
    "import matplotlib.pyplot as plt\n",
    "from sklearn.preprocessing import MinMaxScaler\n",
    "\n",
    "import tensorflow as tf\n",
    "from tensorflow.keras.models import Sequential\n",
    "from tensorflow.keras.layers import *\n",
    "from tensorflow.keras.callbacks import ModelCheckpoint\n",
    "from tensorflow.keras.losses import MeanSquaredError\n",
    "from tensorflow.keras.losses import MeanAbsoluteError\n",
    "from tensorflow.keras.metrics import RootMeanSquaredError\n",
    "from tensorflow.keras.optimizers import Adam\n",
    "from tensorflow.keras.preprocessing.sequence import TimeseriesGenerator\n",
    "from tensorflow.keras.models import load_model\n",
    "from sklearn.metrics import mean_absolute_error\n",
    "from sklearn.model_selection import train_test_split"
   ]
  },
  {
   "cell_type": "markdown",
   "metadata": {},
   "source": [
    "# Connect to database"
   ]
  },
  {
   "cell_type": "code",
   "execution_count": 225,
   "metadata": {},
   "outputs": [],
   "source": [
    "# Load environment variables from .env file\n",
    "load_dotenv()\n",
    "\n",
    "# Accessing credentials\n",
    "db_host = os.getenv(\"DB_HOST\")\n",
    "db_name = os.getenv(\"DB_NAME\")\n",
    "db_user = os.getenv(\"DB_USER\")\n",
    "db_password = os.getenv(\"DB_PASSWORD\")\n",
    "db_port = os.getenv(\"DB_PORT\")"
   ]
  },
  {
   "cell_type": "code",
   "execution_count": 226,
   "metadata": {},
   "outputs": [],
   "source": [
    "# Connect to the database\n",
    "conn = psycopg2.connect(\n",
    "    host=db_host,\n",
    "    dbname=db_name,\n",
    "    user=db_user,\n",
    "    password=db_password,\n",
    "    port=db_port\n",
    ")"
   ]
  },
  {
   "cell_type": "markdown",
   "metadata": {},
   "source": [
    "# Retrieve relevant data from the database"
   ]
  },
  {
   "cell_type": "code",
   "execution_count": 227,
   "metadata": {},
   "outputs": [],
   "source": [
    "query=\"\"\"\n",
    "    select *\n",
    "    from agg.tidy_data_30min \n",
    "    where site = 64\n",
    "\"\"\""
   ]
  },
  {
   "cell_type": "code",
   "execution_count": 228,
   "metadata": {},
   "outputs": [
    {
     "name": "stderr",
     "output_type": "stream",
     "text": [
      "C:\\Users\\elian\\AppData\\Local\\Temp\\ipykernel_148128\\1553155693.py:1: UserWarning: pandas only supports SQLAlchemy connectable (engine/connection) or database string URI or sqlite3 DBAPI2 connection. Other DBAPI2 objects are not tested. Please consider using SQLAlchemy.\n",
      "  df = pd.read_sql_query(query, conn)\n"
     ]
    }
   ],
   "source": [
    "df = pd.read_sql_query(query, conn)"
   ]
  },
  {
   "cell_type": "code",
   "execution_count": 229,
   "metadata": {},
   "outputs": [
    {
     "name": "stdout",
     "output_type": "stream",
     "text": [
      "<class 'pandas.core.frame.DataFrame'>\n",
      "RangeIndex: 17539 entries, 0 to 17538\n",
      "Data columns (total 21 columns):\n",
      " #   Column                     Non-Null Count  Dtype              \n",
      "---  ------                     --------------  -----              \n",
      " 0   timestamp                  17539 non-null  datetime64[ns, UTC]\n",
      " 1   site                       17539 non-null  int64              \n",
      " 2   year                       17539 non-null  int64              \n",
      " 3   month                      17539 non-null  int64              \n",
      " 4   day                        17539 non-null  int64              \n",
      " 5   hour                       17539 non-null  int64              \n",
      " 6   minute                     17539 non-null  int64              \n",
      " 7   day_of_week                17539 non-null  int64              \n",
      " 8   season                     17539 non-null  int64              \n",
      " 9   net_load                   17539 non-null  float64            \n",
      " 10  precipitation              17045 non-null  float64            \n",
      " 11  precipitation_probability  17045 non-null  float64            \n",
      " 12  wind_direction             17045 non-null  float64            \n",
      " 13  wind_speed                 17045 non-null  float64            \n",
      " 14  solar_radiation            17045 non-null  float64            \n",
      " 15  sunshine_duration          17045 non-null  float64            \n",
      " 16  avg_net_load               17539 non-null  float64            \n",
      " 17  q25_net_load               17539 non-null  float64            \n",
      " 18  q75_net_load               17539 non-null  float64            \n",
      " 19  median_net_load            17539 non-null  float64            \n",
      " 20  weekend_or_bank_holiday    17539 non-null  int64              \n",
      "dtypes: datetime64[ns, UTC](1), float64(11), int64(9)\n",
      "memory usage: 2.8 MB\n"
     ]
    }
   ],
   "source": [
    "df.info()"
   ]
  },
  {
   "cell_type": "code",
   "execution_count": 230,
   "metadata": {},
   "outputs": [
    {
     "data": {
      "text/html": [
       "<div>\n",
       "<style scoped>\n",
       "    .dataframe tbody tr th:only-of-type {\n",
       "        vertical-align: middle;\n",
       "    }\n",
       "\n",
       "    .dataframe tbody tr th {\n",
       "        vertical-align: top;\n",
       "    }\n",
       "\n",
       "    .dataframe thead th {\n",
       "        text-align: right;\n",
       "    }\n",
       "</style>\n",
       "<table border=\"1\" class=\"dataframe\">\n",
       "  <thead>\n",
       "    <tr style=\"text-align: right;\">\n",
       "      <th></th>\n",
       "      <th>timestamp</th>\n",
       "      <th>site</th>\n",
       "      <th>year</th>\n",
       "      <th>month</th>\n",
       "      <th>day</th>\n",
       "      <th>hour</th>\n",
       "      <th>minute</th>\n",
       "      <th>day_of_week</th>\n",
       "      <th>season</th>\n",
       "      <th>net_load</th>\n",
       "      <th>...</th>\n",
       "      <th>precipitation_probability</th>\n",
       "      <th>wind_direction</th>\n",
       "      <th>wind_speed</th>\n",
       "      <th>solar_radiation</th>\n",
       "      <th>sunshine_duration</th>\n",
       "      <th>avg_net_load</th>\n",
       "      <th>q25_net_load</th>\n",
       "      <th>q75_net_load</th>\n",
       "      <th>median_net_load</th>\n",
       "      <th>weekend_or_bank_holiday</th>\n",
       "    </tr>\n",
       "  </thead>\n",
       "  <tbody>\n",
       "    <tr>\n",
       "      <th>0</th>\n",
       "      <td>2019-04-29 05:30:00+00:00</td>\n",
       "      <td>64</td>\n",
       "      <td>2019</td>\n",
       "      <td>4</td>\n",
       "      <td>29</td>\n",
       "      <td>6</td>\n",
       "      <td>30</td>\n",
       "      <td>0</td>\n",
       "      <td>2</td>\n",
       "      <td>14.43</td>\n",
       "      <td>...</td>\n",
       "      <td>47.0</td>\n",
       "      <td>154.0</td>\n",
       "      <td>3.0</td>\n",
       "      <td>4.0</td>\n",
       "      <td>1.0</td>\n",
       "      <td>447.46</td>\n",
       "      <td>50.6525</td>\n",
       "      <td>324.41</td>\n",
       "      <td>190.21</td>\n",
       "      <td>0</td>\n",
       "    </tr>\n",
       "    <tr>\n",
       "      <th>1</th>\n",
       "      <td>2019-04-12 05:30:00+00:00</td>\n",
       "      <td>64</td>\n",
       "      <td>2019</td>\n",
       "      <td>4</td>\n",
       "      <td>12</td>\n",
       "      <td>6</td>\n",
       "      <td>30</td>\n",
       "      <td>4</td>\n",
       "      <td>2</td>\n",
       "      <td>15.21</td>\n",
       "      <td>...</td>\n",
       "      <td>5.0</td>\n",
       "      <td>105.0</td>\n",
       "      <td>8.0</td>\n",
       "      <td>3.0</td>\n",
       "      <td>0.0</td>\n",
       "      <td>402.89</td>\n",
       "      <td>23.3025</td>\n",
       "      <td>336.98</td>\n",
       "      <td>204.90</td>\n",
       "      <td>0</td>\n",
       "    </tr>\n",
       "    <tr>\n",
       "      <th>2</th>\n",
       "      <td>2019-04-12 06:00:00+00:00</td>\n",
       "      <td>64</td>\n",
       "      <td>2019</td>\n",
       "      <td>4</td>\n",
       "      <td>12</td>\n",
       "      <td>7</td>\n",
       "      <td>0</td>\n",
       "      <td>4</td>\n",
       "      <td>2</td>\n",
       "      <td>13.57</td>\n",
       "      <td>...</td>\n",
       "      <td>6.0</td>\n",
       "      <td>114.0</td>\n",
       "      <td>8.0</td>\n",
       "      <td>24.0</td>\n",
       "      <td>22.0</td>\n",
       "      <td>439.75</td>\n",
       "      <td>16.7325</td>\n",
       "      <td>508.88</td>\n",
       "      <td>231.04</td>\n",
       "      <td>0</td>\n",
       "    </tr>\n",
       "    <tr>\n",
       "      <th>3</th>\n",
       "      <td>2019-04-12 06:30:00+00:00</td>\n",
       "      <td>64</td>\n",
       "      <td>2019</td>\n",
       "      <td>4</td>\n",
       "      <td>12</td>\n",
       "      <td>7</td>\n",
       "      <td>30</td>\n",
       "      <td>4</td>\n",
       "      <td>2</td>\n",
       "      <td>12.69</td>\n",
       "      <td>...</td>\n",
       "      <td>6.0</td>\n",
       "      <td>114.0</td>\n",
       "      <td>8.0</td>\n",
       "      <td>24.0</td>\n",
       "      <td>22.0</td>\n",
       "      <td>386.10</td>\n",
       "      <td>15.5350</td>\n",
       "      <td>494.11</td>\n",
       "      <td>233.37</td>\n",
       "      <td>0</td>\n",
       "    </tr>\n",
       "    <tr>\n",
       "      <th>4</th>\n",
       "      <td>2019-04-12 07:00:00+00:00</td>\n",
       "      <td>64</td>\n",
       "      <td>2019</td>\n",
       "      <td>4</td>\n",
       "      <td>12</td>\n",
       "      <td>8</td>\n",
       "      <td>0</td>\n",
       "      <td>4</td>\n",
       "      <td>2</td>\n",
       "      <td>14.14</td>\n",
       "      <td>...</td>\n",
       "      <td>6.0</td>\n",
       "      <td>107.0</td>\n",
       "      <td>9.0</td>\n",
       "      <td>60.0</td>\n",
       "      <td>23.0</td>\n",
       "      <td>318.46</td>\n",
       "      <td>14.7425</td>\n",
       "      <td>454.96</td>\n",
       "      <td>127.30</td>\n",
       "      <td>0</td>\n",
       "    </tr>\n",
       "    <tr>\n",
       "      <th>...</th>\n",
       "      <td>...</td>\n",
       "      <td>...</td>\n",
       "      <td>...</td>\n",
       "      <td>...</td>\n",
       "      <td>...</td>\n",
       "      <td>...</td>\n",
       "      <td>...</td>\n",
       "      <td>...</td>\n",
       "      <td>...</td>\n",
       "      <td>...</td>\n",
       "      <td>...</td>\n",
       "      <td>...</td>\n",
       "      <td>...</td>\n",
       "      <td>...</td>\n",
       "      <td>...</td>\n",
       "      <td>...</td>\n",
       "      <td>...</td>\n",
       "      <td>...</td>\n",
       "      <td>...</td>\n",
       "      <td>...</td>\n",
       "      <td>...</td>\n",
       "    </tr>\n",
       "    <tr>\n",
       "      <th>17534</th>\n",
       "      <td>2019-04-12 03:30:00+00:00</td>\n",
       "      <td>64</td>\n",
       "      <td>2019</td>\n",
       "      <td>4</td>\n",
       "      <td>12</td>\n",
       "      <td>4</td>\n",
       "      <td>30</td>\n",
       "      <td>4</td>\n",
       "      <td>2</td>\n",
       "      <td>17.78</td>\n",
       "      <td>...</td>\n",
       "      <td>3.0</td>\n",
       "      <td>110.0</td>\n",
       "      <td>8.0</td>\n",
       "      <td>0.0</td>\n",
       "      <td>0.0</td>\n",
       "      <td>207.12</td>\n",
       "      <td>16.2575</td>\n",
       "      <td>160.63</td>\n",
       "      <td>59.75</td>\n",
       "      <td>0</td>\n",
       "    </tr>\n",
       "    <tr>\n",
       "      <th>17535</th>\n",
       "      <td>2019-04-12 04:00:00+00:00</td>\n",
       "      <td>64</td>\n",
       "      <td>2019</td>\n",
       "      <td>4</td>\n",
       "      <td>12</td>\n",
       "      <td>5</td>\n",
       "      <td>0</td>\n",
       "      <td>4</td>\n",
       "      <td>2</td>\n",
       "      <td>14.66</td>\n",
       "      <td>...</td>\n",
       "      <td>4.0</td>\n",
       "      <td>107.0</td>\n",
       "      <td>8.0</td>\n",
       "      <td>0.0</td>\n",
       "      <td>0.0</td>\n",
       "      <td>399.33</td>\n",
       "      <td>15.5325</td>\n",
       "      <td>223.96</td>\n",
       "      <td>95.28</td>\n",
       "      <td>0</td>\n",
       "    </tr>\n",
       "    <tr>\n",
       "      <th>17536</th>\n",
       "      <td>2019-04-12 04:30:00+00:00</td>\n",
       "      <td>64</td>\n",
       "      <td>2019</td>\n",
       "      <td>4</td>\n",
       "      <td>12</td>\n",
       "      <td>5</td>\n",
       "      <td>30</td>\n",
       "      <td>4</td>\n",
       "      <td>2</td>\n",
       "      <td>14.50</td>\n",
       "      <td>...</td>\n",
       "      <td>4.0</td>\n",
       "      <td>107.0</td>\n",
       "      <td>8.0</td>\n",
       "      <td>0.0</td>\n",
       "      <td>0.0</td>\n",
       "      <td>362.95</td>\n",
       "      <td>17.0550</td>\n",
       "      <td>276.41</td>\n",
       "      <td>115.18</td>\n",
       "      <td>0</td>\n",
       "    </tr>\n",
       "    <tr>\n",
       "      <th>17537</th>\n",
       "      <td>2019-04-12 05:00:00+00:00</td>\n",
       "      <td>64</td>\n",
       "      <td>2019</td>\n",
       "      <td>4</td>\n",
       "      <td>12</td>\n",
       "      <td>6</td>\n",
       "      <td>0</td>\n",
       "      <td>4</td>\n",
       "      <td>2</td>\n",
       "      <td>15.09</td>\n",
       "      <td>...</td>\n",
       "      <td>5.0</td>\n",
       "      <td>105.0</td>\n",
       "      <td>8.0</td>\n",
       "      <td>3.0</td>\n",
       "      <td>0.0</td>\n",
       "      <td>333.54</td>\n",
       "      <td>20.0975</td>\n",
       "      <td>320.72</td>\n",
       "      <td>130.73</td>\n",
       "      <td>0</td>\n",
       "    </tr>\n",
       "    <tr>\n",
       "      <th>17538</th>\n",
       "      <td>2020-03-31 15:00:00+00:00</td>\n",
       "      <td>64</td>\n",
       "      <td>2020</td>\n",
       "      <td>3</td>\n",
       "      <td>31</td>\n",
       "      <td>16</td>\n",
       "      <td>0</td>\n",
       "      <td>1</td>\n",
       "      <td>2</td>\n",
       "      <td>-227.09</td>\n",
       "      <td>...</td>\n",
       "      <td>NaN</td>\n",
       "      <td>NaN</td>\n",
       "      <td>NaN</td>\n",
       "      <td>NaN</td>\n",
       "      <td>NaN</td>\n",
       "      <td>-135.04</td>\n",
       "      <td>-198.2150</td>\n",
       "      <td>18.22</td>\n",
       "      <td>-0.45</td>\n",
       "      <td>0</td>\n",
       "    </tr>\n",
       "  </tbody>\n",
       "</table>\n",
       "<p>17539 rows × 21 columns</p>\n",
       "</div>"
      ],
      "text/plain": [
       "                      timestamp  site  year  month  day  hour  minute  \\\n",
       "0     2019-04-29 05:30:00+00:00    64  2019      4   29     6      30   \n",
       "1     2019-04-12 05:30:00+00:00    64  2019      4   12     6      30   \n",
       "2     2019-04-12 06:00:00+00:00    64  2019      4   12     7       0   \n",
       "3     2019-04-12 06:30:00+00:00    64  2019      4   12     7      30   \n",
       "4     2019-04-12 07:00:00+00:00    64  2019      4   12     8       0   \n",
       "...                         ...   ...   ...    ...  ...   ...     ...   \n",
       "17534 2019-04-12 03:30:00+00:00    64  2019      4   12     4      30   \n",
       "17535 2019-04-12 04:00:00+00:00    64  2019      4   12     5       0   \n",
       "17536 2019-04-12 04:30:00+00:00    64  2019      4   12     5      30   \n",
       "17537 2019-04-12 05:00:00+00:00    64  2019      4   12     6       0   \n",
       "17538 2020-03-31 15:00:00+00:00    64  2020      3   31    16       0   \n",
       "\n",
       "       day_of_week  season  net_load  ...  precipitation_probability  \\\n",
       "0                0       2     14.43  ...                       47.0   \n",
       "1                4       2     15.21  ...                        5.0   \n",
       "2                4       2     13.57  ...                        6.0   \n",
       "3                4       2     12.69  ...                        6.0   \n",
       "4                4       2     14.14  ...                        6.0   \n",
       "...            ...     ...       ...  ...                        ...   \n",
       "17534            4       2     17.78  ...                        3.0   \n",
       "17535            4       2     14.66  ...                        4.0   \n",
       "17536            4       2     14.50  ...                        4.0   \n",
       "17537            4       2     15.09  ...                        5.0   \n",
       "17538            1       2   -227.09  ...                        NaN   \n",
       "\n",
       "       wind_direction  wind_speed  solar_radiation  sunshine_duration  \\\n",
       "0               154.0         3.0              4.0                1.0   \n",
       "1               105.0         8.0              3.0                0.0   \n",
       "2               114.0         8.0             24.0               22.0   \n",
       "3               114.0         8.0             24.0               22.0   \n",
       "4               107.0         9.0             60.0               23.0   \n",
       "...               ...         ...              ...                ...   \n",
       "17534           110.0         8.0              0.0                0.0   \n",
       "17535           107.0         8.0              0.0                0.0   \n",
       "17536           107.0         8.0              0.0                0.0   \n",
       "17537           105.0         8.0              3.0                0.0   \n",
       "17538             NaN         NaN              NaN                NaN   \n",
       "\n",
       "       avg_net_load  q25_net_load  q75_net_load  median_net_load  \\\n",
       "0            447.46       50.6525        324.41           190.21   \n",
       "1            402.89       23.3025        336.98           204.90   \n",
       "2            439.75       16.7325        508.88           231.04   \n",
       "3            386.10       15.5350        494.11           233.37   \n",
       "4            318.46       14.7425        454.96           127.30   \n",
       "...             ...           ...           ...              ...   \n",
       "17534        207.12       16.2575        160.63            59.75   \n",
       "17535        399.33       15.5325        223.96            95.28   \n",
       "17536        362.95       17.0550        276.41           115.18   \n",
       "17537        333.54       20.0975        320.72           130.73   \n",
       "17538       -135.04     -198.2150         18.22            -0.45   \n",
       "\n",
       "       weekend_or_bank_holiday  \n",
       "0                            0  \n",
       "1                            0  \n",
       "2                            0  \n",
       "3                            0  \n",
       "4                            0  \n",
       "...                        ...  \n",
       "17534                        0  \n",
       "17535                        0  \n",
       "17536                        0  \n",
       "17537                        0  \n",
       "17538                        0  \n",
       "\n",
       "[17539 rows x 21 columns]"
      ]
     },
     "execution_count": 230,
     "metadata": {},
     "output_type": "execute_result"
    }
   ],
   "source": [
    "df"
   ]
  },
  {
   "cell_type": "code",
   "execution_count": 231,
   "metadata": {},
   "outputs": [
    {
     "data": {
      "text/html": [
       "<div>\n",
       "<style scoped>\n",
       "    .dataframe tbody tr th:only-of-type {\n",
       "        vertical-align: middle;\n",
       "    }\n",
       "\n",
       "    .dataframe tbody tr th {\n",
       "        vertical-align: top;\n",
       "    }\n",
       "\n",
       "    .dataframe thead th {\n",
       "        text-align: right;\n",
       "    }\n",
       "</style>\n",
       "<table border=\"1\" class=\"dataframe\">\n",
       "  <thead>\n",
       "    <tr style=\"text-align: right;\">\n",
       "      <th></th>\n",
       "      <th>site</th>\n",
       "      <th>year</th>\n",
       "      <th>month</th>\n",
       "      <th>day</th>\n",
       "      <th>hour</th>\n",
       "      <th>minute</th>\n",
       "      <th>day_of_week</th>\n",
       "      <th>season</th>\n",
       "      <th>net_load</th>\n",
       "      <th>precipitation</th>\n",
       "      <th>precipitation_probability</th>\n",
       "      <th>wind_direction</th>\n",
       "      <th>wind_speed</th>\n",
       "      <th>solar_radiation</th>\n",
       "      <th>sunshine_duration</th>\n",
       "      <th>avg_net_load</th>\n",
       "      <th>q25_net_load</th>\n",
       "      <th>q75_net_load</th>\n",
       "      <th>median_net_load</th>\n",
       "      <th>weekend_or_bank_holiday</th>\n",
       "    </tr>\n",
       "    <tr>\n",
       "      <th>timestamp</th>\n",
       "      <th></th>\n",
       "      <th></th>\n",
       "      <th></th>\n",
       "      <th></th>\n",
       "      <th></th>\n",
       "      <th></th>\n",
       "      <th></th>\n",
       "      <th></th>\n",
       "      <th></th>\n",
       "      <th></th>\n",
       "      <th></th>\n",
       "      <th></th>\n",
       "      <th></th>\n",
       "      <th></th>\n",
       "      <th></th>\n",
       "      <th></th>\n",
       "      <th></th>\n",
       "      <th></th>\n",
       "      <th></th>\n",
       "      <th></th>\n",
       "    </tr>\n",
       "  </thead>\n",
       "  <tbody>\n",
       "    <tr>\n",
       "      <th>2019-04-01 00:00:00+00:00</th>\n",
       "      <td>64</td>\n",
       "      <td>2019</td>\n",
       "      <td>4</td>\n",
       "      <td>1</td>\n",
       "      <td>1</td>\n",
       "      <td>0</td>\n",
       "      <td>0</td>\n",
       "      <td>2</td>\n",
       "      <td>14.620</td>\n",
       "      <td>0.0</td>\n",
       "      <td>2.0</td>\n",
       "      <td>97.0</td>\n",
       "      <td>12.0</td>\n",
       "      <td>0.0</td>\n",
       "      <td>0.0</td>\n",
       "      <td>152.86</td>\n",
       "      <td>15.4150</td>\n",
       "      <td>138.56</td>\n",
       "      <td>18.69</td>\n",
       "      <td>0</td>\n",
       "    </tr>\n",
       "    <tr>\n",
       "      <th>2019-04-01 00:30:00+00:00</th>\n",
       "      <td>64</td>\n",
       "      <td>2019</td>\n",
       "      <td>4</td>\n",
       "      <td>1</td>\n",
       "      <td>1</td>\n",
       "      <td>30</td>\n",
       "      <td>0</td>\n",
       "      <td>2</td>\n",
       "      <td>16.700</td>\n",
       "      <td>0.0</td>\n",
       "      <td>2.0</td>\n",
       "      <td>97.0</td>\n",
       "      <td>12.0</td>\n",
       "      <td>0.0</td>\n",
       "      <td>0.0</td>\n",
       "      <td>204.52</td>\n",
       "      <td>15.3175</td>\n",
       "      <td>166.11</td>\n",
       "      <td>18.60</td>\n",
       "      <td>0</td>\n",
       "    </tr>\n",
       "    <tr>\n",
       "      <th>2019-04-01 01:00:00+00:00</th>\n",
       "      <td>64</td>\n",
       "      <td>2019</td>\n",
       "      <td>4</td>\n",
       "      <td>1</td>\n",
       "      <td>2</td>\n",
       "      <td>0</td>\n",
       "      <td>0</td>\n",
       "      <td>2</td>\n",
       "      <td>20.270</td>\n",
       "      <td>0.0</td>\n",
       "      <td>3.0</td>\n",
       "      <td>99.0</td>\n",
       "      <td>11.0</td>\n",
       "      <td>0.0</td>\n",
       "      <td>0.0</td>\n",
       "      <td>214.66</td>\n",
       "      <td>15.8375</td>\n",
       "      <td>179.70</td>\n",
       "      <td>31.03</td>\n",
       "      <td>0</td>\n",
       "    </tr>\n",
       "    <tr>\n",
       "      <th>2019-04-01 01:30:00+00:00</th>\n",
       "      <td>64</td>\n",
       "      <td>2019</td>\n",
       "      <td>4</td>\n",
       "      <td>1</td>\n",
       "      <td>2</td>\n",
       "      <td>30</td>\n",
       "      <td>0</td>\n",
       "      <td>2</td>\n",
       "      <td>15.870</td>\n",
       "      <td>0.0</td>\n",
       "      <td>3.0</td>\n",
       "      <td>99.0</td>\n",
       "      <td>11.0</td>\n",
       "      <td>0.0</td>\n",
       "      <td>0.0</td>\n",
       "      <td>209.72</td>\n",
       "      <td>15.8775</td>\n",
       "      <td>177.33</td>\n",
       "      <td>52.99</td>\n",
       "      <td>0</td>\n",
       "    </tr>\n",
       "    <tr>\n",
       "      <th>2019-04-01 02:00:00+00:00</th>\n",
       "      <td>64</td>\n",
       "      <td>2019</td>\n",
       "      <td>4</td>\n",
       "      <td>1</td>\n",
       "      <td>3</td>\n",
       "      <td>0</td>\n",
       "      <td>0</td>\n",
       "      <td>2</td>\n",
       "      <td>15.120</td>\n",
       "      <td>0.0</td>\n",
       "      <td>6.0</td>\n",
       "      <td>100.0</td>\n",
       "      <td>11.0</td>\n",
       "      <td>0.0</td>\n",
       "      <td>0.0</td>\n",
       "      <td>230.59</td>\n",
       "      <td>16.3350</td>\n",
       "      <td>212.62</td>\n",
       "      <td>65.21</td>\n",
       "      <td>0</td>\n",
       "    </tr>\n",
       "    <tr>\n",
       "      <th>...</th>\n",
       "      <td>...</td>\n",
       "      <td>...</td>\n",
       "      <td>...</td>\n",
       "      <td>...</td>\n",
       "      <td>...</td>\n",
       "      <td>...</td>\n",
       "      <td>...</td>\n",
       "      <td>...</td>\n",
       "      <td>...</td>\n",
       "      <td>...</td>\n",
       "      <td>...</td>\n",
       "      <td>...</td>\n",
       "      <td>...</td>\n",
       "      <td>...</td>\n",
       "      <td>...</td>\n",
       "      <td>...</td>\n",
       "      <td>...</td>\n",
       "      <td>...</td>\n",
       "      <td>...</td>\n",
       "      <td>...</td>\n",
       "    </tr>\n",
       "    <tr>\n",
       "      <th>2020-03-31 20:30:00+00:00</th>\n",
       "      <td>64</td>\n",
       "      <td>2020</td>\n",
       "      <td>3</td>\n",
       "      <td>31</td>\n",
       "      <td>21</td>\n",
       "      <td>30</td>\n",
       "      <td>1</td>\n",
       "      <td>2</td>\n",
       "      <td>14.390</td>\n",
       "      <td>NaN</td>\n",
       "      <td>NaN</td>\n",
       "      <td>NaN</td>\n",
       "      <td>NaN</td>\n",
       "      <td>NaN</td>\n",
       "      <td>NaN</td>\n",
       "      <td>282.00</td>\n",
       "      <td>15.4650</td>\n",
       "      <td>264.64</td>\n",
       "      <td>19.82</td>\n",
       "      <td>0</td>\n",
       "    </tr>\n",
       "    <tr>\n",
       "      <th>2020-03-31 21:00:00+00:00</th>\n",
       "      <td>64</td>\n",
       "      <td>2020</td>\n",
       "      <td>3</td>\n",
       "      <td>31</td>\n",
       "      <td>22</td>\n",
       "      <td>0</td>\n",
       "      <td>1</td>\n",
       "      <td>2</td>\n",
       "      <td>14.710</td>\n",
       "      <td>NaN</td>\n",
       "      <td>NaN</td>\n",
       "      <td>NaN</td>\n",
       "      <td>NaN</td>\n",
       "      <td>NaN</td>\n",
       "      <td>NaN</td>\n",
       "      <td>321.01</td>\n",
       "      <td>14.5975</td>\n",
       "      <td>220.50</td>\n",
       "      <td>16.55</td>\n",
       "      <td>0</td>\n",
       "    </tr>\n",
       "    <tr>\n",
       "      <th>2020-03-31 21:30:00+00:00</th>\n",
       "      <td>64</td>\n",
       "      <td>2020</td>\n",
       "      <td>3</td>\n",
       "      <td>31</td>\n",
       "      <td>22</td>\n",
       "      <td>30</td>\n",
       "      <td>1</td>\n",
       "      <td>2</td>\n",
       "      <td>14.950</td>\n",
       "      <td>NaN</td>\n",
       "      <td>NaN</td>\n",
       "      <td>NaN</td>\n",
       "      <td>NaN</td>\n",
       "      <td>NaN</td>\n",
       "      <td>NaN</td>\n",
       "      <td>353.42</td>\n",
       "      <td>14.7625</td>\n",
       "      <td>206.66</td>\n",
       "      <td>30.23</td>\n",
       "      <td>0</td>\n",
       "    </tr>\n",
       "    <tr>\n",
       "      <th>2020-03-31 22:00:00+00:00</th>\n",
       "      <td>64</td>\n",
       "      <td>2020</td>\n",
       "      <td>3</td>\n",
       "      <td>31</td>\n",
       "      <td>23</td>\n",
       "      <td>0</td>\n",
       "      <td>1</td>\n",
       "      <td>2</td>\n",
       "      <td>14.940</td>\n",
       "      <td>NaN</td>\n",
       "      <td>NaN</td>\n",
       "      <td>NaN</td>\n",
       "      <td>NaN</td>\n",
       "      <td>NaN</td>\n",
       "      <td>NaN</td>\n",
       "      <td>219.42</td>\n",
       "      <td>15.3625</td>\n",
       "      <td>177.28</td>\n",
       "      <td>21.27</td>\n",
       "      <td>0</td>\n",
       "    </tr>\n",
       "    <tr>\n",
       "      <th>2020-03-31 22:30:00+00:00</th>\n",
       "      <td>64</td>\n",
       "      <td>2020</td>\n",
       "      <td>3</td>\n",
       "      <td>31</td>\n",
       "      <td>23</td>\n",
       "      <td>30</td>\n",
       "      <td>1</td>\n",
       "      <td>2</td>\n",
       "      <td>16.035</td>\n",
       "      <td>NaN</td>\n",
       "      <td>NaN</td>\n",
       "      <td>NaN</td>\n",
       "      <td>NaN</td>\n",
       "      <td>NaN</td>\n",
       "      <td>NaN</td>\n",
       "      <td>193.11</td>\n",
       "      <td>15.4000</td>\n",
       "      <td>173.33</td>\n",
       "      <td>53.91</td>\n",
       "      <td>0</td>\n",
       "    </tr>\n",
       "  </tbody>\n",
       "</table>\n",
       "<p>17539 rows × 20 columns</p>\n",
       "</div>"
      ],
      "text/plain": [
       "                           site  year  month  day  hour  minute  day_of_week  \\\n",
       "timestamp                                                                      \n",
       "2019-04-01 00:00:00+00:00    64  2019      4    1     1       0            0   \n",
       "2019-04-01 00:30:00+00:00    64  2019      4    1     1      30            0   \n",
       "2019-04-01 01:00:00+00:00    64  2019      4    1     2       0            0   \n",
       "2019-04-01 01:30:00+00:00    64  2019      4    1     2      30            0   \n",
       "2019-04-01 02:00:00+00:00    64  2019      4    1     3       0            0   \n",
       "...                         ...   ...    ...  ...   ...     ...          ...   \n",
       "2020-03-31 20:30:00+00:00    64  2020      3   31    21      30            1   \n",
       "2020-03-31 21:00:00+00:00    64  2020      3   31    22       0            1   \n",
       "2020-03-31 21:30:00+00:00    64  2020      3   31    22      30            1   \n",
       "2020-03-31 22:00:00+00:00    64  2020      3   31    23       0            1   \n",
       "2020-03-31 22:30:00+00:00    64  2020      3   31    23      30            1   \n",
       "\n",
       "                           season  net_load  precipitation  \\\n",
       "timestamp                                                    \n",
       "2019-04-01 00:00:00+00:00       2    14.620            0.0   \n",
       "2019-04-01 00:30:00+00:00       2    16.700            0.0   \n",
       "2019-04-01 01:00:00+00:00       2    20.270            0.0   \n",
       "2019-04-01 01:30:00+00:00       2    15.870            0.0   \n",
       "2019-04-01 02:00:00+00:00       2    15.120            0.0   \n",
       "...                           ...       ...            ...   \n",
       "2020-03-31 20:30:00+00:00       2    14.390            NaN   \n",
       "2020-03-31 21:00:00+00:00       2    14.710            NaN   \n",
       "2020-03-31 21:30:00+00:00       2    14.950            NaN   \n",
       "2020-03-31 22:00:00+00:00       2    14.940            NaN   \n",
       "2020-03-31 22:30:00+00:00       2    16.035            NaN   \n",
       "\n",
       "                           precipitation_probability  wind_direction  \\\n",
       "timestamp                                                              \n",
       "2019-04-01 00:00:00+00:00                        2.0            97.0   \n",
       "2019-04-01 00:30:00+00:00                        2.0            97.0   \n",
       "2019-04-01 01:00:00+00:00                        3.0            99.0   \n",
       "2019-04-01 01:30:00+00:00                        3.0            99.0   \n",
       "2019-04-01 02:00:00+00:00                        6.0           100.0   \n",
       "...                                              ...             ...   \n",
       "2020-03-31 20:30:00+00:00                        NaN             NaN   \n",
       "2020-03-31 21:00:00+00:00                        NaN             NaN   \n",
       "2020-03-31 21:30:00+00:00                        NaN             NaN   \n",
       "2020-03-31 22:00:00+00:00                        NaN             NaN   \n",
       "2020-03-31 22:30:00+00:00                        NaN             NaN   \n",
       "\n",
       "                           wind_speed  solar_radiation  sunshine_duration  \\\n",
       "timestamp                                                                   \n",
       "2019-04-01 00:00:00+00:00        12.0              0.0                0.0   \n",
       "2019-04-01 00:30:00+00:00        12.0              0.0                0.0   \n",
       "2019-04-01 01:00:00+00:00        11.0              0.0                0.0   \n",
       "2019-04-01 01:30:00+00:00        11.0              0.0                0.0   \n",
       "2019-04-01 02:00:00+00:00        11.0              0.0                0.0   \n",
       "...                               ...              ...                ...   \n",
       "2020-03-31 20:30:00+00:00         NaN              NaN                NaN   \n",
       "2020-03-31 21:00:00+00:00         NaN              NaN                NaN   \n",
       "2020-03-31 21:30:00+00:00         NaN              NaN                NaN   \n",
       "2020-03-31 22:00:00+00:00         NaN              NaN                NaN   \n",
       "2020-03-31 22:30:00+00:00         NaN              NaN                NaN   \n",
       "\n",
       "                           avg_net_load  q25_net_load  q75_net_load  \\\n",
       "timestamp                                                             \n",
       "2019-04-01 00:00:00+00:00        152.86       15.4150        138.56   \n",
       "2019-04-01 00:30:00+00:00        204.52       15.3175        166.11   \n",
       "2019-04-01 01:00:00+00:00        214.66       15.8375        179.70   \n",
       "2019-04-01 01:30:00+00:00        209.72       15.8775        177.33   \n",
       "2019-04-01 02:00:00+00:00        230.59       16.3350        212.62   \n",
       "...                                 ...           ...           ...   \n",
       "2020-03-31 20:30:00+00:00        282.00       15.4650        264.64   \n",
       "2020-03-31 21:00:00+00:00        321.01       14.5975        220.50   \n",
       "2020-03-31 21:30:00+00:00        353.42       14.7625        206.66   \n",
       "2020-03-31 22:00:00+00:00        219.42       15.3625        177.28   \n",
       "2020-03-31 22:30:00+00:00        193.11       15.4000        173.33   \n",
       "\n",
       "                           median_net_load  weekend_or_bank_holiday  \n",
       "timestamp                                                            \n",
       "2019-04-01 00:00:00+00:00            18.69                        0  \n",
       "2019-04-01 00:30:00+00:00            18.60                        0  \n",
       "2019-04-01 01:00:00+00:00            31.03                        0  \n",
       "2019-04-01 01:30:00+00:00            52.99                        0  \n",
       "2019-04-01 02:00:00+00:00            65.21                        0  \n",
       "...                                    ...                      ...  \n",
       "2020-03-31 20:30:00+00:00            19.82                        0  \n",
       "2020-03-31 21:00:00+00:00            16.55                        0  \n",
       "2020-03-31 21:30:00+00:00            30.23                        0  \n",
       "2020-03-31 22:00:00+00:00            21.27                        0  \n",
       "2020-03-31 22:30:00+00:00            53.91                        0  \n",
       "\n",
       "[17539 rows x 20 columns]"
      ]
     },
     "execution_count": 231,
     "metadata": {},
     "output_type": "execute_result"
    }
   ],
   "source": [
    "# Convert 'ts' to datetime and set as index\n",
    "# df['timestamp'] = pd.to_datetime(df['timestamp'])\n",
    "\n",
    "df.set_index('timestamp', inplace=True)\n",
    "df = df.sort_index()\n",
    "\n",
    "df"
   ]
  },
  {
   "cell_type": "code",
   "execution_count": 232,
   "metadata": {},
   "outputs": [
    {
     "data": {
      "image/png": "[encoded data removed]",
      "text/plain": [
       "<Figure size 640x480 with 1 Axes>"
      ]
     },
     "metadata": {},
     "output_type": "display_data"
    }
   ],
   "source": [
    "plt.plot(df.index, df.net_load)\n",
    "plt.show()"
   ]
  },
  {
   "attachments": {
    "image.png": {
     "image/png": "[encoded data removed]"
    }
   },
   "cell_type": "markdown",
   "metadata": {},
   "source": [
    "# Normalise net load (as seen in literature)\n",
    "\n",
    "![image.png](attachment:image.png)\n",
    "\n"
   ]
  },
  {
   "cell_type": "markdown",
   "metadata": {},
   "source": [
    "High-resolution net load forecasting for micro-neighbourhoods with high\n",
    "penetration of renewable energy sources\n",
    "P. Kobylinskia\n",
    ", M. Wierzbowskia\n",
    ", K. Piotrowskib,"
   ]
  },
  {
   "cell_type": "code",
   "execution_count": 233,
   "metadata": {},
   "outputs": [
    {
     "data": {
      "text/html": [
       "<div>\n",
       "<style scoped>\n",
       "    .dataframe tbody tr th:only-of-type {\n",
       "        vertical-align: middle;\n",
       "    }\n",
       "\n",
       "    .dataframe tbody tr th {\n",
       "        vertical-align: top;\n",
       "    }\n",
       "\n",
       "    .dataframe thead th {\n",
       "        text-align: right;\n",
       "    }\n",
       "</style>\n",
       "<table border=\"1\" class=\"dataframe\">\n",
       "  <thead>\n",
       "    <tr style=\"text-align: right;\">\n",
       "      <th></th>\n",
       "      <th>site</th>\n",
       "      <th>year</th>\n",
       "      <th>month</th>\n",
       "      <th>day</th>\n",
       "      <th>hour</th>\n",
       "      <th>minute</th>\n",
       "      <th>day_of_week</th>\n",
       "      <th>season</th>\n",
       "      <th>net_load</th>\n",
       "      <th>precipitation</th>\n",
       "      <th>...</th>\n",
       "      <th>wind_direction</th>\n",
       "      <th>wind_speed</th>\n",
       "      <th>solar_radiation</th>\n",
       "      <th>sunshine_duration</th>\n",
       "      <th>avg_net_load</th>\n",
       "      <th>q25_net_load</th>\n",
       "      <th>q75_net_load</th>\n",
       "      <th>median_net_load</th>\n",
       "      <th>weekend_or_bank_holiday</th>\n",
       "      <th>net_load_norm</th>\n",
       "    </tr>\n",
       "    <tr>\n",
       "      <th>timestamp</th>\n",
       "      <th></th>\n",
       "      <th></th>\n",
       "      <th></th>\n",
       "      <th></th>\n",
       "      <th></th>\n",
       "      <th></th>\n",
       "      <th></th>\n",
       "      <th></th>\n",
       "      <th></th>\n",
       "      <th></th>\n",
       "      <th></th>\n",
       "      <th></th>\n",
       "      <th></th>\n",
       "      <th></th>\n",
       "      <th></th>\n",
       "      <th></th>\n",
       "      <th></th>\n",
       "      <th></th>\n",
       "      <th></th>\n",
       "      <th></th>\n",
       "      <th></th>\n",
       "    </tr>\n",
       "  </thead>\n",
       "  <tbody>\n",
       "    <tr>\n",
       "      <th>2019-04-01 00:00:00+00:00</th>\n",
       "      <td>64</td>\n",
       "      <td>2019</td>\n",
       "      <td>4</td>\n",
       "      <td>1</td>\n",
       "      <td>1</td>\n",
       "      <td>0</td>\n",
       "      <td>0</td>\n",
       "      <td>2</td>\n",
       "      <td>14.620</td>\n",
       "      <td>0.0</td>\n",
       "      <td>...</td>\n",
       "      <td>97.0</td>\n",
       "      <td>12.0</td>\n",
       "      <td>0.0</td>\n",
       "      <td>0.0</td>\n",
       "      <td>152.86</td>\n",
       "      <td>15.4150</td>\n",
       "      <td>138.56</td>\n",
       "      <td>18.69</td>\n",
       "      <td>0</td>\n",
       "      <td>0.007819</td>\n",
       "    </tr>\n",
       "    <tr>\n",
       "      <th>2019-04-01 00:30:00+00:00</th>\n",
       "      <td>64</td>\n",
       "      <td>2019</td>\n",
       "      <td>4</td>\n",
       "      <td>1</td>\n",
       "      <td>1</td>\n",
       "      <td>30</td>\n",
       "      <td>0</td>\n",
       "      <td>2</td>\n",
       "      <td>16.700</td>\n",
       "      <td>0.0</td>\n",
       "      <td>...</td>\n",
       "      <td>97.0</td>\n",
       "      <td>12.0</td>\n",
       "      <td>0.0</td>\n",
       "      <td>0.0</td>\n",
       "      <td>204.52</td>\n",
       "      <td>15.3175</td>\n",
       "      <td>166.11</td>\n",
       "      <td>18.60</td>\n",
       "      <td>0</td>\n",
       "      <td>0.008931</td>\n",
       "    </tr>\n",
       "    <tr>\n",
       "      <th>2019-04-01 01:00:00+00:00</th>\n",
       "      <td>64</td>\n",
       "      <td>2019</td>\n",
       "      <td>4</td>\n",
       "      <td>1</td>\n",
       "      <td>2</td>\n",
       "      <td>0</td>\n",
       "      <td>0</td>\n",
       "      <td>2</td>\n",
       "      <td>20.270</td>\n",
       "      <td>0.0</td>\n",
       "      <td>...</td>\n",
       "      <td>99.0</td>\n",
       "      <td>11.0</td>\n",
       "      <td>0.0</td>\n",
       "      <td>0.0</td>\n",
       "      <td>214.66</td>\n",
       "      <td>15.8375</td>\n",
       "      <td>179.70</td>\n",
       "      <td>31.03</td>\n",
       "      <td>0</td>\n",
       "      <td>0.010840</td>\n",
       "    </tr>\n",
       "    <tr>\n",
       "      <th>2019-04-01 01:30:00+00:00</th>\n",
       "      <td>64</td>\n",
       "      <td>2019</td>\n",
       "      <td>4</td>\n",
       "      <td>1</td>\n",
       "      <td>2</td>\n",
       "      <td>30</td>\n",
       "      <td>0</td>\n",
       "      <td>2</td>\n",
       "      <td>15.870</td>\n",
       "      <td>0.0</td>\n",
       "      <td>...</td>\n",
       "      <td>99.0</td>\n",
       "      <td>11.0</td>\n",
       "      <td>0.0</td>\n",
       "      <td>0.0</td>\n",
       "      <td>209.72</td>\n",
       "      <td>15.8775</td>\n",
       "      <td>177.33</td>\n",
       "      <td>52.99</td>\n",
       "      <td>0</td>\n",
       "      <td>0.008487</td>\n",
       "    </tr>\n",
       "    <tr>\n",
       "      <th>2019-04-01 02:00:00+00:00</th>\n",
       "      <td>64</td>\n",
       "      <td>2019</td>\n",
       "      <td>4</td>\n",
       "      <td>1</td>\n",
       "      <td>3</td>\n",
       "      <td>0</td>\n",
       "      <td>0</td>\n",
       "      <td>2</td>\n",
       "      <td>15.120</td>\n",
       "      <td>0.0</td>\n",
       "      <td>...</td>\n",
       "      <td>100.0</td>\n",
       "      <td>11.0</td>\n",
       "      <td>0.0</td>\n",
       "      <td>0.0</td>\n",
       "      <td>230.59</td>\n",
       "      <td>16.3350</td>\n",
       "      <td>212.62</td>\n",
       "      <td>65.21</td>\n",
       "      <td>0</td>\n",
       "      <td>0.008086</td>\n",
       "    </tr>\n",
       "    <tr>\n",
       "      <th>...</th>\n",
       "      <td>...</td>\n",
       "      <td>...</td>\n",
       "      <td>...</td>\n",
       "      <td>...</td>\n",
       "      <td>...</td>\n",
       "      <td>...</td>\n",
       "      <td>...</td>\n",
       "      <td>...</td>\n",
       "      <td>...</td>\n",
       "      <td>...</td>\n",
       "      <td>...</td>\n",
       "      <td>...</td>\n",
       "      <td>...</td>\n",
       "      <td>...</td>\n",
       "      <td>...</td>\n",
       "      <td>...</td>\n",
       "      <td>...</td>\n",
       "      <td>...</td>\n",
       "      <td>...</td>\n",
       "      <td>...</td>\n",
       "      <td>...</td>\n",
       "    </tr>\n",
       "    <tr>\n",
       "      <th>2020-03-31 20:30:00+00:00</th>\n",
       "      <td>64</td>\n",
       "      <td>2020</td>\n",
       "      <td>3</td>\n",
       "      <td>31</td>\n",
       "      <td>21</td>\n",
       "      <td>30</td>\n",
       "      <td>1</td>\n",
       "      <td>2</td>\n",
       "      <td>14.390</td>\n",
       "      <td>NaN</td>\n",
       "      <td>...</td>\n",
       "      <td>NaN</td>\n",
       "      <td>NaN</td>\n",
       "      <td>NaN</td>\n",
       "      <td>NaN</td>\n",
       "      <td>282.00</td>\n",
       "      <td>15.4650</td>\n",
       "      <td>264.64</td>\n",
       "      <td>19.82</td>\n",
       "      <td>0</td>\n",
       "      <td>0.007696</td>\n",
       "    </tr>\n",
       "    <tr>\n",
       "      <th>2020-03-31 21:00:00+00:00</th>\n",
       "      <td>64</td>\n",
       "      <td>2020</td>\n",
       "      <td>3</td>\n",
       "      <td>31</td>\n",
       "      <td>22</td>\n",
       "      <td>0</td>\n",
       "      <td>1</td>\n",
       "      <td>2</td>\n",
       "      <td>14.710</td>\n",
       "      <td>NaN</td>\n",
       "      <td>...</td>\n",
       "      <td>NaN</td>\n",
       "      <td>NaN</td>\n",
       "      <td>NaN</td>\n",
       "      <td>NaN</td>\n",
       "      <td>321.01</td>\n",
       "      <td>14.5975</td>\n",
       "      <td>220.50</td>\n",
       "      <td>16.55</td>\n",
       "      <td>0</td>\n",
       "      <td>0.007867</td>\n",
       "    </tr>\n",
       "    <tr>\n",
       "      <th>2020-03-31 21:30:00+00:00</th>\n",
       "      <td>64</td>\n",
       "      <td>2020</td>\n",
       "      <td>3</td>\n",
       "      <td>31</td>\n",
       "      <td>22</td>\n",
       "      <td>30</td>\n",
       "      <td>1</td>\n",
       "      <td>2</td>\n",
       "      <td>14.950</td>\n",
       "      <td>NaN</td>\n",
       "      <td>...</td>\n",
       "      <td>NaN</td>\n",
       "      <td>NaN</td>\n",
       "      <td>NaN</td>\n",
       "      <td>NaN</td>\n",
       "      <td>353.42</td>\n",
       "      <td>14.7625</td>\n",
       "      <td>206.66</td>\n",
       "      <td>30.23</td>\n",
       "      <td>0</td>\n",
       "      <td>0.007995</td>\n",
       "    </tr>\n",
       "    <tr>\n",
       "      <th>2020-03-31 22:00:00+00:00</th>\n",
       "      <td>64</td>\n",
       "      <td>2020</td>\n",
       "      <td>3</td>\n",
       "      <td>31</td>\n",
       "      <td>23</td>\n",
       "      <td>0</td>\n",
       "      <td>1</td>\n",
       "      <td>2</td>\n",
       "      <td>14.940</td>\n",
       "      <td>NaN</td>\n",
       "      <td>...</td>\n",
       "      <td>NaN</td>\n",
       "      <td>NaN</td>\n",
       "      <td>NaN</td>\n",
       "      <td>NaN</td>\n",
       "      <td>219.42</td>\n",
       "      <td>15.3625</td>\n",
       "      <td>177.28</td>\n",
       "      <td>21.27</td>\n",
       "      <td>0</td>\n",
       "      <td>0.007990</td>\n",
       "    </tr>\n",
       "    <tr>\n",
       "      <th>2020-03-31 22:30:00+00:00</th>\n",
       "      <td>64</td>\n",
       "      <td>2020</td>\n",
       "      <td>3</td>\n",
       "      <td>31</td>\n",
       "      <td>23</td>\n",
       "      <td>30</td>\n",
       "      <td>1</td>\n",
       "      <td>2</td>\n",
       "      <td>16.035</td>\n",
       "      <td>NaN</td>\n",
       "      <td>...</td>\n",
       "      <td>NaN</td>\n",
       "      <td>NaN</td>\n",
       "      <td>NaN</td>\n",
       "      <td>NaN</td>\n",
       "      <td>193.11</td>\n",
       "      <td>15.4000</td>\n",
       "      <td>173.33</td>\n",
       "      <td>53.91</td>\n",
       "      <td>0</td>\n",
       "      <td>0.008575</td>\n",
       "    </tr>\n",
       "  </tbody>\n",
       "</table>\n",
       "<p>17539 rows × 21 columns</p>\n",
       "</div>"
      ],
      "text/plain": [
       "                           site  year  month  day  hour  minute  day_of_week  \\\n",
       "timestamp                                                                      \n",
       "2019-04-01 00:00:00+00:00    64  2019      4    1     1       0            0   \n",
       "2019-04-01 00:30:00+00:00    64  2019      4    1     1      30            0   \n",
       "2019-04-01 01:00:00+00:00    64  2019      4    1     2       0            0   \n",
       "2019-04-01 01:30:00+00:00    64  2019      4    1     2      30            0   \n",
       "2019-04-01 02:00:00+00:00    64  2019      4    1     3       0            0   \n",
       "...                         ...   ...    ...  ...   ...     ...          ...   \n",
       "2020-03-31 20:30:00+00:00    64  2020      3   31    21      30            1   \n",
       "2020-03-31 21:00:00+00:00    64  2020      3   31    22       0            1   \n",
       "2020-03-31 21:30:00+00:00    64  2020      3   31    22      30            1   \n",
       "2020-03-31 22:00:00+00:00    64  2020      3   31    23       0            1   \n",
       "2020-03-31 22:30:00+00:00    64  2020      3   31    23      30            1   \n",
       "\n",
       "                           season  net_load  precipitation  ...  \\\n",
       "timestamp                                                   ...   \n",
       "2019-04-01 00:00:00+00:00       2    14.620            0.0  ...   \n",
       "2019-04-01 00:30:00+00:00       2    16.700            0.0  ...   \n",
       "2019-04-01 01:00:00+00:00       2    20.270            0.0  ...   \n",
       "2019-04-01 01:30:00+00:00       2    15.870            0.0  ...   \n",
       "2019-04-01 02:00:00+00:00       2    15.120            0.0  ...   \n",
       "...                           ...       ...            ...  ...   \n",
       "2020-03-31 20:30:00+00:00       2    14.390            NaN  ...   \n",
       "2020-03-31 21:00:00+00:00       2    14.710            NaN  ...   \n",
       "2020-03-31 21:30:00+00:00       2    14.950            NaN  ...   \n",
       "2020-03-31 22:00:00+00:00       2    14.940            NaN  ...   \n",
       "2020-03-31 22:30:00+00:00       2    16.035            NaN  ...   \n",
       "\n",
       "                           wind_direction  wind_speed  solar_radiation  \\\n",
       "timestamp                                                                \n",
       "2019-04-01 00:00:00+00:00            97.0        12.0              0.0   \n",
       "2019-04-01 00:30:00+00:00            97.0        12.0              0.0   \n",
       "2019-04-01 01:00:00+00:00            99.0        11.0              0.0   \n",
       "2019-04-01 01:30:00+00:00            99.0        11.0              0.0   \n",
       "2019-04-01 02:00:00+00:00           100.0        11.0              0.0   \n",
       "...                                   ...         ...              ...   \n",
       "2020-03-31 20:30:00+00:00             NaN         NaN              NaN   \n",
       "2020-03-31 21:00:00+00:00             NaN         NaN              NaN   \n",
       "2020-03-31 21:30:00+00:00             NaN         NaN              NaN   \n",
       "2020-03-31 22:00:00+00:00             NaN         NaN              NaN   \n",
       "2020-03-31 22:30:00+00:00             NaN         NaN              NaN   \n",
       "\n",
       "                           sunshine_duration  avg_net_load  q25_net_load  \\\n",
       "timestamp                                                                  \n",
       "2019-04-01 00:00:00+00:00                0.0        152.86       15.4150   \n",
       "2019-04-01 00:30:00+00:00                0.0        204.52       15.3175   \n",
       "2019-04-01 01:00:00+00:00                0.0        214.66       15.8375   \n",
       "2019-04-01 01:30:00+00:00                0.0        209.72       15.8775   \n",
       "2019-04-01 02:00:00+00:00                0.0        230.59       16.3350   \n",
       "...                                      ...           ...           ...   \n",
       "2020-03-31 20:30:00+00:00                NaN        282.00       15.4650   \n",
       "2020-03-31 21:00:00+00:00                NaN        321.01       14.5975   \n",
       "2020-03-31 21:30:00+00:00                NaN        353.42       14.7625   \n",
       "2020-03-31 22:00:00+00:00                NaN        219.42       15.3625   \n",
       "2020-03-31 22:30:00+00:00                NaN        193.11       15.4000   \n",
       "\n",
       "                           q75_net_load  median_net_load  \\\n",
       "timestamp                                                  \n",
       "2019-04-01 00:00:00+00:00        138.56            18.69   \n",
       "2019-04-01 00:30:00+00:00        166.11            18.60   \n",
       "2019-04-01 01:00:00+00:00        179.70            31.03   \n",
       "2019-04-01 01:30:00+00:00        177.33            52.99   \n",
       "2019-04-01 02:00:00+00:00        212.62            65.21   \n",
       "...                                 ...              ...   \n",
       "2020-03-31 20:30:00+00:00        264.64            19.82   \n",
       "2020-03-31 21:00:00+00:00        220.50            16.55   \n",
       "2020-03-31 21:30:00+00:00        206.66            30.23   \n",
       "2020-03-31 22:00:00+00:00        177.28            21.27   \n",
       "2020-03-31 22:30:00+00:00        173.33            53.91   \n",
       "\n",
       "                           weekend_or_bank_holiday  net_load_norm  \n",
       "timestamp                                                          \n",
       "2019-04-01 00:00:00+00:00                        0       0.007819  \n",
       "2019-04-01 00:30:00+00:00                        0       0.008931  \n",
       "2019-04-01 01:00:00+00:00                        0       0.010840  \n",
       "2019-04-01 01:30:00+00:00                        0       0.008487  \n",
       "2019-04-01 02:00:00+00:00                        0       0.008086  \n",
       "...                                            ...            ...  \n",
       "2020-03-31 20:30:00+00:00                        0       0.007696  \n",
       "2020-03-31 21:00:00+00:00                        0       0.007867  \n",
       "2020-03-31 21:30:00+00:00                        0       0.007995  \n",
       "2020-03-31 22:00:00+00:00                        0       0.007990  \n",
       "2020-03-31 22:30:00+00:00                        0       0.008575  \n",
       "\n",
       "[17539 rows x 21 columns]"
      ]
     },
     "execution_count": 233,
     "metadata": {},
     "output_type": "execute_result"
    }
   ],
   "source": [
    "df['net_load_norm'] = df['net_load'] / max(abs(df['net_load']))\n",
    "\n",
    "df"
   ]
  },
  {
   "cell_type": "code",
   "execution_count": 234,
   "metadata": {},
   "outputs": [
    {
     "data": {
      "image/png": "[encoded data removed]",
      "text/plain": [
       "<Figure size 640x480 with 1 Axes>"
      ]
     },
     "metadata": {},
     "output_type": "display_data"
    }
   ],
   "source": [
    "plt.plot(df.index, df.net_load_norm)\n",
    "plt.show()"
   ]
  },
  {
   "cell_type": "markdown",
   "metadata": {},
   "source": [
    "# Prepare data set for LSTM"
   ]
  },
  {
   "cell_type": "markdown",
   "metadata": {},
   "source": [
    "Example \\\n",
    "Based on the first 5 hours, let's predict the 6th hour\\\n",
    "Based on the next 5 hours, let's predict the 7th hour\\\n",
    "etc. etc.\n",
    "\n",
    "[[[1], [2], [3], [4], [5]]] [6] \\\n",
    "[[[2], [3], [4], [5], [6]]] [7] \\\n",
    "[[[3], [4], [5], [6], [7]]] [8]"
   ]
  },
  {
   "cell_type": "code",
   "execution_count": 290,
   "metadata": {},
   "outputs": [],
   "source": [
    "# Parameters\n",
    "\n",
    "#n_input = no. of time steps considered before making the prediction\n",
    "#n_features = no. of variables/features considered\n",
    "#n_output = no. of time steps to forecast\n",
    "\n",
    "# Note: 1 time step = 30 mins\n",
    "# Look at the last two weeks to forecast the next 36 hours\n",
    "\n",
    "# 1 day = 2 * 24 * 1 = 48\n",
    "# 6 hours = 2 * 6 = 12 \n",
    "\n",
    "n_input = 48\n",
    "n_features = 1\n",
    "n_output = 12\n",
    "\n",
    "# Turn net_load_norm into np array\n",
    "net_load_norm = df['net_load_norm'].to_numpy().reshape(-1, 1)\n",
    "\n",
    "X, y = [], []\n",
    "for i in range(len(net_load_norm) - n_input - n_output + 1):\n",
    "    X.append(net_load_norm[i:(i + n_input), 0])\n",
    "    y.append(net_load_norm[(i + n_input):(i + n_input + n_output), 0])\n",
    "\n",
    "X = np.array(X).reshape((len(X), n_input, n_features))\n",
    "y = np.array(y)"
   ]
  },
  {
   "cell_type": "code",
   "execution_count": 291,
   "metadata": {},
   "outputs": [
    {
     "data": {
      "text/plain": [
       "(17480, 48, 1)"
      ]
     },
     "execution_count": 291,
     "metadata": {},
     "output_type": "execute_result"
    }
   ],
   "source": [
    "X.shape"
   ]
  },
  {
   "cell_type": "code",
   "execution_count": 292,
   "metadata": {},
   "outputs": [
    {
     "data": {
      "text/plain": [
       "(17480, 12)"
      ]
     },
     "execution_count": 292,
     "metadata": {},
     "output_type": "execute_result"
    }
   ],
   "source": [
    "y.shape"
   ]
  },
  {
   "cell_type": "markdown",
   "metadata": {},
   "source": [
    "First set of X and y values"
   ]
  },
  {
   "cell_type": "code",
   "execution_count": 293,
   "metadata": {},
   "outputs": [
    {
     "name": "stdout",
     "output_type": "stream",
     "text": [
      "Given the array X: \n",
      " [ 0.00781856  0.00893091  0.01084009  0.00848704  0.00808595  0.01163692\n",
      "  0.01204871  0.00835869  0.0079576   0.00798434  0.00805921  0.00751373\n",
      "  0.00725169  0.00702173  0.00658855  0.00744956  0.00712334  0.00726238\n",
      "  0.00750303  0.00727308  0.0073426   0.00754582  0.00788808  0.0072196\n",
      "  0.0073533  -0.07508918 -0.23238017 -0.25340257 -0.26741929 -0.2747405\n",
      " -0.31961431 -0.25242391 -0.10379109  0.00875978  0.00413389  0.00749234\n",
      "  0.00749234  0.00709125  0.00766347  0.00765277  0.00726773  0.00723564\n",
      "  0.00812339  0.0079576   0.00774369  0.00798969  0.00802712  0.00760464]\n",
      "\n",
      "Predict this y: \n",
      " [0.00853517 0.01157275 0.00923039 0.00780786 0.00840682 0.00905391\n",
      " 0.00823569 0.00859934 0.00782391 0.0080806  0.00852982 0.00703242]\n",
      "\n"
     ]
    }
   ],
   "source": [
    "print(f'Given the array X: \\n {X[0].flatten()}\\n')\n",
    "print(f'Predict this y: \\n {y[0]}\\n')"
   ]
  },
  {
   "cell_type": "markdown",
   "metadata": {},
   "source": [
    "Second set of X and y values"
   ]
  },
  {
   "cell_type": "code",
   "execution_count": 294,
   "metadata": {},
   "outputs": [
    {
     "name": "stdout",
     "output_type": "stream",
     "text": [
      "Given the array X: \n",
      " [ 0.00893091  0.01084009  0.00848704  0.00808595  0.01163692  0.01204871\n",
      "  0.00835869  0.0079576   0.00798434  0.00805921  0.00751373  0.00725169\n",
      "  0.00702173  0.00658855  0.00744956  0.00712334  0.00726238  0.00750303\n",
      "  0.00727308  0.0073426   0.00754582  0.00788808  0.0072196   0.0073533\n",
      " -0.07508918 -0.23238017 -0.25340257 -0.26741929 -0.2747405  -0.31961431\n",
      " -0.25242391 -0.10379109  0.00875978  0.00413389  0.00749234  0.00749234\n",
      "  0.00709125  0.00766347  0.00765277  0.00726773  0.00723564  0.00812339\n",
      "  0.0079576   0.00774369  0.00798969  0.00802712  0.00760464  0.00853517]\n",
      "\n",
      "Predict this y: \n",
      " [0.01157275 0.00923039 0.00780786 0.00840682 0.00905391 0.00823569\n",
      " 0.00859934 0.00782391 0.0080806  0.00852982 0.00703242 0.00748164]\n",
      "\n"
     ]
    }
   ],
   "source": [
    "print(f'Given the array X: \\n {X[1].flatten()}\\n')\n",
    "print(f'Predict this y: \\n {y[1]}\\n')"
   ]
  },
  {
   "cell_type": "markdown",
   "metadata": {},
   "source": [
    "# Split into train (First 300 days) and test (the rest i.e., ~60 days depending on how big the n_input variable is set )"
   ]
  },
  {
   "cell_type": "code",
   "execution_count": 309,
   "metadata": {},
   "outputs": [],
   "source": [
    "# 1 time step = 30 mins\n",
    "\n",
    "n_split = 2 * 24 * 300 \n",
    "\n",
    "X_train = X[:n_split]\n",
    "y_train = y[:n_split]\n",
    "\n",
    "X_test = X[n_split:]\n",
    "y_test = y[n_split:]"
   ]
  },
  {
   "cell_type": "code",
   "execution_count": 296,
   "metadata": {},
   "outputs": [
    {
     "data": {
      "text/plain": [
       "(14400, 48, 1)"
      ]
     },
     "execution_count": 296,
     "metadata": {},
     "output_type": "execute_result"
    }
   ],
   "source": [
    "X_train.shape"
   ]
  },
  {
   "cell_type": "code",
   "execution_count": 297,
   "metadata": {},
   "outputs": [
    {
     "data": {
      "text/plain": [
       "(14400, 12)"
      ]
     },
     "execution_count": 297,
     "metadata": {},
     "output_type": "execute_result"
    }
   ],
   "source": [
    "y_train.shape"
   ]
  },
  {
   "cell_type": "code",
   "execution_count": 310,
   "metadata": {},
   "outputs": [
    {
     "data": {
      "text/plain": [
       "(3080, 48, 1)"
      ]
     },
     "execution_count": 310,
     "metadata": {},
     "output_type": "execute_result"
    }
   ],
   "source": [
    "X_test.shape"
   ]
  },
  {
   "cell_type": "code",
   "execution_count": 311,
   "metadata": {},
   "outputs": [
    {
     "data": {
      "text/plain": [
       "(3080, 12)"
      ]
     },
     "execution_count": 311,
     "metadata": {},
     "output_type": "execute_result"
    }
   ],
   "source": [
    "y_test.shape"
   ]
  },
  {
   "cell_type": "markdown",
   "metadata": {},
   "source": [
    "# Build LSTM model"
   ]
  },
  {
   "cell_type": "markdown",
   "metadata": {},
   "source": [
    "### Model 1"
   ]
  },
  {
   "cell_type": "code",
   "execution_count": 298,
   "metadata": {},
   "outputs": [
    {
     "name": "stderr",
     "output_type": "stream",
     "text": [
      "c:\\Users\\elian\\anaconda3\\Lib\\site-packages\\keras\\src\\layers\\rnn\\rnn.py:204: UserWarning: Do not pass an `input_shape`/`input_dim` argument to a layer. When using Sequential models, prefer using an `Input(shape)` object as the first layer in the model instead.\n",
      "  super().__init__(**kwargs)\n"
     ]
    },
    {
     "data": {
      "text/html": [
       "<pre style=\"white-space:pre;overflow-x:auto;line-height:normal;font-family:Menlo,'DejaVu Sans Mono',consolas,'Courier New',monospace\"><span style=\"font-weight: bold\">Model: \"sequential_6\"</span>\n",
       "</pre>\n"
      ],
      "text/plain": [
       "\u001b[1mModel: \"sequential_6\"\u001b[0m\n"
      ]
     },
     "metadata": {},
     "output_type": "display_data"
    },
    {
     "data": {
      "text/html": [
       "<pre style=\"white-space:pre;overflow-x:auto;line-height:normal;font-family:Menlo,'DejaVu Sans Mono',consolas,'Courier New',monospace\">┏━━━━━━━━━━━━━━━━━━━━━━━━━━━━━━━━━┳━━━━━━━━━━━━━━━━━━━━━━━━┳━━━━━━━━━━━━━━━┓\n",
       "┃<span style=\"font-weight: bold\"> Layer (type)                    </span>┃<span style=\"font-weight: bold\"> Output Shape           </span>┃<span style=\"font-weight: bold\">       Param # </span>┃\n",
       "┡━━━━━━━━━━━━━━━━━━━━━━━━━━━━━━━━━╇━━━━━━━━━━━━━━━━━━━━━━━━╇━━━━━━━━━━━━━━━┩\n",
       "│ lstm_11 (<span style=\"color: #0087ff; text-decoration-color: #0087ff\">LSTM</span>)                  │ (<span style=\"color: #00d7ff; text-decoration-color: #00d7ff\">None</span>, <span style=\"color: #00af00; text-decoration-color: #00af00\">48</span>, <span style=\"color: #00af00; text-decoration-color: #00af00\">64</span>)         │        <span style=\"color: #00af00; text-decoration-color: #00af00\">16,896</span> │\n",
       "├─────────────────────────────────┼────────────────────────┼───────────────┤\n",
       "│ lstm_12 (<span style=\"color: #0087ff; text-decoration-color: #0087ff\">LSTM</span>)                  │ (<span style=\"color: #00d7ff; text-decoration-color: #00d7ff\">None</span>, <span style=\"color: #00af00; text-decoration-color: #00af00\">32</span>)             │        <span style=\"color: #00af00; text-decoration-color: #00af00\">12,416</span> │\n",
       "├─────────────────────────────────┼────────────────────────┼───────────────┤\n",
       "│ dropout_5 (<span style=\"color: #0087ff; text-decoration-color: #0087ff\">Dropout</span>)             │ (<span style=\"color: #00d7ff; text-decoration-color: #00d7ff\">None</span>, <span style=\"color: #00af00; text-decoration-color: #00af00\">32</span>)             │             <span style=\"color: #00af00; text-decoration-color: #00af00\">0</span> │\n",
       "├─────────────────────────────────┼────────────────────────┼───────────────┤\n",
       "│ dense_7 (<span style=\"color: #0087ff; text-decoration-color: #0087ff\">Dense</span>)                 │ (<span style=\"color: #00d7ff; text-decoration-color: #00d7ff\">None</span>, <span style=\"color: #00af00; text-decoration-color: #00af00\">12</span>)             │           <span style=\"color: #00af00; text-decoration-color: #00af00\">396</span> │\n",
       "└─────────────────────────────────┴────────────────────────┴───────────────┘\n",
       "</pre>\n"
      ],
      "text/plain": [
       "┏━━━━━━━━━━━━━━━━━━━━━━━━━━━━━━━━━┳━━━━━━━━━━━━━━━━━━━━━━━━┳━━━━━━━━━━━━━━━┓\n",
       "┃\u001b[1m \u001b[0m\u001b[1mLayer (type)                   \u001b[0m\u001b[1m \u001b[0m┃\u001b[1m \u001b[0m\u001b[1mOutput Shape          \u001b[0m\u001b[1m \u001b[0m┃\u001b[1m \u001b[0m\u001b[1m      Param #\u001b[0m\u001b[1m \u001b[0m┃\n",
       "┡━━━━━━━━━━━━━━━━━━━━━━━━━━━━━━━━━╇━━━━━━━━━━━━━━━━━━━━━━━━╇━━━━━━━━━━━━━━━┩\n",
       "│ lstm_11 (\u001b[38;5;33mLSTM\u001b[0m)                  │ (\u001b[38;5;45mNone\u001b[0m, \u001b[38;5;34m48\u001b[0m, \u001b[38;5;34m64\u001b[0m)         │        \u001b[38;5;34m16,896\u001b[0m │\n",
       "├─────────────────────────────────┼────────────────────────┼───────────────┤\n",
       "│ lstm_12 (\u001b[38;5;33mLSTM\u001b[0m)                  │ (\u001b[38;5;45mNone\u001b[0m, \u001b[38;5;34m32\u001b[0m)             │        \u001b[38;5;34m12,416\u001b[0m │\n",
       "├─────────────────────────────────┼────────────────────────┼───────────────┤\n",
       "│ dropout_5 (\u001b[38;5;33mDropout\u001b[0m)             │ (\u001b[38;5;45mNone\u001b[0m, \u001b[38;5;34m32\u001b[0m)             │             \u001b[38;5;34m0\u001b[0m │\n",
       "├─────────────────────────────────┼────────────────────────┼───────────────┤\n",
       "│ dense_7 (\u001b[38;5;33mDense\u001b[0m)                 │ (\u001b[38;5;45mNone\u001b[0m, \u001b[38;5;34m12\u001b[0m)             │           \u001b[38;5;34m396\u001b[0m │\n",
       "└─────────────────────────────────┴────────────────────────┴───────────────┘\n"
      ]
     },
     "metadata": {},
     "output_type": "display_data"
    },
    {
     "data": {
      "text/html": [
       "<pre style=\"white-space:pre;overflow-x:auto;line-height:normal;font-family:Menlo,'DejaVu Sans Mono',consolas,'Courier New',monospace\"><span style=\"font-weight: bold\"> Total params: </span><span style=\"color: #00af00; text-decoration-color: #00af00\">29,708</span> (116.05 KB)\n",
       "</pre>\n"
      ],
      "text/plain": [
       "\u001b[1m Total params: \u001b[0m\u001b[38;5;34m29,708\u001b[0m (116.05 KB)\n"
      ]
     },
     "metadata": {},
     "output_type": "display_data"
    },
    {
     "data": {
      "text/html": [
       "<pre style=\"white-space:pre;overflow-x:auto;line-height:normal;font-family:Menlo,'DejaVu Sans Mono',consolas,'Courier New',monospace\"><span style=\"font-weight: bold\"> Trainable params: </span><span style=\"color: #00af00; text-decoration-color: #00af00\">29,708</span> (116.05 KB)\n",
       "</pre>\n"
      ],
      "text/plain": [
       "\u001b[1m Trainable params: \u001b[0m\u001b[38;5;34m29,708\u001b[0m (116.05 KB)\n"
      ]
     },
     "metadata": {},
     "output_type": "display_data"
    },
    {
     "data": {
      "text/html": [
       "<pre style=\"white-space:pre;overflow-x:auto;line-height:normal;font-family:Menlo,'DejaVu Sans Mono',consolas,'Courier New',monospace\"><span style=\"font-weight: bold\"> Non-trainable params: </span><span style=\"color: #00af00; text-decoration-color: #00af00\">0</span> (0.00 B)\n",
       "</pre>\n"
      ],
      "text/plain": [
       "\u001b[1m Non-trainable params: \u001b[0m\u001b[38;5;34m0\u001b[0m (0.00 B)\n"
      ]
     },
     "metadata": {},
     "output_type": "display_data"
    }
   ],
   "source": [
    "model1 = Sequential()\n",
    "model1.add(LSTM(64, activation='relu', input_shape=(X_train.shape[1], X_train.shape[2]), return_sequences=True))\n",
    "model1.add(LSTM(32, activation='relu'))\n",
    "model1.add(Dropout(0.2))\n",
    "model1.add(Dense(y_train.shape[1]))\n",
    "\n",
    "model1.summary()"
   ]
  },
  {
   "cell_type": "code",
   "execution_count": 299,
   "metadata": {},
   "outputs": [],
   "source": [
    "cp1 = ModelCheckpoint('model1.keras', save_best_only=True)\n",
    "model1.compile(loss='mse', optimizer=Adam(learning_rate=0.0001), metrics=[MeanSquaredError(), MeanAbsoluteError()])"
   ]
  },
  {
   "cell_type": "markdown",
   "metadata": {},
   "source": [
    "# Fit LSTM model"
   ]
  },
  {
   "cell_type": "code",
   "execution_count": 300,
   "metadata": {},
   "outputs": [
    {
     "name": "stdout",
     "output_type": "stream",
     "text": [
      "Epoch 1/10\n"
     ]
    },
    {
     "name": "stdout",
     "output_type": "stream",
     "text": [
      "\u001b[1m810/810\u001b[0m \u001b[32m━━━━━━━━━━━━━━━━━━━━\u001b[0m\u001b[37m\u001b[0m \u001b[1m11s\u001b[0m 12ms/step - loss: 0.0258 - mean_absolute_error: 0.0872 - mean_squared_error: 0.0258 - val_loss: 0.0137 - val_mean_absolute_error: 0.0619 - val_mean_squared_error: 0.0137\n",
      "Epoch 2/10\n",
      "\u001b[1m810/810\u001b[0m \u001b[32m━━━━━━━━━━━━━━━━━━━━\u001b[0m\u001b[37m\u001b[0m \u001b[1m10s\u001b[0m 12ms/step - loss: 0.0187 - mean_absolute_error: 0.0780 - mean_squared_error: 0.0187 - val_loss: 0.0131 - val_mean_absolute_error: 0.0604 - val_mean_squared_error: 0.0131\n",
      "Epoch 3/10\n",
      "\u001b[1m810/810\u001b[0m \u001b[32m━━━━━━━━━━━━━━━━━━━━\u001b[0m\u001b[37m\u001b[0m \u001b[1m9s\u001b[0m 11ms/step - loss: 0.0160 - mean_absolute_error: 0.0716 - mean_squared_error: 0.0160 - val_loss: 0.0121 - val_mean_absolute_error: 0.0605 - val_mean_squared_error: 0.0121\n",
      "Epoch 4/10\n",
      "\u001b[1m810/810\u001b[0m \u001b[32m━━━━━━━━━━━━━━━━━━━━\u001b[0m\u001b[37m\u001b[0m \u001b[1m9s\u001b[0m 11ms/step - loss: 0.0141 - mean_absolute_error: 0.0666 - mean_squared_error: 0.0141 - val_loss: 0.0121 - val_mean_absolute_error: 0.0595 - val_mean_squared_error: 0.0121\n",
      "Epoch 5/10\n",
      "\u001b[1m810/810\u001b[0m \u001b[32m━━━━━━━━━━━━━━━━━━━━\u001b[0m\u001b[37m\u001b[0m \u001b[1m10s\u001b[0m 12ms/step - loss: 0.0140 - mean_absolute_error: 0.0660 - mean_squared_error: 0.0140 - val_loss: 0.0114 - val_mean_absolute_error: 0.0614 - val_mean_squared_error: 0.0114\n",
      "Epoch 6/10\n",
      "\u001b[1m810/810\u001b[0m \u001b[32m━━━━━━━━━━━━━━━━━━━━\u001b[0m\u001b[37m\u001b[0m \u001b[1m11s\u001b[0m 13ms/step - loss: 0.0141 - mean_absolute_error: 0.0662 - mean_squared_error: 0.0141 - val_loss: 0.0113 - val_mean_absolute_error: 0.0613 - val_mean_squared_error: 0.0113\n",
      "Epoch 7/10\n",
      "\u001b[1m810/810\u001b[0m \u001b[32m━━━━━━━━━━━━━━━━━━━━\u001b[0m\u001b[37m\u001b[0m \u001b[1m11s\u001b[0m 14ms/step - loss: 0.0134 - mean_absolute_error: 0.0645 - mean_squared_error: 0.0134 - val_loss: 0.0125 - val_mean_absolute_error: 0.0593 - val_mean_squared_error: 0.0125\n",
      "Epoch 8/10\n",
      "\u001b[1m810/810\u001b[0m \u001b[32m━━━━━━━━━━━━━━━━━━━━\u001b[0m\u001b[37m\u001b[0m \u001b[1m11s\u001b[0m 14ms/step - loss: 0.0132 - mean_absolute_error: 0.0634 - mean_squared_error: 0.0132 - val_loss: 0.0116 - val_mean_absolute_error: 0.0578 - val_mean_squared_error: 0.0116\n",
      "Epoch 9/10\n",
      "\u001b[1m810/810\u001b[0m \u001b[32m━━━━━━━━━━━━━━━━━━━━\u001b[0m\u001b[37m\u001b[0m \u001b[1m11s\u001b[0m 14ms/step - loss: 0.0130 - mean_absolute_error: 0.0630 - mean_squared_error: 0.0130 - val_loss: 0.0123 - val_mean_absolute_error: 0.0589 - val_mean_squared_error: 0.0123\n",
      "Epoch 10/10\n",
      "\u001b[1m810/810\u001b[0m \u001b[32m━━━━━━━━━━━━━━━━━━━━\u001b[0m\u001b[37m\u001b[0m \u001b[1m11s\u001b[0m 14ms/step - loss: 0.0129 - mean_absolute_error: 0.0629 - mean_squared_error: 0.0129 - val_loss: 0.0115 - val_mean_absolute_error: 0.0577 - val_mean_squared_error: 0.0115\n"
     ]
    }
   ],
   "source": [
    "history = model1.fit(X_train, y_train, epochs=10, callbacks=[cp1], batch_size=16, validation_split=0.1)"
   ]
  },
  {
   "cell_type": "markdown",
   "metadata": {},
   "source": [
    "# Check training results"
   ]
  },
  {
   "cell_type": "code",
   "execution_count": 301,
   "metadata": {},
   "outputs": [
    {
     "data": {
      "text/plain": [
       "[<matplotlib.lines.Line2D at 0x291df6bd410>]"
      ]
     },
     "execution_count": 301,
     "metadata": {},
     "output_type": "execute_result"
    },
    {
     "data": {
      "image/png": "[encoded data removed]",
      "text/plain": [
       "<Figure size 640x480 with 1 Axes>"
      ]
     },
     "metadata": {},
     "output_type": "display_data"
    }
   ],
   "source": [
    "plt.plot(history.history['loss'], label='Training Loss')\n",
    "plt.plot(history.history['val_loss'], label='Validation Loss')"
   ]
  },
  {
   "cell_type": "markdown",
   "metadata": {},
   "source": [
    "# Plot training results"
   ]
  },
  {
   "cell_type": "code",
   "execution_count": 302,
   "metadata": {},
   "outputs": [],
   "source": [
    "# Select every n_output-th sample \n",
    "\n",
    "# This will be the inputs into the LSTM model\n",
    "\n",
    "X_train_input = X_train[::n_output]\n",
    "y_train_input = y_train[::n_output]"
   ]
  },
  {
   "cell_type": "code",
   "execution_count": 303,
   "metadata": {},
   "outputs": [
    {
     "data": {
      "text/plain": [
       "(1200, 48, 1)"
      ]
     },
     "execution_count": 303,
     "metadata": {},
     "output_type": "execute_result"
    }
   ],
   "source": [
    "X_train_input.shape"
   ]
  },
  {
   "cell_type": "code",
   "execution_count": 304,
   "metadata": {},
   "outputs": [
    {
     "data": {
      "text/plain": [
       "(1200, 12)"
      ]
     },
     "execution_count": 304,
     "metadata": {},
     "output_type": "execute_result"
    }
   ],
   "source": [
    "y_train_input.shape"
   ]
  },
  {
   "cell_type": "code",
   "execution_count": 320,
   "metadata": {},
   "outputs": [
    {
     "name": "stdout",
     "output_type": "stream",
     "text": [
      "\u001b[1m1/1\u001b[0m \u001b[32m━━━━━━━━━━━━━━━━━━━━\u001b[0m\u001b[37m\u001b[0m \u001b[1m0s\u001b[0m 20ms/step\n",
      "\u001b[1m1/1\u001b[0m \u001b[32m━━━━━━━━━━━━━━━━━━━━\u001b[0m\u001b[37m\u001b[0m \u001b[1m0s\u001b[0m 17ms/step\n",
      "\u001b[1m1/1\u001b[0m \u001b[32m━━━━━━━━━━━━━━━━━━━━\u001b[0m\u001b[37m\u001b[0m \u001b[1m0s\u001b[0m 15ms/step\n",
      "\u001b[1m1/1\u001b[0m \u001b[32m━━━━━━━━━━━━━━━━━━━━\u001b[0m\u001b[37m\u001b[0m \u001b[1m0s\u001b[0m 13ms/step\n",
      "\u001b[1m1/1\u001b[0m \u001b[32m━━━━━━━━━━━━━━━━━━━━\u001b[0m\u001b[37m\u001b[0m \u001b[1m0s\u001b[0m 28ms/step\n",
      "\u001b[1m1/1\u001b[0m \u001b[32m━━━━━━━━━━━━━━━━━━━━\u001b[0m\u001b[37m\u001b[0m \u001b[1m0s\u001b[0m 26ms/step\n",
      "\u001b[1m1/1\u001b[0m \u001b[32m━━━━━━━━━━━━━━━━━━━━\u001b[0m\u001b[37m\u001b[0m \u001b[1m0s\u001b[0m 16ms/step\n",
      "\u001b[1m1/1\u001b[0m \u001b[32m━━━━━━━━━━━━━━━━━━━━\u001b[0m\u001b[37m\u001b[0m \u001b[1m0s\u001b[0m 17ms/step\n",
      "\u001b[1m1/1\u001b[0m \u001b[32m━━━━━━━━━━━━━━━━━━━━\u001b[0m\u001b[37m\u001b[0m \u001b[1m0s\u001b[0m 15ms/step\n",
      "\u001b[1m1/1\u001b[0m \u001b[32m━━━━━━━━━━━━━━━━━━━━\u001b[0m\u001b[37m\u001b[0m \u001b[1m0s\u001b[0m 47ms/step\n",
      "\u001b[1m1/1\u001b[0m \u001b[32m━━━━━━━━━━━━━━━━━━━━\u001b[0m\u001b[37m\u001b[0m \u001b[1m0s\u001b[0m 30ms/step\n",
      "\u001b[1m1/1\u001b[0m \u001b[32m━━━━━━━━━━━━━━━━━━━━\u001b[0m\u001b[37m\u001b[0m \u001b[1m0s\u001b[0m 14ms/step\n",
      "\u001b[1m1/1\u001b[0m \u001b[32m━━━━━━━━━━━━━━━━━━━━\u001b[0m\u001b[37m\u001b[0m \u001b[1m0s\u001b[0m 30ms/step\n",
      "\u001b[1m1/1\u001b[0m \u001b[32m━━━━━━━━━━━━━━━━━━━━\u001b[0m\u001b[37m\u001b[0m \u001b[1m0s\u001b[0m 14ms/step\n",
      "\u001b[1m1/1\u001b[0m \u001b[32m━━━━━━━━━━━━━━━━━━━━\u001b[0m\u001b[37m\u001b[0m \u001b[1m0s\u001b[0m 15ms/step\n",
      "\u001b[1m1/1\u001b[0m \u001b[32m━━━━━━━━━━━━━━━━━━━━\u001b[0m\u001b[37m\u001b[0m \u001b[1m0s\u001b[0m 14ms/step\n",
      "\u001b[1m1/1\u001b[0m \u001b[32m━━━━━━━━━━━━━━━━━━━━\u001b[0m\u001b[37m\u001b[0m \u001b[1m0s\u001b[0m 22ms/step\n",
      "\u001b[1m1/1\u001b[0m \u001b[32m━━━━━━━━━━━━━━━━━━━━\u001b[0m\u001b[37m\u001b[0m \u001b[1m0s\u001b[0m 21ms/step\n",
      "\u001b[1m1/1\u001b[0m \u001b[32m━━━━━━━━━━━━━━━━━━━━\u001b[0m\u001b[37m\u001b[0m \u001b[1m0s\u001b[0m 20ms/step\n",
      "\u001b[1m1/1\u001b[0m \u001b[32m━━━━━━━━━━━━━━━━━━━━\u001b[0m\u001b[37m\u001b[0m \u001b[1m0s\u001b[0m 20ms/step\n"
     ]
    },
    {
     "data": {
      "text/plain": [
       "<matplotlib.legend.Legend at 0x291d7cae010>"
      ]
     },
     "execution_count": 320,
     "metadata": {},
     "output_type": "execute_result"
    },
    {
     "data": {
      "image/png": "[encoded data removed]",
      "text/plain": [
       "<Figure size 1200x400 with 1 Axes>"
      ]
     },
     "metadata": {},
     "output_type": "display_data"
    }
   ],
   "source": [
    "# Parameters to change to better visualise the training results\n",
    "\n",
    "# 1 = n_output e.g., 24 hours or maybe 1 week depending\n",
    "\n",
    "start_section = 1180\n",
    "end_section = 1200\n",
    "diff = end_section-start_section\n",
    "\n",
    "\n",
    "predictions = []\n",
    "\n",
    "for i in X_train_input[start_section:end_section]:\n",
    "    i_reshaped = i.reshape(1, n_input, n_features)\n",
    "    prediction = model1.predict(i_reshaped)\n",
    "\n",
    "    prediction_list = list(prediction[0])\n",
    "    predictions.append(prediction_list)\n",
    "\n",
    "plt.figure(figsize=(12,4))\n",
    "plt.title(f\"Training Results. n_input: {n_input}. Range: {start_section} - {end_section} \")\n",
    "plt.plot(np.array(predictions).flatten(), label='Prediction')\n",
    "plt.plot(y_train_input[start_section:end_section].flatten(), label = 'Actual')\n",
    "plt.xlabel('Index')\n",
    "plt.ylabel('Normalised Net Load (-)')\n",
    "\n",
    "xcoords = [(i*n_output)-1+n_output for i in range(diff)]\n",
    "for xc in xcoords:\n",
    "    plt.axvline(x=xc, color='red', linestyle='--', alpha=0.5)\n",
    "\n",
    "\n",
    "plt.legend()"
   ]
  },
  {
   "cell_type": "markdown",
   "metadata": {},
   "source": [
    "# Plot testing results"
   ]
  },
  {
   "cell_type": "code",
   "execution_count": 312,
   "metadata": {},
   "outputs": [],
   "source": [
    "# Select every n_output-th sample \n",
    "\n",
    "# This will be the inputs into the LSTM model\n",
    "\n",
    "X_test_input = X_test[::n_output]\n",
    "y_test_input = y_test[::n_output]"
   ]
  },
  {
   "cell_type": "code",
   "execution_count": 314,
   "metadata": {},
   "outputs": [
    {
     "data": {
      "text/plain": [
       "(257, 48, 1)"
      ]
     },
     "execution_count": 314,
     "metadata": {},
     "output_type": "execute_result"
    }
   ],
   "source": [
    "X_test_input.shape"
   ]
  },
  {
   "cell_type": "code",
   "execution_count": 315,
   "metadata": {},
   "outputs": [
    {
     "data": {
      "text/plain": [
       "(257, 12)"
      ]
     },
     "execution_count": 315,
     "metadata": {},
     "output_type": "execute_result"
    }
   ],
   "source": [
    "y_test_input.shape"
   ]
  },
  {
   "cell_type": "code",
   "execution_count": 321,
   "metadata": {},
   "outputs": [
    {
     "name": "stdout",
     "output_type": "stream",
     "text": [
      "\u001b[1m1/1\u001b[0m \u001b[32m━━━━━━━━━━━━━━━━━━━━\u001b[0m\u001b[37m\u001b[0m \u001b[1m0s\u001b[0m 17ms/step\n",
      "\u001b[1m1/1\u001b[0m \u001b[32m━━━━━━━━━━━━━━━━━━━━\u001b[0m\u001b[37m\u001b[0m \u001b[1m0s\u001b[0m 16ms/step\n",
      "\u001b[1m1/1\u001b[0m \u001b[32m━━━━━━━━━━━━━━━━━━━━\u001b[0m\u001b[37m\u001b[0m \u001b[1m0s\u001b[0m 18ms/step\n",
      "\u001b[1m1/1\u001b[0m \u001b[32m━━━━━━━━━━━━━━━━━━━━\u001b[0m\u001b[37m\u001b[0m \u001b[1m0s\u001b[0m 17ms/step\n",
      "\u001b[1m1/1\u001b[0m \u001b[32m━━━━━━━━━━━━━━━━━━━━\u001b[0m\u001b[37m\u001b[0m \u001b[1m0s\u001b[0m 15ms/step\n",
      "\u001b[1m1/1\u001b[0m \u001b[32m━━━━━━━━━━━━━━━━━━━━\u001b[0m\u001b[37m\u001b[0m \u001b[1m0s\u001b[0m 21ms/step\n",
      "\u001b[1m1/1\u001b[0m \u001b[32m━━━━━━━━━━━━━━━━━━━━\u001b[0m\u001b[37m\u001b[0m \u001b[1m0s\u001b[0m 15ms/step\n",
      "\u001b[1m1/1\u001b[0m \u001b[32m━━━━━━━━━━━━━━━━━━━━\u001b[0m\u001b[37m\u001b[0m \u001b[1m0s\u001b[0m 17ms/step\n",
      "\u001b[1m1/1\u001b[0m \u001b[32m━━━━━━━━━━━━━━━━━━━━\u001b[0m\u001b[37m\u001b[0m \u001b[1m0s\u001b[0m 22ms/step\n",
      "\u001b[1m1/1\u001b[0m \u001b[32m━━━━━━━━━━━━━━━━━━━━\u001b[0m\u001b[37m\u001b[0m \u001b[1m0s\u001b[0m 17ms/step\n"
     ]
    },
    {
     "data": {
      "text/plain": [
       "<matplotlib.legend.Legend at 0x291ddecaa10>"
      ]
     },
     "execution_count": 321,
     "metadata": {},
     "output_type": "execute_result"
    },
    {
     "data": {
      "image/png": "[encoded data removed]",
      "text/plain": [
       "<Figure size 1200x400 with 1 Axes>"
      ]
     },
     "metadata": {},
     "output_type": "display_data"
    }
   ],
   "source": [
    "# Parameters to change to better visualise the training results\n",
    "\n",
    "# 1 = n_output e.g., 24 hours or maybe 1 week depending\n",
    "\n",
    "start_section = 0\n",
    "end_section = 10\n",
    "diff = end_section-start_section\n",
    "\n",
    "\n",
    "predictions = []\n",
    "\n",
    "for i in X_test_input[start_section:end_section]:\n",
    "    i_reshaped = i.reshape(1, n_input, n_features)\n",
    "    prediction = model1.predict(i_reshaped)\n",
    "\n",
    "    prediction_list = list(prediction[0])\n",
    "    predictions.append(prediction_list)\n",
    "\n",
    "plt.figure(figsize=(12,4))\n",
    "plt.title(f\"Testing Results. n_input: {n_input}. Range: {start_section} - {end_section} \")\n",
    "plt.plot(np.array(predictions).flatten(), label='Prediction')\n",
    "plt.plot(y_test_input[start_section:end_section].flatten(), label = 'Actual')\n",
    "plt.xlabel('Index')\n",
    "plt.ylabel('Normalised Net Load (-)')\n",
    "\n",
    "xcoords = [(i*n_output)-1+n_output for i in range(diff)]\n",
    "for xc in xcoords:\n",
    "    plt.axvline(x=xc, color='red', linestyle='--', alpha=0.5)\n",
    "\n",
    "\n",
    "plt.legend()"
   ]
  }
 ],
 "metadata": {
  "kernelspec": {
   "display_name": "base",
   "language": "python",
   "name": "python3"
  },
  "language_info": {
   "codemirror_mode": {
    "name": "ipython",
    "version": 3
   },
   "file_extension": ".py",
   "mimetype": "text/x-python",
   "name": "python",
   "nbconvert_exporter": "python",
   "pygments_lexer": "ipython3",
   "version": "3.11.5"
  }
 },
 "nbformat": 4,
 "nbformat_minor": 2
}
