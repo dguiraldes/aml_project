{
 "cells": [
  {
   "cell_type": "markdown",
   "metadata": {},
   "source": [
    "# Import libraries"
   ]
  },
  {
   "cell_type": "code",
   "execution_count": 94,
   "metadata": {},
   "outputs": [],
   "source": [
    "import os\n",
    "import pandas as pd\n",
    "import numpy as np\n",
    "import os\n",
    "import psycopg2 # PostgreSQL database adapter for Python\n",
    "from dotenv import load_dotenv # Reads the key-value pair from .env file and adds them to environment variable\n",
    "import pandas as pd\n",
    "import matplotlib.pyplot as plt\n",
    "from sklearn.preprocessing import MinMaxScaler, StandardScaler\n",
    "\n",
    "import tensorflow as tf\n",
    "from tensorflow.keras.models import Sequential\n",
    "from tensorflow.keras.layers import *\n",
    "from tensorflow.keras.callbacks import ModelCheckpoint\n",
    "from tensorflow.keras.losses import MeanSquaredError\n",
    "from tensorflow.keras.losses import MeanAbsoluteError\n",
    "from tensorflow.keras.metrics import RootMeanSquaredError\n",
    "from tensorflow.keras.optimizers import Adam\n",
    "from tensorflow.keras.preprocessing.sequence import TimeseriesGenerator\n",
    "from tensorflow.keras.models import load_model\n",
    "from sklearn.metrics import mean_absolute_error\n",
    "from sklearn.model_selection import train_test_split"
   ]
  },
  {
   "cell_type": "markdown",
   "metadata": {},
   "source": [
    "# Connect to database"
   ]
  },
  {
   "cell_type": "code",
   "execution_count": 95,
   "metadata": {},
   "outputs": [],
   "source": [
    "# Load environment variables from .env file\n",
    "load_dotenv()\n",
    "\n",
    "# Accessing credentials\n",
    "db_host = os.getenv(\"DB_HOST\")\n",
    "db_name = os.getenv(\"DB_NAME\")\n",
    "db_user = os.getenv(\"DB_USER\")\n",
    "db_password = os.getenv(\"DB_PASSWORD\")\n",
    "db_port = os.getenv(\"DB_PORT\")"
   ]
  },
  {
   "cell_type": "code",
   "execution_count": 96,
   "metadata": {},
   "outputs": [],
   "source": [
    "# Connect to the database\n",
    "conn = psycopg2.connect(\n",
    "    host=db_host,\n",
    "    dbname=db_name,\n",
    "    user=db_user,\n",
    "    password=db_password,\n",
    "    port=db_port\n",
    ")"
   ]
  },
  {
   "cell_type": "markdown",
   "metadata": {},
   "source": [
    "# Retrieve relevant data from the database"
   ]
  },
  {
   "cell_type": "code",
   "execution_count": 97,
   "metadata": {},
   "outputs": [],
   "source": [
    "query=\"\"\"\n",
    "    select *\n",
    "    from agg.tidy_data_30min \n",
    "    where site = 20\n",
    "\"\"\""
   ]
  },
  {
   "cell_type": "code",
   "execution_count": 98,
   "metadata": {},
   "outputs": [
    {
     "name": "stderr",
     "output_type": "stream",
     "text": [
      "C:\\Users\\elian\\AppData\\Local\\Temp\\ipykernel_293588\\1553155693.py:1: UserWarning: pandas only supports SQLAlchemy connectable (engine/connection) or database string URI or sqlite3 DBAPI2 connection. Other DBAPI2 objects are not tested. Please consider using SQLAlchemy.\n",
      "  df = pd.read_sql_query(query, conn)\n"
     ]
    }
   ],
   "source": [
    "df = pd.read_sql_query(query, conn)"
   ]
  },
  {
   "cell_type": "code",
   "execution_count": 99,
   "metadata": {},
   "outputs": [
    {
     "name": "stdout",
     "output_type": "stream",
     "text": [
      "<class 'pandas.core.frame.DataFrame'>\n",
      "RangeIndex: 17562 entries, 0 to 17561\n",
      "Data columns (total 21 columns):\n",
      " #   Column                     Non-Null Count  Dtype              \n",
      "---  ------                     --------------  -----              \n",
      " 0   timestamp                  17562 non-null  datetime64[ns, UTC]\n",
      " 1   site                       17562 non-null  int64              \n",
      " 2   year                       17562 non-null  int64              \n",
      " 3   month                      17562 non-null  int64              \n",
      " 4   day                        17562 non-null  int64              \n",
      " 5   hour                       17562 non-null  int64              \n",
      " 6   minute                     17562 non-null  int64              \n",
      " 7   day_of_week                17562 non-null  int64              \n",
      " 8   season                     17562 non-null  int64              \n",
      " 9   net_load                   17562 non-null  float64            \n",
      " 10  precipitation              17068 non-null  float64            \n",
      " 11  precipitation_probability  17068 non-null  float64            \n",
      " 12  wind_direction             17068 non-null  float64            \n",
      " 13  wind_speed                 17068 non-null  float64            \n",
      " 14  solar_radiation            17068 non-null  float64            \n",
      " 15  sunshine_duration          17068 non-null  float64            \n",
      " 16  avg_net_load               17562 non-null  float64            \n",
      " 17  q25_net_load               17562 non-null  float64            \n",
      " 18  q75_net_load               17562 non-null  float64            \n",
      " 19  median_net_load            17562 non-null  float64            \n",
      " 20  weekend_or_bank_holiday    17562 non-null  int64              \n",
      "dtypes: datetime64[ns, UTC](1), float64(11), int64(9)\n",
      "memory usage: 2.8 MB\n"
     ]
    }
   ],
   "source": [
    "df.info()"
   ]
  },
  {
   "cell_type": "code",
   "execution_count": 100,
   "metadata": {},
   "outputs": [
    {
     "data": {
      "text/html": [
       "<div>\n",
       "<style scoped>\n",
       "    .dataframe tbody tr th:only-of-type {\n",
       "        vertical-align: middle;\n",
       "    }\n",
       "\n",
       "    .dataframe tbody tr th {\n",
       "        vertical-align: top;\n",
       "    }\n",
       "\n",
       "    .dataframe thead th {\n",
       "        text-align: right;\n",
       "    }\n",
       "</style>\n",
       "<table border=\"1\" class=\"dataframe\">\n",
       "  <thead>\n",
       "    <tr style=\"text-align: right;\">\n",
       "      <th></th>\n",
       "      <th>timestamp</th>\n",
       "      <th>site</th>\n",
       "      <th>year</th>\n",
       "      <th>month</th>\n",
       "      <th>day</th>\n",
       "      <th>hour</th>\n",
       "      <th>minute</th>\n",
       "      <th>day_of_week</th>\n",
       "      <th>season</th>\n",
       "      <th>net_load</th>\n",
       "      <th>...</th>\n",
       "      <th>precipitation_probability</th>\n",
       "      <th>wind_direction</th>\n",
       "      <th>wind_speed</th>\n",
       "      <th>solar_radiation</th>\n",
       "      <th>sunshine_duration</th>\n",
       "      <th>avg_net_load</th>\n",
       "      <th>q25_net_load</th>\n",
       "      <th>q75_net_load</th>\n",
       "      <th>median_net_load</th>\n",
       "      <th>weekend_or_bank_holiday</th>\n",
       "    </tr>\n",
       "  </thead>\n",
       "  <tbody>\n",
       "    <tr>\n",
       "      <th>0</th>\n",
       "      <td>2019-04-23 15:30:00+00:00</td>\n",
       "      <td>20</td>\n",
       "      <td>2019</td>\n",
       "      <td>4</td>\n",
       "      <td>23</td>\n",
       "      <td>16</td>\n",
       "      <td>30</td>\n",
       "      <td>1</td>\n",
       "      <td>2</td>\n",
       "      <td>10.35</td>\n",
       "      <td>...</td>\n",
       "      <td>NaN</td>\n",
       "      <td>NaN</td>\n",
       "      <td>NaN</td>\n",
       "      <td>NaN</td>\n",
       "      <td>NaN</td>\n",
       "      <td>-24.74</td>\n",
       "      <td>-34.7600</td>\n",
       "      <td>16.66</td>\n",
       "      <td>5.71</td>\n",
       "      <td>0</td>\n",
       "    </tr>\n",
       "    <tr>\n",
       "      <th>1</th>\n",
       "      <td>2019-04-23 16:00:00+00:00</td>\n",
       "      <td>20</td>\n",
       "      <td>2019</td>\n",
       "      <td>4</td>\n",
       "      <td>23</td>\n",
       "      <td>17</td>\n",
       "      <td>0</td>\n",
       "      <td>1</td>\n",
       "      <td>2</td>\n",
       "      <td>16.79</td>\n",
       "      <td>...</td>\n",
       "      <td>NaN</td>\n",
       "      <td>NaN</td>\n",
       "      <td>NaN</td>\n",
       "      <td>NaN</td>\n",
       "      <td>NaN</td>\n",
       "      <td>5.20</td>\n",
       "      <td>-11.6750</td>\n",
       "      <td>17.73</td>\n",
       "      <td>9.42</td>\n",
       "      <td>0</td>\n",
       "    </tr>\n",
       "    <tr>\n",
       "      <th>2</th>\n",
       "      <td>2019-04-23 16:30:00+00:00</td>\n",
       "      <td>20</td>\n",
       "      <td>2019</td>\n",
       "      <td>4</td>\n",
       "      <td>23</td>\n",
       "      <td>17</td>\n",
       "      <td>30</td>\n",
       "      <td>1</td>\n",
       "      <td>2</td>\n",
       "      <td>16.98</td>\n",
       "      <td>...</td>\n",
       "      <td>NaN</td>\n",
       "      <td>NaN</td>\n",
       "      <td>NaN</td>\n",
       "      <td>NaN</td>\n",
       "      <td>NaN</td>\n",
       "      <td>28.17</td>\n",
       "      <td>5.0250</td>\n",
       "      <td>28.62</td>\n",
       "      <td>15.78</td>\n",
       "      <td>0</td>\n",
       "    </tr>\n",
       "    <tr>\n",
       "      <th>3</th>\n",
       "      <td>2019-04-23 17:00:00+00:00</td>\n",
       "      <td>20</td>\n",
       "      <td>2019</td>\n",
       "      <td>4</td>\n",
       "      <td>23</td>\n",
       "      <td>18</td>\n",
       "      <td>0</td>\n",
       "      <td>1</td>\n",
       "      <td>2</td>\n",
       "      <td>11.89</td>\n",
       "      <td>...</td>\n",
       "      <td>NaN</td>\n",
       "      <td>NaN</td>\n",
       "      <td>NaN</td>\n",
       "      <td>NaN</td>\n",
       "      <td>NaN</td>\n",
       "      <td>53.22</td>\n",
       "      <td>11.9125</td>\n",
       "      <td>28.25</td>\n",
       "      <td>16.16</td>\n",
       "      <td>0</td>\n",
       "    </tr>\n",
       "    <tr>\n",
       "      <th>4</th>\n",
       "      <td>2019-04-23 17:30:00+00:00</td>\n",
       "      <td>20</td>\n",
       "      <td>2019</td>\n",
       "      <td>4</td>\n",
       "      <td>23</td>\n",
       "      <td>18</td>\n",
       "      <td>30</td>\n",
       "      <td>1</td>\n",
       "      <td>2</td>\n",
       "      <td>24.23</td>\n",
       "      <td>...</td>\n",
       "      <td>NaN</td>\n",
       "      <td>NaN</td>\n",
       "      <td>NaN</td>\n",
       "      <td>NaN</td>\n",
       "      <td>NaN</td>\n",
       "      <td>50.42</td>\n",
       "      <td>12.8475</td>\n",
       "      <td>31.11</td>\n",
       "      <td>17.33</td>\n",
       "      <td>0</td>\n",
       "    </tr>\n",
       "    <tr>\n",
       "      <th>...</th>\n",
       "      <td>...</td>\n",
       "      <td>...</td>\n",
       "      <td>...</td>\n",
       "      <td>...</td>\n",
       "      <td>...</td>\n",
       "      <td>...</td>\n",
       "      <td>...</td>\n",
       "      <td>...</td>\n",
       "      <td>...</td>\n",
       "      <td>...</td>\n",
       "      <td>...</td>\n",
       "      <td>...</td>\n",
       "      <td>...</td>\n",
       "      <td>...</td>\n",
       "      <td>...</td>\n",
       "      <td>...</td>\n",
       "      <td>...</td>\n",
       "      <td>...</td>\n",
       "      <td>...</td>\n",
       "      <td>...</td>\n",
       "      <td>...</td>\n",
       "    </tr>\n",
       "    <tr>\n",
       "      <th>17557</th>\n",
       "      <td>2020-03-30 04:30:00+00:00</td>\n",
       "      <td>20</td>\n",
       "      <td>2020</td>\n",
       "      <td>3</td>\n",
       "      <td>30</td>\n",
       "      <td>5</td>\n",
       "      <td>30</td>\n",
       "      <td>0</td>\n",
       "      <td>2</td>\n",
       "      <td>511.06</td>\n",
       "      <td>...</td>\n",
       "      <td>NaN</td>\n",
       "      <td>NaN</td>\n",
       "      <td>NaN</td>\n",
       "      <td>NaN</td>\n",
       "      <td>NaN</td>\n",
       "      <td>608.02</td>\n",
       "      <td>16.3600</td>\n",
       "      <td>570.76</td>\n",
       "      <td>147.54</td>\n",
       "      <td>0</td>\n",
       "    </tr>\n",
       "    <tr>\n",
       "      <th>17558</th>\n",
       "      <td>2020-03-30 05:00:00+00:00</td>\n",
       "      <td>20</td>\n",
       "      <td>2020</td>\n",
       "      <td>3</td>\n",
       "      <td>30</td>\n",
       "      <td>6</td>\n",
       "      <td>0</td>\n",
       "      <td>0</td>\n",
       "      <td>2</td>\n",
       "      <td>320.69</td>\n",
       "      <td>...</td>\n",
       "      <td>NaN</td>\n",
       "      <td>NaN</td>\n",
       "      <td>NaN</td>\n",
       "      <td>NaN</td>\n",
       "      <td>NaN</td>\n",
       "      <td>586.85</td>\n",
       "      <td>42.6575</td>\n",
       "      <td>635.50</td>\n",
       "      <td>216.76</td>\n",
       "      <td>0</td>\n",
       "    </tr>\n",
       "    <tr>\n",
       "      <th>17559</th>\n",
       "      <td>2020-03-30 05:30:00+00:00</td>\n",
       "      <td>20</td>\n",
       "      <td>2020</td>\n",
       "      <td>3</td>\n",
       "      <td>30</td>\n",
       "      <td>6</td>\n",
       "      <td>30</td>\n",
       "      <td>0</td>\n",
       "      <td>2</td>\n",
       "      <td>245.21</td>\n",
       "      <td>...</td>\n",
       "      <td>NaN</td>\n",
       "      <td>NaN</td>\n",
       "      <td>NaN</td>\n",
       "      <td>NaN</td>\n",
       "      <td>NaN</td>\n",
       "      <td>524.16</td>\n",
       "      <td>50.5500</td>\n",
       "      <td>616.78</td>\n",
       "      <td>256.78</td>\n",
       "      <td>0</td>\n",
       "    </tr>\n",
       "    <tr>\n",
       "      <th>17560</th>\n",
       "      <td>2020-03-30 06:00:00+00:00</td>\n",
       "      <td>20</td>\n",
       "      <td>2020</td>\n",
       "      <td>3</td>\n",
       "      <td>30</td>\n",
       "      <td>7</td>\n",
       "      <td>0</td>\n",
       "      <td>0</td>\n",
       "      <td>2</td>\n",
       "      <td>187.68</td>\n",
       "      <td>...</td>\n",
       "      <td>NaN</td>\n",
       "      <td>NaN</td>\n",
       "      <td>NaN</td>\n",
       "      <td>NaN</td>\n",
       "      <td>NaN</td>\n",
       "      <td>458.60</td>\n",
       "      <td>28.3925</td>\n",
       "      <td>428.11</td>\n",
       "      <td>144.64</td>\n",
       "      <td>0</td>\n",
       "    </tr>\n",
       "    <tr>\n",
       "      <th>17561</th>\n",
       "      <td>2020-03-30 06:30:00+00:00</td>\n",
       "      <td>20</td>\n",
       "      <td>2020</td>\n",
       "      <td>3</td>\n",
       "      <td>30</td>\n",
       "      <td>7</td>\n",
       "      <td>30</td>\n",
       "      <td>0</td>\n",
       "      <td>2</td>\n",
       "      <td>86.28</td>\n",
       "      <td>...</td>\n",
       "      <td>NaN</td>\n",
       "      <td>NaN</td>\n",
       "      <td>NaN</td>\n",
       "      <td>NaN</td>\n",
       "      <td>NaN</td>\n",
       "      <td>274.72</td>\n",
       "      <td>13.3550</td>\n",
       "      <td>325.65</td>\n",
       "      <td>77.13</td>\n",
       "      <td>0</td>\n",
       "    </tr>\n",
       "  </tbody>\n",
       "</table>\n",
       "<p>17562 rows × 21 columns</p>\n",
       "</div>"
      ],
      "text/plain": [
       "                      timestamp  site  year  month  day  hour  minute  \\\n",
       "0     2019-04-23 15:30:00+00:00    20  2019      4   23    16      30   \n",
       "1     2019-04-23 16:00:00+00:00    20  2019      4   23    17       0   \n",
       "2     2019-04-23 16:30:00+00:00    20  2019      4   23    17      30   \n",
       "3     2019-04-23 17:00:00+00:00    20  2019      4   23    18       0   \n",
       "4     2019-04-23 17:30:00+00:00    20  2019      4   23    18      30   \n",
       "...                         ...   ...   ...    ...  ...   ...     ...   \n",
       "17557 2020-03-30 04:30:00+00:00    20  2020      3   30     5      30   \n",
       "17558 2020-03-30 05:00:00+00:00    20  2020      3   30     6       0   \n",
       "17559 2020-03-30 05:30:00+00:00    20  2020      3   30     6      30   \n",
       "17560 2020-03-30 06:00:00+00:00    20  2020      3   30     7       0   \n",
       "17561 2020-03-30 06:30:00+00:00    20  2020      3   30     7      30   \n",
       "\n",
       "       day_of_week  season  net_load  ...  precipitation_probability  \\\n",
       "0                1       2     10.35  ...                        NaN   \n",
       "1                1       2     16.79  ...                        NaN   \n",
       "2                1       2     16.98  ...                        NaN   \n",
       "3                1       2     11.89  ...                        NaN   \n",
       "4                1       2     24.23  ...                        NaN   \n",
       "...            ...     ...       ...  ...                        ...   \n",
       "17557            0       2    511.06  ...                        NaN   \n",
       "17558            0       2    320.69  ...                        NaN   \n",
       "17559            0       2    245.21  ...                        NaN   \n",
       "17560            0       2    187.68  ...                        NaN   \n",
       "17561            0       2     86.28  ...                        NaN   \n",
       "\n",
       "       wind_direction  wind_speed  solar_radiation  sunshine_duration  \\\n",
       "0                 NaN         NaN              NaN                NaN   \n",
       "1                 NaN         NaN              NaN                NaN   \n",
       "2                 NaN         NaN              NaN                NaN   \n",
       "3                 NaN         NaN              NaN                NaN   \n",
       "4                 NaN         NaN              NaN                NaN   \n",
       "...               ...         ...              ...                ...   \n",
       "17557             NaN         NaN              NaN                NaN   \n",
       "17558             NaN         NaN              NaN                NaN   \n",
       "17559             NaN         NaN              NaN                NaN   \n",
       "17560             NaN         NaN              NaN                NaN   \n",
       "17561             NaN         NaN              NaN                NaN   \n",
       "\n",
       "       avg_net_load  q25_net_load  q75_net_load  median_net_load  \\\n",
       "0            -24.74      -34.7600         16.66             5.71   \n",
       "1              5.20      -11.6750         17.73             9.42   \n",
       "2             28.17        5.0250         28.62            15.78   \n",
       "3             53.22       11.9125         28.25            16.16   \n",
       "4             50.42       12.8475         31.11            17.33   \n",
       "...             ...           ...           ...              ...   \n",
       "17557        608.02       16.3600        570.76           147.54   \n",
       "17558        586.85       42.6575        635.50           216.76   \n",
       "17559        524.16       50.5500        616.78           256.78   \n",
       "17560        458.60       28.3925        428.11           144.64   \n",
       "17561        274.72       13.3550        325.65            77.13   \n",
       "\n",
       "       weekend_or_bank_holiday  \n",
       "0                            0  \n",
       "1                            0  \n",
       "2                            0  \n",
       "3                            0  \n",
       "4                            0  \n",
       "...                        ...  \n",
       "17557                        0  \n",
       "17558                        0  \n",
       "17559                        0  \n",
       "17560                        0  \n",
       "17561                        0  \n",
       "\n",
       "[17562 rows x 21 columns]"
      ]
     },
     "execution_count": 100,
     "metadata": {},
     "output_type": "execute_result"
    }
   ],
   "source": [
    "df"
   ]
  },
  {
   "cell_type": "code",
   "execution_count": 101,
   "metadata": {},
   "outputs": [
    {
     "data": {
      "text/html": [
       "<div>\n",
       "<style scoped>\n",
       "    .dataframe tbody tr th:only-of-type {\n",
       "        vertical-align: middle;\n",
       "    }\n",
       "\n",
       "    .dataframe tbody tr th {\n",
       "        vertical-align: top;\n",
       "    }\n",
       "\n",
       "    .dataframe thead th {\n",
       "        text-align: right;\n",
       "    }\n",
       "</style>\n",
       "<table border=\"1\" class=\"dataframe\">\n",
       "  <thead>\n",
       "    <tr style=\"text-align: right;\">\n",
       "      <th></th>\n",
       "      <th>timestamp</th>\n",
       "      <th>site</th>\n",
       "      <th>year</th>\n",
       "      <th>month</th>\n",
       "      <th>day</th>\n",
       "      <th>hour</th>\n",
       "      <th>minute</th>\n",
       "      <th>day_of_week</th>\n",
       "      <th>season</th>\n",
       "      <th>net_load</th>\n",
       "      <th>...</th>\n",
       "      <th>precipitation_probability</th>\n",
       "      <th>wind_direction</th>\n",
       "      <th>wind_speed</th>\n",
       "      <th>solar_radiation</th>\n",
       "      <th>sunshine_duration</th>\n",
       "      <th>avg_net_load</th>\n",
       "      <th>q25_net_load</th>\n",
       "      <th>q75_net_load</th>\n",
       "      <th>median_net_load</th>\n",
       "      <th>weekend_or_bank_holiday</th>\n",
       "    </tr>\n",
       "    <tr>\n",
       "      <th>timestamp</th>\n",
       "      <th></th>\n",
       "      <th></th>\n",
       "      <th></th>\n",
       "      <th></th>\n",
       "      <th></th>\n",
       "      <th></th>\n",
       "      <th></th>\n",
       "      <th></th>\n",
       "      <th></th>\n",
       "      <th></th>\n",
       "      <th></th>\n",
       "      <th></th>\n",
       "      <th></th>\n",
       "      <th></th>\n",
       "      <th></th>\n",
       "      <th></th>\n",
       "      <th></th>\n",
       "      <th></th>\n",
       "      <th></th>\n",
       "      <th></th>\n",
       "      <th></th>\n",
       "    </tr>\n",
       "  </thead>\n",
       "  <tbody>\n",
       "    <tr>\n",
       "      <th>2019-04-01 00:00:00+00:00</th>\n",
       "      <td>2019-04-01 00:00:00+00:00</td>\n",
       "      <td>20</td>\n",
       "      <td>2019</td>\n",
       "      <td>4</td>\n",
       "      <td>1</td>\n",
       "      <td>1</td>\n",
       "      <td>0</td>\n",
       "      <td>0</td>\n",
       "      <td>2</td>\n",
       "      <td>198.79</td>\n",
       "      <td>...</td>\n",
       "      <td>2.0</td>\n",
       "      <td>87.0</td>\n",
       "      <td>12.0</td>\n",
       "      <td>0.0</td>\n",
       "      <td>0.0</td>\n",
       "      <td>152.86</td>\n",
       "      <td>15.4150</td>\n",
       "      <td>138.56</td>\n",
       "      <td>18.69</td>\n",
       "      <td>0</td>\n",
       "    </tr>\n",
       "    <tr>\n",
       "      <th>2019-04-01 00:30:00+00:00</th>\n",
       "      <td>2019-04-01 00:30:00+00:00</td>\n",
       "      <td>20</td>\n",
       "      <td>2019</td>\n",
       "      <td>4</td>\n",
       "      <td>1</td>\n",
       "      <td>1</td>\n",
       "      <td>30</td>\n",
       "      <td>0</td>\n",
       "      <td>2</td>\n",
       "      <td>250.51</td>\n",
       "      <td>...</td>\n",
       "      <td>2.0</td>\n",
       "      <td>87.0</td>\n",
       "      <td>12.0</td>\n",
       "      <td>0.0</td>\n",
       "      <td>0.0</td>\n",
       "      <td>204.52</td>\n",
       "      <td>15.3175</td>\n",
       "      <td>166.11</td>\n",
       "      <td>18.60</td>\n",
       "      <td>0</td>\n",
       "    </tr>\n",
       "    <tr>\n",
       "      <th>2019-04-01 01:00:00+00:00</th>\n",
       "      <td>2019-04-01 01:00:00+00:00</td>\n",
       "      <td>20</td>\n",
       "      <td>2019</td>\n",
       "      <td>4</td>\n",
       "      <td>1</td>\n",
       "      <td>2</td>\n",
       "      <td>0</td>\n",
       "      <td>0</td>\n",
       "      <td>2</td>\n",
       "      <td>194.07</td>\n",
       "      <td>...</td>\n",
       "      <td>3.0</td>\n",
       "      <td>89.0</td>\n",
       "      <td>11.0</td>\n",
       "      <td>0.0</td>\n",
       "      <td>0.0</td>\n",
       "      <td>214.66</td>\n",
       "      <td>15.8375</td>\n",
       "      <td>179.70</td>\n",
       "      <td>31.03</td>\n",
       "      <td>0</td>\n",
       "    </tr>\n",
       "    <tr>\n",
       "      <th>2019-04-01 01:30:00+00:00</th>\n",
       "      <td>2019-04-01 01:30:00+00:00</td>\n",
       "      <td>20</td>\n",
       "      <td>2019</td>\n",
       "      <td>4</td>\n",
       "      <td>1</td>\n",
       "      <td>2</td>\n",
       "      <td>30</td>\n",
       "      <td>0</td>\n",
       "      <td>2</td>\n",
       "      <td>245.33</td>\n",
       "      <td>...</td>\n",
       "      <td>3.0</td>\n",
       "      <td>89.0</td>\n",
       "      <td>11.0</td>\n",
       "      <td>0.0</td>\n",
       "      <td>0.0</td>\n",
       "      <td>209.72</td>\n",
       "      <td>15.8775</td>\n",
       "      <td>177.33</td>\n",
       "      <td>52.99</td>\n",
       "      <td>0</td>\n",
       "    </tr>\n",
       "    <tr>\n",
       "      <th>2019-04-01 02:00:00+00:00</th>\n",
       "      <td>2019-04-01 02:00:00+00:00</td>\n",
       "      <td>20</td>\n",
       "      <td>2019</td>\n",
       "      <td>4</td>\n",
       "      <td>1</td>\n",
       "      <td>3</td>\n",
       "      <td>0</td>\n",
       "      <td>0</td>\n",
       "      <td>2</td>\n",
       "      <td>223.68</td>\n",
       "      <td>...</td>\n",
       "      <td>4.0</td>\n",
       "      <td>91.0</td>\n",
       "      <td>11.0</td>\n",
       "      <td>0.0</td>\n",
       "      <td>0.0</td>\n",
       "      <td>230.59</td>\n",
       "      <td>16.3350</td>\n",
       "      <td>212.62</td>\n",
       "      <td>65.21</td>\n",
       "      <td>0</td>\n",
       "    </tr>\n",
       "    <tr>\n",
       "      <th>...</th>\n",
       "      <td>...</td>\n",
       "      <td>...</td>\n",
       "      <td>...</td>\n",
       "      <td>...</td>\n",
       "      <td>...</td>\n",
       "      <td>...</td>\n",
       "      <td>...</td>\n",
       "      <td>...</td>\n",
       "      <td>...</td>\n",
       "      <td>...</td>\n",
       "      <td>...</td>\n",
       "      <td>...</td>\n",
       "      <td>...</td>\n",
       "      <td>...</td>\n",
       "      <td>...</td>\n",
       "      <td>...</td>\n",
       "      <td>...</td>\n",
       "      <td>...</td>\n",
       "      <td>...</td>\n",
       "      <td>...</td>\n",
       "      <td>...</td>\n",
       "    </tr>\n",
       "    <tr>\n",
       "      <th>2020-03-31 20:30:00+00:00</th>\n",
       "      <td>2020-03-31 20:30:00+00:00</td>\n",
       "      <td>20</td>\n",
       "      <td>2020</td>\n",
       "      <td>3</td>\n",
       "      <td>31</td>\n",
       "      <td>21</td>\n",
       "      <td>30</td>\n",
       "      <td>1</td>\n",
       "      <td>2</td>\n",
       "      <td>28.10</td>\n",
       "      <td>...</td>\n",
       "      <td>NaN</td>\n",
       "      <td>NaN</td>\n",
       "      <td>NaN</td>\n",
       "      <td>NaN</td>\n",
       "      <td>NaN</td>\n",
       "      <td>282.00</td>\n",
       "      <td>15.4650</td>\n",
       "      <td>264.64</td>\n",
       "      <td>19.82</td>\n",
       "      <td>0</td>\n",
       "    </tr>\n",
       "    <tr>\n",
       "      <th>2020-03-31 21:00:00+00:00</th>\n",
       "      <td>2020-03-31 21:00:00+00:00</td>\n",
       "      <td>20</td>\n",
       "      <td>2020</td>\n",
       "      <td>3</td>\n",
       "      <td>31</td>\n",
       "      <td>22</td>\n",
       "      <td>0</td>\n",
       "      <td>1</td>\n",
       "      <td>2</td>\n",
       "      <td>11.10</td>\n",
       "      <td>...</td>\n",
       "      <td>NaN</td>\n",
       "      <td>NaN</td>\n",
       "      <td>NaN</td>\n",
       "      <td>NaN</td>\n",
       "      <td>NaN</td>\n",
       "      <td>321.01</td>\n",
       "      <td>14.5975</td>\n",
       "      <td>220.50</td>\n",
       "      <td>16.55</td>\n",
       "      <td>0</td>\n",
       "    </tr>\n",
       "    <tr>\n",
       "      <th>2020-03-31 21:30:00+00:00</th>\n",
       "      <td>2020-03-31 21:30:00+00:00</td>\n",
       "      <td>20</td>\n",
       "      <td>2020</td>\n",
       "      <td>3</td>\n",
       "      <td>31</td>\n",
       "      <td>22</td>\n",
       "      <td>30</td>\n",
       "      <td>1</td>\n",
       "      <td>2</td>\n",
       "      <td>196.48</td>\n",
       "      <td>...</td>\n",
       "      <td>NaN</td>\n",
       "      <td>NaN</td>\n",
       "      <td>NaN</td>\n",
       "      <td>NaN</td>\n",
       "      <td>NaN</td>\n",
       "      <td>353.42</td>\n",
       "      <td>14.7625</td>\n",
       "      <td>206.66</td>\n",
       "      <td>30.23</td>\n",
       "      <td>0</td>\n",
       "    </tr>\n",
       "    <tr>\n",
       "      <th>2020-03-31 22:00:00+00:00</th>\n",
       "      <td>2020-03-31 22:00:00+00:00</td>\n",
       "      <td>20</td>\n",
       "      <td>2020</td>\n",
       "      <td>3</td>\n",
       "      <td>31</td>\n",
       "      <td>23</td>\n",
       "      <td>0</td>\n",
       "      <td>1</td>\n",
       "      <td>2</td>\n",
       "      <td>293.14</td>\n",
       "      <td>...</td>\n",
       "      <td>NaN</td>\n",
       "      <td>NaN</td>\n",
       "      <td>NaN</td>\n",
       "      <td>NaN</td>\n",
       "      <td>NaN</td>\n",
       "      <td>219.42</td>\n",
       "      <td>15.3625</td>\n",
       "      <td>177.28</td>\n",
       "      <td>21.27</td>\n",
       "      <td>0</td>\n",
       "    </tr>\n",
       "    <tr>\n",
       "      <th>2020-03-31 22:30:00+00:00</th>\n",
       "      <td>2020-03-31 22:30:00+00:00</td>\n",
       "      <td>20</td>\n",
       "      <td>2020</td>\n",
       "      <td>3</td>\n",
       "      <td>31</td>\n",
       "      <td>23</td>\n",
       "      <td>30</td>\n",
       "      <td>1</td>\n",
       "      <td>2</td>\n",
       "      <td>346.70</td>\n",
       "      <td>...</td>\n",
       "      <td>NaN</td>\n",
       "      <td>NaN</td>\n",
       "      <td>NaN</td>\n",
       "      <td>NaN</td>\n",
       "      <td>NaN</td>\n",
       "      <td>193.11</td>\n",
       "      <td>15.4000</td>\n",
       "      <td>173.33</td>\n",
       "      <td>53.91</td>\n",
       "      <td>0</td>\n",
       "    </tr>\n",
       "  </tbody>\n",
       "</table>\n",
       "<p>17562 rows × 21 columns</p>\n",
       "</div>"
      ],
      "text/plain": [
       "                                          timestamp  site  year  month  day  \\\n",
       "timestamp                                                                     \n",
       "2019-04-01 00:00:00+00:00 2019-04-01 00:00:00+00:00    20  2019      4    1   \n",
       "2019-04-01 00:30:00+00:00 2019-04-01 00:30:00+00:00    20  2019      4    1   \n",
       "2019-04-01 01:00:00+00:00 2019-04-01 01:00:00+00:00    20  2019      4    1   \n",
       "2019-04-01 01:30:00+00:00 2019-04-01 01:30:00+00:00    20  2019      4    1   \n",
       "2019-04-01 02:00:00+00:00 2019-04-01 02:00:00+00:00    20  2019      4    1   \n",
       "...                                             ...   ...   ...    ...  ...   \n",
       "2020-03-31 20:30:00+00:00 2020-03-31 20:30:00+00:00    20  2020      3   31   \n",
       "2020-03-31 21:00:00+00:00 2020-03-31 21:00:00+00:00    20  2020      3   31   \n",
       "2020-03-31 21:30:00+00:00 2020-03-31 21:30:00+00:00    20  2020      3   31   \n",
       "2020-03-31 22:00:00+00:00 2020-03-31 22:00:00+00:00    20  2020      3   31   \n",
       "2020-03-31 22:30:00+00:00 2020-03-31 22:30:00+00:00    20  2020      3   31   \n",
       "\n",
       "                           hour  minute  day_of_week  season  net_load  ...  \\\n",
       "timestamp                                                               ...   \n",
       "2019-04-01 00:00:00+00:00     1       0            0       2    198.79  ...   \n",
       "2019-04-01 00:30:00+00:00     1      30            0       2    250.51  ...   \n",
       "2019-04-01 01:00:00+00:00     2       0            0       2    194.07  ...   \n",
       "2019-04-01 01:30:00+00:00     2      30            0       2    245.33  ...   \n",
       "2019-04-01 02:00:00+00:00     3       0            0       2    223.68  ...   \n",
       "...                         ...     ...          ...     ...       ...  ...   \n",
       "2020-03-31 20:30:00+00:00    21      30            1       2     28.10  ...   \n",
       "2020-03-31 21:00:00+00:00    22       0            1       2     11.10  ...   \n",
       "2020-03-31 21:30:00+00:00    22      30            1       2    196.48  ...   \n",
       "2020-03-31 22:00:00+00:00    23       0            1       2    293.14  ...   \n",
       "2020-03-31 22:30:00+00:00    23      30            1       2    346.70  ...   \n",
       "\n",
       "                           precipitation_probability  wind_direction  \\\n",
       "timestamp                                                              \n",
       "2019-04-01 00:00:00+00:00                        2.0            87.0   \n",
       "2019-04-01 00:30:00+00:00                        2.0            87.0   \n",
       "2019-04-01 01:00:00+00:00                        3.0            89.0   \n",
       "2019-04-01 01:30:00+00:00                        3.0            89.0   \n",
       "2019-04-01 02:00:00+00:00                        4.0            91.0   \n",
       "...                                              ...             ...   \n",
       "2020-03-31 20:30:00+00:00                        NaN             NaN   \n",
       "2020-03-31 21:00:00+00:00                        NaN             NaN   \n",
       "2020-03-31 21:30:00+00:00                        NaN             NaN   \n",
       "2020-03-31 22:00:00+00:00                        NaN             NaN   \n",
       "2020-03-31 22:30:00+00:00                        NaN             NaN   \n",
       "\n",
       "                           wind_speed  solar_radiation  sunshine_duration  \\\n",
       "timestamp                                                                   \n",
       "2019-04-01 00:00:00+00:00        12.0              0.0                0.0   \n",
       "2019-04-01 00:30:00+00:00        12.0              0.0                0.0   \n",
       "2019-04-01 01:00:00+00:00        11.0              0.0                0.0   \n",
       "2019-04-01 01:30:00+00:00        11.0              0.0                0.0   \n",
       "2019-04-01 02:00:00+00:00        11.0              0.0                0.0   \n",
       "...                               ...              ...                ...   \n",
       "2020-03-31 20:30:00+00:00         NaN              NaN                NaN   \n",
       "2020-03-31 21:00:00+00:00         NaN              NaN                NaN   \n",
       "2020-03-31 21:30:00+00:00         NaN              NaN                NaN   \n",
       "2020-03-31 22:00:00+00:00         NaN              NaN                NaN   \n",
       "2020-03-31 22:30:00+00:00         NaN              NaN                NaN   \n",
       "\n",
       "                           avg_net_load  q25_net_load  q75_net_load  \\\n",
       "timestamp                                                             \n",
       "2019-04-01 00:00:00+00:00        152.86       15.4150        138.56   \n",
       "2019-04-01 00:30:00+00:00        204.52       15.3175        166.11   \n",
       "2019-04-01 01:00:00+00:00        214.66       15.8375        179.70   \n",
       "2019-04-01 01:30:00+00:00        209.72       15.8775        177.33   \n",
       "2019-04-01 02:00:00+00:00        230.59       16.3350        212.62   \n",
       "...                                 ...           ...           ...   \n",
       "2020-03-31 20:30:00+00:00        282.00       15.4650        264.64   \n",
       "2020-03-31 21:00:00+00:00        321.01       14.5975        220.50   \n",
       "2020-03-31 21:30:00+00:00        353.42       14.7625        206.66   \n",
       "2020-03-31 22:00:00+00:00        219.42       15.3625        177.28   \n",
       "2020-03-31 22:30:00+00:00        193.11       15.4000        173.33   \n",
       "\n",
       "                           median_net_load  weekend_or_bank_holiday  \n",
       "timestamp                                                            \n",
       "2019-04-01 00:00:00+00:00            18.69                        0  \n",
       "2019-04-01 00:30:00+00:00            18.60                        0  \n",
       "2019-04-01 01:00:00+00:00            31.03                        0  \n",
       "2019-04-01 01:30:00+00:00            52.99                        0  \n",
       "2019-04-01 02:00:00+00:00            65.21                        0  \n",
       "...                                    ...                      ...  \n",
       "2020-03-31 20:30:00+00:00            19.82                        0  \n",
       "2020-03-31 21:00:00+00:00            16.55                        0  \n",
       "2020-03-31 21:30:00+00:00            30.23                        0  \n",
       "2020-03-31 22:00:00+00:00            21.27                        0  \n",
       "2020-03-31 22:30:00+00:00            53.91                        0  \n",
       "\n",
       "[17562 rows x 21 columns]"
      ]
     },
     "execution_count": 101,
     "metadata": {},
     "output_type": "execute_result"
    }
   ],
   "source": [
    "# Convert 'ts' to datetime and set as index\n",
    "# df['timestamp'] = pd.to_datetime(df['timestamp'])\n",
    "\n",
    "df = df.set_index('timestamp', drop=False)\n",
    "df = df.sort_index()\n",
    "\n",
    "df"
   ]
  },
  {
   "cell_type": "code",
   "execution_count": 102,
   "metadata": {},
   "outputs": [
    {
     "data": {
      "image/png": "[encoded data removed]",
      "text/plain": [
       "<Figure size 640x480 with 1 Axes>"
      ]
     },
     "metadata": {},
     "output_type": "display_data"
    }
   ],
   "source": [
    "plt.plot(df.index, df.net_load)\n",
    "plt.show()"
   ]
  },
  {
   "attachments": {
    "image.png": {
     "image/png": "[encoded data removed]"
    }
   },
   "cell_type": "markdown",
   "metadata": {},
   "source": [
    "# Normalise net load (as seen in literature)\n",
    "\n",
    "![image.png](attachment:image.png)\n",
    "\n"
   ]
  },
  {
   "cell_type": "markdown",
   "metadata": {},
   "source": [
    "High-resolution net load forecasting for micro-neighbourhoods with high\n",
    "penetration of renewable energy sources\n",
    "P. Kobylinskia\n",
    ", M. Wierzbowskia\n",
    ", K. Piotrowskib,"
   ]
  },
  {
   "cell_type": "code",
   "execution_count": 103,
   "metadata": {},
   "outputs": [
    {
     "data": {
      "text/html": [
       "<div>\n",
       "<style scoped>\n",
       "    .dataframe tbody tr th:only-of-type {\n",
       "        vertical-align: middle;\n",
       "    }\n",
       "\n",
       "    .dataframe tbody tr th {\n",
       "        vertical-align: top;\n",
       "    }\n",
       "\n",
       "    .dataframe thead th {\n",
       "        text-align: right;\n",
       "    }\n",
       "</style>\n",
       "<table border=\"1\" class=\"dataframe\">\n",
       "  <thead>\n",
       "    <tr style=\"text-align: right;\">\n",
       "      <th></th>\n",
       "      <th>timestamp</th>\n",
       "      <th>site</th>\n",
       "      <th>year</th>\n",
       "      <th>month</th>\n",
       "      <th>day</th>\n",
       "      <th>hour</th>\n",
       "      <th>minute</th>\n",
       "      <th>day_of_week</th>\n",
       "      <th>season</th>\n",
       "      <th>net_load</th>\n",
       "      <th>...</th>\n",
       "      <th>wind_direction</th>\n",
       "      <th>wind_speed</th>\n",
       "      <th>solar_radiation</th>\n",
       "      <th>sunshine_duration</th>\n",
       "      <th>avg_net_load</th>\n",
       "      <th>q25_net_load</th>\n",
       "      <th>q75_net_load</th>\n",
       "      <th>median_net_load</th>\n",
       "      <th>weekend_or_bank_holiday</th>\n",
       "      <th>net_load_norm</th>\n",
       "    </tr>\n",
       "    <tr>\n",
       "      <th>timestamp</th>\n",
       "      <th></th>\n",
       "      <th></th>\n",
       "      <th></th>\n",
       "      <th></th>\n",
       "      <th></th>\n",
       "      <th></th>\n",
       "      <th></th>\n",
       "      <th></th>\n",
       "      <th></th>\n",
       "      <th></th>\n",
       "      <th></th>\n",
       "      <th></th>\n",
       "      <th></th>\n",
       "      <th></th>\n",
       "      <th></th>\n",
       "      <th></th>\n",
       "      <th></th>\n",
       "      <th></th>\n",
       "      <th></th>\n",
       "      <th></th>\n",
       "      <th></th>\n",
       "    </tr>\n",
       "  </thead>\n",
       "  <tbody>\n",
       "    <tr>\n",
       "      <th>2019-04-01 00:00:00+00:00</th>\n",
       "      <td>2019-04-01 00:00:00+00:00</td>\n",
       "      <td>20</td>\n",
       "      <td>2019</td>\n",
       "      <td>4</td>\n",
       "      <td>1</td>\n",
       "      <td>1</td>\n",
       "      <td>0</td>\n",
       "      <td>0</td>\n",
       "      <td>2</td>\n",
       "      <td>198.79</td>\n",
       "      <td>...</td>\n",
       "      <td>87.0</td>\n",
       "      <td>12.0</td>\n",
       "      <td>0.0</td>\n",
       "      <td>0.0</td>\n",
       "      <td>152.86</td>\n",
       "      <td>15.4150</td>\n",
       "      <td>138.56</td>\n",
       "      <td>18.69</td>\n",
       "      <td>0</td>\n",
       "      <td>0.066453</td>\n",
       "    </tr>\n",
       "    <tr>\n",
       "      <th>2019-04-01 00:30:00+00:00</th>\n",
       "      <td>2019-04-01 00:30:00+00:00</td>\n",
       "      <td>20</td>\n",
       "      <td>2019</td>\n",
       "      <td>4</td>\n",
       "      <td>1</td>\n",
       "      <td>1</td>\n",
       "      <td>30</td>\n",
       "      <td>0</td>\n",
       "      <td>2</td>\n",
       "      <td>250.51</td>\n",
       "      <td>...</td>\n",
       "      <td>87.0</td>\n",
       "      <td>12.0</td>\n",
       "      <td>0.0</td>\n",
       "      <td>0.0</td>\n",
       "      <td>204.52</td>\n",
       "      <td>15.3175</td>\n",
       "      <td>166.11</td>\n",
       "      <td>18.60</td>\n",
       "      <td>0</td>\n",
       "      <td>0.083742</td>\n",
       "    </tr>\n",
       "    <tr>\n",
       "      <th>2019-04-01 01:00:00+00:00</th>\n",
       "      <td>2019-04-01 01:00:00+00:00</td>\n",
       "      <td>20</td>\n",
       "      <td>2019</td>\n",
       "      <td>4</td>\n",
       "      <td>1</td>\n",
       "      <td>2</td>\n",
       "      <td>0</td>\n",
       "      <td>0</td>\n",
       "      <td>2</td>\n",
       "      <td>194.07</td>\n",
       "      <td>...</td>\n",
       "      <td>89.0</td>\n",
       "      <td>11.0</td>\n",
       "      <td>0.0</td>\n",
       "      <td>0.0</td>\n",
       "      <td>214.66</td>\n",
       "      <td>15.8375</td>\n",
       "      <td>179.70</td>\n",
       "      <td>31.03</td>\n",
       "      <td>0</td>\n",
       "      <td>0.064875</td>\n",
       "    </tr>\n",
       "    <tr>\n",
       "      <th>2019-04-01 01:30:00+00:00</th>\n",
       "      <td>2019-04-01 01:30:00+00:00</td>\n",
       "      <td>20</td>\n",
       "      <td>2019</td>\n",
       "      <td>4</td>\n",
       "      <td>1</td>\n",
       "      <td>2</td>\n",
       "      <td>30</td>\n",
       "      <td>0</td>\n",
       "      <td>2</td>\n",
       "      <td>245.33</td>\n",
       "      <td>...</td>\n",
       "      <td>89.0</td>\n",
       "      <td>11.0</td>\n",
       "      <td>0.0</td>\n",
       "      <td>0.0</td>\n",
       "      <td>209.72</td>\n",
       "      <td>15.8775</td>\n",
       "      <td>177.33</td>\n",
       "      <td>52.99</td>\n",
       "      <td>0</td>\n",
       "      <td>0.082010</td>\n",
       "    </tr>\n",
       "    <tr>\n",
       "      <th>2019-04-01 02:00:00+00:00</th>\n",
       "      <td>2019-04-01 02:00:00+00:00</td>\n",
       "      <td>20</td>\n",
       "      <td>2019</td>\n",
       "      <td>4</td>\n",
       "      <td>1</td>\n",
       "      <td>3</td>\n",
       "      <td>0</td>\n",
       "      <td>0</td>\n",
       "      <td>2</td>\n",
       "      <td>223.68</td>\n",
       "      <td>...</td>\n",
       "      <td>91.0</td>\n",
       "      <td>11.0</td>\n",
       "      <td>0.0</td>\n",
       "      <td>0.0</td>\n",
       "      <td>230.59</td>\n",
       "      <td>16.3350</td>\n",
       "      <td>212.62</td>\n",
       "      <td>65.21</td>\n",
       "      <td>0</td>\n",
       "      <td>0.074773</td>\n",
       "    </tr>\n",
       "    <tr>\n",
       "      <th>...</th>\n",
       "      <td>...</td>\n",
       "      <td>...</td>\n",
       "      <td>...</td>\n",
       "      <td>...</td>\n",
       "      <td>...</td>\n",
       "      <td>...</td>\n",
       "      <td>...</td>\n",
       "      <td>...</td>\n",
       "      <td>...</td>\n",
       "      <td>...</td>\n",
       "      <td>...</td>\n",
       "      <td>...</td>\n",
       "      <td>...</td>\n",
       "      <td>...</td>\n",
       "      <td>...</td>\n",
       "      <td>...</td>\n",
       "      <td>...</td>\n",
       "      <td>...</td>\n",
       "      <td>...</td>\n",
       "      <td>...</td>\n",
       "      <td>...</td>\n",
       "    </tr>\n",
       "    <tr>\n",
       "      <th>2020-03-31 20:30:00+00:00</th>\n",
       "      <td>2020-03-31 20:30:00+00:00</td>\n",
       "      <td>20</td>\n",
       "      <td>2020</td>\n",
       "      <td>3</td>\n",
       "      <td>31</td>\n",
       "      <td>21</td>\n",
       "      <td>30</td>\n",
       "      <td>1</td>\n",
       "      <td>2</td>\n",
       "      <td>28.10</td>\n",
       "      <td>...</td>\n",
       "      <td>NaN</td>\n",
       "      <td>NaN</td>\n",
       "      <td>NaN</td>\n",
       "      <td>NaN</td>\n",
       "      <td>282.00</td>\n",
       "      <td>15.4650</td>\n",
       "      <td>264.64</td>\n",
       "      <td>19.82</td>\n",
       "      <td>0</td>\n",
       "      <td>0.009393</td>\n",
       "    </tr>\n",
       "    <tr>\n",
       "      <th>2020-03-31 21:00:00+00:00</th>\n",
       "      <td>2020-03-31 21:00:00+00:00</td>\n",
       "      <td>20</td>\n",
       "      <td>2020</td>\n",
       "      <td>3</td>\n",
       "      <td>31</td>\n",
       "      <td>22</td>\n",
       "      <td>0</td>\n",
       "      <td>1</td>\n",
       "      <td>2</td>\n",
       "      <td>11.10</td>\n",
       "      <td>...</td>\n",
       "      <td>NaN</td>\n",
       "      <td>NaN</td>\n",
       "      <td>NaN</td>\n",
       "      <td>NaN</td>\n",
       "      <td>321.01</td>\n",
       "      <td>14.5975</td>\n",
       "      <td>220.50</td>\n",
       "      <td>16.55</td>\n",
       "      <td>0</td>\n",
       "      <td>0.003711</td>\n",
       "    </tr>\n",
       "    <tr>\n",
       "      <th>2020-03-31 21:30:00+00:00</th>\n",
       "      <td>2020-03-31 21:30:00+00:00</td>\n",
       "      <td>20</td>\n",
       "      <td>2020</td>\n",
       "      <td>3</td>\n",
       "      <td>31</td>\n",
       "      <td>22</td>\n",
       "      <td>30</td>\n",
       "      <td>1</td>\n",
       "      <td>2</td>\n",
       "      <td>196.48</td>\n",
       "      <td>...</td>\n",
       "      <td>NaN</td>\n",
       "      <td>NaN</td>\n",
       "      <td>NaN</td>\n",
       "      <td>NaN</td>\n",
       "      <td>353.42</td>\n",
       "      <td>14.7625</td>\n",
       "      <td>206.66</td>\n",
       "      <td>30.23</td>\n",
       "      <td>0</td>\n",
       "      <td>0.065681</td>\n",
       "    </tr>\n",
       "    <tr>\n",
       "      <th>2020-03-31 22:00:00+00:00</th>\n",
       "      <td>2020-03-31 22:00:00+00:00</td>\n",
       "      <td>20</td>\n",
       "      <td>2020</td>\n",
       "      <td>3</td>\n",
       "      <td>31</td>\n",
       "      <td>23</td>\n",
       "      <td>0</td>\n",
       "      <td>1</td>\n",
       "      <td>2</td>\n",
       "      <td>293.14</td>\n",
       "      <td>...</td>\n",
       "      <td>NaN</td>\n",
       "      <td>NaN</td>\n",
       "      <td>NaN</td>\n",
       "      <td>NaN</td>\n",
       "      <td>219.42</td>\n",
       "      <td>15.3625</td>\n",
       "      <td>177.28</td>\n",
       "      <td>21.27</td>\n",
       "      <td>0</td>\n",
       "      <td>0.097993</td>\n",
       "    </tr>\n",
       "    <tr>\n",
       "      <th>2020-03-31 22:30:00+00:00</th>\n",
       "      <td>2020-03-31 22:30:00+00:00</td>\n",
       "      <td>20</td>\n",
       "      <td>2020</td>\n",
       "      <td>3</td>\n",
       "      <td>31</td>\n",
       "      <td>23</td>\n",
       "      <td>30</td>\n",
       "      <td>1</td>\n",
       "      <td>2</td>\n",
       "      <td>346.70</td>\n",
       "      <td>...</td>\n",
       "      <td>NaN</td>\n",
       "      <td>NaN</td>\n",
       "      <td>NaN</td>\n",
       "      <td>NaN</td>\n",
       "      <td>193.11</td>\n",
       "      <td>15.4000</td>\n",
       "      <td>173.33</td>\n",
       "      <td>53.91</td>\n",
       "      <td>0</td>\n",
       "      <td>0.115897</td>\n",
       "    </tr>\n",
       "  </tbody>\n",
       "</table>\n",
       "<p>17562 rows × 22 columns</p>\n",
       "</div>"
      ],
      "text/plain": [
       "                                          timestamp  site  year  month  day  \\\n",
       "timestamp                                                                     \n",
       "2019-04-01 00:00:00+00:00 2019-04-01 00:00:00+00:00    20  2019      4    1   \n",
       "2019-04-01 00:30:00+00:00 2019-04-01 00:30:00+00:00    20  2019      4    1   \n",
       "2019-04-01 01:00:00+00:00 2019-04-01 01:00:00+00:00    20  2019      4    1   \n",
       "2019-04-01 01:30:00+00:00 2019-04-01 01:30:00+00:00    20  2019      4    1   \n",
       "2019-04-01 02:00:00+00:00 2019-04-01 02:00:00+00:00    20  2019      4    1   \n",
       "...                                             ...   ...   ...    ...  ...   \n",
       "2020-03-31 20:30:00+00:00 2020-03-31 20:30:00+00:00    20  2020      3   31   \n",
       "2020-03-31 21:00:00+00:00 2020-03-31 21:00:00+00:00    20  2020      3   31   \n",
       "2020-03-31 21:30:00+00:00 2020-03-31 21:30:00+00:00    20  2020      3   31   \n",
       "2020-03-31 22:00:00+00:00 2020-03-31 22:00:00+00:00    20  2020      3   31   \n",
       "2020-03-31 22:30:00+00:00 2020-03-31 22:30:00+00:00    20  2020      3   31   \n",
       "\n",
       "                           hour  minute  day_of_week  season  net_load  ...  \\\n",
       "timestamp                                                               ...   \n",
       "2019-04-01 00:00:00+00:00     1       0            0       2    198.79  ...   \n",
       "2019-04-01 00:30:00+00:00     1      30            0       2    250.51  ...   \n",
       "2019-04-01 01:00:00+00:00     2       0            0       2    194.07  ...   \n",
       "2019-04-01 01:30:00+00:00     2      30            0       2    245.33  ...   \n",
       "2019-04-01 02:00:00+00:00     3       0            0       2    223.68  ...   \n",
       "...                         ...     ...          ...     ...       ...  ...   \n",
       "2020-03-31 20:30:00+00:00    21      30            1       2     28.10  ...   \n",
       "2020-03-31 21:00:00+00:00    22       0            1       2     11.10  ...   \n",
       "2020-03-31 21:30:00+00:00    22      30            1       2    196.48  ...   \n",
       "2020-03-31 22:00:00+00:00    23       0            1       2    293.14  ...   \n",
       "2020-03-31 22:30:00+00:00    23      30            1       2    346.70  ...   \n",
       "\n",
       "                           wind_direction  wind_speed  solar_radiation  \\\n",
       "timestamp                                                                \n",
       "2019-04-01 00:00:00+00:00            87.0        12.0              0.0   \n",
       "2019-04-01 00:30:00+00:00            87.0        12.0              0.0   \n",
       "2019-04-01 01:00:00+00:00            89.0        11.0              0.0   \n",
       "2019-04-01 01:30:00+00:00            89.0        11.0              0.0   \n",
       "2019-04-01 02:00:00+00:00            91.0        11.0              0.0   \n",
       "...                                   ...         ...              ...   \n",
       "2020-03-31 20:30:00+00:00             NaN         NaN              NaN   \n",
       "2020-03-31 21:00:00+00:00             NaN         NaN              NaN   \n",
       "2020-03-31 21:30:00+00:00             NaN         NaN              NaN   \n",
       "2020-03-31 22:00:00+00:00             NaN         NaN              NaN   \n",
       "2020-03-31 22:30:00+00:00             NaN         NaN              NaN   \n",
       "\n",
       "                           sunshine_duration  avg_net_load  q25_net_load  \\\n",
       "timestamp                                                                  \n",
       "2019-04-01 00:00:00+00:00                0.0        152.86       15.4150   \n",
       "2019-04-01 00:30:00+00:00                0.0        204.52       15.3175   \n",
       "2019-04-01 01:00:00+00:00                0.0        214.66       15.8375   \n",
       "2019-04-01 01:30:00+00:00                0.0        209.72       15.8775   \n",
       "2019-04-01 02:00:00+00:00                0.0        230.59       16.3350   \n",
       "...                                      ...           ...           ...   \n",
       "2020-03-31 20:30:00+00:00                NaN        282.00       15.4650   \n",
       "2020-03-31 21:00:00+00:00                NaN        321.01       14.5975   \n",
       "2020-03-31 21:30:00+00:00                NaN        353.42       14.7625   \n",
       "2020-03-31 22:00:00+00:00                NaN        219.42       15.3625   \n",
       "2020-03-31 22:30:00+00:00                NaN        193.11       15.4000   \n",
       "\n",
       "                           q75_net_load  median_net_load  \\\n",
       "timestamp                                                  \n",
       "2019-04-01 00:00:00+00:00        138.56            18.69   \n",
       "2019-04-01 00:30:00+00:00        166.11            18.60   \n",
       "2019-04-01 01:00:00+00:00        179.70            31.03   \n",
       "2019-04-01 01:30:00+00:00        177.33            52.99   \n",
       "2019-04-01 02:00:00+00:00        212.62            65.21   \n",
       "...                                 ...              ...   \n",
       "2020-03-31 20:30:00+00:00        264.64            19.82   \n",
       "2020-03-31 21:00:00+00:00        220.50            16.55   \n",
       "2020-03-31 21:30:00+00:00        206.66            30.23   \n",
       "2020-03-31 22:00:00+00:00        177.28            21.27   \n",
       "2020-03-31 22:30:00+00:00        173.33            53.91   \n",
       "\n",
       "                           weekend_or_bank_holiday  net_load_norm  \n",
       "timestamp                                                          \n",
       "2019-04-01 00:00:00+00:00                        0       0.066453  \n",
       "2019-04-01 00:30:00+00:00                        0       0.083742  \n",
       "2019-04-01 01:00:00+00:00                        0       0.064875  \n",
       "2019-04-01 01:30:00+00:00                        0       0.082010  \n",
       "2019-04-01 02:00:00+00:00                        0       0.074773  \n",
       "...                                            ...            ...  \n",
       "2020-03-31 20:30:00+00:00                        0       0.009393  \n",
       "2020-03-31 21:00:00+00:00                        0       0.003711  \n",
       "2020-03-31 21:30:00+00:00                        0       0.065681  \n",
       "2020-03-31 22:00:00+00:00                        0       0.097993  \n",
       "2020-03-31 22:30:00+00:00                        0       0.115897  \n",
       "\n",
       "[17562 rows x 22 columns]"
      ]
     },
     "execution_count": 103,
     "metadata": {},
     "output_type": "execute_result"
    }
   ],
   "source": [
    "df['net_load_norm'] = df['net_load'] / max(abs(df['net_load']))\n",
    "\n",
    "df"
   ]
  },
  {
   "cell_type": "code",
   "execution_count": 104,
   "metadata": {},
   "outputs": [
    {
     "data": {
      "image/png": "[encoded data removed]",
      "text/plain": [
       "<Figure size 640x480 with 1 Axes>"
      ]
     },
     "metadata": {},
     "output_type": "display_data"
    }
   ],
   "source": [
    "plt.plot(df.index, df.net_load_norm)\n",
    "plt.show()"
   ]
  },
  {
   "cell_type": "markdown",
   "metadata": {},
   "source": [
    "# Prepare data set for LSTM"
   ]
  },
  {
   "cell_type": "markdown",
   "metadata": {},
   "source": [
    "Example \\\n",
    "Based on the first 5 hours, let's predict the 6th hour\\\n",
    "Based on the next 5 hours, let's predict the 7th hour\\\n",
    "etc. etc.\n",
    "\n",
    "[[[1], [2], [3], [4], [5]]] [6] \\\n",
    "[[[2], [3], [4], [5], [6]]] [7] \\\n",
    "[[[3], [4], [5], [6], [7]]] [8]"
   ]
  },
  {
   "cell_type": "markdown",
   "metadata": {},
   "source": [
    "### Set parameters"
   ]
  },
  {
   "cell_type": "code",
   "execution_count": 105,
   "metadata": {},
   "outputs": [
    {
     "data": {
      "text/html": [
       "<div>\n",
       "<style scoped>\n",
       "    .dataframe tbody tr th:only-of-type {\n",
       "        vertical-align: middle;\n",
       "    }\n",
       "\n",
       "    .dataframe tbody tr th {\n",
       "        vertical-align: top;\n",
       "    }\n",
       "\n",
       "    .dataframe thead th {\n",
       "        text-align: right;\n",
       "    }\n",
       "</style>\n",
       "<table border=\"1\" class=\"dataframe\">\n",
       "  <thead>\n",
       "    <tr style=\"text-align: right;\">\n",
       "      <th></th>\n",
       "      <th>net_load_norm</th>\n",
       "      <th>weekend_or_bank_holiday</th>\n",
       "    </tr>\n",
       "    <tr>\n",
       "      <th>timestamp</th>\n",
       "      <th></th>\n",
       "      <th></th>\n",
       "    </tr>\n",
       "  </thead>\n",
       "  <tbody>\n",
       "    <tr>\n",
       "      <th>2019-04-01 00:00:00+00:00</th>\n",
       "      <td>0.066453</td>\n",
       "      <td>0</td>\n",
       "    </tr>\n",
       "    <tr>\n",
       "      <th>2019-04-01 00:30:00+00:00</th>\n",
       "      <td>0.083742</td>\n",
       "      <td>0</td>\n",
       "    </tr>\n",
       "    <tr>\n",
       "      <th>2019-04-01 01:00:00+00:00</th>\n",
       "      <td>0.064875</td>\n",
       "      <td>0</td>\n",
       "    </tr>\n",
       "    <tr>\n",
       "      <th>2019-04-01 01:30:00+00:00</th>\n",
       "      <td>0.082010</td>\n",
       "      <td>0</td>\n",
       "    </tr>\n",
       "    <tr>\n",
       "      <th>2019-04-01 02:00:00+00:00</th>\n",
       "      <td>0.074773</td>\n",
       "      <td>0</td>\n",
       "    </tr>\n",
       "    <tr>\n",
       "      <th>...</th>\n",
       "      <td>...</td>\n",
       "      <td>...</td>\n",
       "    </tr>\n",
       "    <tr>\n",
       "      <th>2020-03-31 20:30:00+00:00</th>\n",
       "      <td>0.009393</td>\n",
       "      <td>0</td>\n",
       "    </tr>\n",
       "    <tr>\n",
       "      <th>2020-03-31 21:00:00+00:00</th>\n",
       "      <td>0.003711</td>\n",
       "      <td>0</td>\n",
       "    </tr>\n",
       "    <tr>\n",
       "      <th>2020-03-31 21:30:00+00:00</th>\n",
       "      <td>0.065681</td>\n",
       "      <td>0</td>\n",
       "    </tr>\n",
       "    <tr>\n",
       "      <th>2020-03-31 22:00:00+00:00</th>\n",
       "      <td>0.097993</td>\n",
       "      <td>0</td>\n",
       "    </tr>\n",
       "    <tr>\n",
       "      <th>2020-03-31 22:30:00+00:00</th>\n",
       "      <td>0.115897</td>\n",
       "      <td>0</td>\n",
       "    </tr>\n",
       "  </tbody>\n",
       "</table>\n",
       "<p>17562 rows × 2 columns</p>\n",
       "</div>"
      ],
      "text/plain": [
       "                           net_load_norm  weekend_or_bank_holiday\n",
       "timestamp                                                        \n",
       "2019-04-01 00:00:00+00:00       0.066453                        0\n",
       "2019-04-01 00:30:00+00:00       0.083742                        0\n",
       "2019-04-01 01:00:00+00:00       0.064875                        0\n",
       "2019-04-01 01:30:00+00:00       0.082010                        0\n",
       "2019-04-01 02:00:00+00:00       0.074773                        0\n",
       "...                                  ...                      ...\n",
       "2020-03-31 20:30:00+00:00       0.009393                        0\n",
       "2020-03-31 21:00:00+00:00       0.003711                        0\n",
       "2020-03-31 21:30:00+00:00       0.065681                        0\n",
       "2020-03-31 22:00:00+00:00       0.097993                        0\n",
       "2020-03-31 22:30:00+00:00       0.115897                        0\n",
       "\n",
       "[17562 rows x 2 columns]"
      ]
     },
     "execution_count": 105,
     "metadata": {},
     "output_type": "execute_result"
    }
   ],
   "source": [
    "# Parameters\n",
    "\n",
    "#n_input = no. of time steps considered before making the prediction\n",
    "#n_features = no. of variables/features considered\n",
    "#n_output = no. of time steps to forecast\n",
    "\n",
    "# Note: 1 time step = 30 mins\n",
    "# Look at the last two weeks to forecast the next 36 hours\n",
    "\n",
    "# 1 day = 2 * 24 * 1 = 24\n",
    "# 2 hours = 2 * 2 = 8 \n",
    "\n",
    "n_input = 144\n",
    "n_features = 2\n",
    "n_output = 72\n",
    "\n",
    "\n",
    "# Select which features are to be inputted into the LSTM i.e., which columns in the df\n",
    "df_input = df[['net_load_norm', 'weekend_or_bank_holiday']]\n",
    "df_input"
   ]
  },
  {
   "cell_type": "code",
   "execution_count": 106,
   "metadata": {},
   "outputs": [
    {
     "data": {
      "text/plain": [
       "net_load_norm              0\n",
       "weekend_or_bank_holiday    0\n",
       "dtype: int64"
      ]
     },
     "execution_count": 106,
     "metadata": {},
     "output_type": "execute_result"
    }
   ],
   "source": [
    "df_input.isnull().isnull().sum()"
   ]
  },
  {
   "cell_type": "code",
   "execution_count": 107,
   "metadata": {},
   "outputs": [
    {
     "name": "stdout",
     "output_type": "stream",
     "text": [
      "<class 'pandas.core.frame.DataFrame'>\n",
      "DatetimeIndex: 17562 entries, 2019-04-01 00:00:00+00:00 to 2020-03-31 22:30:00+00:00\n",
      "Data columns (total 2 columns):\n",
      " #   Column                   Non-Null Count  Dtype  \n",
      "---  ------                   --------------  -----  \n",
      " 0   net_load_norm            17562 non-null  float64\n",
      " 1   weekend_or_bank_holiday  17562 non-null  int64  \n",
      "dtypes: float64(1), int64(1)\n",
      "memory usage: 411.6 KB\n"
     ]
    }
   ],
   "source": [
    "df_input.info()"
   ]
  },
  {
   "cell_type": "markdown",
   "metadata": {},
   "source": [
    "### Generate the X and y matrices"
   ]
  },
  {
   "cell_type": "code",
   "execution_count": 108,
   "metadata": {},
   "outputs": [],
   "source": [
    "# X, y = [], []\n",
    "# for i in range(len(df_input) - n_input - n_output + 1):\n",
    "#     X.append(df_input[i:(i + n_input), 0])\n",
    "#     y.append(df_input['net_load_norm'][(i + n_input):(i + n_input + n_output), 0])\n",
    "\n",
    "# X = np.array(X).reshape((len(X), n_input, n_features))\n",
    "# y = np.array(y)\n",
    "\n",
    "\n",
    "# X, y = [], []\n",
    "# for i in range(n_input, len(df_input) - n_output + 1):\n",
    "#     X.append(df_input[i - n_input : i,0 : df_input.shape[1]])\n",
    "#     y.append(df_input[i + n_output - 1 : i + n_output, 0])\n",
    "\n",
    "# X = np.array(X).reshape((len(X), n_input, n_features))\n",
    "# y = np.array(y)\n",
    "\n",
    "# X, y = [], []\n",
    "# for i in range(len(df_input) - n_input - n_output + 1):\n",
    "#     X.append(df_input.iloc[i:(i + n_input), 0].values)  # Assuming 0 is the correct column index\n",
    "#     y.append(df_input['net_load_norm'].iloc[i + n_input:i + n_input + n_output].values)\n",
    "\n",
    "# X = np.array(X).reshape((len(X), n_input, -1))  # Adjusted for n_features\n",
    "# y = np.array(y)\n",
    "\n",
    "X, y = [], []\n",
    "for i in range(len(df_input) - n_input - n_output + 1):\n",
    "    # Select all columns for the input sequence\n",
    "    X.append(df_input.iloc[i:(i + n_input)].values)  \n",
    "    \n",
    "    y.append(df_input['net_load_norm'].iloc[(i + n_input):(i + n_input + n_output)].values)\n",
    "\n",
    "X = np.array(X).reshape((len(X), n_input, -1))  \n",
    "y = np.array(y)"
   ]
  },
  {
   "cell_type": "code",
   "execution_count": 109,
   "metadata": {},
   "outputs": [
    {
     "data": {
      "text/plain": [
       "(17347, 144, 2)"
      ]
     },
     "execution_count": 109,
     "metadata": {},
     "output_type": "execute_result"
    }
   ],
   "source": [
    "X.shape"
   ]
  },
  {
   "cell_type": "code",
   "execution_count": 110,
   "metadata": {},
   "outputs": [
    {
     "data": {
      "text/plain": [
       "(17347, 72)"
      ]
     },
     "execution_count": 110,
     "metadata": {},
     "output_type": "execute_result"
    }
   ],
   "source": [
    "y.shape"
   ]
  },
  {
   "cell_type": "markdown",
   "metadata": {},
   "source": [
    "First set of X and y values"
   ]
  },
  {
   "cell_type": "code",
   "execution_count": 111,
   "metadata": {},
   "outputs": [
    {
     "name": "stdout",
     "output_type": "stream",
     "text": [
      "Given the array X: \n",
      " [ 6.64527236e-02  0.00000000e+00  8.37419980e-02  0.00000000e+00\n",
      "  6.48748934e-02  0.00000000e+00  8.20103963e-02  0.00000000e+00\n",
      "  7.47731033e-02  0.00000000e+00  5.94661452e-02  0.00000000e+00\n",
      "  8.81880025e-02  0.00000000e+00  6.03085460e-02  0.00000000e+00\n",
      "  7.36031022e-02  0.00000000e+00  5.57756272e-02  0.00000000e+00\n",
      "  1.38464624e-01  0.00000000e+00  1.16301459e-01  0.00000000e+00\n",
      "  1.88039245e-01  0.00000000e+00  8.53164853e-02  0.00000000e+00\n",
      "  3.56148356e-02  0.00000000e+00 -4.99089071e-03  0.00000000e+00\n",
      " -4.59643317e-03  0.00000000e+00 -5.35860536e-03  0.00000000e+00\n",
      " -7.10023567e-03  0.00000000e+00 -2.91497434e-03  0.00000000e+00\n",
      " -2.72443130e-03  0.00000000e+00  1.05300105e-03  0.00000000e+00\n",
      " -1.89637132e-01  0.00000000e+00 -3.79742265e-01  0.00000000e+00\n",
      " -4.04004747e-01  0.00000000e+00 -3.58144044e-01  0.00000000e+00\n",
      " -3.78799579e-01  0.00000000e+00 -3.72698858e-01  0.00000000e+00\n",
      " -3.32761704e-01  0.00000000e+00 -2.38543181e-01  0.00000000e+00\n",
      " -2.34521720e-01  0.00000000e+00 -1.66327366e-01  0.00000000e+00\n",
      " -6.29260058e-02  0.00000000e+00  3.57686072e-04  0.00000000e+00\n",
      "  3.31310903e-02  0.00000000e+00  1.71756172e-02  0.00000000e+00\n",
      "  2.54859683e-02  0.00000000e+00  1.11618112e-02  0.00000000e+00\n",
      "  6.18094904e-03  0.00000000e+00  5.56251985e-03  0.00000000e+00\n",
      "  4.51954738e-03  0.00000000e+00  4.39251868e-03  0.00000000e+00\n",
      "  1.05600963e-02  0.00000000e+00  5.33186247e-03  0.00000000e+00\n",
      "  5.00426215e-03  0.00000000e+00  4.18191847e-03  0.00000000e+00\n",
      "  5.60965418e-02  0.00000000e+00  7.06045563e-02  0.00000000e+00\n",
      "  5.75072289e-02  0.00000000e+00  9.32223504e-02  0.00000000e+00\n",
      "  8.97758612e-02  0.00000000e+00  6.96518411e-02  0.00000000e+00\n",
      "  7.60099617e-02  0.00000000e+00  8.44406559e-02  0.00000000e+00\n",
      "  7.19082719e-02  0.00000000e+00  6.32703204e-02  0.00000000e+00\n",
      "  8.10142239e-02  0.00000000e+00  7.05343562e-02  0.00000000e+00\n",
      "  8.74893446e-02  0.00000000e+00  1.49582978e-01  0.00000000e+00\n",
      "  1.16020659e-01  0.00000000e+00  5.21352521e-02  0.00000000e+00\n",
      "  2.54525397e-02  0.00000000e+00  4.46104732e-02  0.00000000e+00\n",
      "  3.98903542e-02  0.00000000e+00  3.03531732e-03  0.00000000e+00\n",
      "  3.38631767e-03  0.00000000e+00 -1.01288673e-03  0.00000000e+00\n",
      " -1.38060138e-03  0.00000000e+00 -1.10548396e-02  0.00000000e+00\n",
      " -1.29502415e-02  0.00000000e+00 -3.50799779e-02  0.00000000e+00\n",
      " -1.83245583e-01  0.00000000e+00 -1.04046533e-01  0.00000000e+00\n",
      " -3.26564041e-01  0.00000000e+00 -1.61072390e-01  0.00000000e+00\n",
      " -7.25601297e-02  0.00000000e+00 -1.30943188e-01  0.00000000e+00\n",
      " -1.89289475e-01  0.00000000e+00 -7.91355363e-02  0.00000000e+00\n",
      " -7.61771047e-02  0.00000000e+00 -1.02191245e-02  0.00000000e+00\n",
      "  5.63606278e-03  0.00000000e+00 -1.49760150e-03  0.00000000e+00\n",
      "  5.25831954e-03  0.00000000e+00  7.55152184e-03  0.00000000e+00\n",
      "  6.18429190e-03  0.00000000e+00  2.75117418e-03  0.00000000e+00\n",
      "  5.06777650e-03  0.00000000e+00  5.05106219e-03  0.00000000e+00\n",
      "  8.92543750e-03  0.00000000e+00  3.59357502e-03  0.00000000e+00\n",
      "  4.53960454e-03  0.00000000e+00  4.67666182e-03  0.00000000e+00\n",
      "  1.33313276e-02  0.00000000e+00  5.81858296e-02  0.00000000e+00\n",
      "  9.02839760e-02  0.00000000e+00  6.25816912e-02  0.00000000e+00\n",
      "  6.75124104e-02  0.00000000e+00  6.54699226e-02  0.00000000e+00\n",
      "  7.55085327e-02  0.00000000e+00  7.38103595e-02  0.00000000e+00\n",
      "  5.71060857e-02  0.00000000e+00  7.50472179e-02  0.00000000e+00\n",
      "  5.71094285e-02  0.00000000e+00  7.57893329e-02  0.00000000e+00\n",
      "  1.38528139e-01  0.00000000e+00  9.15876916e-02  0.00000000e+00\n",
      "  1.22151465e-01  0.00000000e+00  1.79444751e-01  0.00000000e+00\n",
      "  1.06155878e-01  0.00000000e+00  8.85858029e-03  0.00000000e+00\n",
      "  1.64903308e-02  0.00000000e+00  1.78141035e-02  0.00000000e+00\n",
      " -3.99471828e-03  0.00000000e+00  1.12654398e-03  0.00000000e+00\n",
      " -3.16234602e-03  0.00000000e+00 -3.61697505e-03  0.00000000e+00\n",
      " -2.64085978e-03  0.00000000e+00 -1.85194471e-03  0.00000000e+00\n",
      " -3.43646058e-03  0.00000000e+00 -1.13556971e-02  0.00000000e+00\n",
      " -2.83140283e-02  0.00000000e+00 -2.20628792e-03  0.00000000e+00\n",
      "  1.13322970e-03  0.00000000e+00  2.91497434e-03  0.00000000e+00\n",
      " -7.82897926e-03  0.00000000e+00 -1.82583697e-01  0.00000000e+00\n",
      " -8.56106570e-02  0.00000000e+00 -3.40971770e-03  0.00000000e+00\n",
      "  8.57443715e-03  0.00000000e+00  1.59822160e-02  0.00000000e+00\n",
      "  1.33112705e-02  0.00000000e+00  4.85049056e-03  0.00000000e+00\n",
      "  5.37531966e-03  0.00000000e+00  1.90877334e-03  0.00000000e+00\n",
      "  5.30177673e-03  0.00000000e+00  4.00808972e-03  0.00000000e+00\n",
      "  8.88866603e-03  0.00000000e+00  5.11791940e-03  0.00000000e+00\n",
      "  4.32900433e-03  0.00000000e+00  5.06109078e-03  0.00000000e+00\n",
      "  4.36911865e-03  0.00000000e+00  5.10855939e-02  0.00000000e+00]\n",
      "\n",
      "Predict this y: \n",
      " [ 0.07324876  0.05925889  0.07727356  0.06301626  0.06957161  0.06475789\n",
      "  0.06237109  0.08972906  0.06014475  0.0692507   0.11619783  0.0847716\n",
      "  0.14734995  0.09121329  0.02737134  0.03807852  0.00297515 -0.00220295\n",
      "  0.00189874  0.00184526 -0.02937706 -0.02333985 -0.01351518 -0.00516472\n",
      " -0.0102559  -0.14864363 -0.15306958 -0.19307359 -0.05780474 -0.05425797\n",
      " -0.02422237 -0.06131475 -0.04830768  0.00220963  0.00829364  0.01323104\n",
      "  0.01541727  0.00646509  0.00409835  0.00356349  0.00491066  0.00390112\n",
      "  0.00784569  0.00454629  0.00516472  0.00422203  0.00465326  0.00404486\n",
      "  0.04199636  0.08054622  0.0719183   0.06913035  0.09448929  0.08246503\n",
      "  0.06521921  0.07359642  0.08410637  0.06296278  0.09628775  0.14734995\n",
      "  0.10085076  0.06656304  0.03240903  0.03736649 -0.0040716   0.00663892\n",
      " -0.00378746 -0.00117334 -0.00155443 -0.00622775 -0.00518478 -0.00293503]\n",
      "\n"
     ]
    }
   ],
   "source": [
    "print(f'Given the array X: \\n {X[0].flatten()}\\n')\n",
    "print(f'Predict this y: \\n {y[0]}\\n')"
   ]
  },
  {
   "cell_type": "markdown",
   "metadata": {},
   "source": [
    "Second set of X and y values"
   ]
  },
  {
   "cell_type": "code",
   "execution_count": 112,
   "metadata": {},
   "outputs": [
    {
     "name": "stdout",
     "output_type": "stream",
     "text": [
      "Given the array X: \n",
      " [ 8.37419980e-02  0.00000000e+00  6.48748934e-02  0.00000000e+00\n",
      "  8.20103963e-02  0.00000000e+00  7.47731033e-02  0.00000000e+00\n",
      "  5.94661452e-02  0.00000000e+00  8.81880025e-02  0.00000000e+00\n",
      "  6.03085460e-02  0.00000000e+00  7.36031022e-02  0.00000000e+00\n",
      "  5.57756272e-02  0.00000000e+00  1.38464624e-01  0.00000000e+00\n",
      "  1.16301459e-01  0.00000000e+00  1.88039245e-01  0.00000000e+00\n",
      "  8.53164853e-02  0.00000000e+00  3.56148356e-02  0.00000000e+00\n",
      " -4.99089071e-03  0.00000000e+00 -4.59643317e-03  0.00000000e+00\n",
      " -5.35860536e-03  0.00000000e+00 -7.10023567e-03  0.00000000e+00\n",
      " -2.91497434e-03  0.00000000e+00 -2.72443130e-03  0.00000000e+00\n",
      "  1.05300105e-03  0.00000000e+00 -1.89637132e-01  0.00000000e+00\n",
      " -3.79742265e-01  0.00000000e+00 -4.04004747e-01  0.00000000e+00\n",
      " -3.58144044e-01  0.00000000e+00 -3.78799579e-01  0.00000000e+00\n",
      " -3.72698858e-01  0.00000000e+00 -3.32761704e-01  0.00000000e+00\n",
      " -2.38543181e-01  0.00000000e+00 -2.34521720e-01  0.00000000e+00\n",
      " -1.66327366e-01  0.00000000e+00 -6.29260058e-02  0.00000000e+00\n",
      "  3.57686072e-04  0.00000000e+00  3.31310903e-02  0.00000000e+00\n",
      "  1.71756172e-02  0.00000000e+00  2.54859683e-02  0.00000000e+00\n",
      "  1.11618112e-02  0.00000000e+00  6.18094904e-03  0.00000000e+00\n",
      "  5.56251985e-03  0.00000000e+00  4.51954738e-03  0.00000000e+00\n",
      "  4.39251868e-03  0.00000000e+00  1.05600963e-02  0.00000000e+00\n",
      "  5.33186247e-03  0.00000000e+00  5.00426215e-03  0.00000000e+00\n",
      "  4.18191847e-03  0.00000000e+00  5.60965418e-02  0.00000000e+00\n",
      "  7.06045563e-02  0.00000000e+00  5.75072289e-02  0.00000000e+00\n",
      "  9.32223504e-02  0.00000000e+00  8.97758612e-02  0.00000000e+00\n",
      "  6.96518411e-02  0.00000000e+00  7.60099617e-02  0.00000000e+00\n",
      "  8.44406559e-02  0.00000000e+00  7.19082719e-02  0.00000000e+00\n",
      "  6.32703204e-02  0.00000000e+00  8.10142239e-02  0.00000000e+00\n",
      "  7.05343562e-02  0.00000000e+00  8.74893446e-02  0.00000000e+00\n",
      "  1.49582978e-01  0.00000000e+00  1.16020659e-01  0.00000000e+00\n",
      "  5.21352521e-02  0.00000000e+00  2.54525397e-02  0.00000000e+00\n",
      "  4.46104732e-02  0.00000000e+00  3.98903542e-02  0.00000000e+00\n",
      "  3.03531732e-03  0.00000000e+00  3.38631767e-03  0.00000000e+00\n",
      " -1.01288673e-03  0.00000000e+00 -1.38060138e-03  0.00000000e+00\n",
      " -1.10548396e-02  0.00000000e+00 -1.29502415e-02  0.00000000e+00\n",
      " -3.50799779e-02  0.00000000e+00 -1.83245583e-01  0.00000000e+00\n",
      " -1.04046533e-01  0.00000000e+00 -3.26564041e-01  0.00000000e+00\n",
      " -1.61072390e-01  0.00000000e+00 -7.25601297e-02  0.00000000e+00\n",
      " -1.30943188e-01  0.00000000e+00 -1.89289475e-01  0.00000000e+00\n",
      " -7.91355363e-02  0.00000000e+00 -7.61771047e-02  0.00000000e+00\n",
      " -1.02191245e-02  0.00000000e+00  5.63606278e-03  0.00000000e+00\n",
      " -1.49760150e-03  0.00000000e+00  5.25831954e-03  0.00000000e+00\n",
      "  7.55152184e-03  0.00000000e+00  6.18429190e-03  0.00000000e+00\n",
      "  2.75117418e-03  0.00000000e+00  5.06777650e-03  0.00000000e+00\n",
      "  5.05106219e-03  0.00000000e+00  8.92543750e-03  0.00000000e+00\n",
      "  3.59357502e-03  0.00000000e+00  4.53960454e-03  0.00000000e+00\n",
      "  4.67666182e-03  0.00000000e+00  1.33313276e-02  0.00000000e+00\n",
      "  5.81858296e-02  0.00000000e+00  9.02839760e-02  0.00000000e+00\n",
      "  6.25816912e-02  0.00000000e+00  6.75124104e-02  0.00000000e+00\n",
      "  6.54699226e-02  0.00000000e+00  7.55085327e-02  0.00000000e+00\n",
      "  7.38103595e-02  0.00000000e+00  5.71060857e-02  0.00000000e+00\n",
      "  7.50472179e-02  0.00000000e+00  5.71094285e-02  0.00000000e+00\n",
      "  7.57893329e-02  0.00000000e+00  1.38528139e-01  0.00000000e+00\n",
      "  9.15876916e-02  0.00000000e+00  1.22151465e-01  0.00000000e+00\n",
      "  1.79444751e-01  0.00000000e+00  1.06155878e-01  0.00000000e+00\n",
      "  8.85858029e-03  0.00000000e+00  1.64903308e-02  0.00000000e+00\n",
      "  1.78141035e-02  0.00000000e+00 -3.99471828e-03  0.00000000e+00\n",
      "  1.12654398e-03  0.00000000e+00 -3.16234602e-03  0.00000000e+00\n",
      " -3.61697505e-03  0.00000000e+00 -2.64085978e-03  0.00000000e+00\n",
      " -1.85194471e-03  0.00000000e+00 -3.43646058e-03  0.00000000e+00\n",
      " -1.13556971e-02  0.00000000e+00 -2.83140283e-02  0.00000000e+00\n",
      " -2.20628792e-03  0.00000000e+00  1.13322970e-03  0.00000000e+00\n",
      "  2.91497434e-03  0.00000000e+00 -7.82897926e-03  0.00000000e+00\n",
      " -1.82583697e-01  0.00000000e+00 -8.56106570e-02  0.00000000e+00\n",
      " -3.40971770e-03  0.00000000e+00  8.57443715e-03  0.00000000e+00\n",
      "  1.59822160e-02  0.00000000e+00  1.33112705e-02  0.00000000e+00\n",
      "  4.85049056e-03  0.00000000e+00  5.37531966e-03  0.00000000e+00\n",
      "  1.90877334e-03  0.00000000e+00  5.30177673e-03  0.00000000e+00\n",
      "  4.00808972e-03  0.00000000e+00  8.88866603e-03  0.00000000e+00\n",
      "  5.11791940e-03  0.00000000e+00  4.32900433e-03  0.00000000e+00\n",
      "  5.06109078e-03  0.00000000e+00  4.36911865e-03  0.00000000e+00\n",
      "  5.10855939e-02  0.00000000e+00  7.32487590e-02  0.00000000e+00]\n",
      "\n",
      "Predict this y: \n",
      " [ 0.05925889  0.07727356  0.06301626  0.06957161  0.06475789  0.06237109\n",
      "  0.08972906  0.06014475  0.0692507   0.11619783  0.0847716   0.14734995\n",
      "  0.09121329  0.02737134  0.03807852  0.00297515 -0.00220295  0.00189874\n",
      "  0.00184526 -0.02937706 -0.02333985 -0.01351518 -0.00516472 -0.0102559\n",
      " -0.14864363 -0.15306958 -0.19307359 -0.05780474 -0.05425797 -0.02422237\n",
      " -0.06131475 -0.04830768  0.00220963  0.00829364  0.01323104  0.01541727\n",
      "  0.00646509  0.00409835  0.00356349  0.00491066  0.00390112  0.00784569\n",
      "  0.00454629  0.00516472  0.00422203  0.00465326  0.00404486  0.04199636\n",
      "  0.08054622  0.0719183   0.06913035  0.09448929  0.08246503  0.06521921\n",
      "  0.07359642  0.08410637  0.06296278  0.09628775  0.14734995  0.10085076\n",
      "  0.06656304  0.03240903  0.03736649 -0.0040716   0.00663892 -0.00378746\n",
      " -0.00117334 -0.00155443 -0.00622775 -0.00518478 -0.00293503  0.01362216]\n",
      "\n"
     ]
    }
   ],
   "source": [
    "print(f'Given the array X: \\n {X[1].flatten()}\\n')\n",
    "print(f'Predict this y: \\n {y[1]}\\n')"
   ]
  },
  {
   "cell_type": "markdown",
   "metadata": {},
   "source": [
    "# Split into train (First 330 days) and test (the rest i.e., ~30 days depending on how big the n_input variable is set )"
   ]
  },
  {
   "cell_type": "code",
   "execution_count": 193,
   "metadata": {},
   "outputs": [],
   "source": [
    "# 1 time step = 30 mins\n",
    "\n",
    "n_split = 2 * 24 * 324\n",
    "\n",
    "X_train = X[:n_split]\n",
    "y_train = y[:n_split]\n",
    "\n",
    "X_test = X[n_split:]\n",
    "y_test = y[n_split:]"
   ]
  },
  {
   "cell_type": "code",
   "execution_count": 153,
   "metadata": {},
   "outputs": [
    {
     "data": {
      "text/plain": [
       "(14400, 144, 2)"
      ]
     },
     "execution_count": 153,
     "metadata": {},
     "output_type": "execute_result"
    }
   ],
   "source": [
    "X_train.shape"
   ]
  },
  {
   "cell_type": "code",
   "execution_count": 154,
   "metadata": {},
   "outputs": [
    {
     "data": {
      "text/plain": [
       "(14400, 72)"
      ]
     },
     "execution_count": 154,
     "metadata": {},
     "output_type": "execute_result"
    }
   ],
   "source": [
    "y_train.shape"
   ]
  },
  {
   "cell_type": "code",
   "execution_count": 155,
   "metadata": {},
   "outputs": [
    {
     "data": {
      "text/plain": [
       "(2947, 144, 2)"
      ]
     },
     "execution_count": 155,
     "metadata": {},
     "output_type": "execute_result"
    }
   ],
   "source": [
    "X_test.shape"
   ]
  },
  {
   "cell_type": "code",
   "execution_count": 156,
   "metadata": {},
   "outputs": [
    {
     "data": {
      "text/plain": [
       "(2947, 72)"
      ]
     },
     "execution_count": 156,
     "metadata": {},
     "output_type": "execute_result"
    }
   ],
   "source": [
    "y_test.shape"
   ]
  },
  {
   "cell_type": "markdown",
   "metadata": {},
   "source": [
    "# Build LSTM model"
   ]
  },
  {
   "cell_type": "markdown",
   "metadata": {},
   "source": [
    "### Model 1"
   ]
  },
  {
   "cell_type": "code",
   "execution_count": 161,
   "metadata": {},
   "outputs": [
    {
     "name": "stdout",
     "output_type": "stream",
     "text": [
      "Model: \"sequential_4\"\n",
      "_________________________________________________________________\n",
      " Layer (type)                Output Shape              Param #   \n",
      "=================================================================\n",
      " lstm_12 (LSTM)              (None, 144, 64)           17152     \n",
      "                                                                 \n",
      " lstm_13 (LSTM)              (None, 32)                12416     \n",
      "                                                                 \n",
      " dropout_4 (Dropout)         (None, 32)                0         \n",
      "                                                                 \n",
      " dense_4 (Dense)             (None, 72)                2376      \n",
      "                                                                 \n",
      "=================================================================\n",
      "Total params: 31,944\n",
      "Trainable params: 31,944\n",
      "Non-trainable params: 0\n",
      "_________________________________________________________________\n"
     ]
    }
   ],
   "source": [
    "model1 = Sequential()\n",
    "# model1.add(LSTM(128, activation='relu', input_shape=(X_train.shape[1], X_train.shape[2]), return_sequences=True))\n",
    "model1.add(LSTM(64, activation='relu', input_shape=(X_train.shape[1], X_train.shape[2]), return_sequences=True ))\n",
    "model1.add(LSTM(32, activation='relu'))\n",
    "model1.add(Dropout(0.2))\n",
    "model1.add(Dense(y_train.shape[1]))\n",
    "\n",
    "model1.summary()"
   ]
  },
  {
   "cell_type": "code",
   "execution_count": 162,
   "metadata": {},
   "outputs": [],
   "source": [
    "cp1 = ModelCheckpoint('multivar_Noutput72_Ninput336_noweather.keras', save_best_only=True)\n",
    "model1.compile(loss='mse', optimizer=Adam(learning_rate=0.001), metrics=[MeanSquaredError(), MeanAbsoluteError()])"
   ]
  },
  {
   "cell_type": "markdown",
   "metadata": {},
   "source": [
    "# Fit LSTM model"
   ]
  },
  {
   "cell_type": "code",
   "execution_count": 163,
   "metadata": {},
   "outputs": [
    {
     "name": "stdout",
     "output_type": "stream",
     "text": [
      "Epoch 1/10\n",
      "891/891 [==============================] - 43s 47ms/step - loss: 0.0060 - mean_squared_error: 0.0060 - mean_absolute_error: 0.0522 - val_loss: 0.0039 - val_mean_squared_error: 0.0039 - val_mean_absolute_error: 0.0367\n",
      "Epoch 2/10\n",
      "891/891 [==============================] - 41s 46ms/step - loss: 0.0047 - mean_squared_error: 0.0047 - mean_absolute_error: 0.0463 - val_loss: 0.0039 - val_mean_squared_error: 0.0039 - val_mean_absolute_error: 0.0378\n",
      "Epoch 3/10\n",
      "891/891 [==============================] - 45s 50ms/step - loss: 0.0044 - mean_squared_error: 0.0044 - mean_absolute_error: 0.0450 - val_loss: 0.0039 - val_mean_squared_error: 0.0039 - val_mean_absolute_error: 0.0371\n",
      "Epoch 4/10\n",
      "891/891 [==============================] - 46s 51ms/step - loss: 0.0043 - mean_squared_error: 0.0043 - mean_absolute_error: 0.0443 - val_loss: 0.0039 - val_mean_squared_error: 0.0039 - val_mean_absolute_error: 0.0377\n",
      "Epoch 5/10\n",
      "891/891 [==============================] - 46s 51ms/step - loss: 0.0042 - mean_squared_error: 0.0042 - mean_absolute_error: 0.0438 - val_loss: 0.0039 - val_mean_squared_error: 0.0039 - val_mean_absolute_error: 0.0375\n",
      "Epoch 6/10\n",
      "891/891 [==============================] - 45s 51ms/step - loss: 0.0041 - mean_squared_error: 0.0041 - mean_absolute_error: 0.0431 - val_loss: 0.0037 - val_mean_squared_error: 0.0037 - val_mean_absolute_error: 0.0361\n",
      "Epoch 7/10\n",
      "891/891 [==============================] - 46s 52ms/step - loss: 0.0041 - mean_squared_error: 0.0041 - mean_absolute_error: 0.0431 - val_loss: 0.0041 - val_mean_squared_error: 0.0041 - val_mean_absolute_error: 0.0382\n",
      "Epoch 8/10\n",
      "891/891 [==============================] - 45s 51ms/step - loss: 0.0039 - mean_squared_error: 0.0039 - mean_absolute_error: 0.0422 - val_loss: 0.0040 - val_mean_squared_error: 0.0040 - val_mean_absolute_error: 0.0383\n",
      "Epoch 9/10\n",
      "891/891 [==============================] - 45s 51ms/step - loss: 0.0039 - mean_squared_error: 0.0039 - mean_absolute_error: 0.0419 - val_loss: 0.0038 - val_mean_squared_error: 0.0038 - val_mean_absolute_error: 0.0365\n",
      "Epoch 10/10\n",
      "891/891 [==============================] - 47s 53ms/step - loss: 0.0038 - mean_squared_error: 0.0038 - mean_absolute_error: 0.0415 - val_loss: 0.0040 - val_mean_squared_error: 0.0040 - val_mean_absolute_error: 0.0389\n"
     ]
    }
   ],
   "source": [
    "history = model1.fit(X_train, y_train, epochs=10, callbacks=[cp1], batch_size=16, validation_split=0.1)\n",
    "# history = model1.fit(X_train, y_train, epochs=10, batch_size=16, validation_split=0.1)"
   ]
  },
  {
   "cell_type": "markdown",
   "metadata": {},
   "source": [
    "# Check training results"
   ]
  },
  {
   "cell_type": "code",
   "execution_count": 164,
   "metadata": {},
   "outputs": [
    {
     "data": {
      "text/plain": [
       "[<matplotlib.lines.Line2D at 0x22e643bb820>]"
      ]
     },
     "execution_count": 164,
     "metadata": {},
     "output_type": "execute_result"
    },
    {
     "data": {
      "image/png": "[encoded data removed]",
      "text/plain": [
       "<Figure size 640x480 with 1 Axes>"
      ]
     },
     "metadata": {},
     "output_type": "display_data"
    }
   ],
   "source": [
    "plt.plot(history.history['loss'], label='Training Loss')\n",
    "plt.plot(history.history['val_loss'], label='Validation Loss')"
   ]
  },
  {
   "cell_type": "markdown",
   "metadata": {},
   "source": [
    "# Plot training results"
   ]
  },
  {
   "cell_type": "code",
   "execution_count": 165,
   "metadata": {},
   "outputs": [],
   "source": [
    "# Select every n_output-th sample \n",
    "\n",
    "# This will be the inputs into the LSTM model\n",
    "\n",
    "X_train_input = X_train[::n_output]\n",
    "y_train_input = y_train[::n_output]"
   ]
  },
  {
   "cell_type": "code",
   "execution_count": 166,
   "metadata": {},
   "outputs": [],
   "source": [
    "df_ts_train = df_input[n_input+n_output:]"
   ]
  },
  {
   "cell_type": "code",
   "execution_count": 75,
   "metadata": {},
   "outputs": [
    {
     "data": {
      "text/plain": [
       "(200, 144, 2)"
      ]
     },
     "execution_count": 75,
     "metadata": {},
     "output_type": "execute_result"
    }
   ],
   "source": [
    "X_train_input.shape"
   ]
  },
  {
   "cell_type": "code",
   "execution_count": 76,
   "metadata": {},
   "outputs": [
    {
     "data": {
      "text/plain": [
       "(200, 72)"
      ]
     },
     "execution_count": 76,
     "metadata": {},
     "output_type": "execute_result"
    }
   ],
   "source": [
    "y_train_input.shape"
   ]
  },
  {
   "cell_type": "code",
   "execution_count": 77,
   "metadata": {},
   "outputs": [
    {
     "name": "stdout",
     "output_type": "stream",
     "text": [
      "n_ouput: 72\n"
     ]
    }
   ],
   "source": [
    "print(f\"n_ouput: {n_output}\")"
   ]
  },
  {
   "cell_type": "code",
   "execution_count": 78,
   "metadata": {},
   "outputs": [
    {
     "name": "stdout",
     "output_type": "stream",
     "text": [
      "1/1 [==============================] - 2s 2s/step\n",
      "1/1 [==============================] - 0s 44ms/step\n"
     ]
    },
    {
     "data": {
      "text/plain": [
       "<matplotlib.legend.Legend at 0x22e44b645e0>"
      ]
     },
     "execution_count": 78,
     "metadata": {},
     "output_type": "execute_result"
    },
    {
     "data": {
      "image/png": "[encoded data removed]",
      "text/plain": [
       "<Figure size 1200x400 with 1 Axes>"
      ]
     },
     "metadata": {},
     "output_type": "display_data"
    }
   ],
   "source": [
    "# Parameters to change to better visualise the training results\n",
    "\n",
    "# 1 = n_output e.g., 24 hours or maybe 1 week depending\n",
    "\n",
    "start_section = 0\n",
    "end_section = 2\n",
    "diff = end_section-start_section\n",
    "\n",
    "\n",
    "predictions = []\n",
    "\n",
    "for i in X_train_input[start_section:end_section]:\n",
    "    i_reshaped = i.reshape(1, n_input, n_features)\n",
    "    prediction = model1.predict(i_reshaped)\n",
    "\n",
    "    prediction_list = list(prediction[0])\n",
    "    predictions.append(prediction_list)\n",
    "\n",
    "plt.figure(figsize=(12,4))\n",
    "plt.title(f\"Training Results. n_input: {n_input}. Range: {start_section} - {end_section} \")\n",
    "plt.plot(df_ts_train.index[start_section*n_output: end_section*n_output], np.array(predictions).flatten(), label='Prediction')\n",
    "plt.plot(df_ts_train.index[start_section*n_output: end_section*n_output], y_train_input[start_section:end_section].flatten(), label = 'Actual')\n",
    "plt.xlabel('Datetime')\n",
    "plt.ylabel('Normalised Net Load (-)')\n",
    "\n",
    "# xcoords = [(i*n_output)-1+n_output for i in range(diff)]\n",
    "xcoords = df_ts_train.index[start_section*n_output:(end_section+1)*n_output][::n_output]\n",
    "\n",
    "for xc in xcoords:\n",
    "    plt.axvline(x=xc, color='red', linestyle='--', alpha=0.5)\n",
    "\n",
    "\n",
    "plt.legend()"
   ]
  },
  {
   "cell_type": "markdown",
   "metadata": {},
   "source": [
    "### Plot training results v2"
   ]
  },
  {
   "attachments": {
    "WhatsApp Image 2024-04-01 at 22.47.27_9c903532.jpg": {
     "image/jpeg": "[encoded data removed]"
    }
   },
   "cell_type": "markdown",
   "metadata": {},
   "source": [
    "![](<attachment:WhatsApp Image 2024-04-01 at 22.47.27_9c903532.jpg>)"
   ]
  },
  {
   "cell_type": "markdown",
   "metadata": {},
   "source": [
    "Create a df_ts_train to keep track of the datetime values for the train predictions so we can plot them on the x-axis when visualising"
   ]
  },
  {
   "cell_type": "code",
   "execution_count": 194,
   "metadata": {},
   "outputs": [],
   "source": [
    "df_ts_train = df_input[n_input+n_output:]"
   ]
  },
  {
   "cell_type": "markdown",
   "metadata": {},
   "source": [
    "Below is when the first y_train prediction starts. Which aligns with the 12:00 of the DAM Gate Closure for Day 1."
   ]
  },
  {
   "cell_type": "code",
   "execution_count": 195,
   "metadata": {},
   "outputs": [
    {
     "data": {
      "text/plain": [
       "Timestamp('2019-04-05 12:00:00+0000', tz='UTC')"
      ]
     },
     "execution_count": 195,
     "metadata": {},
     "output_type": "execute_result"
    }
   ],
   "source": [
    "df_ts_train.index[0]"
   ]
  },
  {
   "cell_type": "markdown",
   "metadata": {},
   "source": [
    "We want to predict every 24 hours i.e., 48 time steps. This is from one DAM gate closure to another DAM gate closure."
   ]
  },
  {
   "cell_type": "code",
   "execution_count": 196,
   "metadata": {},
   "outputs": [],
   "source": [
    "X_train_input = X_train[::48]\n",
    "y_train_input = y_train[::48]"
   ]
  },
  {
   "cell_type": "markdown",
   "metadata": {},
   "source": [
    "Below shows we have 330 days for train"
   ]
  },
  {
   "cell_type": "code",
   "execution_count": 197,
   "metadata": {},
   "outputs": [
    {
     "data": {
      "text/plain": [
       "(324, 144, 2)"
      ]
     },
     "execution_count": 197,
     "metadata": {},
     "output_type": "execute_result"
    }
   ],
   "source": [
    "X_train_input.shape"
   ]
  },
  {
   "cell_type": "code",
   "execution_count": 172,
   "metadata": {},
   "outputs": [
    {
     "name": "stdout",
     "output_type": "stream",
     "text": [
      "1/1 [==============================] - 0s 22ms/step\n",
      "1/1 [==============================] - 0s 26ms/step\n"
     ]
    },
    {
     "data": {
      "text/plain": [
       "<matplotlib.legend.Legend at 0x22e51725100>"
      ]
     },
     "execution_count": 172,
     "metadata": {},
     "output_type": "execute_result"
    },
    {
     "data": {
      "image/png": "[encoded data removed]",
      "text/plain": [
       "<Figure size 1200x400 with 1 Axes>"
      ]
     },
     "metadata": {},
     "output_type": "display_data"
    }
   ],
   "source": [
    "# Parameters to change to better visualise the training results\n",
    "\n",
    "# 1 = number of days i.e., 24 hours i.e., 48 time steps\n",
    "\n",
    "start_section = 0\n",
    "end_section = 2\n",
    "diff = end_section-start_section\n",
    "\n",
    "predictions = []\n",
    "\n",
    "for i in X_train_input[start_section:end_section]:\n",
    "    i_reshaped = i.reshape(1, n_input, n_features)\n",
    "\n",
    "    prediction = model1.predict(i_reshaped)\n",
    "\n",
    "     # We want to omit the first 12 hours the predictions i.e., the non-shaded squares in the figure above.\n",
    "    prediction_list = list(prediction[0][24:])\n",
    "    predictions.append(prediction_list)\n",
    "\n",
    "\n",
    "y_train_input_24h = []\n",
    "\n",
    "for i in y_train_input[start_section:end_section]:\n",
    "    # i_reshaped = i.reshape(1, n_input, n_features)\n",
    "    y_train_input_24h.append(i[24:])\n",
    "    \n",
    "\n",
    "plt.figure(figsize=(12,4))\n",
    "plt.title(f\"Training Results. n_input: {n_input}. Range: {start_section} - {end_section} days \")\n",
    "\n",
    "# We want to plot the predictions from 00:00 to 00:00 the next day.\n",
    "plt.plot(df_ts_train.index[start_section*48+24: end_section*48+24], np.array(predictions).flatten(), label='Prediction')\n",
    "plt.plot(df_ts_train.index[start_section*48+24: end_section*48+24], np.array(y_train_input_24h).flatten(), label = 'Actual')\n",
    "plt.xlabel('Datetime')\n",
    "plt.ylabel('Normalised Net Load (-)')\n",
    "\n",
    "\n",
    "\n",
    "# Generate vertical lines for DAM closure\n",
    "xcoords_DAM = df_ts_train.index[start_section*48+24: (end_section+1)*48+24][::48]\n",
    "\n",
    "for xc in xcoords_DAM:\n",
    "    plt.axvline(x=xc, color='red', linestyle='--', alpha=0.5)\n",
    "\n",
    "plt.axvline(x=xcoords_DAM[0], color='red', linestyle='--', alpha=0.5, label='DAM Gate Closure')\n",
    "\n",
    "\n",
    "# Generate vertical lines for when we predict\n",
    "xcoords_DAM = df_ts_train.index[(start_section+1)*48: (end_section+1)*48][::48]\n",
    "\n",
    "for xc in xcoords_DAM:\n",
    "    plt.axvline(x=xc, color='purple', linestyle='--', alpha=0.5)\n",
    "\n",
    "plt.axvline(x=xcoords_DAM[0], color='purple', linestyle='--', alpha=0.5, label='Predict')\n",
    "\n",
    "\n",
    "plt.legend(bbox_to_anchor=(0.5, 1.15), loc='center', borderaxespad=0., ncol=4)\n"
   ]
  },
  {
   "cell_type": "markdown",
   "metadata": {},
   "source": [
    "# Plot testing results"
   ]
  },
  {
   "cell_type": "code",
   "execution_count": null,
   "metadata": {},
   "outputs": [],
   "source": [
    "# Select every n_output-th sample \n",
    "\n",
    "# This will be the inputs into the LSTM model\n",
    "\n",
    "X_test_input = X_test[::n_output]\n",
    "y_test_input = y_test[::n_output]"
   ]
  },
  {
   "cell_type": "code",
   "execution_count": null,
   "metadata": {},
   "outputs": [],
   "source": [
    "X_test_input.shape"
   ]
  },
  {
   "cell_type": "code",
   "execution_count": null,
   "metadata": {},
   "outputs": [],
   "source": [
    "y_test_input.shape"
   ]
  },
  {
   "cell_type": "code",
   "execution_count": null,
   "metadata": {},
   "outputs": [],
   "source": [
    "# Parameters to change to better visualise the training results\n",
    "\n",
    "# 1 = n_output e.g., 24 hours or maybe 1 week depending\n",
    "\n",
    "start_section = 0\n",
    "end_section = 10\n",
    "diff = end_section-start_section\n",
    "\n",
    "\n",
    "predictions = []\n",
    "\n",
    "for i in X_test_input[start_section:end_section]:\n",
    "    i_reshaped = i.reshape(1, n_input, n_features)\n",
    "    prediction = model1.predict(i_reshaped)\n",
    "\n",
    "    prediction_list = list(prediction[0])\n",
    "    predictions.append(prediction_list)\n",
    "\n",
    "plt.figure(figsize=(12,4))\n",
    "plt.title(f\"Testing Results. n_input: {n_input}. Range: {start_section} - {end_section} \")\n",
    "plt.plot(np.array(predictions).flatten(), label='Prediction')\n",
    "plt.plot(y_test_input[start_section:end_section].flatten(), label = 'Actual')\n",
    "plt.xlabel('Index')\n",
    "plt.ylabel('Normalised Net Load (-)')\n",
    "\n",
    "xcoords = [(i*n_output)-1+n_output for i in range(diff)]\n",
    "for xc in xcoords:\n",
    "    plt.axvline(x=xc, color='red', linestyle='--', alpha=0.5)\n",
    "\n",
    "\n",
    "plt.legend()"
   ]
  },
  {
   "cell_type": "markdown",
   "metadata": {},
   "source": [
    "### Plot testing results v2"
   ]
  },
  {
   "attachments": {
    "WhatsApp Image 2024-04-01 at 22.47.27_8a15aa7b.jpg": {
     "image/jpeg": "[encoded data removed]"
    }
   },
   "cell_type": "markdown",
   "metadata": {},
   "source": [
    "![](<attachment:WhatsApp Image 2024-04-01 at 22.47.27_8a15aa7b.jpg>)"
   ]
  },
  {
   "cell_type": "markdown",
   "metadata": {},
   "source": [
    "Create a df_ts_train to keep track of the datetime values for the train predictions so we can plot them on the x-axis when visualising"
   ]
  },
  {
   "cell_type": "code",
   "execution_count": 198,
   "metadata": {},
   "outputs": [],
   "source": [
    "df_ts_test = df_input[n_input+n_output+n_split:]"
   ]
  },
  {
   "cell_type": "markdown",
   "metadata": {},
   "source": [
    "Below is when the first y_test prediction starts. Which aligns with the 12:00 of the DAM Gate Closure for Day 1."
   ]
  },
  {
   "cell_type": "code",
   "execution_count": 199,
   "metadata": {},
   "outputs": [
    {
     "data": {
      "text/plain": [
       "Timestamp('2020-02-23 12:00:00+0000', tz='UTC')"
      ]
     },
     "execution_count": 199,
     "metadata": {},
     "output_type": "execute_result"
    }
   ],
   "source": [
    "df_ts_test.index[0]"
   ]
  },
  {
   "cell_type": "markdown",
   "metadata": {},
   "source": [
    "We want to predict every 24 hours i.e., 48 time steps. This is from one DAM gate closure to another DAM gate closure."
   ]
  },
  {
   "cell_type": "code",
   "execution_count": 200,
   "metadata": {},
   "outputs": [],
   "source": [
    "X_test_input = X_test[::48]\n",
    "y_test_input = y_test[::48]"
   ]
  },
  {
   "cell_type": "markdown",
   "metadata": {},
   "source": [
    "Below shows we have 32 days for test"
   ]
  },
  {
   "cell_type": "code",
   "execution_count": 201,
   "metadata": {},
   "outputs": [
    {
     "data": {
      "text/plain": [
       "(38, 144, 2)"
      ]
     },
     "execution_count": 201,
     "metadata": {},
     "output_type": "execute_result"
    }
   ],
   "source": [
    "X_test_input.shape"
   ]
  },
  {
   "cell_type": "code",
   "execution_count": 211,
   "metadata": {},
   "outputs": [
    {
     "name": "stdout",
     "output_type": "stream",
     "text": [
      "1/1 [==============================] - 0s 32ms/step\n"
     ]
    },
    {
     "name": "stdout",
     "output_type": "stream",
     "text": [
      "1/1 [==============================] - 0s 36ms/step\n"
     ]
    },
    {
     "data": {
      "text/plain": [
       "<matplotlib.legend.Legend at 0x22e5a5cb040>"
      ]
     },
     "execution_count": 211,
     "metadata": {},
     "output_type": "execute_result"
    },
    {
     "data": {
      "image/png": "[encoded data removed]",
      "text/plain": [
       "<Figure size 1200x400 with 1 Axes>"
      ]
     },
     "metadata": {},
     "output_type": "display_data"
    }
   ],
   "source": [
    "# Parameters to change to better visualise the training results\n",
    "\n",
    "# 1 = number of days i.e., 24 hours i.e., 48 time steps\n",
    "\n",
    "start_section = 6\n",
    "end_section = 8\n",
    "diff = end_section-start_section\n",
    "\n",
    "predictions = []\n",
    "\n",
    "for i in X_test_input[start_section:end_section]:\n",
    "    i_reshaped = i.reshape(1, n_input, n_features)\n",
    "\n",
    "    prediction = model1.predict(i_reshaped)\n",
    "\n",
    "     # We want to omit the first 12 hours the predictions i.e., the non-shaded squares in the figure above.\n",
    "    prediction_list = list(prediction[0][24:])\n",
    "    predictions.append(prediction_list)\n",
    "\n",
    "\n",
    "y_test_input_24h = []\n",
    "\n",
    "for i in y_test_input[start_section:end_section]:\n",
    "    # i_reshaped = i.reshape(1, n_input, n_features)\n",
    "    y_test_input_24h.append(i[24:])\n",
    "    \n",
    "\n",
    "plt.figure(figsize=(12,4))\n",
    "plt.title(f\"Testing Results. n_input: {n_input}. Range: {start_section} - {end_section} days \")\n",
    "\n",
    "# We want to plot the predictions from 00:00 to 00:00 the next day.\n",
    "plt.plot(df_ts_test.index[start_section*48+24: end_section*48+24], np.array(predictions).flatten(), label='Prediction')\n",
    "plt.plot(df_ts_test.index[start_section*48+24: end_section*48+24], np.array(y_test_input_24h).flatten(), label = 'Actual')\n",
    "plt.xlabel('Datetime')\n",
    "plt.ylabel('Normalised Net Load (-)')\n",
    "\n",
    "\n",
    "\n",
    "# Generate vertical lines for DAM closure\n",
    "xcoords_DAM = df_ts_test.index[start_section*48+24: (end_section+1)*48+24][::48]\n",
    "\n",
    "for xc in xcoords_DAM:\n",
    "    plt.axvline(x=xc, color='red', linestyle='--', alpha=0.5)\n",
    "\n",
    "plt.axvline(x=xcoords_DAM[0], color='red', linestyle='--', alpha=0.5, label='DAM Gate Closure')\n",
    "\n",
    "\n",
    "# Generate vertical lines for when we predict\n",
    "xcoords_DAM = df_ts_test.index[(start_section+1)*48: (end_section+1)*48][::48]\n",
    "\n",
    "for xc in xcoords_DAM:\n",
    "    plt.axvline(x=xc, color='purple', linestyle='--', alpha=0.5)\n",
    "\n",
    "plt.axvline(x=xcoords_DAM[0], color='purple', linestyle='--', alpha=0.5, label='Predict')\n",
    "\n",
    "\n",
    "plt.legend(bbox_to_anchor=(0.5, 1.15), loc='center', borderaxespad=0., ncol=4)"
   ]
  },
  {
   "cell_type": "code",
   "execution_count": 191,
   "metadata": {},
   "outputs": [
    {
     "data": {
      "text/plain": [
       "DatetimeIndex(['2019-04-01 00:00:00+00:00', '2019-04-01 00:30:00+00:00',\n",
       "               '2019-04-01 01:00:00+00:00', '2019-04-01 01:30:00+00:00',\n",
       "               '2019-04-01 02:00:00+00:00', '2019-04-01 02:30:00+00:00',\n",
       "               '2019-04-01 03:00:00+00:00', '2019-04-01 03:30:00+00:00',\n",
       "               '2019-04-01 04:00:00+00:00', '2019-04-01 04:30:00+00:00',\n",
       "               ...\n",
       "               '2020-03-31 18:00:00+00:00', '2020-03-31 18:30:00+00:00',\n",
       "               '2020-03-31 19:00:00+00:00', '2020-03-31 19:30:00+00:00',\n",
       "               '2020-03-31 20:00:00+00:00', '2020-03-31 20:30:00+00:00',\n",
       "               '2020-03-31 21:00:00+00:00', '2020-03-31 21:30:00+00:00',\n",
       "               '2020-03-31 22:00:00+00:00', '2020-03-31 22:30:00+00:00'],\n",
       "              dtype='datetime64[ns, UTC]', name='timestamp', length=17562, freq=None)"
      ]
     },
     "execution_count": 191,
     "metadata": {},
     "output_type": "execute_result"
    }
   ],
   "source": [
    "df['net_load_norm'].index"
   ]
  }
 ],
 "metadata": {
  "kernelspec": {
   "display_name": "base",
   "language": "python",
   "name": "python3"
  },
  "language_info": {
   "codemirror_mode": {
    "name": "ipython",
    "version": 3
   },
   "file_extension": ".py",
   "mimetype": "text/x-python",
   "name": "python",
   "nbconvert_exporter": "python",
   "pygments_lexer": "ipython3",
   "version": "undefined.undefined.undefined"
  }
 },
 "nbformat": 4,
 "nbformat_minor": 2
}
