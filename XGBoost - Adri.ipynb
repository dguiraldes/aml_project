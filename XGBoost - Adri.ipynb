{
 "cells": [
  {
   "cell_type": "markdown",
   "metadata": {},
   "source": [
    "# <center><u> XGBoost"
   ]
  },
  {
   "cell_type": "code",
   "execution_count": 2,
   "metadata": {},
   "outputs": [
    {
     "data": {
      "text/plain": [
       "True"
      ]
     },
     "execution_count": 2,
     "metadata": {},
     "output_type": "execute_result"
    }
   ],
   "source": [
    "#Import Libraries and Packages\n",
    "import os\n",
    "import pandas as pd\n",
    "import numpy as np\n",
    "import matplotlib.pyplot as plt\n",
    "import psycopg2\n",
    "from dotenv import load_dotenv\n",
    "load_dotenv()"
   ]
  },
  {
   "cell_type": "code",
   "execution_count": 3,
   "metadata": {},
   "outputs": [],
   "source": [
    "#Access Credentials\n",
    "db_host = os.getenv(\"DB_HOST\")\n",
    "db_name = os.getenv(\"DB_NAME\")\n",
    "db_user = os.getenv(\"DB_USER\")\n",
    "db_password = os.getenv(\"DB_PASSWORD\")\n",
    "db_port = os.getenv(\"DB_PORT\")"
   ]
  },
  {
   "cell_type": "code",
   "execution_count": 4,
   "metadata": {},
   "outputs": [],
   "source": [
    "conn = psycopg2.connect(\n",
    "    host=db_host,\n",
    "    dbname=db_name,\n",
    "    user=db_user,\n",
    "    password=db_password,\n",
    "    port=db_port\n",
    ")"
   ]
  },
  {
   "cell_type": "code",
   "execution_count": 5,
   "metadata": {},
   "outputs": [],
   "source": [
    "query=\"\"\"\n",
    "    select * \n",
    "    from agg.tidy_data_final\n",
    "    where site = 20\n",
    "\"\"\""
   ]
  },
  {
   "cell_type": "code",
   "execution_count": 6,
   "metadata": {},
   "outputs": [
    {
     "name": "stderr",
     "output_type": "stream",
     "text": [
      "/var/folders/n_/s_vk866s6ds93jqhjv__r6cr0000gn/T/ipykernel_55306/1553155693.py:1: UserWarning: pandas only supports SQLAlchemy connectable (engine/connection) or database string URI or sqlite3 DBAPI2 connection. Other DBAPI2 objects are not tested. Please consider using SQLAlchemy.\n",
      "  df = pd.read_sql_query(query, conn)\n"
     ]
    }
   ],
   "source": [
    "df = pd.read_sql_query(query, conn)"
   ]
  },
  {
   "cell_type": "code",
   "execution_count": 7,
   "metadata": {},
   "outputs": [],
   "source": [
    "df = df.set_index('timestamp', drop=False)\n",
    "df = df.sort_index()"
   ]
  },
  {
   "cell_type": "markdown",
   "metadata": {},
   "source": [
    "# Prepare Data Set for LSTM/GRU Models"
   ]
  },
  {
   "cell_type": "code",
   "execution_count": 8,
   "metadata": {},
   "outputs": [],
   "source": [
    "# Parameters\n",
    "\n",
    "#n_input = no. of time steps considered before making the prediction\n",
    "#n_features = no. of variables/features considered\n",
    "#n_output = no. of time steps to forecast\n",
    "\n",
    "# Note: 1 time step = 30 mins\n",
    "# Look at the last two weeks to forecast the next 36 hours\n",
    "\n",
    "# 1 day = 2 * 24 * 1 = 24\n",
    "# 2 hours = 2 * 2 = 8 \n",
    "\n",
    "n_input = 144\n",
    "n_features = 14 #These includes the weather predictions that will be added later on and the normalised varaibles to be created\n",
    "n_output = 72\n",
    "\n",
    "\n",
    "# Selectfeatures of use for later on\n",
    "df_input = df[['net_load', 'year', 'month', 'day', 'hour', 'day_of_week', 'season','precipitation_probability',\n",
    "               'solar_radiation','sunshine_duration','weekend_or_bank_holiday','avg_net_load']]"
   ]
  },
  {
   "cell_type": "markdown",
   "metadata": {},
   "source": [
    "# Normalise Data (as seen in Literature)"
   ]
  },
  {
   "cell_type": "markdown",
   "metadata": {},
   "source": [
    "Group decision to use MaxAbs Scaler to normalise the data."
   ]
  },
  {
   "cell_type": "code",
   "execution_count": 9,
   "metadata": {},
   "outputs": [
    {
     "name": "stderr",
     "output_type": "stream",
     "text": [
      "/var/folders/n_/s_vk866s6ds93jqhjv__r6cr0000gn/T/ipykernel_55306/4282254998.py:8: SettingWithCopyWarning: \n",
      "A value is trying to be set on a copy of a slice from a DataFrame.\n",
      "Try using .loc[row_indexer,col_indexer] = value instead\n",
      "\n",
      "See the caveats in the documentation: https://pandas.pydata.org/pandas-docs/stable/user_guide/indexing.html#returning-a-view-versus-a-copy\n",
      "  df_input[new_var_name] = scaler.fit_transform(df_input[[var]])\n",
      "/var/folders/n_/s_vk866s6ds93jqhjv__r6cr0000gn/T/ipykernel_55306/4282254998.py:8: SettingWithCopyWarning: \n",
      "A value is trying to be set on a copy of a slice from a DataFrame.\n",
      "Try using .loc[row_indexer,col_indexer] = value instead\n",
      "\n",
      "See the caveats in the documentation: https://pandas.pydata.org/pandas-docs/stable/user_guide/indexing.html#returning-a-view-versus-a-copy\n",
      "  df_input[new_var_name] = scaler.fit_transform(df_input[[var]])\n",
      "/var/folders/n_/s_vk866s6ds93jqhjv__r6cr0000gn/T/ipykernel_55306/4282254998.py:8: SettingWithCopyWarning: \n",
      "A value is trying to be set on a copy of a slice from a DataFrame.\n",
      "Try using .loc[row_indexer,col_indexer] = value instead\n",
      "\n",
      "See the caveats in the documentation: https://pandas.pydata.org/pandas-docs/stable/user_guide/indexing.html#returning-a-view-versus-a-copy\n",
      "  df_input[new_var_name] = scaler.fit_transform(df_input[[var]])\n",
      "/var/folders/n_/s_vk866s6ds93jqhjv__r6cr0000gn/T/ipykernel_55306/4282254998.py:8: SettingWithCopyWarning: \n",
      "A value is trying to be set on a copy of a slice from a DataFrame.\n",
      "Try using .loc[row_indexer,col_indexer] = value instead\n",
      "\n",
      "See the caveats in the documentation: https://pandas.pydata.org/pandas-docs/stable/user_guide/indexing.html#returning-a-view-versus-a-copy\n",
      "  df_input[new_var_name] = scaler.fit_transform(df_input[[var]])\n"
     ]
    }
   ],
   "source": [
    "#Normalise all continuous variables needing scaling\n",
    "from sklearn.preprocessing import MaxAbsScaler\n",
    "scaler = MaxAbsScaler()\n",
    "\n",
    "variables = ['net_load','solar_radiation','sunshine_duration','avg_net_load']\n",
    "for var in variables:\n",
    "    new_var_name = var + '_norm'\n",
    "    df_input[new_var_name] = scaler.fit_transform(df_input[[var]])"
   ]
  },
  {
   "cell_type": "markdown",
   "metadata": {},
   "source": [
    "Now, we also want to include the predictions for 'solar radiation', 'sunshine_duration', 'precipitation_probability' as inputs.\n",
    "These will be treated as new inputs (t+48) ~ 48 half-hourly timestamps representing day-ahead predictions."
   ]
  },
  {
   "cell_type": "code",
   "execution_count": 9,
   "metadata": {},
   "outputs": [
    {
     "name": "stderr",
     "output_type": "stream",
     "text": [
      "/var/folders/n_/s_vk866s6ds93jqhjv__r6cr0000gn/T/ipykernel_40500/3763762080.py:1: SettingWithCopyWarning: \n",
      "A value is trying to be set on a copy of a slice from a DataFrame.\n",
      "Try using .loc[row_indexer,col_indexer] = value instead\n",
      "\n",
      "See the caveats in the documentation: https://pandas.pydata.org/pandas-docs/stable/user_guide/indexing.html#returning-a-view-versus-a-copy\n",
      "  df_input['sunshine_duration(t+48)'] = df_input['sunshine_duration_norm'].shift(-48) #Add prediction for time the day after\n",
      "/var/folders/n_/s_vk866s6ds93jqhjv__r6cr0000gn/T/ipykernel_40500/3763762080.py:2: SettingWithCopyWarning: \n",
      "A value is trying to be set on a copy of a slice from a DataFrame.\n",
      "Try using .loc[row_indexer,col_indexer] = value instead\n",
      "\n",
      "See the caveats in the documentation: https://pandas.pydata.org/pandas-docs/stable/user_guide/indexing.html#returning-a-view-versus-a-copy\n",
      "  df_input['solar_radiation(t+48)'] = df_input['solar_radiation_norm'].shift(-48) #Add prediction for time the day after\n",
      "/var/folders/n_/s_vk866s6ds93jqhjv__r6cr0000gn/T/ipykernel_40500/3763762080.py:3: SettingWithCopyWarning: \n",
      "A value is trying to be set on a copy of a slice from a DataFrame.\n",
      "Try using .loc[row_indexer,col_indexer] = value instead\n",
      "\n",
      "See the caveats in the documentation: https://pandas.pydata.org/pandas-docs/stable/user_guide/indexing.html#returning-a-view-versus-a-copy\n",
      "  df_input['precipitation_probability(t+48)'] = df_input['precipitation_probability'].shift(-48) #Add prediction for time the day after\n"
     ]
    }
   ],
   "source": [
    "df_input['sunshine_duration(t+48)'] = df_input['sunshine_duration_norm'].shift(-48) #Add prediction for time the day after\n",
    "df_input['solar_radiation(t+48)'] = df_input['solar_radiation_norm'].shift(-48) #Add prediction for time the day after\n",
    "df_input['precipitation_probability(t+48)'] = df_input['precipitation_probability'].shift(-48) #Add prediction for time the day after"
   ]
  },
  {
   "cell_type": "code",
   "execution_count": 10,
   "metadata": {},
   "outputs": [
    {
     "name": "stderr",
     "output_type": "stream",
     "text": [
      "/var/folders/n_/s_vk866s6ds93jqhjv__r6cr0000gn/T/ipykernel_55306/1212278532.py:2: SettingWithCopyWarning: \n",
      "A value is trying to be set on a copy of a slice from a DataFrame\n",
      "\n",
      "See the caveats in the documentation: https://pandas.pydata.org/pandas-docs/stable/user_guide/indexing.html#returning-a-view-versus-a-copy\n",
      "  df_input.dropna(inplace=True)\n"
     ]
    }
   ],
   "source": [
    "#We want to drop last 48 rows as they will have Na values for the (t+48) columns/inputs.\n",
    "df_input.dropna(inplace=True)"
   ]
  },
  {
   "cell_type": "code",
   "execution_count": 11,
   "metadata": {},
   "outputs": [],
   "source": [
    "#Only Keep the Normalised Variables for the Model\n",
    "df_input = df_input[['net_load_norm','month','day','hour','day_of_week','season','weekend_or_bank_holiday',\n",
    "               'solar_radiation_norm','sunshine_duration_norm','precipitation_probability']]"
   ]
  },
  {
   "cell_type": "markdown",
   "metadata": {},
   "source": [
    "# Generate X and Y Matrices"
   ]
  },
  {
   "cell_type": "code",
   "execution_count": 12,
   "metadata": {},
   "outputs": [],
   "source": [
    "X, y = [], []\n",
    "for i in range(len(df_input) - n_input - n_output + 1):\n",
    "    # Select all columns for the input sequence\n",
    "    X.append(df_input.iloc[i:(i + n_input)].values)  \n",
    "    \n",
    "    y.append(df_input['net_load_norm'].iloc[(i + n_input):(i + n_input + n_output)].values)\n",
    "\n",
    "X = np.array(X).reshape((len(X), n_input, -1))  \n",
    "y = np.array(y)"
   ]
  },
  {
   "cell_type": "markdown",
   "metadata": {},
   "source": [
    "# Train and Test Split"
   ]
  },
  {
   "cell_type": "code",
   "execution_count": 13,
   "metadata": {},
   "outputs": [],
   "source": [
    "# Split into train (First ~330 days) and test (30 days)\n",
    "# 1 time step = 30 mins\n",
    "\n",
    "n_total_days = len(X) / (2 * 24)\n",
    "n_test_days = 30\n",
    "n_train_split = int((n_total_days - n_test_days) * 2 * 24)\n",
    "\n",
    "X_train = X[:n_train_split]\n",
    "y_train = y[:n_train_split]\n",
    "\n",
    "X_test = X[n_train_split:]\n",
    "y_test = y[n_train_split:]"
   ]
  },
  {
   "cell_type": "markdown",
   "metadata": {},
   "source": [
    "## GRU Model"
   ]
  },
  {
   "cell_type": "code",
   "execution_count": 18,
   "metadata": {},
   "outputs": [],
   "source": [
    "model5 = Sequential()\n",
    "model5.add(GRU(256, activation='relu', input_shape=(X_train.shape[1], X_train.shape[2]), return_sequences=True))\n",
    "model5.add(BatchNormalization())\n",
    "model5.add(Dropout(0.2))\n",
    "model5.add(GRU(128, activation='relu', return_sequences=True))\n",
    "model5.add(BatchNormalization())\n",
    "model5.add(GRU(64, activation='relu'))\n",
    "model5.add(BatchNormalization())\n",
    "model5.add(Dropout(0.2))\n",
    "model5.add(Dense(y_train.shape[1]))"
   ]
  },
  {
   "cell_type": "markdown",
   "metadata": {},
   "source": [
    "# XGBoost"
   ]
  },
  {
   "cell_type": "code",
   "execution_count": 19,
   "metadata": {},
   "outputs": [
    {
     "name": "stdout",
     "output_type": "stream",
     "text": [
      "                     Feature  Importance\n",
      "6       solar_radiation_norm    0.504696\n",
      "0                      month    0.128163\n",
      "2                       hour    0.100087\n",
      "7     sunshine_duration_norm    0.074735\n",
      "8  precipitation_probability    0.051358\n",
      "1                        day    0.045052\n",
      "3                day_of_week    0.043747\n",
      "4                     season    0.031901\n",
      "5    weekend_or_bank_holiday    0.020260\n",
      "Mean Squared Error on Test Set: 0.025293682793108497\n"
     ]
    }
   ],
   "source": [
    "from sklearn.model_selection import train_test_split\n",
    "import xgboost as xgb\n",
    "from sklearn.metrics import mean_squared_error\n",
    "\n",
    "n_total_days = len(X) / (2 * 24)\n",
    "n_test_days = 30\n",
    "n_train_split = int((n_total_days - n_test_days) * 2 * 24)\n",
    "\n",
    "X_train = X[:n_train_split]\n",
    "y_train = y[:n_train_split]\n",
    "\n",
    "X_test = X[n_train_split:]\n",
    "y_test = y[n_train_split:]\n",
    "\n",
    "\n",
    "X = df_input.drop(columns=['net_load_norm'])\n",
    "y = df_input['net_load_norm']\n",
    "X_train, X_test, y_train, y_test = train_test_split(X, y, test_size=0.2, shuffle=False)\n",
    "\n",
    "\n",
    "# Step 4: Train XGBoost Model\n",
    "xgb_model = xgb.XGBRegressor()\n",
    "xgb_model.fit(X_train, y_train)\n",
    "\n",
    "# Step 5: Feature Importance Calculation\n",
    "feature_importance = xgb_model.feature_importances_\n",
    "feature_names = X_train.columns\n",
    "\n",
    "# Creating a DataFrame to display feature importance scores\n",
    "feature_importance_df = pd.DataFrame({'Feature': feature_names, 'Importance': feature_importance})\n",
    "feature_importance_df = feature_importance_df.sort_values(by='Importance', ascending=False)\n",
    "\n",
    "# Print or visualize the feature importance\n",
    "print(feature_importance_df)\n",
    "\n",
    "# Optionally, you can evaluate the XGBoost model on your test data\n",
    "y_pred = xgb_model.predict(X_test)\n",
    "mse = mean_squared_error(y_test, y_pred)\n",
    "print(\"Mean Squared Error on Test Set:\", mse)"
   ]
  },
  {
   "cell_type": "code",
   "execution_count": 25,
   "metadata": {},
   "outputs": [
    {
     "data": {
      "image/png": "[encoded data removed]",
      "text/plain": [
       "<Figure size 1000x600 with 1 Axes>"
      ]
     },
     "metadata": {},
     "output_type": "display_data"
    }
   ],
   "source": [
    "plt.figure(figsize=(10, 6))\n",
    "plt.barh(feature_importance_df['Feature'], feature_importance_df['Importance'], color='#A70D55')\n",
    "plt.xlabel('Importance')\n",
    "plt.ylabel('Feature')\n",
    "plt.title('XGBoost - Exogenous Variables Feature Importance')\n",
    "plt.gca().invert_yaxis()  # Invert y-axis to have the most important feature at the top\n",
    "plt.show()"
   ]
  }
 ],
 "metadata": {
  "kernelspec": {
   "display_name": "tf",
   "language": "python",
   "name": "python3"
  },
  "language_info": {
   "codemirror_mode": {
    "name": "ipython",
    "version": 3
   },
   "file_extension": ".py",
   "mimetype": "text/x-python",
   "name": "python",
   "nbconvert_exporter": "python",
   "pygments_lexer": "ipython3",
   "version": "3.11.5"
  }
 },
 "nbformat": 4,
 "nbformat_minor": 2
}
